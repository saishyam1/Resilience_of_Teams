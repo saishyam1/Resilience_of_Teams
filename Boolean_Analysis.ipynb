{
 "cells": [
  {
   "cell_type": "code",
   "execution_count": 2,
   "metadata": {},
   "outputs": [],
   "source": [
    "\n",
    "import numpy as np\n",
    "import seaborn as sns\n",
    "import pandas as pd\n",
    "import matplotlib.pyplot as plt \n",
    "import random   \n",
    "import scipy.stats\n",
    "from scipy import stats\n",
    "from statannotations.Annotator import Annotator"
   ]
  },
  {
   "cell_type": "code",
   "execution_count": 3,
   "metadata": {},
   "outputs": [],
   "source": [
    "\n",
    "def convertTuple(tup):\n",
    "    to = []\n",
    "    for tu in tup:# initialize an empty string\n",
    "        string = ''\n",
    "        for item in tu:\n",
    "            string = string + str(item)\n",
    "        to.append(string)\n",
    "        \n",
    "    return to"
   ]
  },
  {
   "cell_type": "code",
   "execution_count": 4,
   "metadata": {},
   "outputs": [],
   "source": [
    "def sync_boolean_t_plus_1(t_0,t_1):\n",
    "    t_1[t_1 ==0] = t_0[t_1 ==0]\n",
    "    t_1[t_1 > 0] = 1\n",
    "    t_1[t_1 < 0] = -1\n",
    "    return t_1"
   ]
  },
  {
   "cell_type": "code",
   "execution_count": 5,
   "metadata": {},
   "outputs": [],
   "source": [
    "def async_boolean_t_plus_1(t_0,t_1):\n",
    "    i = random.randint(0,len(t_1)-1)\n",
    "    t_2 = t_0.copy()\n",
    "\n",
    "    if t_1[i] > 0 :\n",
    "        t_2[i]=1\n",
    "    elif t_1[i] < 0:\n",
    "        t_2[i]=-1\n",
    "    else:\n",
    "        t_2[i] = t_0[i]\n",
    "    return t_2\n"
   ]
  },
  {
   "cell_type": "code",
   "execution_count": 6,
   "metadata": {},
   "outputs": [],
   "source": [
    "def sync_match(mat,t_0):\n",
    "    t_1 = sync_boolean_t_plus_1(t_0,mat.dot(t_0))\n",
    "    if np.array_equal(t_0,t_1):\n",
    "        return True\n",
    "    else:\n",
    "        return False"
   ]
  },
  {
   "cell_type": "code",
   "execution_count": 7,
   "metadata": {},
   "outputs": [
    {
     "name": "stdout",
     "output_type": "stream",
     "text": [
      "6\n"
     ]
    }
   ],
   "source": [
    "def add_subtract_elements(tuple_data):\n",
    "    length = len(tuple_data)\n",
    "    \n",
    "    if length % 2 != 0:\n",
    "        # If the length is odd, you may want to handle it differently\n",
    "        raise ValueError(\"Tuple length must be even for this operation\")\n",
    "\n",
    "    half_length = length // 2\n",
    "    result = sum(tuple_data[:half_length]) - sum(tuple_data[half_length:])\n",
    "    return result\n",
    "\n",
    "tuple_data = (1, 1, 1, -1, -1, -1)\n",
    "result = add_subtract_elements(tuple_data)\n",
    "print(result)"
   ]
  },
  {
   "cell_type": "code",
   "execution_count": 8,
   "metadata": {},
   "outputs": [
    {
     "name": "stdout",
     "output_type": "stream",
     "text": [
      "[(0, 0), (0, 1), (1, 0), (1, 1)]\n"
     ]
    }
   ],
   "source": [
    "from itertools import product\n",
    "values = [0, 1]\n",
    "permutations = list(product(values, repeat=2))\n",
    "\n",
    "print(permutations)"
   ]
  },
  {
   "cell_type": "code",
   "execution_count": 9,
   "metadata": {},
   "outputs": [],
   "source": [
    "def replace_minus_one_with_zero(input_tuple):\n",
    "    return tuple(0 if x == -1 else x for x in input_tuple)\n",
    "\n"
   ]
  },
  {
   "cell_type": "code",
   "execution_count": 10,
   "metadata": {},
   "outputs": [],
   "source": [
    "from tqdm import tqdm"
   ]
  },
  {
   "cell_type": "code",
   "execution_count": 11,
   "metadata": {},
   "outputs": [],
   "source": [
    "def boolean_asyc_runs_list_method(  interaction_matrix,trials):\n",
    "\n",
    "    values = [-1, 1]\n",
    "    permutations = list(product(values, repeat=len(interaction_matrix)))\n",
    "    permutations\n",
    "\n",
    "    steady_state_list = []\n",
    "    count = 0\n",
    "\n",
    "    for i in tqdm(range(trials)):\n",
    "        starting_state= np.array(permutations[random.randint(0,len(permutations)-1)])\n",
    "\n",
    "        for i in range(1):\n",
    "            ini_st_vector_1 = starting_state.copy()\n",
    "            j=0\n",
    "            count = 0 \n",
    "            while count !=100 and j < 10000:\n",
    "                j+=1\n",
    "                ini_st_vector_0 = ini_st_vector_1.copy()\n",
    "                ini_st_vector_inter = np.array(interaction_matrix)@ini_st_vector_1\n",
    "                #print(np.array(ini_st_vector_inter))\n",
    "                ini_st_vector_1 =async_boolean_t_plus_1(ini_st_vector_0,ini_st_vector_inter)\n",
    "                #print(ini_st_vector_0,ini_st_vector_1)\n",
    "\n",
    "                if np.array_equal(ini_st_vector_0,ini_st_vector_1):\n",
    "                    count+=1\n",
    "                    if count == 100:\n",
    "                        steady_state_list.append(tuple(ini_st_vector_1))\n",
    "                        \n",
    "                        break\n",
    "                else:\n",
    "                    count = 0\n",
    "    \n",
    "\n",
    "\n",
    "    series = pd.Series(steady_state_list)\n",
    "\n",
    "\n",
    "    element_counts = series.value_counts().reset_index()\n",
    "\n",
    "\n",
    "    element_counts.columns = ['Element', 'Count']\n",
    "    element_counts.loc[:,'Frequency']=element_counts.loc[:,'Count']/len(steady_state_list)\n",
    "    element_counts=element_counts.T\n",
    "\n",
    "    for i in range(len(element_counts.T)):\n",
    "        element_counts.loc['State',i] = replace_minus_one_with_zero(element_counts.loc['Element',i])\n",
    "    \n",
    "    li= element_counts.loc['State',:]\n",
    "    li = convertTuple(list(li))\n",
    "    element_counts.loc['Final_State',:]=li\n",
    "    element_counts.loc['Vector_Metric',:] = element_counts.loc['Element',:].apply(lambda x: add_subtract_elements(x))\n",
    "\n",
    "\n",
    "    element_counts.columns = element_counts.loc['Element',:]\n",
    "\n",
    "    return element_counts\n"
   ]
  },
  {
   "cell_type": "code",
   "execution_count": 12,
   "metadata": {},
   "outputs": [],
   "source": [
    "def boolean_asyc_runs_list_method_paths(  interaction_matrix, trials):\n",
    "\n",
    "    values = [-1, 1]\n",
    "    #permutations = list(product(values, repeat=len(interaction_matrix)))\n",
    "    #permutations\n",
    "    # starting_tuple = tuple(random.choices([-1, 1], k=30))\n",
    "    total_iterations = 100\n",
    "\n",
    "    # Initialize tqdm with the total number of iterations\n",
    "    progress_bar = tqdm(total=trials, desc=\"Processing\")\n",
    "    steady_state_list = []\n",
    "    count = 0\n",
    "    steady = 0\n",
    "\n",
    "    while steady < trials:\n",
    "    # for i in tqdm(range(trials)):\n",
    "        starting_state= np.array(tuple(random.choices([-1, 1], k=len(interaction_matrix))))\n",
    "\n",
    "        for k in range(1):\n",
    "            ini_st_vector_1 = starting_state.copy()\n",
    "            j=0\n",
    "            count = 0 \n",
    "            while count !=200 and j  <10000:\n",
    "                j+=1\n",
    "                #print(j)\n",
    "                ini_st_vector_0 = ini_st_vector_1.copy()\n",
    "                ini_st_vector_inter = np.array(interaction_matrix)@ini_st_vector_1\n",
    "                #print(np.array(ini_st_vector_inter))\n",
    "                ini_st_vector_1 =async_boolean_t_plus_1(ini_st_vector_0,ini_st_vector_inter)\n",
    "                #print(ini_st_vector_0,ini_st_vector_1)\n",
    "\n",
    "                if np.array_equal(ini_st_vector_0,ini_st_vector_1):\n",
    "                    count+=1\n",
    "                    if count == 200 :\n",
    "                        if sync_match(interaction_matrix,ini_st_vector_0):\n",
    "                            steady_state_list.append(tuple(ini_st_vector_1))\n",
    "                            steady +=1\n",
    "                            progress_bar.update(1)\n",
    "                            break\n",
    "                        else:\n",
    "                            count =  0\n",
    "                        \n",
    "                        \n",
    "                        \n",
    "                else:\n",
    "                    count = 0\n",
    "    \n",
    "\n",
    "\n",
    "    series = pd.Series(steady_state_list)\n",
    "\n",
    "\n",
    "    element_counts = series.value_counts().reset_index()\n",
    "\n",
    "\n",
    "    element_counts.columns = ['Element', 'Count']\n",
    "    element_counts.loc[:,'Frequency']=element_counts.loc[:,'Count']/len(steady_state_list)\n",
    "    element_counts=element_counts.T\n",
    "\n",
    "    for i in range(len(element_counts.T)):\n",
    "        element_counts.loc['State',i]= replace_minus_one_with_zero(element_counts.loc['Element',i])\n",
    "    \n",
    "    li= element_counts.loc['State',:]\n",
    "    li = convertTuple(list(li))\n",
    "    element_counts.loc['Final_State',:]=li\n",
    "    element_counts.loc['Vector_Metric',:] = element_counts.loc['Element',:].apply(lambda x: add_subtract_elements(x))\n",
    "\n",
    "    progress_bar.close()\n",
    "    element_counts.columns = element_counts.loc['Element',:]\n",
    "    print(steady)\n",
    "    return element_counts\n"
   ]
  },
  {
   "cell_type": "code",
   "execution_count": 13,
   "metadata": {},
   "outputs": [],
   "source": [
    "import fnmatch\n",
    "from scipy.stats import kurtosis\n",
    "from scipy.stats import skew"
   ]
  },
  {
   "cell_type": "code",
   "execution_count": 14,
   "metadata": {},
   "outputs": [],
   "source": [
    "def BiC(dataframe,node):\n",
    "    n=len(dataframe)\n",
    "    sk=skew(dataframe.loc[:,node],axis=0,bias=True)\n",
    "    kur=kurtosis(dataframe.loc[:,node],bias=True,axis=0,fisher=True)\n",
    "    ncum=(pow(n-1,2))/((n-2)*(n-3))\n",
    "    bic=(pow(sk,2) + 1)/(kur +3*ncum)\n",
    "    return bic\n"
   ]
  },
  {
   "cell_type": "code",
   "execution_count": 15,
   "metadata": {},
   "outputs": [],
   "source": [
    "def boolean_asyc_runs_list_method_paths(  interaction_matrix, trials):\n",
    "\n",
    "    values = [-1, 1]\n",
    "\n",
    "    total_iterations = 100\n",
    "\n",
    "    progress_bar = tqdm(total=trials, desc=\"Processing\")\n",
    "    steady_state_list = []\n",
    "    count = 0\n",
    "    steady = 0\n",
    "\n",
    "    while steady < trials:\n",
    "\n",
    "        starting_state= np.array(tuple(random.choices([-1, 1], k=len(interaction_matrix))))\n",
    "\n",
    "        for k in range(1):\n",
    "            ini_st_vector_1 = starting_state.copy()\n",
    "            j=0\n",
    "            count = 0 \n",
    "            while count !=200 and j  <10000:\n",
    "                j+=1\n",
    "                #print(j)\n",
    "                ini_st_vector_0 = ini_st_vector_1.copy()\n",
    "                ini_st_vector_inter = np.array(interaction_matrix)@ini_st_vector_1\n",
    "                #print(np.array(ini_st_vector_inter))\n",
    "                ini_st_vector_1 =async_boolean_t_plus_1(ini_st_vector_0,ini_st_vector_inter)\n",
    "                #print(ini_st_vector_0,ini_st_vector_1)\n",
    "\n",
    "                if np.array_equal(ini_st_vector_0,ini_st_vector_1):\n",
    "                    count+=1\n",
    "                    if count == 200 :\n",
    "                        if sync_match(interaction_matrix,ini_st_vector_0):\n",
    "                            steady_state_list.append(tuple(ini_st_vector_1))\n",
    "                            steady +=1\n",
    "                            progress_bar.update(1)\n",
    "                            break\n",
    "                        else:\n",
    "                            count =  0\n",
    "                        \n",
    "                        \n",
    "                        \n",
    "                else:\n",
    "                    count = 0\n",
    "    \n",
    "\n",
    "\n",
    "    series = pd.Series(steady_state_list)\n",
    "\n",
    "\n",
    "    element_counts = series.value_counts().reset_index()\n",
    "\n",
    "\n",
    "    element_counts.columns = ['Element', 'Count']\n",
    "    element_counts.loc[:,'Frequency']=element_counts.loc[:,'Count']/len(steady_state_list)\n",
    "    element_counts=element_counts.T\n",
    "\n",
    "    for i in range(len(element_counts.T)):\n",
    "        element_counts.loc['State',i]= replace_minus_one_with_zero(element_counts.loc['Element',i])\n",
    "    \n",
    "    li= element_counts.loc['State',:]\n",
    "    li = convertTuple(list(li))\n",
    "    element_counts.loc['Final_State',:]=li\n",
    "    element_counts.loc['Vector_Metric',:] = element_counts.loc['Element',:].apply(lambda x: add_subtract_elements(x))\n",
    "\n",
    "    progress_bar.close()\n",
    "    element_counts.columns = element_counts.loc['Element',:]\n",
    "    print(steady)\n",
    "    return element_counts\n"
   ]
  },
  {
   "cell_type": "code",
   "execution_count": 16,
   "metadata": {},
   "outputs": [],
   "source": [
    "def Topo_adj(dp):\n",
    "    n=len(set(dp['Source']))\n",
    "    adj = pd.DataFrame([[0]*n]*n)\n",
    "    adj.columns=list(set(dp.loc[:,'Source']))\n",
    "    #print(list(set(dp.loc[:,'Source'])))\n",
    "    #print(set(dp.loc[:,'Source']))\n",
    "    adj.index=list(set(dp.loc[:,'Target']))\n",
    "    #print(list(set(dp.loc[:,'Target'])))\n",
    "    for i in range(len(dp)):\n",
    "        if dp.iloc[i,2] == 1:\n",
    "            adj.loc[dp.iloc[i,0] , dp.iloc[i,1] ] = 1\n",
    "        elif dp.iloc[i,2] == 2:\n",
    "            adj.loc[dp.iloc[i,0] , dp.iloc[i,1] ] = -1\n",
    "\n",
    "    \n",
    "\n",
    "    return adj\n",
    "\n",
    "\n",
    "def matrix_index_sort(mat):\n",
    "    mat = mat.sort_index()\n",
    "    mat = mat.T\n",
    "    mat = mat.sort_index()\n",
    "    mat = mat.T\n",
    "    return mat"
   ]
  },
  {
   "cell_type": "code",
   "execution_count": 17,
   "metadata": {},
   "outputs": [],
   "source": [
    "def centreing_index(node_list,no_core_nodes):\n",
    "    col=node_list\n",
    "    \n",
    "    t=''\n",
    "    k=''\n",
    "    end_ind_old=len(node_list)- no_core_nodes\n",
    "    end_ind=len(node_list)- no_core_nodes\n",
    "    #print(end_ind)\n",
    "    if end_ind_old == 0:\n",
    "        return node_list\n",
    "\n",
    "    for i in range(end_ind_old):\n",
    "        #print(i)\n",
    "        \n",
    "        if i in range(int((len(node_list)/2))-int(no_core_nodes/2),int((len(node_list)/2)) + int(no_core_nodes/2)):\n",
    "            t+=col[end_ind]\n",
    "            end_ind += 1\n",
    "            k+=col[i]\n",
    "        else:\n",
    "            t+=col[i]\n",
    "    \n",
    "    t=t+k\n",
    "    t\n",
    "\n",
    "\n",
    "    return t\n",
    "\n",
    "\n"
   ]
  },
  {
   "cell_type": "code",
   "execution_count": 18,
   "metadata": {},
   "outputs": [],
   "source": [
    "def boolean_f1_finder_list(interaction_matrix,trails,coresize):\n",
    "    dataframe =boolean_asyc_runs_list_method_paths(interaction_matrix,trails)\n",
    "    #df=dataframe.copy()\n",
    "    team_size = int(coresize/2)\n",
    "    repeat = len(interaction_matrix)\n",
    "    #print(12,centreing_index('?'*(repeat-coresize) + '0'*team_size  + '1'*team_size ,coresize))\n",
    "    #print(repeat-coresize,'?'*(repeat-coresize))\n",
    "    filtered = fnmatch.filter(list(dataframe.loc['Final_State',:]),centreing_index('?'*(repeat-coresize) + '0'*team_size  + '1'*team_size ,coresize))+ fnmatch.filter(list(dataframe.loc['Final_State',:]),centreing_index('?'*(repeat-coresize) + '1'*team_size  + '0'*team_size ,coresize))\n",
    "    #print(1,filtered)\n",
    "    dataframe.columns = dataframe.loc['Final_State',:]\n",
    "\n",
    "    return dataframe[filtered].loc['Frequency',:].sum()/dataframe.loc['Frequency',:].sum()"
   ]
  },
  {
   "cell_type": "code",
   "execution_count": 19,
   "metadata": {},
   "outputs": [],
   "source": [
    "import glob\n",
    "import os\n",
    "#('Network_5N_10E', 1, 5, 10, '5N_10E', rp)\n",
    "\n",
    "def BiC_CC_F1_team_strength(filename, n_files, nodes, edges,label,coresize,Self_Activation_Status ,Density,rp):\n",
    "    print(rp)\n",
    "\n",
    "    global melt_table_complete\n",
    "\n",
    "    F1_list=[]\n",
    "\n",
    "    indices=[]\n",
    "\n",
    "    columns = ['index','Team_Size','BiC A','CC AB','F1','F1_Individual_Nodes_Considered','Team_Strength','Density','Impurity','Nodes','Edges','Label','Self_Activation_Status']\n",
    "\n",
    "\n",
    "    temp_table_complete=pd.DataFrame([[0]*len(columns)]*n_files)\n",
    "    temp_table_complete.columns = columns\n",
    "    temp_table_complete.loc[:,'Nodes']=nodes\n",
    "    temp_table_complete.loc[:,'Edges']=edges\n",
    "    temp_table_complete.loc[:,'Label']=label\n",
    "    temp_table_complete.loc[:,'Team_Size'] = 'Team Size ' + str(int(coresize/2))\n",
    "    temp_table_complete.loc[:,'Self_Activation_Status'] = Self_Activation_Status\n",
    "    temp_table_complete.loc[:,'Density'] = Density\n",
    "\n",
    "\n",
    "\n",
    "    #file_name = folderi[0: folderi.find(\"N_\")+1 ]+'/'+folderi+'/'+folderi+'_'+ str(rp)+'.topo'\n",
    "    file_name = filename\n",
    "    topo_file = pd.read_csv(file_name,sep='\\t')\n",
    "    \n",
    "    print(file_name)\n",
    "\n",
    "    tuio =boolean_f1_finder_list(  matrix_index_sort(Topo_adj(topo_file)), 1000,coresize )\n",
    "    F1_list.append(tuio)\n",
    "    #print(F1_list)\n",
    "    indices.append(str(Density)+ '_'+Self_Activation_Status+'_'+'Network'+ '_' + str(rp))\n",
    "    # indices.append(label+'_' + str(rp))\n",
    "    #print(file_name)\n",
    "    temp_table_complete.loc[:,'F1']=F1_list\n",
    "    temp_table_complete.loc[:,'index']=indices\n",
    "    #melt_table_complete=pd.concat([melt_table_complete, temp_table_complete])\n",
    "\n",
    "\n",
    "    \n",
    "    return temp_table_complete"
   ]
  },
  {
   "cell_type": "code",
   "execution_count": 20,
   "metadata": {},
   "outputs": [
    {
     "data": {
      "text/html": [
       "<div>\n",
       "<style scoped>\n",
       "    .dataframe tbody tr th:only-of-type {\n",
       "        vertical-align: middle;\n",
       "    }\n",
       "\n",
       "    .dataframe tbody tr th {\n",
       "        vertical-align: top;\n",
       "    }\n",
       "\n",
       "    .dataframe thead th {\n",
       "        text-align: right;\n",
       "    }\n",
       "</style>\n",
       "<table border=\"1\" class=\"dataframe\">\n",
       "  <thead>\n",
       "    <tr style=\"text-align: right;\">\n",
       "      <th></th>\n",
       "      <th>index</th>\n",
       "      <th>Team_Size</th>\n",
       "      <th>BiC A</th>\n",
       "      <th>CC AB</th>\n",
       "      <th>F1</th>\n",
       "      <th>F1_Individual_Nodes_Considered</th>\n",
       "      <th>Team_Strength</th>\n",
       "      <th>Density</th>\n",
       "      <th>Impurity</th>\n",
       "      <th>Nodes</th>\n",
       "      <th>Edges</th>\n",
       "      <th>Label</th>\n",
       "      <th>Self_Activation_Status</th>\n",
       "    </tr>\n",
       "  </thead>\n",
       "  <tbody>\n",
       "  </tbody>\n",
       "</table>\n",
       "</div>"
      ],
      "text/plain": [
       "Empty DataFrame\n",
       "Columns: [index, Team_Size, BiC A, CC AB, F1, F1_Individual_Nodes_Considered, Team_Strength, Density, Impurity, Nodes, Edges, Label, Self_Activation_Status]\n",
       "Index: []"
      ]
     },
     "execution_count": 20,
     "metadata": {},
     "output_type": "execute_result"
    }
   ],
   "source": [
    "melt_table_complete=pd.DataFrame(columns=['index','Team_Size','BiC A','CC AB','F1','F1_Individual_Nodes_Considered','Team_Strength','Density','Impurity','Nodes','Edges','Label','Self_Activation_Status'])\n",
    "melt_table_complete\n"
   ]
  },
  {
   "cell_type": "code",
   "execution_count": 84,
   "metadata": {},
   "outputs": [
    {
     "name": "stderr",
     "output_type": "stream",
     "text": [
      "Processing: 100%|██████████| 1000/1000 [00:04<00:00, 207.43it/s]\n"
     ]
    },
    {
     "name": "stdout",
     "output_type": "stream",
     "text": [
      "1000\n",
      "53\n",
      "Density_80/Density_80_Network_10N_core53.topo\n"
     ]
    },
    {
     "name": "stderr",
     "output_type": "stream",
     "text": [
      "Processing: 100%|██████████| 1000/1000 [00:05<00:00, 190.96it/s]\n"
     ]
    },
    {
     "name": "stdout",
     "output_type": "stream",
     "text": [
      "1000\n"
     ]
    },
    {
     "name": "stderr",
     "output_type": "stream",
     "text": [
      "Processing:  27%|██▋       | 268/1000 [00:01<00:03, 234.45it/s]/tmp/ipykernel_5868/396412543.py:40: FutureWarning: In a future version, `df.iloc[:, i] = newvals` will attempt to set the values inplace instead of always setting a new array. To retain the old behavior, use either `df[df.columns[i]] = newvals` or, if columns are non-unique, `df.isetitem(i, newvals)`\n",
      "  temp_table_complete.loc[:,'F1']=F1_list\n"
     ]
    },
    {
     "name": "stdout",
     "output_type": "stream",
     "text": [
      "46\n"
     ]
    },
    {
     "name": "stderr",
     "output_type": "stream",
     "text": [
      "Processing:  92%|█████████▏| 919/1000 [00:04<00:00, 194.74it/s]"
     ]
    },
    {
     "name": "stdout",
     "output_type": "stream",
     "text": [
      "Density_80/Density_80_Network_10N_core46.topo\n"
     ]
    },
    {
     "name": "stderr",
     "output_type": "stream",
     "text": [
      "Processing: 100%|██████████| 1000/1000 [00:04<00:00, 248.94it/s]\n"
     ]
    },
    {
     "name": "stdout",
     "output_type": "stream",
     "text": [
      "1000\n"
     ]
    },
    {
     "name": "stderr",
     "output_type": "stream",
     "text": [
      "Processing:  91%|█████████ | 908/1000 [00:03<00:00, 203.00it/s]"
     ]
    },
    {
     "name": "stdout",
     "output_type": "stream",
     "text": [
      "81"
     ]
    },
    {
     "name": "stderr",
     "output_type": "stream",
     "text": [
      "Processing:  32%|███▏      | 321/1000 [00:01<00:02, 248.51it/s]"
     ]
    },
    {
     "name": "stdout",
     "output_type": "stream",
     "text": [
      "\n",
      "Density_80/Density_80_Network_10N_core81.topo\n"
     ]
    },
    {
     "name": "stderr",
     "output_type": "stream",
     "text": [
      "Processing: 100%|██████████| 1000/1000 [00:04<00:00, 207.65it/s]\n"
     ]
    },
    {
     "name": "stdout",
     "output_type": "stream",
     "text": [
      "1000"
     ]
    },
    {
     "name": "stderr",
     "output_type": "stream",
     "text": [
      "Processing:   7%|▋         | 69/1000 [00:00<00:04, 210.43it/s]"
     ]
    },
    {
     "name": "stdout",
     "output_type": "stream",
     "text": [
      "\n"
     ]
    },
    {
     "name": "stderr",
     "output_type": "stream",
     "text": [
      "/tmp/ipykernel_5868/396412543.py:40: FutureWarning: In a future version, `df.iloc[:, i] = newvals` will attempt to set the values inplace instead of always setting a new array. To retain the old behavior, use either `df[df.columns[i]] = newvals` or, if columns are non-unique, `df.isetitem(i, newvals)`\n",
      "  temp_table_complete.loc[:,'F1']=F1_list\n"
     ]
    },
    {
     "name": "stdout",
     "output_type": "stream",
     "text": [
      "39\n"
     ]
    },
    {
     "name": "stderr",
     "output_type": "stream",
     "text": [
      "Processing:  84%|████████▎ | 836/1000 [00:04<00:00, 205.52it/s]"
     ]
    },
    {
     "name": "stdout",
     "output_type": "stream",
     "text": [
      "Density_80/Density_80_Network_10N_core39.topo"
     ]
    },
    {
     "name": "stderr",
     "output_type": "stream",
     "text": [
      "Processing:  42%|████▎     | 425/1000 [00:02<00:03, 159.48it/s]"
     ]
    },
    {
     "name": "stdout",
     "output_type": "stream",
     "text": [
      "\n"
     ]
    },
    {
     "name": "stderr",
     "output_type": "stream",
     "text": [
      "Processing: 100%|██████████| 1000/1000 [00:04<00:00, 218.98it/s]\n",
      "Processing:   9%|▉         | 91/1000 [00:00<00:04, 198.35it/s]"
     ]
    },
    {
     "name": "stdout",
     "output_type": "stream",
     "text": [
      "1000\n"
     ]
    },
    {
     "name": "stderr",
     "output_type": "stream",
     "text": [
      "Processing:  86%|████████▌ | 857/1000 [00:04<00:00, 196.49it/s]"
     ]
    },
    {
     "name": "stdout",
     "output_type": "stream",
     "text": [
      "74"
     ]
    },
    {
     "name": "stderr",
     "output_type": "stream",
     "text": [
      "Processing:   1%|▏         | 13/1000 [00:00<00:07, 126.85it/s]]"
     ]
    },
    {
     "name": "stdout",
     "output_type": "stream",
     "text": [
      "\n"
     ]
    },
    {
     "name": "stderr",
     "output_type": "stream",
     "text": [
      "Processing:  14%|█▍        | 143/1000 [00:00<00:04, 204.60it/s]"
     ]
    },
    {
     "name": "stdout",
     "output_type": "stream",
     "text": [
      "Density_80/Density_80_Network_10N_core74.topo"
     ]
    },
    {
     "name": "stderr",
     "output_type": "stream",
     "text": [
      "Processing:  66%|██████▋   | 664/1000 [00:03<00:01, 170.15it/s]"
     ]
    },
    {
     "name": "stdout",
     "output_type": "stream",
     "text": [
      "\n"
     ]
    },
    {
     "name": "stderr",
     "output_type": "stream",
     "text": [
      "Processing: 100%|██████████| 1000/1000 [00:04<00:00, 242.19it/s]\n"
     ]
    },
    {
     "name": "stdout",
     "output_type": "stream",
     "text": [
      "1000\n",
      "88"
     ]
    },
    {
     "name": "stderr",
     "output_type": "stream",
     "text": [
      "Processing:  88%|████████▊ | 877/1000 [00:04<00:00, 158.06it/s]"
     ]
    },
    {
     "name": "stdout",
     "output_type": "stream",
     "text": [
      "\n",
      "Density_80/Density_80_Network_10N_core88.topo\n"
     ]
    },
    {
     "name": "stderr",
     "output_type": "stream",
     "text": [
      "Processing: 100%|██████████| 1000/1000 [00:05<00:00, 199.72it/s]\n",
      "Processing:  51%|█████     | 506/1000 [00:02<00:02, 177.22it/s]"
     ]
    },
    {
     "name": "stdout",
     "output_type": "stream",
     "text": [
      "1000\n",
      "60\n",
      "Density_80/Density_80_Network_10N_core60.topo\n"
     ]
    },
    {
     "name": "stderr",
     "output_type": "stream",
     "text": [
      "Processing: 100%|██████████| 1000/1000 [00:05<00:00, 186.23it/s]\n"
     ]
    },
    {
     "name": "stdout",
     "output_type": "stream",
     "text": [
      "1000\n"
     ]
    },
    {
     "name": "stderr",
     "output_type": "stream",
     "text": [
      "Processing:  22%|██▎       | 225/1000 [00:01<00:04, 165.15it/s]"
     ]
    },
    {
     "name": "stdout",
     "output_type": "stream",
     "text": [
      "67\n"
     ]
    },
    {
     "name": "stderr",
     "output_type": "stream",
     "text": [
      "Processing:  24%|██▍       | 245/1000 [00:01<00:03, 207.83it/s]"
     ]
    },
    {
     "name": "stdout",
     "output_type": "stream",
     "text": [
      "Density_80/Density_80_Network_10N_core67.topo"
     ]
    },
    {
     "name": "stderr",
     "output_type": "stream",
     "text": [
      "Processing:   9%|▉         | 92/1000 [00:00<00:06, 142.12it/s]"
     ]
    },
    {
     "name": "stdout",
     "output_type": "stream",
     "text": [
      "\n"
     ]
    },
    {
     "name": "stderr",
     "output_type": "stream",
     "text": [
      "Processing:  10%|▉         | 95/1000 [00:00<00:04, 183.14it/s]s]\n"
     ]
    },
    {
     "name": "stdout",
     "output_type": "stream",
     "text": [
      "1000\n"
     ]
    },
    {
     "name": "stderr",
     "output_type": "stream",
     "text": [
      "/tmp/ipykernel_5868/396412543.py:40: FutureWarning: In a future version, `df.iloc[:, i] = newvals` will attempt to set the values inplace instead of always setting a new array. To retain the old behavior, use either `df[df.columns[i]] = newvals` or, if columns are non-unique, `df.isetitem(i, newvals)`\n",
      "  temp_table_complete.loc[:,'F1']=F1_list\n"
     ]
    },
    {
     "name": "stdout",
     "output_type": "stream",
     "text": [
      "95\n"
     ]
    },
    {
     "name": "stderr",
     "output_type": "stream",
     "text": [
      "Processing:  65%|██████▍   | 649/1000 [00:03<00:01, 216.45it/s]"
     ]
    },
    {
     "name": "stdout",
     "output_type": "stream",
     "text": [
      "Density_80/Density_80_Network_10N_core95.topo\n"
     ]
    },
    {
     "name": "stderr",
     "output_type": "stream",
     "text": [
      "Processing: 100%|██████████| 1000/1000 [00:05<00:00, 189.57it/s]\n"
     ]
    },
    {
     "name": "stdout",
     "output_type": "stream",
     "text": [
      "1000\n"
     ]
    },
    {
     "name": "stderr",
     "output_type": "stream",
     "text": [
      "Processing:  23%|██▎       | 227/1000 [00:01<00:05, 133.15it/s]"
     ]
    },
    {
     "name": "stdout",
     "output_type": "stream",
     "text": [
      "2\n"
     ]
    },
    {
     "name": "stderr",
     "output_type": "stream",
     "text": [
      "Processing:   8%|▊         | 76/1000 [00:00<00:03, 258.61it/s]"
     ]
    },
    {
     "name": "stdout",
     "output_type": "stream",
     "text": [
      "Density_100/Density_100_Network_10N_core2.topo\n"
     ]
    },
    {
     "name": "stderr",
     "output_type": "stream",
     "text": [
      "Processing: 100%|██████████| 1000/1000 [00:05<00:00, 191.24it/s]\n"
     ]
    },
    {
     "name": "stdout",
     "output_type": "stream",
     "text": [
      "1000\n",
      "9\n",
      "Density_100/Density_100_Network_10N_core9.topo\n"
     ]
    },
    {
     "name": "stderr",
     "output_type": "stream",
     "text": [
      "Processing: 100%|██████████| 1000/1000 [00:05<00:00, 189.60it/s]\n"
     ]
    },
    {
     "name": "stdout",
     "output_type": "stream",
     "text": [
      "1000\n"
     ]
    },
    {
     "name": "stderr",
     "output_type": "stream",
     "text": [
      "Processing:  43%|████▎     | 427/1000 [00:02<00:03, 176.21it/s]"
     ]
    },
    {
     "name": "stdout",
     "output_type": "stream",
     "text": [
      "26\n"
     ]
    },
    {
     "name": "stderr",
     "output_type": "stream",
     "text": [
      "Processing:  47%|████▋     | 472/1000 [00:02<00:04, 123.73it/s]"
     ]
    },
    {
     "name": "stdout",
     "output_type": "stream",
     "text": [
      "Density_80/Density_80_Network_10N_core26.topo\n"
     ]
    },
    {
     "name": "stderr",
     "output_type": "stream",
     "text": [
      "Processing: 100%|██████████| 1000/1000 [00:05<00:00, 188.43it/s]\n"
     ]
    },
    {
     "name": "stdout",
     "output_type": "stream",
     "text": [
      "1000\n"
     ]
    },
    {
     "name": "stderr",
     "output_type": "stream",
     "text": [
      "Processing:  59%|█████▉    | 591/1000 [00:03<00:02, 171.98it/s]"
     ]
    },
    {
     "name": "stdout",
     "output_type": "stream",
     "text": [
      "33\n",
      "Density_80/Density_80_Network_10N_core33.topo"
     ]
    },
    {
     "name": "stderr",
     "output_type": "stream",
     "text": [
      "Processing:  45%|████▍     | 446/1000 [00:02<00:03, 175.61it/s]"
     ]
    },
    {
     "name": "stdout",
     "output_type": "stream",
     "text": [
      "\n"
     ]
    },
    {
     "name": "stderr",
     "output_type": "stream",
     "text": [
      "Processing: 100%|██████████| 1000/1000 [00:05<00:00, 189.52it/s]\n",
      "Processing:   8%|▊         | 80/1000 [00:00<00:03, 264.58it/s]"
     ]
    },
    {
     "name": "stdout",
     "output_type": "stream",
     "text": [
      "1000\n"
     ]
    },
    {
     "name": "stderr",
     "output_type": "stream",
     "text": [
      "Processing:  56%|█████▌    | 555/1000 [00:03<00:02, 195.62it/s]/tmp/ipykernel_5868/396412543.py:40: FutureWarning: In a future version, `df.iloc[:, i] = newvals` will attempt to set the values inplace instead of always setting a new array. To retain the old behavior, use either `df[df.columns[i]] = newvals` or, if columns are non-unique, `df.isetitem(i, newvals)`\n",
      "  temp_table_complete.loc[:,'F1']=F1_list\n"
     ]
    },
    {
     "name": "stdout",
     "output_type": "stream",
     "text": [
      "19\n"
     ]
    },
    {
     "name": "stderr",
     "output_type": "stream",
     "text": [
      "Processing:   8%|▊         | 76/1000 [00:00<00:04, 188.78it/s]"
     ]
    },
    {
     "name": "stdout",
     "output_type": "stream",
     "text": [
      "Density_80/Density_80_Network_10N_core19.topo\n"
     ]
    },
    {
     "name": "stderr",
     "output_type": "stream",
     "text": [
      "Processing: 100%|██████████| 1000/1000 [00:05<00:00, 185.72it/s]\n"
     ]
    },
    {
     "name": "stdout",
     "output_type": "stream",
     "text": [
      "1000\n",
      "54\n"
     ]
    },
    {
     "name": "stderr",
     "output_type": "stream",
     "text": [
      "Processing:  92%|█████████▏| 921/1000 [00:05<00:00, 193.20it/s]"
     ]
    },
    {
     "name": "stdout",
     "output_type": "stream",
     "text": [
      "Density_80/Density_80_Network_10N_core54.topo\n"
     ]
    },
    {
     "name": "stderr",
     "output_type": "stream",
     "text": [
      "Processing: 100%|██████████| 1000/1000 [00:05<00:00, 189.95it/s]\n"
     ]
    },
    {
     "name": "stdout",
     "output_type": "stream",
     "text": [
      "1000\n"
     ]
    },
    {
     "name": "stderr",
     "output_type": "stream",
     "text": [
      "Processing:  81%|████████  | 806/1000 [00:04<00:01, 162.07it/s]"
     ]
    },
    {
     "name": "stdout",
     "output_type": "stream",
     "text": [
      "82\n"
     ]
    },
    {
     "name": "stderr",
     "output_type": "stream",
     "text": [
      "Processing:  37%|███▋      | 370/1000 [00:01<00:03, 208.86it/s]"
     ]
    },
    {
     "name": "stdout",
     "output_type": "stream",
     "text": [
      "Density_80/Density_80_Network_10N_core82.topo\n"
     ]
    },
    {
     "name": "stderr",
     "output_type": "stream",
     "text": [
      "Processing: 100%|██████████| 1000/1000 [00:05<00:00, 194.80it/s]\n"
     ]
    },
    {
     "name": "stdout",
     "output_type": "stream",
     "text": [
      "1000\n"
     ]
    },
    {
     "name": "stderr",
     "output_type": "stream",
     "text": [
      "Processing:  80%|███████▉  | 797/1000 [00:04<00:01, 145.84it/s]/tmp/ipykernel_5868/396412543.py:40: FutureWarning: In a future version, `df.iloc[:, i] = newvals` will attempt to set the values inplace instead of always setting a new array. To retain the old behavior, use either `df[df.columns[i]] = newvals` or, if columns are non-unique, `df.isetitem(i, newvals)`\n",
      "  temp_table_complete.loc[:,'F1']=F1_list\n"
     ]
    },
    {
     "name": "stdout",
     "output_type": "stream",
     "text": [
      "75"
     ]
    },
    {
     "name": "stderr",
     "output_type": "stream",
     "text": [
      "Processing:   3%|▎         | 28/1000 [00:00<00:06, 142.22it/s]"
     ]
    },
    {
     "name": "stdout",
     "output_type": "stream",
     "text": [
      "\n",
      "Density_80/Density_80_Network_10N_core75.topo\n"
     ]
    },
    {
     "name": "stderr",
     "output_type": "stream",
     "text": [
      "Processing: 100%|██████████| 1000/1000 [00:05<00:00, 184.00it/s]\n"
     ]
    },
    {
     "name": "stdout",
     "output_type": "stream",
     "text": [
      "1000\n",
      "40\n"
     ]
    },
    {
     "name": "stderr",
     "output_type": "stream",
     "text": [
      "Processing:  82%|████████▏ | 816/1000 [00:04<00:01, 154.66it/s]"
     ]
    },
    {
     "name": "stdout",
     "output_type": "stream",
     "text": [
      "Density_80/Density_80_Network_10N_core40.topo\n"
     ]
    },
    {
     "name": "stderr",
     "output_type": "stream",
     "text": [
      "Processing: 100%|██████████| 1000/1000 [00:05<00:00, 172.08it/s]\n"
     ]
    },
    {
     "name": "stdout",
     "output_type": "stream",
     "text": [
      "1000\n"
     ]
    },
    {
     "name": "stderr",
     "output_type": "stream",
     "text": [
      "/tmp/ipykernel_5868/396412543.py:40: FutureWarning: In a future version, `df.iloc[:, i] = newvals` will attempt to set the values inplace instead of always setting a new array. To retain the old behavior, use either `df[df.columns[i]] = newvals` or, if columns are non-unique, `df.isetitem(i, newvals)`\n",
      "  temp_table_complete.loc[:,'F1']=F1_list\n",
      "Processing:   0%|          | 0/1000 [00:00<?, ?it/s]"
     ]
    },
    {
     "name": "stdout",
     "output_type": "stream",
     "text": [
      "47\n"
     ]
    },
    {
     "name": "stderr",
     "output_type": "stream",
     "text": [
      "Processing:   3%|▎         | 28/1000 [00:00<00:03, 276.31it/s]"
     ]
    },
    {
     "name": "stdout",
     "output_type": "stream",
     "text": [
      "Density_80/Density_80_Network_10N_core47.topo\n"
     ]
    },
    {
     "name": "stderr",
     "output_type": "stream",
     "text": [
      "Processing: 100%|██████████| 1000/1000 [00:05<00:00, 176.16it/s]\n"
     ]
    },
    {
     "name": "stdout",
     "output_type": "stream",
     "text": [
      "1000\n"
     ]
    },
    {
     "name": "stderr",
     "output_type": "stream",
     "text": [
      "Processing:  13%|█▎        | 129/1000 [00:01<00:06, 140.58it/s]/tmp/ipykernel_5868/396412543.py:40: FutureWarning: In a future version, `df.iloc[:, i] = newvals` will attempt to set the values inplace instead of always setting a new array. To retain the old behavior, use either `df[df.columns[i]] = newvals` or, if columns are non-unique, `df.isetitem(i, newvals)`\n",
      "  temp_table_complete.loc[:,'F1']=F1_list\n"
     ]
    },
    {
     "name": "stdout",
     "output_type": "stream",
     "text": [
      "61\n",
      "Density_80/Density_80_Network_10N_core61.topo\n"
     ]
    },
    {
     "name": "stderr",
     "output_type": "stream",
     "text": [
      "Processing: 100%|██████████| 1000/1000 [00:05<00:00, 170.16it/s]\n"
     ]
    },
    {
     "name": "stdout",
     "output_type": "stream",
     "text": [
      "1000\n"
     ]
    },
    {
     "name": "stderr",
     "output_type": "stream",
     "text": [
      "Processing:   0%|          | 0/1000 [00:00<?, ?it/s]/tmp/ipykernel_5868/396412543.py:40: FutureWarning: In a future version, `df.iloc[:, i] = newvals` will attempt to set the values inplace instead of always setting a new array. To retain the old behavior, use either `df[df.columns[i]] = newvals` or, if columns are non-unique, `df.isetitem(i, newvals)`\n",
      "  temp_table_complete.loc[:,'F1']=F1_list\n"
     ]
    },
    {
     "name": "stdout",
     "output_type": "stream",
     "text": [
      "89\n",
      "Density_80/Density_80_Network_10N_core89.topo\n"
     ]
    },
    {
     "name": "stderr",
     "output_type": "stream",
     "text": [
      "Processing:  49%|████▉     | 488/1000 [00:02<00:02, 171.92it/s]]\n"
     ]
    },
    {
     "name": "stdout",
     "output_type": "stream",
     "text": [
      "1000\n",
      "3\n"
     ]
    },
    {
     "name": "stderr",
     "output_type": "stream",
     "text": [
      "Processing:  67%|██████▋   | 670/1000 [00:03<00:01, 191.73it/s]"
     ]
    },
    {
     "name": "stdout",
     "output_type": "stream",
     "text": [
      "Density_100/Density_100_Network_10N_core3.topo\n"
     ]
    },
    {
     "name": "stderr",
     "output_type": "stream",
     "text": [
      "Processing:  69%|██████▉   | 691/1000 [00:03<00:01, 195.60it/s]]\n"
     ]
    },
    {
     "name": "stdout",
     "output_type": "stream",
     "text": [
      "1000\n"
     ]
    },
    {
     "name": "stderr",
     "output_type": "stream",
     "text": [
      "Processing:  24%|██▍       | 238/1000 [00:01<00:04, 186.89it/s]/tmp/ipykernel_5868/396412543.py:40: FutureWarning: In a future version, `df.iloc[:, i] = newvals` will attempt to set the values inplace instead of always setting a new array. To retain the old behavior, use either `df[df.columns[i]] = newvals` or, if columns are non-unique, `df.isetitem(i, newvals)`\n",
      "  temp_table_complete.loc[:,'F1']=F1_list\n"
     ]
    },
    {
     "name": "stdout",
     "output_type": "stream",
     "text": [
      "68\n"
     ]
    },
    {
     "name": "stderr",
     "output_type": "stream",
     "text": [
      "Processing:   2%|▏         | 17/1000 [00:00<00:05, 169.54it/s]"
     ]
    },
    {
     "name": "stdout",
     "output_type": "stream",
     "text": [
      "Density_80/Density_80_Network_10N_core68.topo"
     ]
    },
    {
     "name": "stderr",
     "output_type": "stream",
     "text": [
      "Processing:  22%|██▏       | 224/1000 [00:01<00:04, 174.05it/s]"
     ]
    },
    {
     "name": "stdout",
     "output_type": "stream",
     "text": [
      "\n"
     ]
    },
    {
     "name": "stderr",
     "output_type": "stream",
     "text": [
      "Processing: 100%|██████████| 1000/1000 [00:05<00:00, 166.79it/s]\n",
      "Processing:  64%|██████▍   | 640/1000 [00:03<00:02, 153.76it/s]"
     ]
    },
    {
     "name": "stdout",
     "output_type": "stream",
     "text": [
      "1000\n"
     ]
    },
    {
     "name": "stderr",
     "output_type": "stream",
     "text": [
      "/tmp/ipykernel_5868/396412543.py:40: FutureWarning: In a future version, `df.iloc[:, i] = newvals` will attempt to set the values inplace instead of always setting a new array. To retain the old behavior, use either `df[df.columns[i]] = newvals` or, if columns are non-unique, `df.isetitem(i, newvals)`\n",
      "  temp_table_complete.loc[:,'F1']=F1_list\n"
     ]
    },
    {
     "name": "stdout",
     "output_type": "stream",
     "text": [
      "96\n",
      "Density_80/Density_80_Network_10N_core96.topo\n"
     ]
    },
    {
     "name": "stderr",
     "output_type": "stream",
     "text": [
      "Processing: 100%|██████████| 1000/1000 [00:04<00:00, 211.96it/s]\n"
     ]
    },
    {
     "name": "stdout",
     "output_type": "stream",
     "text": [
      "1000\n",
      "27\n",
      "Density_80/Density_80_Network_10N_core27.topo\n"
     ]
    },
    {
     "name": "stderr",
     "output_type": "stream",
     "text": [
      "Processing: 100%|██████████| 1000/1000 [00:05<00:00, 187.50it/s]\n"
     ]
    },
    {
     "name": "stdout",
     "output_type": "stream",
     "text": [
      "1000\n"
     ]
    },
    {
     "name": "stderr",
     "output_type": "stream",
     "text": [
      "Processing: 100%|██████████| 1000/1000 [00:05<00:00, 198.25it/s]\n"
     ]
    },
    {
     "name": "stdout",
     "output_type": "stream",
     "text": [
      "1000\n"
     ]
    },
    {
     "name": "stderr",
     "output_type": "stream",
     "text": [
      "Processing:  59%|█████▉    | 594/1000 [00:03<00:02, 174.00it/s]"
     ]
    },
    {
     "name": "stdout",
     "output_type": "stream",
     "text": [
      "34\n"
     ]
    },
    {
     "name": "stderr",
     "output_type": "stream",
     "text": [
      "Processing:  63%|██████▎   | 626/1000 [00:02<00:01, 230.19it/s]"
     ]
    },
    {
     "name": "stdout",
     "output_type": "stream",
     "text": [
      "Density_80/Density_80_Network_10N_core34.topo\n"
     ]
    },
    {
     "name": "stderr",
     "output_type": "stream",
     "text": [
      "Processing:  92%|█████████▏| 919/1000 [00:04<00:00, 291.92it/s]]\n"
     ]
    },
    {
     "name": "stdout",
     "output_type": "stream",
     "text": [
      "1000"
     ]
    },
    {
     "name": "stderr",
     "output_type": "stream",
     "text": [
      "Processing:  58%|█████▊    | 581/1000 [00:02<00:01, 237.60it/s]"
     ]
    },
    {
     "name": "stdout",
     "output_type": "stream",
     "text": [
      "\n"
     ]
    },
    {
     "name": "stderr",
     "output_type": "stream",
     "text": [
      "Processing:  64%|██████▍   | 643/1000 [00:03<00:01, 239.88it/s]/tmp/ipykernel_5868/396412543.py:40: FutureWarning: In a future version, `df.iloc[:, i] = newvals` will attempt to set the values inplace instead of always setting a new array. To retain the old behavior, use either `df[df.columns[i]] = newvals` or, if columns are non-unique, `df.isetitem(i, newvals)`\n",
      "  temp_table_complete.loc[:,'F1']=F1_list\n"
     ]
    },
    {
     "name": "stdout",
     "output_type": "stream",
     "text": [
      "55\n",
      "Density_80/Density_80_Network_10N_core55.topo\n"
     ]
    },
    {
     "name": "stderr",
     "output_type": "stream",
     "text": [
      "Processing: 100%|██████████| 1000/1000 [00:05<00:00, 168.19it/s]\n"
     ]
    },
    {
     "name": "stdout",
     "output_type": "stream",
     "text": [
      "1000\n"
     ]
    },
    {
     "name": "stderr",
     "output_type": "stream",
     "text": [
      "Processing:  61%|██████    | 606/1000 [00:03<00:01, 223.88it/s]"
     ]
    },
    {
     "name": "stdout",
     "output_type": "stream",
     "text": [
      "20"
     ]
    },
    {
     "name": "stderr",
     "output_type": "stream",
     "text": [
      "Processing:   2%|▏         | 19/1000 [00:00<00:05, 189.11it/s]"
     ]
    },
    {
     "name": "stdout",
     "output_type": "stream",
     "text": [
      "\n"
     ]
    },
    {
     "name": "stderr",
     "output_type": "stream",
     "text": [
      "Processing:  25%|██▍       | 249/1000 [00:01<00:03, 210.70it/s]"
     ]
    },
    {
     "name": "stdout",
     "output_type": "stream",
     "text": [
      "Density_80/Density_80_Network_10N_core20.topo\n"
     ]
    },
    {
     "name": "stderr",
     "output_type": "stream",
     "text": [
      "Processing: 100%|██████████| 1000/1000 [00:04<00:00, 219.82it/s]\n"
     ]
    },
    {
     "name": "stdout",
     "output_type": "stream",
     "text": [
      "1000\n"
     ]
    },
    {
     "name": "stderr",
     "output_type": "stream",
     "text": [
      "/tmp/ipykernel_5868/396412543.py:40: FutureWarning: In a future version, `df.iloc[:, i] = newvals` will attempt to set the values inplace instead of always setting a new array. To retain the old behavior, use either `df[df.columns[i]] = newvals` or, if columns are non-unique, `df.isetitem(i, newvals)`\n",
      "  temp_table_complete.loc[:,'F1']=F1_list\n"
     ]
    },
    {
     "name": "stdout",
     "output_type": "stream",
     "text": [
      "48\n",
      "Density_80/Density_80_Network_10N_core48.topo\n"
     ]
    },
    {
     "name": "stderr",
     "output_type": "stream",
     "text": [
      "Processing: 100%|██████████| 1000/1000 [00:05<00:00, 191.53it/s]\n",
      "Processing:   6%|▋         | 65/1000 [00:00<00:07, 126.56it/s]"
     ]
    },
    {
     "name": "stdout",
     "output_type": "stream",
     "text": [
      "1000\n"
     ]
    },
    {
     "name": "stderr",
     "output_type": "stream",
     "text": [
      "/tmp/ipykernel_5868/396412543.py:40: FutureWarning: In a future version, `df.iloc[:, i] = newvals` will attempt to set the values inplace instead of always setting a new array. To retain the old behavior, use either `df[df.columns[i]] = newvals` or, if columns are non-unique, `df.isetitem(i, newvals)`\n",
      "  temp_table_complete.loc[:,'F1']=F1_list\n"
     ]
    },
    {
     "name": "stdout",
     "output_type": "stream",
     "text": [
      "76\n"
     ]
    },
    {
     "name": "stderr",
     "output_type": "stream",
     "text": [
      "Processing:  81%|████████  | 809/1000 [00:03<00:00, 218.03it/s]"
     ]
    },
    {
     "name": "stdout",
     "output_type": "stream",
     "text": [
      "Density_80/Density_80_Network_10N_core76.topo\n"
     ]
    },
    {
     "name": "stderr",
     "output_type": "stream",
     "text": [
      "Processing:  43%|████▎     | 433/1000 [00:02<00:03, 167.92it/s]]\n",
      "Processing: 100%|██████████| 1000/1000 [00:05<00:00, 178.83it/s]"
     ]
    },
    {
     "name": "stdout",
     "output_type": "stream",
     "text": [
      "1000"
     ]
    },
    {
     "name": "stderr",
     "output_type": "stream",
     "text": [
      "\n"
     ]
    },
    {
     "name": "stdout",
     "output_type": "stream",
     "text": [
      "1000\n",
      "\n"
     ]
    },
    {
     "name": "stderr",
     "output_type": "stream",
     "text": [
      "Processing:  87%|████████▋ | 869/1000 [00:04<00:00, 170.29it/s]/tmp/ipykernel_5868/396412543.py:40: FutureWarning: In a future version, `df.iloc[:, i] = newvals` will attempt to set the values inplace instead of always setting a new array. To retain the old behavior, use either `df[df.columns[i]] = newvals` or, if columns are non-unique, `df.isetitem(i, newvals)`\n",
      "  temp_table_complete.loc[:,'F1']=F1_list\n"
     ]
    },
    {
     "name": "stdout",
     "output_type": "stream",
     "text": [
      "83\n",
      "41\n",
      "Density_80/Density_80_Network_10N_core83.topo\n",
      "Density_80/Density_80_Network_10N_core41.topo\n"
     ]
    },
    {
     "name": "stderr",
     "output_type": "stream",
     "text": [
      "Processing: 100%|██████████| 1000/1000 [00:04<00:00, 217.48it/s]\n"
     ]
    },
    {
     "name": "stdout",
     "output_type": "stream",
     "text": [
      "1000\n"
     ]
    },
    {
     "name": "stderr",
     "output_type": "stream",
     "text": [
      "Processing:  72%|███████▏  | 723/1000 [00:03<00:01, 238.24it/s]"
     ]
    },
    {
     "name": "stdout",
     "output_type": "stream",
     "text": [
      "69\n"
     ]
    },
    {
     "name": "stderr",
     "output_type": "stream",
     "text": [
      "Processing:  11%|█         | 110/1000 [00:00<00:04, 218.02it/s]"
     ]
    },
    {
     "name": "stdout",
     "output_type": "stream",
     "text": [
      "Density_80/Density_80_Network_10N_core69.topo\n"
     ]
    },
    {
     "name": "stderr",
     "output_type": "stream",
     "text": [
      "Processing:  57%|█████▋    | 571/1000 [00:03<00:02, 153.44it/s]]\n"
     ]
    },
    {
     "name": "stdout",
     "output_type": "stream",
     "text": [
      "1000\n"
     ]
    },
    {
     "name": "stderr",
     "output_type": "stream",
     "text": [
      "Processing:  85%|████████▌ | 850/1000 [00:03<00:00, 212.17it/s]/tmp/ipykernel_5868/396412543.py:40: FutureWarning: In a future version, `df.iloc[:, i] = newvals` will attempt to set the values inplace instead of always setting a new array. To retain the old behavior, use either `df[df.columns[i]] = newvals` or, if columns are non-unique, `df.isetitem(i, newvals)`\n",
      "  temp_table_complete.loc[:,'F1']=F1_list\n"
     ]
    },
    {
     "name": "stdout",
     "output_type": "stream",
     "text": [
      "62"
     ]
    },
    {
     "name": "stderr",
     "output_type": "stream",
     "text": [
      "Processing:  23%|██▎       | 226/1000 [00:01<00:04, 179.28it/s]"
     ]
    },
    {
     "name": "stdout",
     "output_type": "stream",
     "text": [
      "\n"
     ]
    },
    {
     "name": "stderr",
     "output_type": "stream",
     "text": [
      "Processing:  99%|█████████▉| 994/1000 [00:05<00:00, 166.40it/s]"
     ]
    },
    {
     "name": "stdout",
     "output_type": "stream",
     "text": [
      "Density_80/Density_80_Network_10N_core62.topo\n"
     ]
    },
    {
     "name": "stderr",
     "output_type": "stream",
     "text": [
      "Processing:  41%|████      | 412/1000 [00:02<00:03, 183.06it/s]]\n"
     ]
    },
    {
     "name": "stdout",
     "output_type": "stream",
     "text": [
      "1000"
     ]
    },
    {
     "name": "stderr",
     "output_type": "stream",
     "text": [
      "Processing:  19%|█▊        | 186/1000 [00:01<00:04, 176.21it/s]"
     ]
    },
    {
     "name": "stdout",
     "output_type": "stream",
     "text": [
      "\n"
     ]
    },
    {
     "name": "stderr",
     "output_type": "stream",
     "text": [
      "Processing:  16%|█▋        | 163/1000 [00:00<00:04, 179.30it/s]"
     ]
    },
    {
     "name": "stdout",
     "output_type": "stream",
     "text": [
      "90\n"
     ]
    },
    {
     "name": "stderr",
     "output_type": "stream",
     "text": [
      "Processing:  87%|████████▋ | 873/1000 [00:04<00:00, 214.70it/s]"
     ]
    },
    {
     "name": "stdout",
     "output_type": "stream",
     "text": [
      "Density_80/Density_80_Network_10N_core90.topo\n"
     ]
    },
    {
     "name": "stderr",
     "output_type": "stream",
     "text": [
      "Processing: 100%|██████████| 1000/1000 [00:05<00:00, 194.93it/s]\n"
     ]
    },
    {
     "name": "stdout",
     "output_type": "stream",
     "text": [
      "1000\n",
      "4\n"
     ]
    },
    {
     "name": "stderr",
     "output_type": "stream",
     "text": [
      "Processing:  21%|██        | 212/1000 [00:01<00:03, 197.70it/s]"
     ]
    },
    {
     "name": "stdout",
     "output_type": "stream",
     "text": [
      "Density_100/Density_100_Network_10N_core4.topo\n"
     ]
    },
    {
     "name": "stderr",
     "output_type": "stream",
     "text": [
      "Processing: 100%|██████████| 1000/1000 [00:04<00:00, 211.99it/s]\n"
     ]
    },
    {
     "name": "stdout",
     "output_type": "stream",
     "text": [
      "1000\n"
     ]
    },
    {
     "name": "stderr",
     "output_type": "stream",
     "text": [
      "Processing:  49%|████▉     | 488/1000 [00:02<00:02, 228.49it/s]"
     ]
    },
    {
     "name": "stdout",
     "output_type": "stream",
     "text": [
      "97"
     ]
    },
    {
     "name": "stderr",
     "output_type": "stream",
     "text": [
      "Processing:   9%|▉         | 88/1000 [00:00<00:05, 170.32it/s]"
     ]
    },
    {
     "name": "stdout",
     "output_type": "stream",
     "text": [
      "\n"
     ]
    },
    {
     "name": "stderr",
     "output_type": "stream",
     "text": [
      "Processing:  29%|██▊       | 287/1000 [00:01<00:04, 146.41it/s]"
     ]
    },
    {
     "name": "stdout",
     "output_type": "stream",
     "text": [
      "Density_80/Density_80_Network_10N_core97.topo\n"
     ]
    },
    {
     "name": "stderr",
     "output_type": "stream",
     "text": [
      "Processing: 100%|██████████| 1000/1000 [00:04<00:00, 215.20it/s]\n"
     ]
    },
    {
     "name": "stdout",
     "output_type": "stream",
     "text": [
      "1000\n"
     ]
    },
    {
     "name": "stderr",
     "output_type": "stream",
     "text": [
      "Processing:  17%|█▋        | 173/1000 [00:01<00:04, 189.22it/s]"
     ]
    },
    {
     "name": "stdout",
     "output_type": "stream",
     "text": [
      "28\n",
      "Density_80/Density_80_Network_10N_core28.topo\n"
     ]
    },
    {
     "name": "stderr",
     "output_type": "stream",
     "text": [
      "Processing: 100%|██████████| 1000/1000 [00:05<00:00, 188.64it/s]\n"
     ]
    },
    {
     "name": "stdout",
     "output_type": "stream",
     "text": [
      "1000\n",
      "35\n",
      "Density_80/Density_80_Network_10N_core35.topo\n"
     ]
    },
    {
     "name": "stderr",
     "output_type": "stream",
     "text": [
      "Processing: 100%|██████████| 1000/1000 [00:05<00:00, 199.20it/s]\n"
     ]
    },
    {
     "name": "stdout",
     "output_type": "stream",
     "text": [
      "1000\n"
     ]
    },
    {
     "name": "stderr",
     "output_type": "stream",
     "text": [
      "Processing:  51%|█████     | 512/1000 [00:02<00:03, 154.48it/s]"
     ]
    },
    {
     "name": "stdout",
     "output_type": "stream",
     "text": [
      "56\n",
      "Density_80/Density_80_Network_10N_core56.topo\n"
     ]
    },
    {
     "name": "stderr",
     "output_type": "stream",
     "text": [
      "Processing: 100%|██████████| 1000/1000 [00:05<00:00, 188.78it/s]\n"
     ]
    },
    {
     "name": "stdout",
     "output_type": "stream",
     "text": [
      "1000\n",
      "21\n",
      "Density_80/Density_80_Network_10N_core21.topo\n"
     ]
    },
    {
     "name": "stderr",
     "output_type": "stream",
     "text": [
      "Processing: 100%|██████████| 1000/1000 [00:04<00:00, 220.50it/s]\n"
     ]
    },
    {
     "name": "stdout",
     "output_type": "stream",
     "text": [
      "1000\n"
     ]
    },
    {
     "name": "stderr",
     "output_type": "stream",
     "text": [
      "/tmp/ipykernel_5868/396412543.py:40: FutureWarning: In a future version, `df.iloc[:, i] = newvals` will attempt to set the values inplace instead of always setting a new array. To retain the old behavior, use either `df[df.columns[i]] = newvals` or, if columns are non-unique, `df.isetitem(i, newvals)`\n",
      "  temp_table_complete.loc[:,'F1']=F1_list\n"
     ]
    },
    {
     "name": "stdout",
     "output_type": "stream",
     "text": [
      "84"
     ]
    },
    {
     "name": "stderr",
     "output_type": "stream",
     "text": [
      "Processing:  15%|█▌        | 150/1000 [00:00<00:04, 200.48it/s]"
     ]
    },
    {
     "name": "stdout",
     "output_type": "stream",
     "text": [
      "\n",
      "Density_80/Density_80_Network_10N_core84.topo\n"
     ]
    },
    {
     "name": "stderr",
     "output_type": "stream",
     "text": [
      "Processing: 100%|██████████| 1000/1000 [00:05<00:00, 189.31it/s]\n",
      "Processing:  58%|█████▊    | 576/1000 [00:02<00:02, 167.46it/s]"
     ]
    },
    {
     "name": "stdout",
     "output_type": "stream",
     "text": [
      "1000\n"
     ]
    },
    {
     "name": "stderr",
     "output_type": "stream",
     "text": [
      "/tmp/ipykernel_5868/396412543.py:40: FutureWarning: In a future version, `df.iloc[:, i] = newvals` will attempt to set the values inplace instead of always setting a new array. To retain the old behavior, use either `df[df.columns[i]] = newvals` or, if columns are non-unique, `df.isetitem(i, newvals)`\n",
      "  temp_table_complete.loc[:,'F1']=F1_list\n"
     ]
    },
    {
     "name": "stdout",
     "output_type": "stream",
     "text": [
      "49"
     ]
    },
    {
     "name": "stderr",
     "output_type": "stream",
     "text": [
      "Processing:  88%|████████▊ | 881/1000 [00:03<00:00, 228.04it/s]"
     ]
    },
    {
     "name": "stdout",
     "output_type": "stream",
     "text": [
      "\n",
      "Density_80/Density_80_Network_10N_core49.topo"
     ]
    },
    {
     "name": "stderr",
     "output_type": "stream",
     "text": [
      "Processing:  63%|██████▎   | 632/1000 [00:03<00:02, 154.23it/s]"
     ]
    },
    {
     "name": "stdout",
     "output_type": "stream",
     "text": [
      "\n"
     ]
    },
    {
     "name": "stderr",
     "output_type": "stream",
     "text": [
      "Processing: 100%|██████████| 1000/1000 [00:05<00:00, 197.92it/s]\n"
     ]
    },
    {
     "name": "stdout",
     "output_type": "stream",
     "text": [
      "1000\n"
     ]
    },
    {
     "name": "stderr",
     "output_type": "stream",
     "text": [
      "/tmp/ipykernel_5868/396412543.py:40: FutureWarning: In a future version, `df.iloc[:, i] = newvals` will attempt to set the values inplace instead of always setting a new array. To retain the old behavior, use either `df[df.columns[i]] = newvals` or, if columns are non-unique, `df.isetitem(i, newvals)`\n",
      "  temp_table_complete.loc[:,'F1']=F1_list\n",
      "Processing:  69%|██████▉   | 688/1000 [00:03<00:01, 208.94it/s]"
     ]
    },
    {
     "name": "stdout",
     "output_type": "stream",
     "text": [
      "42\n"
     ]
    },
    {
     "name": "stderr",
     "output_type": "stream",
     "text": [
      "Processing:  87%|████████▋ | 871/1000 [00:04<00:00, 177.34it/s]"
     ]
    },
    {
     "name": "stdout",
     "output_type": "stream",
     "text": [
      "Density_80/Density_80_Network_10N_core42.topo\n"
     ]
    },
    {
     "name": "stderr",
     "output_type": "stream",
     "text": [
      "Processing: 100%|██████████| 1000/1000 [00:05<00:00, 176.56it/s]\n",
      "Processing:  93%|█████████▎| 926/1000 [00:04<00:00, 146.47it/s]"
     ]
    },
    {
     "name": "stdout",
     "output_type": "stream",
     "text": [
      "1000\n",
      "77\n",
      "Density_80/Density_80_Network_10N_core77.topo"
     ]
    },
    {
     "name": "stderr",
     "output_type": "stream",
     "text": [
      "Processing: 100%|██████████| 1000/1000 [00:04<00:00, 203.27it/s]"
     ]
    },
    {
     "name": "stdout",
     "output_type": "stream",
     "text": [
      "\n"
     ]
    },
    {
     "name": "stderr",
     "output_type": "stream",
     "text": [
      "Processing:  52%|█████▏    | 515/1000 [00:02<00:02, 211.38it/s]\n"
     ]
    },
    {
     "name": "stdout",
     "output_type": "stream",
     "text": [
      "1000\n"
     ]
    },
    {
     "name": "stderr",
     "output_type": "stream",
     "text": [
      "Processing:   6%|▋         | 63/1000 [00:00<00:05, 160.62it/s]"
     ]
    },
    {
     "name": "stdout",
     "output_type": "stream",
     "text": [
      "70"
     ]
    },
    {
     "name": "stderr",
     "output_type": "stream",
     "text": [
      "Processing:  76%|███████▌  | 761/1000 [00:04<00:01, 206.65it/s]"
     ]
    },
    {
     "name": "stdout",
     "output_type": "stream",
     "text": [
      "\n",
      "Density_80/Density_80_Network_10N_core70.topo\n"
     ]
    },
    {
     "name": "stderr",
     "output_type": "stream",
     "text": [
      "Processing: 100%|██████████| 1000/1000 [00:05<00:00, 192.93it/s]\n"
     ]
    },
    {
     "name": "stdout",
     "output_type": "stream",
     "text": [
      "1000\n",
      "63"
     ]
    },
    {
     "name": "stderr",
     "output_type": "stream",
     "text": [
      "Processing:  92%|█████████▏| 916/1000 [00:04<00:00, 233.48it/s]"
     ]
    },
    {
     "name": "stdout",
     "output_type": "stream",
     "text": [
      "\n",
      "Density_80/Density_80_Network_10N_core63.topo\n"
     ]
    },
    {
     "name": "stderr",
     "output_type": "stream",
     "text": [
      "Processing: 100%|██████████| 1000/1000 [00:05<00:00, 180.18it/s]\n"
     ]
    },
    {
     "name": "stdout",
     "output_type": "stream",
     "text": [
      "1000\n"
     ]
    },
    {
     "name": "stderr",
     "output_type": "stream",
     "text": [
      "Processing: 100%|██████████| 1000/1000 [00:04<00:00, 202.18it/s]\n"
     ]
    },
    {
     "name": "stdout",
     "output_type": "stream",
     "text": [
      "10005\n",
      "\n"
     ]
    },
    {
     "name": "stderr",
     "output_type": "stream",
     "text": [
      "Processing:  98%|█████████▊| 976/1000 [00:04<00:00, 208.69it/s]/tmp/ipykernel_5868/396412543.py:40: FutureWarning: In a future version, `df.iloc[:, i] = newvals` will attempt to set the values inplace instead of always setting a new array. To retain the old behavior, use either `df[df.columns[i]] = newvals` or, if columns are non-unique, `df.isetitem(i, newvals)`\n",
      "  temp_table_complete.loc[:,'F1']=F1_list\n"
     ]
    },
    {
     "name": "stdout",
     "output_type": "stream",
     "text": [
      "Density_100/Density_100_Network_10N_core5.topo98\n",
      "\n"
     ]
    },
    {
     "name": "stderr",
     "output_type": "stream",
     "text": [
      "Processing:  73%|███████▎  | 729/1000 [00:03<00:01, 188.40it/s]"
     ]
    },
    {
     "name": "stdout",
     "output_type": "stream",
     "text": [
      "Density_80/Density_80_Network_10N_core98.topo\n"
     ]
    },
    {
     "name": "stderr",
     "output_type": "stream",
     "text": [
      "Processing: 100%|██████████| 1000/1000 [00:04<00:00, 210.55it/s]\n"
     ]
    },
    {
     "name": "stdout",
     "output_type": "stream",
     "text": [
      "1000\n"
     ]
    },
    {
     "name": "stderr",
     "output_type": "stream",
     "text": [
      "Processing: 100%|██████████| 1000/1000 [00:05<00:00, 170.82it/s]\n"
     ]
    },
    {
     "name": "stdout",
     "output_type": "stream",
     "text": [
      "1000\n"
     ]
    },
    {
     "name": "stderr",
     "output_type": "stream",
     "text": [
      "/tmp/ipykernel_5868/396412543.py:40: FutureWarning: In a future version, `df.iloc[:, i] = newvals` will attempt to set the values inplace instead of always setting a new array. To retain the old behavior, use either `df[df.columns[i]] = newvals` or, if columns are non-unique, `df.isetitem(i, newvals)`\n",
      "  temp_table_complete.loc[:,'F1']=F1_list\n"
     ]
    },
    {
     "name": "stdout",
     "output_type": "stream",
     "text": [
      "91\n"
     ]
    },
    {
     "name": "stderr",
     "output_type": "stream",
     "text": [
      "Processing:  47%|████▋     | 471/1000 [00:02<00:02, 183.88it/s]"
     ]
    },
    {
     "name": "stdout",
     "output_type": "stream",
     "text": [
      "Density_80/Density_80_Network_10N_core91.topo\n"
     ]
    },
    {
     "name": "stderr",
     "output_type": "stream",
     "text": [
      "Processing: 100%|██████████| 1000/1000 [00:04<00:00, 219.63it/s]\n"
     ]
    },
    {
     "name": "stdout",
     "output_type": "stream",
     "text": [
      "1000\n"
     ]
    },
    {
     "name": "stderr",
     "output_type": "stream",
     "text": [
      "Processing: 100%|██████████| 1000/1000 [00:04<00:00, 248.76it/s]\n"
     ]
    },
    {
     "name": "stdout",
     "output_type": "stream",
     "text": [
      "1000"
     ]
    },
    {
     "name": "stderr",
     "output_type": "stream",
     "text": [
      "Processing: 100%|██████████| 1000/1000 [00:04<00:00, 210.55it/s]"
     ]
    },
    {
     "name": "stdout",
     "output_type": "stream",
     "text": [
      "\n"
     ]
    },
    {
     "name": "stderr",
     "output_type": "stream",
     "text": [
      "\n"
     ]
    },
    {
     "name": "stdout",
     "output_type": "stream",
     "text": [
      "1000\n"
     ]
    },
    {
     "name": "stderr",
     "output_type": "stream",
     "text": [
      "/tmp/ipykernel_5868/396412543.py:40: FutureWarning: In a future version, `df.iloc[:, i] = newvals` will attempt to set the values inplace instead of always setting a new array. To retain the old behavior, use either `df[df.columns[i]] = newvals` or, if columns are non-unique, `df.isetitem(i, newvals)`\n",
      "  temp_table_complete.loc[:,'F1']=F1_list\n",
      "Processing: 100%|██████████| 1000/1000 [00:04<00:00, 225.76it/s]\n"
     ]
    },
    {
     "name": "stdout",
     "output_type": "stream",
     "text": [
      "1000\n"
     ]
    },
    {
     "name": "stderr",
     "output_type": "stream",
     "text": [
      "Processing: 100%|█████████▉| 995/1000 [00:04<00:00, 310.94it/s]]\n"
     ]
    },
    {
     "name": "stdout",
     "output_type": "stream",
     "text": [
      "1000\n"
     ]
    },
    {
     "name": "stderr",
     "output_type": "stream",
     "text": [
      "/tmp/ipykernel_5868/396412543.py:40: FutureWarning: In a future version, `df.iloc[:, i] = newvals` will attempt to set the values inplace instead of always setting a new array. To retain the old behavior, use either `df[df.columns[i]] = newvals` or, if columns are non-unique, `df.isetitem(i, newvals)`\n",
      "  temp_table_complete.loc[:,'F1']=F1_list\n",
      "Processing: 100%|██████████| 1000/1000 [00:04<00:00, 229.79it/s]\n"
     ]
    },
    {
     "name": "stdout",
     "output_type": "stream",
     "text": [
      "1000\n"
     ]
    },
    {
     "name": "stderr",
     "output_type": "stream",
     "text": [
      "Processing: 100%|██████████| 1000/1000 [00:03<00:00, 272.90it/s]\n"
     ]
    },
    {
     "name": "stdout",
     "output_type": "stream",
     "text": [
      "1000"
     ]
    },
    {
     "name": "stderr",
     "output_type": "stream",
     "text": [
      "Processing:  99%|█████████▊| 986/1000 [00:04<00:00, 378.77it/s]"
     ]
    },
    {
     "name": "stdout",
     "output_type": "stream",
     "text": [
      "\n"
     ]
    },
    {
     "name": "stderr",
     "output_type": "stream",
     "text": [
      "Processing: 100%|██████████| 1000/1000 [00:04<00:00, 238.88it/s]\n"
     ]
    },
    {
     "name": "stdout",
     "output_type": "stream",
     "text": [
      "1000\n"
     ]
    },
    {
     "name": "stderr",
     "output_type": "stream",
     "text": [
      "/tmp/ipykernel_5868/396412543.py:40: FutureWarning: In a future version, `df.iloc[:, i] = newvals` will attempt to set the values inplace instead of always setting a new array. To retain the old behavior, use either `df[df.columns[i]] = newvals` or, if columns are non-unique, `df.isetitem(i, newvals)`\n",
      "  temp_table_complete.loc[:,'F1']=F1_list\n",
      "Processing: 100%|██████████| 1000/1000 [00:04<00:00, 229.58it/s]\n"
     ]
    },
    {
     "name": "stdout",
     "output_type": "stream",
     "text": [
      "1000\n"
     ]
    },
    {
     "name": "stderr",
     "output_type": "stream",
     "text": [
      "Processing: 100%|██████████| 1000/1000 [00:03<00:00, 298.53it/s]\n"
     ]
    },
    {
     "name": "stdout",
     "output_type": "stream",
     "text": [
      "1000\n"
     ]
    },
    {
     "name": "stderr",
     "output_type": "stream",
     "text": [
      "/tmp/ipykernel_5868/396412543.py:40: FutureWarning: In a future version, `df.iloc[:, i] = newvals` will attempt to set the values inplace instead of always setting a new array. To retain the old behavior, use either `df[df.columns[i]] = newvals` or, if columns are non-unique, `df.isetitem(i, newvals)`\n",
      "  temp_table_complete.loc[:,'F1']=F1_list\n",
      "Processing: 100%|██████████| 1000/1000 [00:03<00:00, 301.12it/s]\n"
     ]
    },
    {
     "name": "stdout",
     "output_type": "stream",
     "text": [
      "1000\n"
     ]
    },
    {
     "name": "stderr",
     "output_type": "stream",
     "text": [
      "Processing: 100%|██████████| 1000/1000 [00:03<00:00, 266.95it/s]\n"
     ]
    },
    {
     "name": "stdout",
     "output_type": "stream",
     "text": [
      "1000\n"
     ]
    },
    {
     "data": {
      "text/html": [
       "<div>\n",
       "<style scoped>\n",
       "    .dataframe tbody tr th:only-of-type {\n",
       "        vertical-align: middle;\n",
       "    }\n",
       "\n",
       "    .dataframe tbody tr th {\n",
       "        vertical-align: top;\n",
       "    }\n",
       "\n",
       "    .dataframe thead th {\n",
       "        text-align: right;\n",
       "    }\n",
       "</style>\n",
       "<table border=\"1\" class=\"dataframe\">\n",
       "  <thead>\n",
       "    <tr style=\"text-align: right;\">\n",
       "      <th></th>\n",
       "      <th>index</th>\n",
       "      <th>Team_Size</th>\n",
       "      <th>BiC A</th>\n",
       "      <th>CC AB</th>\n",
       "      <th>F1</th>\n",
       "      <th>F1_Individual_Nodes_Considered</th>\n",
       "      <th>Team_Strength</th>\n",
       "      <th>Density</th>\n",
       "      <th>Impurity</th>\n",
       "      <th>Nodes</th>\n",
       "      <th>Edges</th>\n",
       "      <th>Label</th>\n",
       "      <th>Self_Activation_Status</th>\n",
       "    </tr>\n",
       "  </thead>\n",
       "  <tbody>\n",
       "    <tr>\n",
       "      <th>0</th>\n",
       "      <td>Density 20%_With Self Activation_Network_0</td>\n",
       "      <td>Team Size 1</td>\n",
       "      <td>0</td>\n",
       "      <td>0</td>\n",
       "      <td>0.777</td>\n",
       "      <td>0</td>\n",
       "      <td>0</td>\n",
       "      <td>Density 20%</td>\n",
       "      <td>0</td>\n",
       "      <td>0</td>\n",
       "      <td>0</td>\n",
       "      <td>5N_10E</td>\n",
       "      <td>With Self Activation</td>\n",
       "    </tr>\n",
       "    <tr>\n",
       "      <th>1</th>\n",
       "      <td>Density 20%_With Self Activation_Network_1</td>\n",
       "      <td>Team Size 1</td>\n",
       "      <td>0</td>\n",
       "      <td>0</td>\n",
       "      <td>0.664</td>\n",
       "      <td>0</td>\n",
       "      <td>0</td>\n",
       "      <td>Density 20%</td>\n",
       "      <td>0</td>\n",
       "      <td>0</td>\n",
       "      <td>0</td>\n",
       "      <td>5N_10E</td>\n",
       "      <td>With Self Activation</td>\n",
       "    </tr>\n",
       "    <tr>\n",
       "      <th>2</th>\n",
       "      <td>Density 20%_With Self Activation_Network_2</td>\n",
       "      <td>Team Size 1</td>\n",
       "      <td>0</td>\n",
       "      <td>0</td>\n",
       "      <td>0.513</td>\n",
       "      <td>0</td>\n",
       "      <td>0</td>\n",
       "      <td>Density 20%</td>\n",
       "      <td>0</td>\n",
       "      <td>0</td>\n",
       "      <td>0</td>\n",
       "      <td>5N_10E</td>\n",
       "      <td>With Self Activation</td>\n",
       "    </tr>\n",
       "    <tr>\n",
       "      <th>3</th>\n",
       "      <td>Density 20%_With Self Activation_Network_3</td>\n",
       "      <td>Team Size 1</td>\n",
       "      <td>0</td>\n",
       "      <td>0</td>\n",
       "      <td>0.513</td>\n",
       "      <td>0</td>\n",
       "      <td>0</td>\n",
       "      <td>Density 20%</td>\n",
       "      <td>0</td>\n",
       "      <td>0</td>\n",
       "      <td>0</td>\n",
       "      <td>5N_10E</td>\n",
       "      <td>With Self Activation</td>\n",
       "    </tr>\n",
       "    <tr>\n",
       "      <th>4</th>\n",
       "      <td>Density 20%_With Self Activation_Network_4</td>\n",
       "      <td>Team Size 1</td>\n",
       "      <td>0</td>\n",
       "      <td>0</td>\n",
       "      <td>0.518</td>\n",
       "      <td>0</td>\n",
       "      <td>0</td>\n",
       "      <td>Density 20%</td>\n",
       "      <td>0</td>\n",
       "      <td>0</td>\n",
       "      <td>0</td>\n",
       "      <td>5N_10E</td>\n",
       "      <td>With Self Activation</td>\n",
       "    </tr>\n",
       "    <tr>\n",
       "      <th>...</th>\n",
       "      <td>...</td>\n",
       "      <td>...</td>\n",
       "      <td>...</td>\n",
       "      <td>...</td>\n",
       "      <td>...</td>\n",
       "      <td>...</td>\n",
       "      <td>...</td>\n",
       "      <td>...</td>\n",
       "      <td>...</td>\n",
       "      <td>...</td>\n",
       "      <td>...</td>\n",
       "      <td>...</td>\n",
       "      <td>...</td>\n",
       "    </tr>\n",
       "    <tr>\n",
       "      <th>405</th>\n",
       "      <td>Density 100%_With Self Activation_Network_5</td>\n",
       "      <td>Team Size 1</td>\n",
       "      <td>0</td>\n",
       "      <td>0</td>\n",
       "      <td>0.850</td>\n",
       "      <td>0</td>\n",
       "      <td>0</td>\n",
       "      <td>Density 100%</td>\n",
       "      <td>0</td>\n",
       "      <td>0</td>\n",
       "      <td>0</td>\n",
       "      <td>5N_10E</td>\n",
       "      <td>With Self Activation</td>\n",
       "    </tr>\n",
       "    <tr>\n",
       "      <th>406</th>\n",
       "      <td>Density 100%_With Self Activation_Network_6</td>\n",
       "      <td>Team Size 1</td>\n",
       "      <td>0</td>\n",
       "      <td>0</td>\n",
       "      <td>0.858</td>\n",
       "      <td>0</td>\n",
       "      <td>0</td>\n",
       "      <td>Density 100%</td>\n",
       "      <td>0</td>\n",
       "      <td>0</td>\n",
       "      <td>0</td>\n",
       "      <td>5N_10E</td>\n",
       "      <td>With Self Activation</td>\n",
       "    </tr>\n",
       "    <tr>\n",
       "      <th>407</th>\n",
       "      <td>Density 100%_With Self Activation_Network_7</td>\n",
       "      <td>Team Size 1</td>\n",
       "      <td>0</td>\n",
       "      <td>0</td>\n",
       "      <td>0.867</td>\n",
       "      <td>0</td>\n",
       "      <td>0</td>\n",
       "      <td>Density 100%</td>\n",
       "      <td>0</td>\n",
       "      <td>0</td>\n",
       "      <td>0</td>\n",
       "      <td>5N_10E</td>\n",
       "      <td>With Self Activation</td>\n",
       "    </tr>\n",
       "    <tr>\n",
       "      <th>408</th>\n",
       "      <td>Density 100%_With Self Activation_Network_8</td>\n",
       "      <td>Team Size 1</td>\n",
       "      <td>0</td>\n",
       "      <td>0</td>\n",
       "      <td>0.852</td>\n",
       "      <td>0</td>\n",
       "      <td>0</td>\n",
       "      <td>Density 100%</td>\n",
       "      <td>0</td>\n",
       "      <td>0</td>\n",
       "      <td>0</td>\n",
       "      <td>5N_10E</td>\n",
       "      <td>With Self Activation</td>\n",
       "    </tr>\n",
       "    <tr>\n",
       "      <th>409</th>\n",
       "      <td>Density 100%_With Self Activation_Network_9</td>\n",
       "      <td>Team Size 1</td>\n",
       "      <td>0</td>\n",
       "      <td>0</td>\n",
       "      <td>0.847</td>\n",
       "      <td>0</td>\n",
       "      <td>0</td>\n",
       "      <td>Density 100%</td>\n",
       "      <td>0</td>\n",
       "      <td>0</td>\n",
       "      <td>0</td>\n",
       "      <td>5N_10E</td>\n",
       "      <td>With Self Activation</td>\n",
       "    </tr>\n",
       "  </tbody>\n",
       "</table>\n",
       "<p>410 rows × 13 columns</p>\n",
       "</div>"
      ],
      "text/plain": [
       "                                           index    Team_Size BiC A CC AB  \\\n",
       "0     Density 20%_With Self Activation_Network_0  Team Size 1     0     0   \n",
       "1     Density 20%_With Self Activation_Network_1  Team Size 1     0     0   \n",
       "2     Density 20%_With Self Activation_Network_2  Team Size 1     0     0   \n",
       "3     Density 20%_With Self Activation_Network_3  Team Size 1     0     0   \n",
       "4     Density 20%_With Self Activation_Network_4  Team Size 1     0     0   \n",
       "..                                           ...          ...   ...   ...   \n",
       "405  Density 100%_With Self Activation_Network_5  Team Size 1     0     0   \n",
       "406  Density 100%_With Self Activation_Network_6  Team Size 1     0     0   \n",
       "407  Density 100%_With Self Activation_Network_7  Team Size 1     0     0   \n",
       "408  Density 100%_With Self Activation_Network_8  Team Size 1     0     0   \n",
       "409  Density 100%_With Self Activation_Network_9  Team Size 1     0     0   \n",
       "\n",
       "        F1 F1_Individual_Nodes_Considered Team_Strength       Density  \\\n",
       "0    0.777                              0             0   Density 20%   \n",
       "1    0.664                              0             0   Density 20%   \n",
       "2    0.513                              0             0   Density 20%   \n",
       "3    0.513                              0             0   Density 20%   \n",
       "4    0.518                              0             0   Density 20%   \n",
       "..     ...                            ...           ...           ...   \n",
       "405  0.850                              0             0  Density 100%   \n",
       "406  0.858                              0             0  Density 100%   \n",
       "407  0.867                              0             0  Density 100%   \n",
       "408  0.852                              0             0  Density 100%   \n",
       "409  0.847                              0             0  Density 100%   \n",
       "\n",
       "    Impurity Nodes Edges   Label Self_Activation_Status  \n",
       "0          0     0     0  5N_10E   With Self Activation  \n",
       "1          0     0     0  5N_10E   With Self Activation  \n",
       "2          0     0     0  5N_10E   With Self Activation  \n",
       "3          0     0     0  5N_10E   With Self Activation  \n",
       "4          0     0     0  5N_10E   With Self Activation  \n",
       "..       ...   ...   ...     ...                    ...  \n",
       "405        0     0     0  5N_10E   With Self Activation  \n",
       "406        0     0     0  5N_10E   With Self Activation  \n",
       "407        0     0     0  5N_10E   With Self Activation  \n",
       "408        0     0     0  5N_10E   With Self Activation  \n",
       "409        0     0     0  5N_10E   With Self Activation  \n",
       "\n",
       "[410 rows x 13 columns]"
      ]
     },
     "execution_count": 84,
     "metadata": {},
     "output_type": "execute_result"
    }
   ],
   "source": [
    "import multiprocessing\n",
    "\n",
    "\n",
    "def process_parameter_set(parameters):\n",
    "    return BiC_CC_F1_team_strength(*parameters)\n",
    "\n",
    "if __name__ == \"__main__\":\n",
    "    # Define the number of cores\n",
    "    num_cores = 15\n",
    "\n",
    "    # Create a multiprocessing pool with the number of desired cores\n",
    "    pool = multiprocessing.Pool(processes=num_cores)\n",
    "\n",
    "    # Define the range of rp values to distribute among cores (0 to 99)\n",
    "    rp_range = range(100)\n",
    "\n",
    "    # Create a list of input parameter sets for each unique rp\n",
    "    parameter_sets = [ ('Density_20/Density_20_Network_10N_core'+str(rp)+'.topo', 1, 0, 0, '5N_10E',2,'With Self Activation','Density 20%', rp) for rp in rp_range] \n",
    "    parameter_sets.extend([ ('Density_40/Density_40_Network_10N_core'+str(rp)+'.topo', 1, 0, 0, '5N_10E',2,'With Self Activation','Density 40%', rp) for rp in rp_range] )\n",
    "    parameter_sets.extend([ ('Density_60/Density_60_Network_10N_core'+str(rp)+'.topo', 1, 0, 0, '5N_10E',2,'With Self Activation', 'Density 60%',rp) for rp in rp_range] )\n",
    "    parameter_sets.extend([ ('Density_80/Density_80_Network_10N_core'+str(rp)+'.topo', 1, 0, 0, '5N_10E',2,'With Self Activation','Density 80%', rp) for rp in rp_range] )\n",
    "    parameter_sets.extend([ ('Density_100/Density_100_Network_10N_core'+str(rp)+'.topo', 1, 0, 0, '5N_10E',2,'With Self Activation', 'Density 100%',rp) for rp in range(10)] )\n",
    "    \n",
    "\n",
    "\n",
    "    # Use the pool.map() function to parallelize the processing for each unique rp\n",
    "    results = pool.map(process_parameter_set, parameter_sets)\n",
    "\n",
    "    # Close the pool to release resources\n",
    "    pool.close()\n",
    "    pool.join()\n",
    "\n",
    "    # Merge the DataFrames into a single DataFrame\n",
    "    melt_table_complete_run = pd.concat(results, ignore_index=True)\n",
    "    melt_table_complete=pd.concat([melt_table_complete,melt_table_complete_run])\n",
    "    # Now you have a single DataFrame \"melt_table_complete\" with all the results\n",
    "#print(parameter_sets)\n",
    "melt_table_complete"
   ]
  },
  {
   "cell_type": "code",
   "execution_count": 85,
   "metadata": {},
   "outputs": [
    {
     "name": "stderr",
     "output_type": "stream",
     "text": [
      "Processing: 100%|██████████| 1000/1000 [00:07<00:00, 132.91it/s]\n"
     ]
    },
    {
     "name": "stdout",
     "output_type": "stream",
     "text": [
      "1000"
     ]
    },
    {
     "name": "stderr",
     "output_type": "stream",
     "text": [
      "Processing:  58%|█████▊    | 584/1000 [00:03<00:03, 135.49it/s]"
     ]
    },
    {
     "name": "stdout",
     "output_type": "stream",
     "text": [
      "\n"
     ]
    },
    {
     "name": "stderr",
     "output_type": "stream",
     "text": [
      "Processing:  97%|█████████▋| 968/1000 [00:06<00:00, 141.00it/s]/tmp/ipykernel_5868/396412543.py:40: FutureWarning: In a future version, `df.iloc[:, i] = newvals` will attempt to set the values inplace instead of always setting a new array. To retain the old behavior, use either `df[df.columns[i]] = newvals` or, if columns are non-unique, `df.isetitem(i, newvals)`\n",
      "  temp_table_complete.loc[:,'F1']=F1_list\n",
      "Processing:  78%|███████▊  | 781/1000 [00:04<00:01, 159.93it/s]"
     ]
    },
    {
     "name": "stdout",
     "output_type": "stream",
     "text": [
      "32\n",
      "Density_80_no_self/Density_80_Network_10N_core_no_self32.topo\n"
     ]
    },
    {
     "name": "stderr",
     "output_type": "stream",
     "text": [
      "Processing: 100%|██████████| 1000/1000 [00:06<00:00, 165.74it/s]\n",
      "Processing:  60%|██████    | 600/1000 [00:03<00:02, 141.12it/s]"
     ]
    },
    {
     "name": "stdout",
     "output_type": "stream",
     "text": [
      "1000\n"
     ]
    },
    {
     "name": "stderr",
     "output_type": "stream",
     "text": [
      "Processing: 100%|██████████| 1000/1000 [00:06<00:00, 157.07it/s]/tmp/ipykernel_5868/396412543.py:40: FutureWarning: In a future version, `df.iloc[:, i] = newvals` will attempt to set the values inplace instead of always setting a new array. To retain the old behavior, use either `df[df.columns[i]] = newvals` or, if columns are non-unique, `df.isetitem(i, newvals)`\n",
      "  temp_table_complete.loc[:,'F1']=F1_list\n",
      "\n"
     ]
    },
    {
     "name": "stdout",
     "output_type": "stream",
     "text": [
      "671000\n"
     ]
    },
    {
     "name": "stderr",
     "output_type": "stream",
     "text": [
      "/tmp/ipykernel_5868/396412543.py:40: FutureWarning: In a future version, `df.iloc[:, i] = newvals` will attempt to set the values inplace instead of always setting a new array. To retain the old behavior, use either `df[df.columns[i]] = newvals` or, if columns are non-unique, `df.isetitem(i, newvals)`\n",
      "  temp_table_complete.loc[:,'F1']=F1_list\n"
     ]
    },
    {
     "name": "stdout",
     "output_type": "stream",
     "text": [
      "46\n",
      "\n",
      "Density_80_no_self/Density_80_Network_10N_core_no_self46.topo"
     ]
    },
    {
     "name": "stderr",
     "output_type": "stream",
     "text": [
      "Processing:  80%|███████▉  | 798/1000 [00:05<00:01, 159.35it/s]"
     ]
    },
    {
     "name": "stdout",
     "output_type": "stream",
     "text": [
      "Density_80_no_self/Density_80_Network_10N_core_no_self67.topo\n"
     ]
    },
    {
     "name": "stderr",
     "output_type": "stream",
     "text": [
      "Processing:  39%|███▊      | 387/1000 [00:02<00:04, 132.70it/s]"
     ]
    },
    {
     "name": "stdout",
     "output_type": "stream",
     "text": [
      "\n"
     ]
    },
    {
     "name": "stderr",
     "output_type": "stream",
     "text": [
      "Processing: 100%|██████████| 1000/1000 [00:06<00:00, 151.73it/s]\n",
      "Processing: 100%|██████████| 1000/1000 [00:07<00:00, 142.58it/s]"
     ]
    },
    {
     "name": "stdout",
     "output_type": "stream",
     "text": [
      "1000"
     ]
    },
    {
     "name": "stderr",
     "output_type": "stream",
     "text": [
      "\n"
     ]
    },
    {
     "name": "stdout",
     "output_type": "stream",
     "text": [
      "\n",
      "1000\n"
     ]
    },
    {
     "name": "stderr",
     "output_type": "stream",
     "text": [
      "Processing:  46%|████▌     | 461/1000 [00:03<00:03, 135.71it/s]"
     ]
    },
    {
     "name": "stdout",
     "output_type": "stream",
     "text": [
      "39\n",
      "53\n"
     ]
    },
    {
     "name": "stderr",
     "output_type": "stream",
     "text": [
      "Processing:  35%|███▍      | 349/1000 [00:02<00:04, 140.45it/s]"
     ]
    },
    {
     "name": "stdout",
     "output_type": "stream",
     "text": [
      "Density_80_no_self/Density_80_Network_10N_core_no_self39.topo\n",
      "Density_80_no_self/Density_80_Network_10N_core_no_self53.topo\n"
     ]
    },
    {
     "name": "stderr",
     "output_type": "stream",
     "text": [
      "Processing:  40%|███▉      | 396/1000 [00:02<00:04, 137.57it/s]]\n"
     ]
    },
    {
     "name": "stdout",
     "output_type": "stream",
     "text": [
      "1000\n"
     ]
    },
    {
     "name": "stderr",
     "output_type": "stream",
     "text": [
      "Processing:  48%|████▊     | 477/1000 [00:03<00:03, 139.20it/s]/tmp/ipykernel_5868/396412543.py:40: FutureWarning: In a future version, `df.iloc[:, i] = newvals` will attempt to set the values inplace instead of always setting a new array. To retain the old behavior, use either `df[df.columns[i]] = newvals` or, if columns are non-unique, `df.isetitem(i, newvals)`\n",
      "  temp_table_complete.loc[:,'F1']=F1_list\n"
     ]
    },
    {
     "name": "stdout",
     "output_type": "stream",
     "text": [
      "74\n"
     ]
    },
    {
     "name": "stderr",
     "output_type": "stream",
     "text": [
      "Processing:  37%|███▋      | 366/1000 [00:02<00:04, 145.72it/s]"
     ]
    },
    {
     "name": "stdout",
     "output_type": "stream",
     "text": [
      "Density_80_no_self/Density_80_Network_10N_core_no_self74.topo\n"
     ]
    },
    {
     "name": "stderr",
     "output_type": "stream",
     "text": [
      "Processing: 100%|██████████| 1000/1000 [00:06<00:00, 149.49it/s]\n"
     ]
    },
    {
     "name": "stdout",
     "output_type": "stream",
     "text": [
      "1000\n"
     ]
    },
    {
     "name": "stderr",
     "output_type": "stream",
     "text": [
      "/tmp/ipykernel_5868/396412543.py:40: FutureWarning: In a future version, `df.iloc[:, i] = newvals` will attempt to set the values inplace instead of always setting a new array. To retain the old behavior, use either `df[df.columns[i]] = newvals` or, if columns are non-unique, `df.isetitem(i, newvals)`\n",
      "  temp_table_complete.loc[:,'F1']=F1_list\n"
     ]
    },
    {
     "name": "stdout",
     "output_type": "stream",
     "text": [
      "60\n"
     ]
    },
    {
     "name": "stderr",
     "output_type": "stream",
     "text": [
      "Processing:   5%|▍         | 48/1000 [00:00<00:05, 161.52it/s]"
     ]
    },
    {
     "name": "stdout",
     "output_type": "stream",
     "text": [
      "Density_80_no_self/Density_80_Network_10N_core_no_self60.topo"
     ]
    },
    {
     "name": "stderr",
     "output_type": "stream",
     "text": [
      "Processing:   4%|▎         | 36/1000 [00:00<00:05, 173.01it/s]"
     ]
    },
    {
     "name": "stdout",
     "output_type": "stream",
     "text": [
      "\n"
     ]
    },
    {
     "name": "stderr",
     "output_type": "stream",
     "text": [
      "Processing:  17%|█▋        | 168/1000 [00:01<00:04, 176.92it/s]]\n"
     ]
    },
    {
     "name": "stdout",
     "output_type": "stream",
     "text": [
      "1000\n"
     ]
    },
    {
     "name": "stderr",
     "output_type": "stream",
     "text": [
      "Processing:  18%|█▊        | 180/1000 [00:01<00:05, 153.94it/s]"
     ]
    },
    {
     "name": "stdout",
     "output_type": "stream",
     "text": [
      "88\n"
     ]
    },
    {
     "name": "stderr",
     "output_type": "stream",
     "text": [
      "Processing:  94%|█████████▎| 935/1000 [00:06<00:00, 139.27it/s]"
     ]
    },
    {
     "name": "stdout",
     "output_type": "stream",
     "text": [
      "Density_80_no_self/Density_80_Network_10N_core_no_self88.topo\n"
     ]
    },
    {
     "name": "stderr",
     "output_type": "stream",
     "text": [
      "Processing: 100%|██████████| 1000/1000 [00:06<00:00, 152.08it/s]\n",
      "Processing:  60%|██████    | 605/1000 [00:04<00:03, 131.04it/s]"
     ]
    },
    {
     "name": "stdout",
     "output_type": "stream",
     "text": [
      "1000\n",
      "81"
     ]
    },
    {
     "name": "stderr",
     "output_type": "stream",
     "text": [
      "Processing:  26%|██▌       | 259/1000 [00:01<00:03, 202.21it/s]"
     ]
    },
    {
     "name": "stdout",
     "output_type": "stream",
     "text": [
      "\n",
      "Density_80_no_self/Density_80_Network_10N_core_no_self81.topo\n"
     ]
    },
    {
     "name": "stderr",
     "output_type": "stream",
     "text": [
      "Processing:  35%|███▍      | 346/1000 [00:01<00:03, 206.13it/s]]\n"
     ]
    },
    {
     "name": "stdout",
     "output_type": "stream",
     "text": [
      "1000\n",
      "95"
     ]
    },
    {
     "name": "stderr",
     "output_type": "stream",
     "text": [
      "Processing:  83%|████████▎ | 826/1000 [00:05<00:00, 201.06it/s]"
     ]
    },
    {
     "name": "stdout",
     "output_type": "stream",
     "text": [
      "\n",
      "Density_80_no_self/Density_80_Network_10N_core_no_self95.topo\n"
     ]
    },
    {
     "name": "stderr",
     "output_type": "stream",
     "text": [
      "Processing: 100%|██████████| 1000/1000 [00:06<00:00, 160.34it/s]\n"
     ]
    },
    {
     "name": "stdout",
     "output_type": "stream",
     "text": [
      "1000\n",
      "19\n",
      "Density_80_no_self/Density_80_Network_10N_core_no_self19.topo\n"
     ]
    },
    {
     "name": "stderr",
     "output_type": "stream",
     "text": [
      "Processing: 100%|██████████| 1000/1000 [00:05<00:00, 174.13it/s]\n"
     ]
    },
    {
     "name": "stdout",
     "output_type": "stream",
     "text": [
      "1000\n"
     ]
    },
    {
     "name": "stderr",
     "output_type": "stream",
     "text": [
      "Processing:  55%|█████▌    | 551/1000 [00:03<00:02, 192.10it/s]/tmp/ipykernel_5868/396412543.py:40: FutureWarning: In a future version, `df.iloc[:, i] = newvals` will attempt to set the values inplace instead of always setting a new array. To retain the old behavior, use either `df[df.columns[i]] = newvals` or, if columns are non-unique, `df.isetitem(i, newvals)`\n",
      "  temp_table_complete.loc[:,'F1']=F1_list\n"
     ]
    },
    {
     "name": "stdout",
     "output_type": "stream",
     "text": [
      "26\n"
     ]
    },
    {
     "name": "stderr",
     "output_type": "stream",
     "text": [
      "Processing:  57%|█████▋    | 572/1000 [00:03<00:02, 149.47it/s]"
     ]
    },
    {
     "name": "stdout",
     "output_type": "stream",
     "text": [
      "Density_80_no_self/Density_80_Network_10N_core_no_self26.topo\n"
     ]
    },
    {
     "name": "stderr",
     "output_type": "stream",
     "text": [
      "Processing: 100%|██████████| 1000/1000 [00:05<00:00, 174.74it/s]\n"
     ]
    },
    {
     "name": "stdout",
     "output_type": "stream",
     "text": [
      "1000\n"
     ]
    },
    {
     "name": "stderr",
     "output_type": "stream",
     "text": [
      "/tmp/ipykernel_5868/396412543.py:40: FutureWarning: In a future version, `df.iloc[:, i] = newvals` will attempt to set the values inplace instead of always setting a new array. To retain the old behavior, use either `df[df.columns[i]] = newvals` or, if columns are non-unique, `df.isetitem(i, newvals)`\n",
      "  temp_table_complete.loc[:,'F1']=F1_list\n",
      "Processing:   8%|▊         | 80/1000 [00:00<00:05, 156.07it/s]"
     ]
    },
    {
     "name": "stdout",
     "output_type": "stream",
     "text": [
      "2"
     ]
    },
    {
     "name": "stderr",
     "output_type": "stream",
     "text": [
      "Processing:  49%|████▉     | 492/1000 [00:03<00:03, 150.03it/s]"
     ]
    },
    {
     "name": "stdout",
     "output_type": "stream",
     "text": [
      "\n"
     ]
    },
    {
     "name": "stderr",
     "output_type": "stream",
     "text": [
      "Processing:  57%|█████▋    | 571/1000 [00:03<00:02, 168.51it/s]"
     ]
    },
    {
     "name": "stdout",
     "output_type": "stream",
     "text": [
      "Density_100_no_self/Density_100_Network_10N_core_no_self2.topo\n"
     ]
    },
    {
     "name": "stderr",
     "output_type": "stream",
     "text": [
      "Processing:  38%|███▊      | 375/1000 [00:01<00:03, 204.86it/s]]\n",
      "Processing:  68%|██████▊   | 685/1000 [00:03<00:01, 206.00it/s]"
     ]
    },
    {
     "name": "stdout",
     "output_type": "stream",
     "text": [
      "1000\n"
     ]
    },
    {
     "name": "stderr",
     "output_type": "stream",
     "text": [
      "Processing:   5%|▌         | 54/1000 [00:00<00:06, 150.84it/s]/tmp/ipykernel_5868/396412543.py:40: FutureWarning: In a future version, `df.iloc[:, i] = newvals` will attempt to set the values inplace instead of always setting a new array. To retain the old behavior, use either `df[df.columns[i]] = newvals` or, if columns are non-unique, `df.isetitem(i, newvals)`\n",
      "  temp_table_complete.loc[:,'F1']=F1_list\n"
     ]
    },
    {
     "name": "stdout",
     "output_type": "stream",
     "text": [
      "9\n",
      "Density_100_no_self/Density_100_Network_10N_core_no_self9.topo\n"
     ]
    },
    {
     "name": "stderr",
     "output_type": "stream",
     "text": [
      "Processing: 100%|██████████| 1000/1000 [00:04<00:00, 219.35it/s]\n"
     ]
    },
    {
     "name": "stdout",
     "output_type": "stream",
     "text": [
      "1000\n"
     ]
    },
    {
     "name": "stderr",
     "output_type": "stream",
     "text": [
      "/tmp/ipykernel_5868/396412543.py:40: FutureWarning: In a future version, `df.iloc[:, i] = newvals` will attempt to set the values inplace instead of always setting a new array. To retain the old behavior, use either `df[df.columns[i]] = newvals` or, if columns are non-unique, `df.isetitem(i, newvals)`\n",
      "  temp_table_complete.loc[:,'F1']=F1_list\n"
     ]
    },
    {
     "name": "stdout",
     "output_type": "stream",
     "text": [
      "47\n",
      "Density_80_no_self/Density_80_Network_10N_core_no_self47.topo\n"
     ]
    },
    {
     "name": "stderr",
     "output_type": "stream",
     "text": [
      "Processing: 100%|██████████| 1000/1000 [00:04<00:00, 218.38it/s]\n"
     ]
    },
    {
     "name": "stdout",
     "output_type": "stream",
     "text": [
      "1000\n"
     ]
    },
    {
     "name": "stderr",
     "output_type": "stream",
     "text": [
      "Processing:  62%|██████▏   | 617/1000 [00:03<00:02, 160.65it/s]/tmp/ipykernel_5868/396412543.py:40: FutureWarning: In a future version, `df.iloc[:, i] = newvals` will attempt to set the values inplace instead of always setting a new array. To retain the old behavior, use either `df[df.columns[i]] = newvals` or, if columns are non-unique, `df.isetitem(i, newvals)`\n",
      "  temp_table_complete.loc[:,'F1']=F1_list\n",
      "Processing:  91%|█████████ | 907/1000 [00:04<00:00, 154.10it/s]"
     ]
    },
    {
     "name": "stdout",
     "output_type": "stream",
     "text": [
      "75\n"
     ]
    },
    {
     "name": "stderr",
     "output_type": "stream",
     "text": [
      "Processing:   4%|▍         | 42/1000 [00:00<00:04, 205.16it/s]"
     ]
    },
    {
     "name": "stdout",
     "output_type": "stream",
     "text": [
      "Density_80_no_self/Density_80_Network_10N_core_no_self75.topo\n"
     ]
    },
    {
     "name": "stderr",
     "output_type": "stream",
     "text": [
      "Processing: 100%|██████████| 1000/1000 [00:05<00:00, 185.32it/s]\n"
     ]
    },
    {
     "name": "stdout",
     "output_type": "stream",
     "text": [
      "1000\n"
     ]
    },
    {
     "name": "stderr",
     "output_type": "stream",
     "text": [
      "/tmp/ipykernel_5868/396412543.py:40: FutureWarning: In a future version, `df.iloc[:, i] = newvals` will attempt to set the values inplace instead of always setting a new array. To retain the old behavior, use either `df[df.columns[i]] = newvals` or, if columns are non-unique, `df.isetitem(i, newvals)`\n",
      "  temp_table_complete.loc[:,'F1']=F1_list\n",
      "Processing:  11%|█▏        | 114/1000 [00:00<00:03, 254.96it/s]"
     ]
    },
    {
     "name": "stdout",
     "output_type": "stream",
     "text": [
      "33\n"
     ]
    },
    {
     "name": "stderr",
     "output_type": "stream",
     "text": [
      "Processing:  85%|████████▍ | 846/1000 [00:05<00:00, 176.26it/s]"
     ]
    },
    {
     "name": "stdout",
     "output_type": "stream",
     "text": [
      "Density_80_no_self/Density_80_Network_10N_core_no_self33.topo\n"
     ]
    },
    {
     "name": "stderr",
     "output_type": "stream",
     "text": [
      "Processing: 100%|██████████| 1000/1000 [00:05<00:00, 184.84it/s]\n"
     ]
    },
    {
     "name": "stdout",
     "output_type": "stream",
     "text": [
      "1000\n",
      "40\n"
     ]
    },
    {
     "name": "stderr",
     "output_type": "stream",
     "text": [
      "Processing:  99%|█████████▉| 993/1000 [00:05<00:00, 236.67it/s]"
     ]
    },
    {
     "name": "stdout",
     "output_type": "stream",
     "text": [
      "Density_80_no_self/Density_80_Network_10N_core_no_self40.topo\n"
     ]
    },
    {
     "name": "stderr",
     "output_type": "stream",
     "text": [
      "Processing:  23%|██▎       | 234/1000 [00:00<00:02, 259.09it/s]]\n",
      "Processing:  90%|████████▉ | 895/1000 [00:05<00:00, 176.63it/s]"
     ]
    },
    {
     "name": "stdout",
     "output_type": "stream",
     "text": [
      "1000"
     ]
    },
    {
     "name": "stderr",
     "output_type": "stream",
     "text": [
      "Processing:  41%|████      | 407/1000 [00:02<00:03, 170.99it/s]"
     ]
    },
    {
     "name": "stdout",
     "output_type": "stream",
     "text": [
      "\n",
      "54"
     ]
    },
    {
     "name": "stderr",
     "output_type": "stream",
     "text": [
      "Processing:   1%|▏         | 13/1000 [00:00<00:07, 126.94it/s]"
     ]
    },
    {
     "name": "stdout",
     "output_type": "stream",
     "text": [
      "\n"
     ]
    },
    {
     "name": "stderr",
     "output_type": "stream",
     "text": [
      "Processing:  99%|█████████▊| 986/1000 [00:05<00:00, 139.64it/s]"
     ]
    },
    {
     "name": "stdout",
     "output_type": "stream",
     "text": [
      "Density_80_no_self/Density_80_Network_10N_core_no_self54.topo\n"
     ]
    },
    {
     "name": "stderr",
     "output_type": "stream",
     "text": [
      "Processing: 100%|██████████| 1000/1000 [00:05<00:00, 174.14it/s]\n"
     ]
    },
    {
     "name": "stdout",
     "output_type": "stream",
     "text": [
      "1000\n"
     ]
    },
    {
     "name": "stderr",
     "output_type": "stream",
     "text": [
      "Processing:   4%|▎         | 35/1000 [00:00<00:05, 177.64it/s]/tmp/ipykernel_5868/396412543.py:40: FutureWarning: In a future version, `df.iloc[:, i] = newvals` will attempt to set the values inplace instead of always setting a new array. To retain the old behavior, use either `df[df.columns[i]] = newvals` or, if columns are non-unique, `df.isetitem(i, newvals)`\n",
      "  temp_table_complete.loc[:,'F1']=F1_list\n"
     ]
    },
    {
     "name": "stdout",
     "output_type": "stream",
     "text": [
      "68\n",
      "Density_80_no_self/Density_80_Network_10N_core_no_self68.topo\n"
     ]
    },
    {
     "name": "stderr",
     "output_type": "stream",
     "text": [
      "Processing:  26%|██▋       | 264/1000 [00:01<00:03, 185.29it/s]]\n"
     ]
    },
    {
     "name": "stdout",
     "output_type": "stream",
     "text": [
      "1000"
     ]
    },
    {
     "name": "stderr",
     "output_type": "stream",
     "text": [
      "Processing:  10%|█         | 102/1000 [00:00<00:03, 234.39it/s]"
     ]
    },
    {
     "name": "stdout",
     "output_type": "stream",
     "text": [
      "\n"
     ]
    },
    {
     "name": "stderr",
     "output_type": "stream",
     "text": [
      "Processing:  96%|█████████▌| 960/1000 [00:05<00:00, 135.19it/s]"
     ]
    },
    {
     "name": "stdout",
     "output_type": "stream",
     "text": [
      "61"
     ]
    },
    {
     "name": "stderr",
     "output_type": "stream",
     "text": [
      "Processing:  11%|█         | 107/1000 [00:00<00:05, 161.28it/s]"
     ]
    },
    {
     "name": "stdout",
     "output_type": "stream",
     "text": [
      "\n"
     ]
    },
    {
     "name": "stderr",
     "output_type": "stream",
     "text": [
      "Processing:  20%|█▉        | 196/1000 [00:00<00:03, 214.41it/s]"
     ]
    },
    {
     "name": "stdout",
     "output_type": "stream",
     "text": [
      "Density_80_no_self/Density_80_Network_10N_core_no_self61.topo\n"
     ]
    },
    {
     "name": "stderr",
     "output_type": "stream",
     "text": [
      "Processing: 100%|██████████| 1000/1000 [00:05<00:00, 187.51it/s]\n"
     ]
    },
    {
     "name": "stdout",
     "output_type": "stream",
     "text": [
      "1000\n"
     ]
    },
    {
     "name": "stderr",
     "output_type": "stream",
     "text": [
      "/tmp/ipykernel_5868/396412543.py:40: FutureWarning: In a future version, `df.iloc[:, i] = newvals` will attempt to set the values inplace instead of always setting a new array. To retain the old behavior, use either `df[df.columns[i]] = newvals` or, if columns are non-unique, `df.isetitem(i, newvals)`\n",
      "  temp_table_complete.loc[:,'F1']=F1_list\n"
     ]
    },
    {
     "name": "stdout",
     "output_type": "stream",
     "text": [
      "89\n"
     ]
    },
    {
     "name": "stderr",
     "output_type": "stream",
     "text": [
      "Processing:  24%|██▎       | 237/1000 [00:01<00:04, 161.05it/s]"
     ]
    },
    {
     "name": "stdout",
     "output_type": "stream",
     "text": [
      "Density_80_no_self/Density_80_Network_10N_core_no_self89.topo\n"
     ]
    },
    {
     "name": "stderr",
     "output_type": "stream",
     "text": [
      "Processing: 100%|██████████| 1000/1000 [00:05<00:00, 186.70it/s]\n",
      "Processing:  67%|██████▋   | 667/1000 [00:03<00:01, 189.98it/s]"
     ]
    },
    {
     "name": "stdout",
     "output_type": "stream",
     "text": [
      "1000\n"
     ]
    },
    {
     "name": "stderr",
     "output_type": "stream",
     "text": [
      "Processing:  34%|███▎      | 337/1000 [00:01<00:03, 218.66it/s]"
     ]
    },
    {
     "name": "stdout",
     "output_type": "stream",
     "text": [
      "82\n"
     ]
    },
    {
     "name": "stderr",
     "output_type": "stream",
     "text": [
      "Processing:  71%|███████   | 711/1000 [00:03<00:01, 218.56it/s]"
     ]
    },
    {
     "name": "stdout",
     "output_type": "stream",
     "text": [
      "Density_80_no_self/Density_80_Network_10N_core_no_self82.topo\n"
     ]
    },
    {
     "name": "stderr",
     "output_type": "stream",
     "text": [
      "Processing: 100%|██████████| 1000/1000 [00:05<00:00, 198.52it/s]\n"
     ]
    },
    {
     "name": "stdout",
     "output_type": "stream",
     "text": [
      "1000\n"
     ]
    },
    {
     "name": "stderr",
     "output_type": "stream",
     "text": [
      "Processing:  74%|███████▍  | 739/1000 [00:03<00:01, 235.39it/s]"
     ]
    },
    {
     "name": "stdout",
     "output_type": "stream",
     "text": [
      "96\n"
     ]
    },
    {
     "name": "stderr",
     "output_type": "stream",
     "text": [
      "Processing:   2%|▏         | 19/1000 [00:00<00:05, 188.83it/s]]"
     ]
    },
    {
     "name": "stdout",
     "output_type": "stream",
     "text": [
      "Density_80_no_self/Density_80_Network_10N_core_no_self96.topo"
     ]
    },
    {
     "name": "stderr",
     "output_type": "stream",
     "text": [
      "Processing:  27%|██▋       | 271/1000 [00:01<00:03, 188.98it/s]"
     ]
    },
    {
     "name": "stdout",
     "output_type": "stream",
     "text": [
      "\n"
     ]
    },
    {
     "name": "stderr",
     "output_type": "stream",
     "text": [
      "Processing: 100%|██████████| 1000/1000 [00:05<00:00, 192.68it/s]\n"
     ]
    },
    {
     "name": "stdout",
     "output_type": "stream",
     "text": [
      "1000\n"
     ]
    },
    {
     "name": "stderr",
     "output_type": "stream",
     "text": [
      "/tmp/ipykernel_5868/396412543.py:40: FutureWarning: In a future version, `df.iloc[:, i] = newvals` will attempt to set the values inplace instead of always setting a new array. To retain the old behavior, use either `df[df.columns[i]] = newvals` or, if columns are non-unique, `df.isetitem(i, newvals)`\n",
      "  temp_table_complete.loc[:,'F1']=F1_list\n"
     ]
    },
    {
     "name": "stdout",
     "output_type": "stream",
     "text": [
      "20\n"
     ]
    },
    {
     "name": "stderr",
     "output_type": "stream",
     "text": [
      "Processing:  80%|███████▉  | 797/1000 [00:04<00:00, 232.01it/s]"
     ]
    },
    {
     "name": "stdout",
     "output_type": "stream",
     "text": [
      "Density_80_no_self/Density_80_Network_10N_core_no_self20.topo\n"
     ]
    },
    {
     "name": "stderr",
     "output_type": "stream",
     "text": [
      "Processing: 100%|██████████| 1000/1000 [00:05<00:00, 191.92it/s]\n"
     ]
    },
    {
     "name": "stdout",
     "output_type": "stream",
     "text": [
      "1000\n"
     ]
    },
    {
     "name": "stderr",
     "output_type": "stream",
     "text": [
      "/tmp/ipykernel_5868/396412543.py:40: FutureWarning: In a future version, `df.iloc[:, i] = newvals` will attempt to set the values inplace instead of always setting a new array. To retain the old behavior, use either `df[df.columns[i]] = newvals` or, if columns are non-unique, `df.isetitem(i, newvals)`\n",
      "  temp_table_complete.loc[:,'F1']=F1_list\n"
     ]
    },
    {
     "name": "stdout",
     "output_type": "stream",
     "text": [
      "3"
     ]
    },
    {
     "name": "stderr",
     "output_type": "stream",
     "text": [
      "Processing:  56%|█████▌    | 556/1000 [00:03<00:02, 184.54it/s]"
     ]
    },
    {
     "name": "stdout",
     "output_type": "stream",
     "text": [
      "\n",
      "Density_100_no_self/Density_100_Network_10N_core_no_self3.topo\n"
     ]
    },
    {
     "name": "stderr",
     "output_type": "stream",
     "text": [
      "Processing: 100%|██████████| 1000/1000 [00:05<00:00, 184.82it/s]\n"
     ]
    },
    {
     "name": "stdout",
     "output_type": "stream",
     "text": [
      "1000\n"
     ]
    },
    {
     "name": "stderr",
     "output_type": "stream",
     "text": [
      "/tmp/ipykernel_5868/396412543.py:40: FutureWarning: In a future version, `df.iloc[:, i] = newvals` will attempt to set the values inplace instead of always setting a new array. To retain the old behavior, use either `df[df.columns[i]] = newvals` or, if columns are non-unique, `df.isetitem(i, newvals)`\n",
      "  temp_table_complete.loc[:,'F1']=F1_list\n"
     ]
    },
    {
     "name": "stdout",
     "output_type": "stream",
     "text": [
      "27\n",
      "Density_80_no_self/Density_80_Network_10N_core_no_self27.topo\n"
     ]
    },
    {
     "name": "stderr",
     "output_type": "stream",
     "text": [
      "Processing: 100%|██████████| 1000/1000 [00:05<00:00, 186.37it/s]\n"
     ]
    },
    {
     "name": "stdout",
     "output_type": "stream",
     "text": [
      "1000\n"
     ]
    },
    {
     "name": "stderr",
     "output_type": "stream",
     "text": [
      "/tmp/ipykernel_5868/396412543.py:40: FutureWarning: In a future version, `df.iloc[:, i] = newvals` will attempt to set the values inplace instead of always setting a new array. To retain the old behavior, use either `df[df.columns[i]] = newvals` or, if columns are non-unique, `df.isetitem(i, newvals)`\n",
      "  temp_table_complete.loc[:,'F1']=F1_list\n",
      "Processing: 100%|██████████| 1000/1000 [00:05<00:00, 199.68it/s]\n",
      "Processing:  75%|███████▌  | 752/1000 [00:03<00:01, 161.16it/s]"
     ]
    },
    {
     "name": "stdout",
     "output_type": "stream",
     "text": [
      "1000\n"
     ]
    },
    {
     "name": "stderr",
     "output_type": "stream",
     "text": [
      "/tmp/ipykernel_5868/396412543.py:40: FutureWarning: In a future version, `df.iloc[:, i] = newvals` will attempt to set the values inplace instead of always setting a new array. To retain the old behavior, use either `df[df.columns[i]] = newvals` or, if columns are non-unique, `df.isetitem(i, newvals)`\n",
      "  temp_table_complete.loc[:,'F1']=F1_list\n"
     ]
    },
    {
     "name": "stdout",
     "output_type": "stream",
     "text": [
      "48"
     ]
    },
    {
     "name": "stderr",
     "output_type": "stream",
     "text": [
      "Processing:  85%|████████▌ | 852/1000 [00:04<00:00, 166.35it/s]"
     ]
    },
    {
     "name": "stdout",
     "output_type": "stream",
     "text": [
      "\n",
      "Density_80_no_self/Density_80_Network_10N_core_no_self48.topo\n"
     ]
    },
    {
     "name": "stderr",
     "output_type": "stream",
     "text": [
      "Processing: 100%|██████████| 1000/1000 [00:04<00:00, 201.19it/s]\n"
     ]
    },
    {
     "name": "stdout",
     "output_type": "stream",
     "text": [
      "1000\n"
     ]
    },
    {
     "name": "stderr",
     "output_type": "stream",
     "text": [
      "/tmp/ipykernel_5868/396412543.py:40: FutureWarning: In a future version, `df.iloc[:, i] = newvals` will attempt to set the values inplace instead of always setting a new array. To retain the old behavior, use either `df[df.columns[i]] = newvals` or, if columns are non-unique, `df.isetitem(i, newvals)`\n",
      "  temp_table_complete.loc[:,'F1']=F1_list\n",
      "Processing:  60%|█████▉    | 595/1000 [00:03<00:02, 188.45it/s]"
     ]
    },
    {
     "name": "stdout",
     "output_type": "stream",
     "text": [
      "76\n",
      "Density_80_no_self/Density_80_Network_10N_core_no_self76.topo\n"
     ]
    },
    {
     "name": "stderr",
     "output_type": "stream",
     "text": [
      "Processing: 100%|██████████| 1000/1000 [00:05<00:00, 194.41it/s]\n"
     ]
    },
    {
     "name": "stdout",
     "output_type": "stream",
     "text": [
      "1000\n",
      "34\n",
      "Density_80_no_self/Density_80_Network_10N_core_no_self34.topo\n"
     ]
    },
    {
     "name": "stderr",
     "output_type": "stream",
     "text": [
      "Processing: 100%|██████████| 1000/1000 [00:05<00:00, 191.89it/s]\n"
     ]
    },
    {
     "name": "stdout",
     "output_type": "stream",
     "text": [
      "1000\n",
      "55\n",
      "Density_80_no_self/Density_80_Network_10N_core_no_self55.topo\n"
     ]
    },
    {
     "name": "stderr",
     "output_type": "stream",
     "text": [
      "Processing: 100%|██████████| 1000/1000 [00:05<00:00, 194.12it/s]\n",
      "Processing:   8%|▊         | 83/1000 [00:00<00:04, 199.63it/s]"
     ]
    },
    {
     "name": "stdout",
     "output_type": "stream",
     "text": [
      "1000\n"
     ]
    },
    {
     "name": "stderr",
     "output_type": "stream",
     "text": [
      "/tmp/ipykernel_5868/396412543.py:40: FutureWarning: In a future version, `df.iloc[:, i] = newvals` will attempt to set the values inplace instead of always setting a new array. To retain the old behavior, use either `df[df.columns[i]] = newvals` or, if columns are non-unique, `df.isetitem(i, newvals)`\n",
      "  temp_table_complete.loc[:,'F1']=F1_list\n"
     ]
    },
    {
     "name": "stdout",
     "output_type": "stream",
     "text": [
      "69"
     ]
    },
    {
     "name": "stderr",
     "output_type": "stream",
     "text": [
      "Processing:  44%|████▍     | 443/1000 [00:02<00:02, 229.21it/s]"
     ]
    },
    {
     "name": "stdout",
     "output_type": "stream",
     "text": [
      "\n",
      "Density_80_no_self/Density_80_Network_10N_core_no_self69.topo\n"
     ]
    },
    {
     "name": "stderr",
     "output_type": "stream",
     "text": [
      "Processing: 100%|██████████| 1000/1000 [00:05<00:00, 176.28it/s]\n",
      "Processing:  90%|█████████ | 905/1000 [00:04<00:00, 227.39it/s]"
     ]
    },
    {
     "name": "stdout",
     "output_type": "stream",
     "text": [
      "1000\n"
     ]
    },
    {
     "name": "stderr",
     "output_type": "stream",
     "text": [
      "/tmp/ipykernel_5868/396412543.py:40: FutureWarning: In a future version, `df.iloc[:, i] = newvals` will attempt to set the values inplace instead of always setting a new array. To retain the old behavior, use either `df[df.columns[i]] = newvals` or, if columns are non-unique, `df.isetitem(i, newvals)`\n",
      "  temp_table_complete.loc[:,'F1']=F1_list\n"
     ]
    },
    {
     "name": "stdout",
     "output_type": "stream",
     "text": [
      "41\n"
     ]
    },
    {
     "name": "stderr",
     "output_type": "stream",
     "text": [
      "Processing:  31%|███       | 309/1000 [00:01<00:04, 155.29it/s]"
     ]
    },
    {
     "name": "stdout",
     "output_type": "stream",
     "text": [
      "Density_80_no_self/Density_80_Network_10N_core_no_self41.topo\n"
     ]
    },
    {
     "name": "stderr",
     "output_type": "stream",
     "text": [
      "Processing:  87%|████████▋ | 873/1000 [00:04<00:00, 257.05it/s]]\n"
     ]
    },
    {
     "name": "stdout",
     "output_type": "stream",
     "text": [
      "1000\n"
     ]
    },
    {
     "name": "stderr",
     "output_type": "stream",
     "text": [
      "Processing:  97%|█████████▋| 974/1000 [00:05<00:00, 229.63it/s]"
     ]
    },
    {
     "name": "stdout",
     "output_type": "stream",
     "text": [
      "90"
     ]
    },
    {
     "name": "stderr",
     "output_type": "stream",
     "text": [
      "Processing:  96%|█████████▋| 965/1000 [00:04<00:00, 238.84it/s]"
     ]
    },
    {
     "name": "stdout",
     "output_type": "stream",
     "text": [
      "\n",
      "Density_80_no_self/Density_80_Network_10N_core_no_self90.topo\n"
     ]
    },
    {
     "name": "stderr",
     "output_type": "stream",
     "text": [
      "Processing: 100%|██████████| 1000/1000 [00:04<00:00, 205.89it/s]\n"
     ]
    },
    {
     "name": "stdout",
     "output_type": "stream",
     "text": [
      "1000\n"
     ]
    },
    {
     "name": "stderr",
     "output_type": "stream",
     "text": [
      "/tmp/ipykernel_5868/396412543.py:40: FutureWarning: In a future version, `df.iloc[:, i] = newvals` will attempt to set the values inplace instead of always setting a new array. To retain the old behavior, use either `df[df.columns[i]] = newvals` or, if columns are non-unique, `df.isetitem(i, newvals)`\n",
      "  temp_table_complete.loc[:,'F1']=F1_list\n",
      "Processing:  62%|██████▏   | 619/1000 [00:03<00:01, 199.54it/s]"
     ]
    },
    {
     "name": "stdout",
     "output_type": "stream",
     "text": [
      "83\n",
      "Density_80_no_self/Density_80_Network_10N_core_no_self83.topo\n"
     ]
    },
    {
     "name": "stderr",
     "output_type": "stream",
     "text": [
      "Processing:  16%|█▌        | 155/1000 [00:00<00:04, 188.60it/s]]\n"
     ]
    },
    {
     "name": "stdout",
     "output_type": "stream",
     "text": [
      "1000\n"
     ]
    },
    {
     "name": "stderr",
     "output_type": "stream",
     "text": [
      "Processing:  42%|████▏     | 420/1000 [00:02<00:03, 169.86it/s]"
     ]
    },
    {
     "name": "stdout",
     "output_type": "stream",
     "text": [
      "62\n"
     ]
    },
    {
     "name": "stderr",
     "output_type": "stream",
     "text": [
      "Processing:  92%|█████████▎| 925/1000 [00:04<00:00, 241.19it/s]"
     ]
    },
    {
     "name": "stdout",
     "output_type": "stream",
     "text": [
      "Density_80_no_self/Density_80_Network_10N_core_no_self62.topo"
     ]
    },
    {
     "name": "stderr",
     "output_type": "stream",
     "text": [
      "Processing:   4%|▍         | 42/1000 [00:00<00:04, 196.67it/s]"
     ]
    },
    {
     "name": "stdout",
     "output_type": "stream",
     "text": [
      "\n"
     ]
    },
    {
     "name": "stderr",
     "output_type": "stream",
     "text": [
      "Processing: 100%|██████████| 1000/1000 [00:05<00:00, 193.16it/s]\n"
     ]
    },
    {
     "name": "stdout",
     "output_type": "stream",
     "text": [
      "1000\n"
     ]
    },
    {
     "name": "stderr",
     "output_type": "stream",
     "text": [
      "/tmp/ipykernel_5868/396412543.py:40: FutureWarning: In a future version, `df.iloc[:, i] = newvals` will attempt to set the values inplace instead of always setting a new array. To retain the old behavior, use either `df[df.columns[i]] = newvals` or, if columns are non-unique, `df.isetitem(i, newvals)`\n",
      "  temp_table_complete.loc[:,'F1']=F1_list\n"
     ]
    },
    {
     "name": "stdout",
     "output_type": "stream",
     "text": [
      "97\n"
     ]
    },
    {
     "name": "stderr",
     "output_type": "stream",
     "text": [
      "Processing:   6%|▌         | 61/1000 [00:00<00:06, 152.98it/s]"
     ]
    },
    {
     "name": "stdout",
     "output_type": "stream",
     "text": [
      "Density_80_no_self/Density_80_Network_10N_core_no_self97.topo\n"
     ]
    },
    {
     "name": "stderr",
     "output_type": "stream",
     "text": [
      "Processing: 100%|██████████| 1000/1000 [00:05<00:00, 197.14it/s]\n"
     ]
    },
    {
     "name": "stdout",
     "output_type": "stream",
     "text": [
      "1000\n",
      "21"
     ]
    },
    {
     "name": "stderr",
     "output_type": "stream",
     "text": [
      "Processing:  31%|███       | 308/1000 [00:01<00:02, 246.20it/s]"
     ]
    },
    {
     "name": "stdout",
     "output_type": "stream",
     "text": [
      "\n",
      "Density_80_no_self/Density_80_Network_10N_core_no_self21.topo\n"
     ]
    },
    {
     "name": "stderr",
     "output_type": "stream",
     "text": [
      "Processing: 100%|██████████| 1000/1000 [00:05<00:00, 199.26it/s]\n"
     ]
    },
    {
     "name": "stdout",
     "output_type": "stream",
     "text": [
      "1000\n"
     ]
    },
    {
     "name": "stderr",
     "output_type": "stream",
     "text": [
      "Processing:  41%|████      | 406/1000 [00:02<00:03, 183.02it/s]/tmp/ipykernel_5868/396412543.py:40: FutureWarning: In a future version, `df.iloc[:, i] = newvals` will attempt to set the values inplace instead of always setting a new array. To retain the old behavior, use either `df[df.columns[i]] = newvals` or, if columns are non-unique, `df.isetitem(i, newvals)`\n",
      "  temp_table_complete.loc[:,'F1']=F1_list\n"
     ]
    },
    {
     "name": "stdout",
     "output_type": "stream",
     "text": [
      "28\n",
      "Density_80_no_self/Density_80_Network_10N_core_no_self28.topo"
     ]
    },
    {
     "name": "stderr",
     "output_type": "stream",
     "text": [
      "Processing:  38%|███▊      | 384/1000 [00:01<00:03, 196.50it/s]"
     ]
    },
    {
     "name": "stdout",
     "output_type": "stream",
     "text": [
      "\n"
     ]
    },
    {
     "name": "stderr",
     "output_type": "stream",
     "text": [
      "Processing:  57%|█████▋    | 570/1000 [00:02<00:02, 204.87it/s]]\n"
     ]
    },
    {
     "name": "stdout",
     "output_type": "stream",
     "text": [
      "1000\n"
     ]
    },
    {
     "name": "stderr",
     "output_type": "stream",
     "text": [
      "/tmp/ipykernel_5868/396412543.py:40: FutureWarning: In a future version, `df.iloc[:, i] = newvals` will attempt to set the values inplace instead of always setting a new array. To retain the old behavior, use either `df[df.columns[i]] = newvals` or, if columns are non-unique, `df.isetitem(i, newvals)`\n",
      "  temp_table_complete.loc[:,'F1']=F1_list\n",
      "Processing:  59%|█████▉    | 590/1000 [00:03<00:02, 170.28it/s]"
     ]
    },
    {
     "name": "stdout",
     "output_type": "stream",
     "text": [
      "4\n",
      "Density_100_no_self/Density_100_Network_10N_core_no_self4.topo\n"
     ]
    },
    {
     "name": "stderr",
     "output_type": "stream",
     "text": [
      "Processing: 100%|██████████| 1000/1000 [00:05<00:00, 199.00it/s]\n",
      "Processing: 100%|██████████| 1000/1000 [00:05<00:00, 145.42it/s]"
     ]
    },
    {
     "name": "stdout",
     "output_type": "stream",
     "text": [
      "1000\n"
     ]
    },
    {
     "name": "stderr",
     "output_type": "stream",
     "text": [
      "/tmp/ipykernel_5868/396412543.py:40: FutureWarning: In a future version, `df.iloc[:, i] = newvals` will attempt to set the values inplace instead of always setting a new array. To retain the old behavior, use either `df[df.columns[i]] = newvals` or, if columns are non-unique, `df.isetitem(i, newvals)`\n",
      "  temp_table_complete.loc[:,'F1']=F1_list\n"
     ]
    },
    {
     "name": "stdout",
     "output_type": "stream",
     "text": [
      "77\n"
     ]
    },
    {
     "name": "stderr",
     "output_type": "stream",
     "text": [
      "Processing: 100%|██████████| 1000/1000 [00:05<00:00, 192.50it/s]\n"
     ]
    },
    {
     "name": "stdout",
     "output_type": "stream",
     "text": [
      "1000Density_80_no_self/Density_80_Network_10N_core_no_self77.topo\n"
     ]
    },
    {
     "name": "stderr",
     "output_type": "stream",
     "text": [
      "Processing:  29%|██▉       | 288/1000 [00:01<00:03, 215.18it/s]/tmp/ipykernel_5868/396412543.py:40: FutureWarning: In a future version, `df.iloc[:, i] = newvals` will attempt to set the values inplace instead of always setting a new array. To retain the old behavior, use either `df[df.columns[i]] = newvals` or, if columns are non-unique, `df.isetitem(i, newvals)`\n",
      "  temp_table_complete.loc[:,'F1']=F1_list\n",
      "Processing:  86%|████████▌ | 855/1000 [00:04<00:00, 302.74it/s]"
     ]
    },
    {
     "name": "stdout",
     "output_type": "stream",
     "text": [
      "49\n"
     ]
    },
    {
     "name": "stderr",
     "output_type": "stream",
     "text": [
      "Processing:  69%|██████▉   | 693/1000 [00:03<00:01, 167.16it/s]"
     ]
    },
    {
     "name": "stdout",
     "output_type": "stream",
     "text": [
      "Density_80_no_self/Density_80_Network_10N_core_no_self49.topo\n",
      "\n"
     ]
    },
    {
     "name": "stderr",
     "output_type": "stream",
     "text": [
      "Processing: 100%|██████████| 1000/1000 [00:05<00:00, 194.18it/s]\n"
     ]
    },
    {
     "name": "stdout",
     "output_type": "stream",
     "text": [
      "1000\n"
     ]
    },
    {
     "name": "stderr",
     "output_type": "stream",
     "text": [
      "/tmp/ipykernel_5868/396412543.py:40: FutureWarning: In a future version, `df.iloc[:, i] = newvals` will attempt to set the values inplace instead of always setting a new array. To retain the old behavior, use either `df[df.columns[i]] = newvals` or, if columns are non-unique, `df.isetitem(i, newvals)`\n",
      "  temp_table_complete.loc[:,'F1']=F1_list\n"
     ]
    },
    {
     "name": "stdout",
     "output_type": "stream",
     "text": [
      "35"
     ]
    },
    {
     "name": "stderr",
     "output_type": "stream",
     "text": [
      "Processing:  17%|█▋        | 170/1000 [00:00<00:03, 219.45it/s]"
     ]
    },
    {
     "name": "stdout",
     "output_type": "stream",
     "text": [
      "\n"
     ]
    },
    {
     "name": "stderr",
     "output_type": "stream",
     "text": [
      "Processing:  44%|████▎     | 436/1000 [00:01<00:02, 237.24it/s]"
     ]
    },
    {
     "name": "stdout",
     "output_type": "stream",
     "text": [
      "Density_80_no_self/Density_80_Network_10N_core_no_self35.topo\n"
     ]
    },
    {
     "name": "stderr",
     "output_type": "stream",
     "text": [
      "Processing: 100%|██████████| 1000/1000 [00:05<00:00, 196.40it/s]\n"
     ]
    },
    {
     "name": "stdout",
     "output_type": "stream",
     "text": [
      "1000\n"
     ]
    },
    {
     "name": "stderr",
     "output_type": "stream",
     "text": [
      "/tmp/ipykernel_5868/396412543.py:40: FutureWarning: In a future version, `df.iloc[:, i] = newvals` will attempt to set the values inplace instead of always setting a new array. To retain the old behavior, use either `df[df.columns[i]] = newvals` or, if columns are non-unique, `df.isetitem(i, newvals)`\n",
      "  temp_table_complete.loc[:,'F1']=F1_list\n",
      "Processing:  49%|████▉     | 491/1000 [00:02<00:02, 243.97it/s]"
     ]
    },
    {
     "name": "stdout",
     "output_type": "stream",
     "text": [
      "70\n"
     ]
    },
    {
     "name": "stderr",
     "output_type": "stream",
     "text": [
      "Processing:  89%|████████▉ | 893/1000 [00:05<00:00, 193.53it/s]"
     ]
    },
    {
     "name": "stdout",
     "output_type": "stream",
     "text": [
      "Density_80_no_self/Density_80_Network_10N_core_no_self70.topo\n"
     ]
    },
    {
     "name": "stderr",
     "output_type": "stream",
     "text": [
      "Processing: 100%|██████████| 1000/1000 [00:05<00:00, 193.40it/s]\n"
     ]
    },
    {
     "name": "stdout",
     "output_type": "stream",
     "text": [
      "1000\n"
     ]
    },
    {
     "name": "stderr",
     "output_type": "stream",
     "text": [
      "/tmp/ipykernel_5868/396412543.py:40: FutureWarning: In a future version, `df.iloc[:, i] = newvals` will attempt to set the values inplace instead of always setting a new array. To retain the old behavior, use either `df[df.columns[i]] = newvals` or, if columns are non-unique, `df.isetitem(i, newvals)`\n",
      "  temp_table_complete.loc[:,'F1']=F1_list\n"
     ]
    },
    {
     "name": "stdout",
     "output_type": "stream",
     "text": [
      "42\n",
      "Density_80_no_self/Density_80_Network_10N_core_no_self42.topo\n"
     ]
    },
    {
     "name": "stderr",
     "output_type": "stream",
     "text": [
      "Processing:  38%|███▊      | 379/1000 [00:01<00:02, 215.62it/s]]\n"
     ]
    },
    {
     "name": "stdout",
     "output_type": "stream",
     "text": [
      "1000\n"
     ]
    },
    {
     "name": "stderr",
     "output_type": "stream",
     "text": [
      "/tmp/ipykernel_5868/396412543.py:40: FutureWarning: In a future version, `df.iloc[:, i] = newvals` will attempt to set the values inplace instead of always setting a new array. To retain the old behavior, use either `df[df.columns[i]] = newvals` or, if columns are non-unique, `df.isetitem(i, newvals)`\n",
      "  temp_table_complete.loc[:,'F1']=F1_list\n"
     ]
    },
    {
     "name": "stdout",
     "output_type": "stream",
     "text": [
      "91\n",
      "Density_80_no_self/Density_80_Network_10N_core_no_self91.topo"
     ]
    },
    {
     "name": "stderr",
     "output_type": "stream",
     "text": [
      "Processing:  98%|█████████▊| 982/1000 [00:05<00:00, 136.80it/s]"
     ]
    },
    {
     "name": "stdout",
     "output_type": "stream",
     "text": [
      "\n"
     ]
    },
    {
     "name": "stderr",
     "output_type": "stream",
     "text": [
      "Processing: 100%|██████████| 1000/1000 [00:05<00:00, 167.71it/s]\n"
     ]
    },
    {
     "name": "stdout",
     "output_type": "stream",
     "text": [
      "1000\n",
      "56\n"
     ]
    },
    {
     "name": "stderr",
     "output_type": "stream",
     "text": [
      "Processing:  89%|████████▉ | 893/1000 [00:04<00:00, 141.97it/s]"
     ]
    },
    {
     "name": "stdout",
     "output_type": "stream",
     "text": [
      "Density_80_no_self/Density_80_Network_10N_core_no_self56.topo\n"
     ]
    },
    {
     "name": "stderr",
     "output_type": "stream",
     "text": [
      "Processing: 100%|██████████| 1000/1000 [00:04<00:00, 201.32it/s]\n"
     ]
    },
    {
     "name": "stdout",
     "output_type": "stream",
     "text": [
      "1000"
     ]
    },
    {
     "name": "stderr",
     "output_type": "stream",
     "text": [
      "Processing:   0%|          | 0/1000 [00:00<?, ?it/s]"
     ]
    },
    {
     "name": "stdout",
     "output_type": "stream",
     "text": [
      "\n"
     ]
    },
    {
     "name": "stderr",
     "output_type": "stream",
     "text": [
      "Processing:  21%|██        | 212/1000 [00:00<00:02, 276.80it/s]"
     ]
    },
    {
     "name": "stdout",
     "output_type": "stream",
     "text": [
      "84\n",
      "Density_80_no_self/Density_80_Network_10N_core_no_self84.topo\n"
     ]
    },
    {
     "name": "stderr",
     "output_type": "stream",
     "text": [
      "Processing: 100%|██████████| 1000/1000 [00:05<00:00, 196.77it/s]\n"
     ]
    },
    {
     "name": "stdout",
     "output_type": "stream",
     "text": [
      "1000\n"
     ]
    },
    {
     "name": "stderr",
     "output_type": "stream",
     "text": [
      "/tmp/ipykernel_5868/396412543.py:40: FutureWarning: In a future version, `df.iloc[:, i] = newvals` will attempt to set the values inplace instead of always setting a new array. To retain the old behavior, use either `df[df.columns[i]] = newvals` or, if columns are non-unique, `df.isetitem(i, newvals)`\n",
      "  temp_table_complete.loc[:,'F1']=F1_list\n",
      "Processing:  24%|██▍       | 240/1000 [00:01<00:03, 218.50it/s]"
     ]
    },
    {
     "name": "stdout",
     "output_type": "stream",
     "text": [
      "63\n"
     ]
    },
    {
     "name": "stderr",
     "output_type": "stream",
     "text": [
      "Processing:  45%|████▌     | 450/1000 [00:02<00:02, 185.67it/s]"
     ]
    },
    {
     "name": "stdout",
     "output_type": "stream",
     "text": [
      "Density_80_no_self/Density_80_Network_10N_core_no_self63.topo\n"
     ]
    },
    {
     "name": "stderr",
     "output_type": "stream",
     "text": [
      "Processing: 100%|██████████| 1000/1000 [00:05<00:00, 191.33it/s]\n"
     ]
    },
    {
     "name": "stdout",
     "output_type": "stream",
     "text": [
      "1000\n"
     ]
    },
    {
     "name": "stderr",
     "output_type": "stream",
     "text": [
      "/tmp/ipykernel_5868/396412543.py:40: FutureWarning: In a future version, `df.iloc[:, i] = newvals` will attempt to set the values inplace instead of always setting a new array. To retain the old behavior, use either `df[df.columns[i]] = newvals` or, if columns are non-unique, `df.isetitem(i, newvals)`\n",
      "  temp_table_complete.loc[:,'F1']=F1_list\n"
     ]
    },
    {
     "name": "stdout",
     "output_type": "stream",
     "text": [
      "98\n",
      "Density_80_no_self/Density_80_Network_10N_core_no_self98.topo\n"
     ]
    },
    {
     "name": "stderr",
     "output_type": "stream",
     "text": [
      "Processing: 100%|██████████| 1000/1000 [00:04<00:00, 200.30it/s]\n"
     ]
    },
    {
     "name": "stdout",
     "output_type": "stream",
     "text": [
      "1000\n"
     ]
    },
    {
     "name": "stderr",
     "output_type": "stream",
     "text": [
      "/tmp/ipykernel_5868/396412543.py:40: FutureWarning: In a future version, `df.iloc[:, i] = newvals` will attempt to set the values inplace instead of always setting a new array. To retain the old behavior, use either `df[df.columns[i]] = newvals` or, if columns are non-unique, `df.isetitem(i, newvals)`\n",
      "  temp_table_complete.loc[:,'F1']=F1_list\n",
      "Processing: 100%|██████████| 1000/1000 [00:04<00:00, 224.52it/s]\n",
      "Processing:  32%|███▏      | 318/1000 [00:01<00:03, 170.74it/s]"
     ]
    },
    {
     "name": "stdout",
     "output_type": "stream",
     "text": [
      "1000\n"
     ]
    },
    {
     "name": "stderr",
     "output_type": "stream",
     "text": [
      "/tmp/ipykernel_5868/396412543.py:40: FutureWarning: In a future version, `df.iloc[:, i] = newvals` will attempt to set the values inplace instead of always setting a new array. To retain the old behavior, use either `df[df.columns[i]] = newvals` or, if columns are non-unique, `df.isetitem(i, newvals)`\n",
      "  temp_table_complete.loc[:,'F1']=F1_list\n",
      "Processing: 100%|██████████| 1000/1000 [00:04<00:00, 217.19it/s]\n"
     ]
    },
    {
     "name": "stdout",
     "output_type": "stream",
     "text": [
      "1000\n"
     ]
    },
    {
     "name": "stderr",
     "output_type": "stream",
     "text": [
      "/tmp/ipykernel_5868/396412543.py:40: FutureWarning: In a future version, `df.iloc[:, i] = newvals` will attempt to set the values inplace instead of always setting a new array. To retain the old behavior, use either `df[df.columns[i]] = newvals` or, if columns are non-unique, `df.isetitem(i, newvals)`\n",
      "  temp_table_complete.loc[:,'F1']=F1_list\n",
      "Processing:  34%|███▍      | 341/1000 [00:01<00:02, 267.94it/s]"
     ]
    },
    {
     "name": "stdout",
     "output_type": "stream",
     "text": [
      "5\n",
      "Density_100_no_self/Density_100_Network_10N_core_no_self5.topo\n"
     ]
    },
    {
     "name": "stderr",
     "output_type": "stream",
     "text": [
      "Processing: 100%|██████████| 1000/1000 [00:04<00:00, 214.23it/s]\n"
     ]
    },
    {
     "name": "stdout",
     "output_type": "stream",
     "text": [
      "1000\n"
     ]
    },
    {
     "name": "stderr",
     "output_type": "stream",
     "text": [
      "/tmp/ipykernel_5868/396412543.py:40: FutureWarning: In a future version, `df.iloc[:, i] = newvals` will attempt to set the values inplace instead of always setting a new array. To retain the old behavior, use either `df[df.columns[i]] = newvals` or, if columns are non-unique, `df.isetitem(i, newvals)`\n",
      "  temp_table_complete.loc[:,'F1']=F1_list\n",
      "Processing: 100%|██████████| 1000/1000 [00:04<00:00, 211.18it/s]\n"
     ]
    },
    {
     "name": "stdout",
     "output_type": "stream",
     "text": [
      "1000\n"
     ]
    },
    {
     "name": "stderr",
     "output_type": "stream",
     "text": [
      "/tmp/ipykernel_5868/396412543.py:40: FutureWarning: In a future version, `df.iloc[:, i] = newvals` will attempt to set the values inplace instead of always setting a new array. To retain the old behavior, use either `df[df.columns[i]] = newvals` or, if columns are non-unique, `df.isetitem(i, newvals)`\n",
      "  temp_table_complete.loc[:,'F1']=F1_list\n",
      "Processing: 100%|██████████| 1000/1000 [00:04<00:00, 230.30it/s]\n"
     ]
    },
    {
     "name": "stdout",
     "output_type": "stream",
     "text": [
      "1000\n"
     ]
    },
    {
     "name": "stderr",
     "output_type": "stream",
     "text": [
      "Processing: 100%|██████████| 1000/1000 [00:04<00:00, 219.25it/s]\n"
     ]
    },
    {
     "name": "stdout",
     "output_type": "stream",
     "text": [
      "1000\n"
     ]
    },
    {
     "name": "stderr",
     "output_type": "stream",
     "text": [
      "Processing:  78%|███████▊  | 783/1000 [00:03<00:00, 328.20it/s]/tmp/ipykernel_5868/396412543.py:40: FutureWarning: In a future version, `df.iloc[:, i] = newvals` will attempt to set the values inplace instead of always setting a new array. To retain the old behavior, use either `df[df.columns[i]] = newvals` or, if columns are non-unique, `df.isetitem(i, newvals)`\n",
      "  temp_table_complete.loc[:,'F1']=F1_list\n",
      "Processing: 100%|██████████| 1000/1000 [00:03<00:00, 265.49it/s]\n"
     ]
    },
    {
     "name": "stdout",
     "output_type": "stream",
     "text": [
      "1000\n"
     ]
    },
    {
     "name": "stderr",
     "output_type": "stream",
     "text": [
      "/tmp/ipykernel_5868/396412543.py:40: FutureWarning: In a future version, `df.iloc[:, i] = newvals` will attempt to set the values inplace instead of always setting a new array. To retain the old behavior, use either `df[df.columns[i]] = newvals` or, if columns are non-unique, `df.isetitem(i, newvals)`\n",
      "  temp_table_complete.loc[:,'F1']=F1_list\n",
      "Processing: 100%|██████████| 1000/1000 [00:04<00:00, 235.25it/s]\n"
     ]
    },
    {
     "name": "stdout",
     "output_type": "stream",
     "text": [
      "1000"
     ]
    },
    {
     "name": "stderr",
     "output_type": "stream",
     "text": [
      "Processing: 100%|██████████| 1000/1000 [00:04<00:00, 365.56it/s]"
     ]
    },
    {
     "name": "stdout",
     "output_type": "stream",
     "text": [
      "\n"
     ]
    },
    {
     "name": "stderr",
     "output_type": "stream",
     "text": [
      "Processing: 100%|██████████| 1000/1000 [00:04<00:00, 245.54it/s]\n"
     ]
    },
    {
     "name": "stdout",
     "output_type": "stream",
     "text": [
      "1000\n"
     ]
    },
    {
     "name": "stderr",
     "output_type": "stream",
     "text": [
      "/tmp/ipykernel_5868/396412543.py:40: FutureWarning: In a future version, `df.iloc[:, i] = newvals` will attempt to set the values inplace instead of always setting a new array. To retain the old behavior, use either `df[df.columns[i]] = newvals` or, if columns are non-unique, `df.isetitem(i, newvals)`\n",
      "  temp_table_complete.loc[:,'F1']=F1_list\n",
      "Processing: 100%|██████████| 1000/1000 [00:04<00:00, 248.49it/s]\n"
     ]
    },
    {
     "name": "stdout",
     "output_type": "stream",
     "text": [
      "1000\n"
     ]
    },
    {
     "name": "stderr",
     "output_type": "stream",
     "text": [
      "Processing: 100%|██████████| 1000/1000 [00:04<00:00, 208.01it/s]\n"
     ]
    },
    {
     "name": "stdout",
     "output_type": "stream",
     "text": [
      "1000\n"
     ]
    },
    {
     "name": "stderr",
     "output_type": "stream",
     "text": [
      "/tmp/ipykernel_5868/396412543.py:40: FutureWarning: In a future version, `df.iloc[:, i] = newvals` will attempt to set the values inplace instead of always setting a new array. To retain the old behavior, use either `df[df.columns[i]] = newvals` or, if columns are non-unique, `df.isetitem(i, newvals)`\n",
      "  temp_table_complete.loc[:,'F1']=F1_list\n",
      "Processing: 100%|██████████| 1000/1000 [00:03<00:00, 272.88it/s]\n"
     ]
    },
    {
     "name": "stdout",
     "output_type": "stream",
     "text": [
      "1000\n"
     ]
    },
    {
     "name": "stderr",
     "output_type": "stream",
     "text": [
      "Processing: 100%|██████████| 1000/1000 [00:02<00:00, 335.17it/s]\n"
     ]
    },
    {
     "name": "stdout",
     "output_type": "stream",
     "text": [
      "1000\n"
     ]
    },
    {
     "name": "stderr",
     "output_type": "stream",
     "text": [
      "/tmp/ipykernel_5868/396412543.py:40: FutureWarning: In a future version, `df.iloc[:, i] = newvals` will attempt to set the values inplace instead of always setting a new array. To retain the old behavior, use either `df[df.columns[i]] = newvals` or, if columns are non-unique, `df.isetitem(i, newvals)`\n",
      "  temp_table_complete.loc[:,'F1']=F1_list\n"
     ]
    },
    {
     "data": {
      "text/html": [
       "<div>\n",
       "<style scoped>\n",
       "    .dataframe tbody tr th:only-of-type {\n",
       "        vertical-align: middle;\n",
       "    }\n",
       "\n",
       "    .dataframe tbody tr th {\n",
       "        vertical-align: top;\n",
       "    }\n",
       "\n",
       "    .dataframe thead th {\n",
       "        text-align: right;\n",
       "    }\n",
       "</style>\n",
       "<table border=\"1\" class=\"dataframe\">\n",
       "  <thead>\n",
       "    <tr style=\"text-align: right;\">\n",
       "      <th></th>\n",
       "      <th>index</th>\n",
       "      <th>Team_Size</th>\n",
       "      <th>BiC A</th>\n",
       "      <th>CC AB</th>\n",
       "      <th>F1</th>\n",
       "      <th>F1_Individual_Nodes_Considered</th>\n",
       "      <th>Team_Strength</th>\n",
       "      <th>Density</th>\n",
       "      <th>Impurity</th>\n",
       "      <th>Nodes</th>\n",
       "      <th>Edges</th>\n",
       "      <th>Label</th>\n",
       "      <th>Self_Activation_Status</th>\n",
       "    </tr>\n",
       "  </thead>\n",
       "  <tbody>\n",
       "    <tr>\n",
       "      <th>0</th>\n",
       "      <td>Density 20%_With Self Activation_Network_0</td>\n",
       "      <td>Team Size 1</td>\n",
       "      <td>0</td>\n",
       "      <td>0</td>\n",
       "      <td>0.777</td>\n",
       "      <td>0</td>\n",
       "      <td>0</td>\n",
       "      <td>Density 20%</td>\n",
       "      <td>0</td>\n",
       "      <td>0</td>\n",
       "      <td>0</td>\n",
       "      <td>5N_10E</td>\n",
       "      <td>With Self Activation</td>\n",
       "    </tr>\n",
       "    <tr>\n",
       "      <th>1</th>\n",
       "      <td>Density 20%_With Self Activation_Network_1</td>\n",
       "      <td>Team Size 1</td>\n",
       "      <td>0</td>\n",
       "      <td>0</td>\n",
       "      <td>0.664</td>\n",
       "      <td>0</td>\n",
       "      <td>0</td>\n",
       "      <td>Density 20%</td>\n",
       "      <td>0</td>\n",
       "      <td>0</td>\n",
       "      <td>0</td>\n",
       "      <td>5N_10E</td>\n",
       "      <td>With Self Activation</td>\n",
       "    </tr>\n",
       "    <tr>\n",
       "      <th>2</th>\n",
       "      <td>Density 20%_With Self Activation_Network_2</td>\n",
       "      <td>Team Size 1</td>\n",
       "      <td>0</td>\n",
       "      <td>0</td>\n",
       "      <td>0.513</td>\n",
       "      <td>0</td>\n",
       "      <td>0</td>\n",
       "      <td>Density 20%</td>\n",
       "      <td>0</td>\n",
       "      <td>0</td>\n",
       "      <td>0</td>\n",
       "      <td>5N_10E</td>\n",
       "      <td>With Self Activation</td>\n",
       "    </tr>\n",
       "    <tr>\n",
       "      <th>3</th>\n",
       "      <td>Density 20%_With Self Activation_Network_3</td>\n",
       "      <td>Team Size 1</td>\n",
       "      <td>0</td>\n",
       "      <td>0</td>\n",
       "      <td>0.513</td>\n",
       "      <td>0</td>\n",
       "      <td>0</td>\n",
       "      <td>Density 20%</td>\n",
       "      <td>0</td>\n",
       "      <td>0</td>\n",
       "      <td>0</td>\n",
       "      <td>5N_10E</td>\n",
       "      <td>With Self Activation</td>\n",
       "    </tr>\n",
       "    <tr>\n",
       "      <th>4</th>\n",
       "      <td>Density 20%_With Self Activation_Network_4</td>\n",
       "      <td>Team Size 1</td>\n",
       "      <td>0</td>\n",
       "      <td>0</td>\n",
       "      <td>0.518</td>\n",
       "      <td>0</td>\n",
       "      <td>0</td>\n",
       "      <td>Density 20%</td>\n",
       "      <td>0</td>\n",
       "      <td>0</td>\n",
       "      <td>0</td>\n",
       "      <td>5N_10E</td>\n",
       "      <td>With Self Activation</td>\n",
       "    </tr>\n",
       "    <tr>\n",
       "      <th>...</th>\n",
       "      <td>...</td>\n",
       "      <td>...</td>\n",
       "      <td>...</td>\n",
       "      <td>...</td>\n",
       "      <td>...</td>\n",
       "      <td>...</td>\n",
       "      <td>...</td>\n",
       "      <td>...</td>\n",
       "      <td>...</td>\n",
       "      <td>...</td>\n",
       "      <td>...</td>\n",
       "      <td>...</td>\n",
       "      <td>...</td>\n",
       "    </tr>\n",
       "    <tr>\n",
       "      <th>405</th>\n",
       "      <td>Density 100%_Without Self Activation_Network_5</td>\n",
       "      <td>Team Size 1</td>\n",
       "      <td>0</td>\n",
       "      <td>0</td>\n",
       "      <td>1.000</td>\n",
       "      <td>0</td>\n",
       "      <td>0</td>\n",
       "      <td>Density 100%</td>\n",
       "      <td>0</td>\n",
       "      <td>0</td>\n",
       "      <td>0</td>\n",
       "      <td>5N_10E</td>\n",
       "      <td>Without Self Activation</td>\n",
       "    </tr>\n",
       "    <tr>\n",
       "      <th>406</th>\n",
       "      <td>Density 100%_Without Self Activation_Network_6</td>\n",
       "      <td>Team Size 1</td>\n",
       "      <td>0</td>\n",
       "      <td>0</td>\n",
       "      <td>1.000</td>\n",
       "      <td>0</td>\n",
       "      <td>0</td>\n",
       "      <td>Density 100%</td>\n",
       "      <td>0</td>\n",
       "      <td>0</td>\n",
       "      <td>0</td>\n",
       "      <td>5N_10E</td>\n",
       "      <td>Without Self Activation</td>\n",
       "    </tr>\n",
       "    <tr>\n",
       "      <th>407</th>\n",
       "      <td>Density 100%_Without Self Activation_Network_7</td>\n",
       "      <td>Team Size 1</td>\n",
       "      <td>0</td>\n",
       "      <td>0</td>\n",
       "      <td>1.000</td>\n",
       "      <td>0</td>\n",
       "      <td>0</td>\n",
       "      <td>Density 100%</td>\n",
       "      <td>0</td>\n",
       "      <td>0</td>\n",
       "      <td>0</td>\n",
       "      <td>5N_10E</td>\n",
       "      <td>Without Self Activation</td>\n",
       "    </tr>\n",
       "    <tr>\n",
       "      <th>408</th>\n",
       "      <td>Density 100%_Without Self Activation_Network_8</td>\n",
       "      <td>Team Size 1</td>\n",
       "      <td>0</td>\n",
       "      <td>0</td>\n",
       "      <td>1.000</td>\n",
       "      <td>0</td>\n",
       "      <td>0</td>\n",
       "      <td>Density 100%</td>\n",
       "      <td>0</td>\n",
       "      <td>0</td>\n",
       "      <td>0</td>\n",
       "      <td>5N_10E</td>\n",
       "      <td>Without Self Activation</td>\n",
       "    </tr>\n",
       "    <tr>\n",
       "      <th>409</th>\n",
       "      <td>Density 100%_Without Self Activation_Network_9</td>\n",
       "      <td>Team Size 1</td>\n",
       "      <td>0</td>\n",
       "      <td>0</td>\n",
       "      <td>1.000</td>\n",
       "      <td>0</td>\n",
       "      <td>0</td>\n",
       "      <td>Density 100%</td>\n",
       "      <td>0</td>\n",
       "      <td>0</td>\n",
       "      <td>0</td>\n",
       "      <td>5N_10E</td>\n",
       "      <td>Without Self Activation</td>\n",
       "    </tr>\n",
       "  </tbody>\n",
       "</table>\n",
       "<p>820 rows × 13 columns</p>\n",
       "</div>"
      ],
      "text/plain": [
       "                                              index    Team_Size BiC A CC AB  \\\n",
       "0        Density 20%_With Self Activation_Network_0  Team Size 1     0     0   \n",
       "1        Density 20%_With Self Activation_Network_1  Team Size 1     0     0   \n",
       "2        Density 20%_With Self Activation_Network_2  Team Size 1     0     0   \n",
       "3        Density 20%_With Self Activation_Network_3  Team Size 1     0     0   \n",
       "4        Density 20%_With Self Activation_Network_4  Team Size 1     0     0   \n",
       "..                                              ...          ...   ...   ...   \n",
       "405  Density 100%_Without Self Activation_Network_5  Team Size 1     0     0   \n",
       "406  Density 100%_Without Self Activation_Network_6  Team Size 1     0     0   \n",
       "407  Density 100%_Without Self Activation_Network_7  Team Size 1     0     0   \n",
       "408  Density 100%_Without Self Activation_Network_8  Team Size 1     0     0   \n",
       "409  Density 100%_Without Self Activation_Network_9  Team Size 1     0     0   \n",
       "\n",
       "        F1 F1_Individual_Nodes_Considered Team_Strength       Density  \\\n",
       "0    0.777                              0             0   Density 20%   \n",
       "1    0.664                              0             0   Density 20%   \n",
       "2    0.513                              0             0   Density 20%   \n",
       "3    0.513                              0             0   Density 20%   \n",
       "4    0.518                              0             0   Density 20%   \n",
       "..     ...                            ...           ...           ...   \n",
       "405  1.000                              0             0  Density 100%   \n",
       "406  1.000                              0             0  Density 100%   \n",
       "407  1.000                              0             0  Density 100%   \n",
       "408  1.000                              0             0  Density 100%   \n",
       "409  1.000                              0             0  Density 100%   \n",
       "\n",
       "    Impurity Nodes Edges   Label   Self_Activation_Status  \n",
       "0          0     0     0  5N_10E     With Self Activation  \n",
       "1          0     0     0  5N_10E     With Self Activation  \n",
       "2          0     0     0  5N_10E     With Self Activation  \n",
       "3          0     0     0  5N_10E     With Self Activation  \n",
       "4          0     0     0  5N_10E     With Self Activation  \n",
       "..       ...   ...   ...     ...                      ...  \n",
       "405        0     0     0  5N_10E  Without Self Activation  \n",
       "406        0     0     0  5N_10E  Without Self Activation  \n",
       "407        0     0     0  5N_10E  Without Self Activation  \n",
       "408        0     0     0  5N_10E  Without Self Activation  \n",
       "409        0     0     0  5N_10E  Without Self Activation  \n",
       "\n",
       "[820 rows x 13 columns]"
      ]
     },
     "execution_count": 85,
     "metadata": {},
     "output_type": "execute_result"
    }
   ],
   "source": [
    "import multiprocessing\n",
    "\n",
    "\n",
    "def process_parameter_set(parameters):\n",
    "    return BiC_CC_F1_team_strength(*parameters)\n",
    "\n",
    "if __name__ == \"__main__\":\n",
    "    # Define the number of cores\n",
    "    num_cores = 15\n",
    "\n",
    "    # Create a multiprocessing pool with the number of desired cores\n",
    "    pool = multiprocessing.Pool(processes=num_cores)\n",
    "\n",
    "    # Define the range of rp values to distribute among cores (0 to 99)\n",
    "    rp_range = range(100)\n",
    "\n",
    "    # Create a list of input parameter sets for each unique rp\n",
    "    parameter_sets = [ ('Density_20_no_self/Density_20_Network_10N_core_no_self'+str(rp)+'.topo', 1, 0, 0, '5N_10E',2,'Without Self Activation','Density 20%', rp) for rp in rp_range] \n",
    "    parameter_sets.extend([ ('Density_40_no_self/Density_40_Network_10N_core_no_self'+str(rp)+'.topo', 1, 0, 0, '5N_10E',2,'Without Self Activation','Density 40%', rp) for rp in rp_range] )\n",
    "    parameter_sets.extend([ ('Density_60_no_self/Density_60_Network_10N_core_no_self'+str(rp)+'.topo', 1, 0, 0, '5N_10E',2,'Without Self Activation', 'Density 60%',rp) for rp in rp_range] )\n",
    "    parameter_sets.extend([ ('Density_80_no_self/Density_80_Network_10N_core_no_self'+str(rp)+'.topo', 1, 0, 0, '5N_10E',2,'Without Self Activation','Density 80%', rp) for rp in rp_range] )\n",
    "    parameter_sets.extend([ ('Density_100_no_self/Density_100_Network_10N_core_no_self'+str(rp)+'.topo', 1, 0, 0, '5N_10E',2,'Without Self Activation', 'Density 100%',rp) for rp in range(10)] )\n",
    "    \n",
    "\n",
    "\n",
    "    # Use the pool.map() function to parallelize the processing for each unique rp\n",
    "    results = pool.map(process_parameter_set, parameter_sets)\n",
    "\n",
    "    # Close the pool to release resources\n",
    "    pool.close()\n",
    "    pool.join()\n",
    "\n",
    "    # Merge the DataFrames into a single DataFrame\n",
    "    melt_table_complete_run = pd.concat(results, ignore_index=True)\n",
    "    melt_table_complete=pd.concat([melt_table_complete,melt_table_complete_run])\n",
    "    # Now you have a single DataFrame \"melt_table_complete\" with all the results\n",
    "#print(parameter_sets)\n",
    "melt_table_complete"
   ]
  },
  {
   "cell_type": "code",
   "execution_count": 86,
   "metadata": {},
   "outputs": [],
   "source": [
    "melt_table_complete.loc[:,'F1 (Boolean)'] = melt_table_complete.loc[:,'F1']"
   ]
  },
  {
   "cell_type": "code",
   "execution_count": 87,
   "metadata": {},
   "outputs": [],
   "source": [
    "melt_table_complete.to_csv('Boolean_F1_density.csv')"
   ]
  },
  {
   "cell_type": "code",
   "execution_count": 68,
   "metadata": {},
   "outputs": [
    {
     "data": {
      "text/html": [
       "<div>\n",
       "<style scoped>\n",
       "    .dataframe tbody tr th:only-of-type {\n",
       "        vertical-align: middle;\n",
       "    }\n",
       "\n",
       "    .dataframe tbody tr th {\n",
       "        vertical-align: top;\n",
       "    }\n",
       "\n",
       "    .dataframe thead th {\n",
       "        text-align: right;\n",
       "    }\n",
       "</style>\n",
       "<table border=\"1\" class=\"dataframe\">\n",
       "  <thead>\n",
       "    <tr style=\"text-align: right;\">\n",
       "      <th></th>\n",
       "      <th>index</th>\n",
       "      <th>Team_Size</th>\n",
       "      <th>BiC A</th>\n",
       "      <th>CC AB</th>\n",
       "      <th>F1</th>\n",
       "      <th>F1_Individual_Nodes_Considered</th>\n",
       "      <th>Team_Strength</th>\n",
       "      <th>Density</th>\n",
       "      <th>Impurity</th>\n",
       "      <th>Nodes</th>\n",
       "      <th>Edges</th>\n",
       "      <th>Label</th>\n",
       "      <th>Self_Activation_Status</th>\n",
       "      <th>F1 (Boolean)</th>\n",
       "    </tr>\n",
       "  </thead>\n",
       "  <tbody>\n",
       "    <tr>\n",
       "      <th>0</th>\n",
       "      <td>Density_20% Density_With Self Activation_Netwo...</td>\n",
       "      <td>Team Size 1</td>\n",
       "      <td>0</td>\n",
       "      <td>0</td>\n",
       "      <td>0.765</td>\n",
       "      <td>0</td>\n",
       "      <td>0</td>\n",
       "      <td>20% Density</td>\n",
       "      <td>0</td>\n",
       "      <td>0</td>\n",
       "      <td>0</td>\n",
       "      <td>5N_10E</td>\n",
       "      <td>With Self Activation</td>\n",
       "      <td>0.765</td>\n",
       "    </tr>\n",
       "    <tr>\n",
       "      <th>1</th>\n",
       "      <td>Density_20% Density_With Self Activation_Netwo...</td>\n",
       "      <td>Team Size 1</td>\n",
       "      <td>0</td>\n",
       "      <td>0</td>\n",
       "      <td>0.655</td>\n",
       "      <td>0</td>\n",
       "      <td>0</td>\n",
       "      <td>20% Density</td>\n",
       "      <td>0</td>\n",
       "      <td>0</td>\n",
       "      <td>0</td>\n",
       "      <td>5N_10E</td>\n",
       "      <td>With Self Activation</td>\n",
       "      <td>0.655</td>\n",
       "    </tr>\n",
       "    <tr>\n",
       "      <th>2</th>\n",
       "      <td>Density_20% Density_With Self Activation_Netwo...</td>\n",
       "      <td>Team Size 1</td>\n",
       "      <td>0</td>\n",
       "      <td>0</td>\n",
       "      <td>0.494</td>\n",
       "      <td>0</td>\n",
       "      <td>0</td>\n",
       "      <td>20% Density</td>\n",
       "      <td>0</td>\n",
       "      <td>0</td>\n",
       "      <td>0</td>\n",
       "      <td>5N_10E</td>\n",
       "      <td>With Self Activation</td>\n",
       "      <td>0.494</td>\n",
       "    </tr>\n",
       "    <tr>\n",
       "      <th>3</th>\n",
       "      <td>Density_20% Density_With Self Activation_Netwo...</td>\n",
       "      <td>Team Size 1</td>\n",
       "      <td>0</td>\n",
       "      <td>0</td>\n",
       "      <td>0.503</td>\n",
       "      <td>0</td>\n",
       "      <td>0</td>\n",
       "      <td>20% Density</td>\n",
       "      <td>0</td>\n",
       "      <td>0</td>\n",
       "      <td>0</td>\n",
       "      <td>5N_10E</td>\n",
       "      <td>With Self Activation</td>\n",
       "      <td>0.503</td>\n",
       "    </tr>\n",
       "    <tr>\n",
       "      <th>4</th>\n",
       "      <td>Density_20% Density_With Self Activation_Netwo...</td>\n",
       "      <td>Team Size 1</td>\n",
       "      <td>0</td>\n",
       "      <td>0</td>\n",
       "      <td>0.505</td>\n",
       "      <td>0</td>\n",
       "      <td>0</td>\n",
       "      <td>20% Density</td>\n",
       "      <td>0</td>\n",
       "      <td>0</td>\n",
       "      <td>0</td>\n",
       "      <td>5N_10E</td>\n",
       "      <td>With Self Activation</td>\n",
       "      <td>0.505</td>\n",
       "    </tr>\n",
       "    <tr>\n",
       "      <th>...</th>\n",
       "      <td>...</td>\n",
       "      <td>...</td>\n",
       "      <td>...</td>\n",
       "      <td>...</td>\n",
       "      <td>...</td>\n",
       "      <td>...</td>\n",
       "      <td>...</td>\n",
       "      <td>...</td>\n",
       "      <td>...</td>\n",
       "      <td>...</td>\n",
       "      <td>...</td>\n",
       "      <td>...</td>\n",
       "      <td>...</td>\n",
       "      <td>...</td>\n",
       "    </tr>\n",
       "    <tr>\n",
       "      <th>405</th>\n",
       "      <td>Density_100% Density_With Self Activation_Netw...</td>\n",
       "      <td>Team Size 1</td>\n",
       "      <td>0</td>\n",
       "      <td>0</td>\n",
       "      <td>0.865</td>\n",
       "      <td>0</td>\n",
       "      <td>0</td>\n",
       "      <td>100% Density</td>\n",
       "      <td>0</td>\n",
       "      <td>0</td>\n",
       "      <td>0</td>\n",
       "      <td>5N_10E</td>\n",
       "      <td>With Self Activation</td>\n",
       "      <td>0.865</td>\n",
       "    </tr>\n",
       "    <tr>\n",
       "      <th>406</th>\n",
       "      <td>Density_100% Density_With Self Activation_Netw...</td>\n",
       "      <td>Team Size 1</td>\n",
       "      <td>0</td>\n",
       "      <td>0</td>\n",
       "      <td>0.879</td>\n",
       "      <td>0</td>\n",
       "      <td>0</td>\n",
       "      <td>100% Density</td>\n",
       "      <td>0</td>\n",
       "      <td>0</td>\n",
       "      <td>0</td>\n",
       "      <td>5N_10E</td>\n",
       "      <td>With Self Activation</td>\n",
       "      <td>0.879</td>\n",
       "    </tr>\n",
       "    <tr>\n",
       "      <th>407</th>\n",
       "      <td>Density_100% Density_With Self Activation_Netw...</td>\n",
       "      <td>Team Size 1</td>\n",
       "      <td>0</td>\n",
       "      <td>0</td>\n",
       "      <td>0.871</td>\n",
       "      <td>0</td>\n",
       "      <td>0</td>\n",
       "      <td>100% Density</td>\n",
       "      <td>0</td>\n",
       "      <td>0</td>\n",
       "      <td>0</td>\n",
       "      <td>5N_10E</td>\n",
       "      <td>With Self Activation</td>\n",
       "      <td>0.871</td>\n",
       "    </tr>\n",
       "    <tr>\n",
       "      <th>408</th>\n",
       "      <td>Density_100% Density_With Self Activation_Netw...</td>\n",
       "      <td>Team Size 1</td>\n",
       "      <td>0</td>\n",
       "      <td>0</td>\n",
       "      <td>0.859</td>\n",
       "      <td>0</td>\n",
       "      <td>0</td>\n",
       "      <td>100% Density</td>\n",
       "      <td>0</td>\n",
       "      <td>0</td>\n",
       "      <td>0</td>\n",
       "      <td>5N_10E</td>\n",
       "      <td>With Self Activation</td>\n",
       "      <td>0.859</td>\n",
       "    </tr>\n",
       "    <tr>\n",
       "      <th>409</th>\n",
       "      <td>Density_100% Density_With Self Activation_Netw...</td>\n",
       "      <td>Team Size 1</td>\n",
       "      <td>0</td>\n",
       "      <td>0</td>\n",
       "      <td>0.869</td>\n",
       "      <td>0</td>\n",
       "      <td>0</td>\n",
       "      <td>100% Density</td>\n",
       "      <td>0</td>\n",
       "      <td>0</td>\n",
       "      <td>0</td>\n",
       "      <td>5N_10E</td>\n",
       "      <td>With Self Activation</td>\n",
       "      <td>0.869</td>\n",
       "    </tr>\n",
       "  </tbody>\n",
       "</table>\n",
       "<p>410 rows × 14 columns</p>\n",
       "</div>"
      ],
      "text/plain": [
       "                                                 index    Team_Size BiC A  \\\n",
       "0    Density_20% Density_With Self Activation_Netwo...  Team Size 1     0   \n",
       "1    Density_20% Density_With Self Activation_Netwo...  Team Size 1     0   \n",
       "2    Density_20% Density_With Self Activation_Netwo...  Team Size 1     0   \n",
       "3    Density_20% Density_With Self Activation_Netwo...  Team Size 1     0   \n",
       "4    Density_20% Density_With Self Activation_Netwo...  Team Size 1     0   \n",
       "..                                                 ...          ...   ...   \n",
       "405  Density_100% Density_With Self Activation_Netw...  Team Size 1     0   \n",
       "406  Density_100% Density_With Self Activation_Netw...  Team Size 1     0   \n",
       "407  Density_100% Density_With Self Activation_Netw...  Team Size 1     0   \n",
       "408  Density_100% Density_With Self Activation_Netw...  Team Size 1     0   \n",
       "409  Density_100% Density_With Self Activation_Netw...  Team Size 1     0   \n",
       "\n",
       "    CC AB     F1 F1_Individual_Nodes_Considered Team_Strength       Density  \\\n",
       "0       0  0.765                              0             0   20% Density   \n",
       "1       0  0.655                              0             0   20% Density   \n",
       "2       0  0.494                              0             0   20% Density   \n",
       "3       0  0.503                              0             0   20% Density   \n",
       "4       0  0.505                              0             0   20% Density   \n",
       "..    ...    ...                            ...           ...           ...   \n",
       "405     0  0.865                              0             0  100% Density   \n",
       "406     0  0.879                              0             0  100% Density   \n",
       "407     0  0.871                              0             0  100% Density   \n",
       "408     0  0.859                              0             0  100% Density   \n",
       "409     0  0.869                              0             0  100% Density   \n",
       "\n",
       "    Impurity Nodes Edges   Label Self_Activation_Status  F1 (Boolean)  \n",
       "0          0     0     0  5N_10E   With Self Activation         0.765  \n",
       "1          0     0     0  5N_10E   With Self Activation         0.655  \n",
       "2          0     0     0  5N_10E   With Self Activation         0.494  \n",
       "3          0     0     0  5N_10E   With Self Activation         0.503  \n",
       "4          0     0     0  5N_10E   With Self Activation         0.505  \n",
       "..       ...   ...   ...     ...                    ...           ...  \n",
       "405        0     0     0  5N_10E   With Self Activation         0.865  \n",
       "406        0     0     0  5N_10E   With Self Activation         0.879  \n",
       "407        0     0     0  5N_10E   With Self Activation         0.871  \n",
       "408        0     0     0  5N_10E   With Self Activation         0.859  \n",
       "409        0     0     0  5N_10E   With Self Activation         0.869  \n",
       "\n",
       "[410 rows x 14 columns]"
      ]
     },
     "execution_count": 68,
     "metadata": {},
     "output_type": "execute_result"
    }
   ],
   "source": [
    "melt_table_complete"
   ]
  },
  {
   "cell_type": "code",
   "execution_count": 42,
   "metadata": {},
   "outputs": [
    {
     "data": {
      "text/html": [
       "<div>\n",
       "<style scoped>\n",
       "    .dataframe tbody tr th:only-of-type {\n",
       "        vertical-align: middle;\n",
       "    }\n",
       "\n",
       "    .dataframe tbody tr th {\n",
       "        vertical-align: top;\n",
       "    }\n",
       "\n",
       "    .dataframe thead th {\n",
       "        text-align: right;\n",
       "    }\n",
       "</style>\n",
       "<table border=\"1\" class=\"dataframe\">\n",
       "  <thead>\n",
       "    <tr style=\"text-align: right;\">\n",
       "      <th></th>\n",
       "      <th>index</th>\n",
       "      <th>Team_Size</th>\n",
       "      <th>BiC A</th>\n",
       "      <th>CC AB</th>\n",
       "      <th>F1</th>\n",
       "      <th>F1_Individual_Nodes_Considered</th>\n",
       "      <th>Team_Strength</th>\n",
       "      <th>Density</th>\n",
       "      <th>Impurity</th>\n",
       "      <th>Nodes</th>\n",
       "      <th>Edges</th>\n",
       "      <th>Label</th>\n",
       "      <th>Self_Activation_Status</th>\n",
       "    </tr>\n",
       "  </thead>\n",
       "  <tbody>\n",
       "    <tr>\n",
       "      <th>0</th>\n",
       "      <td>5N_10E_0</td>\n",
       "      <td>Team Size 1</td>\n",
       "      <td>0</td>\n",
       "      <td>0</td>\n",
       "      <td>0.781</td>\n",
       "      <td>0</td>\n",
       "      <td>0</td>\n",
       "      <td>20%</td>\n",
       "      <td>0</td>\n",
       "      <td>0</td>\n",
       "      <td>0</td>\n",
       "      <td>5N_10E</td>\n",
       "      <td>With Self Activation</td>\n",
       "    </tr>\n",
       "    <tr>\n",
       "      <th>1</th>\n",
       "      <td>5N_10E_1</td>\n",
       "      <td>Team Size 1</td>\n",
       "      <td>0</td>\n",
       "      <td>0</td>\n",
       "      <td>0.637</td>\n",
       "      <td>0</td>\n",
       "      <td>0</td>\n",
       "      <td>20%</td>\n",
       "      <td>0</td>\n",
       "      <td>0</td>\n",
       "      <td>0</td>\n",
       "      <td>5N_10E</td>\n",
       "      <td>With Self Activation</td>\n",
       "    </tr>\n",
       "    <tr>\n",
       "      <th>2</th>\n",
       "      <td>5N_10E_2</td>\n",
       "      <td>Team Size 1</td>\n",
       "      <td>0</td>\n",
       "      <td>0</td>\n",
       "      <td>0.505</td>\n",
       "      <td>0</td>\n",
       "      <td>0</td>\n",
       "      <td>20%</td>\n",
       "      <td>0</td>\n",
       "      <td>0</td>\n",
       "      <td>0</td>\n",
       "      <td>5N_10E</td>\n",
       "      <td>With Self Activation</td>\n",
       "    </tr>\n",
       "    <tr>\n",
       "      <th>3</th>\n",
       "      <td>5N_10E_3</td>\n",
       "      <td>Team Size 1</td>\n",
       "      <td>0</td>\n",
       "      <td>0</td>\n",
       "      <td>0.493</td>\n",
       "      <td>0</td>\n",
       "      <td>0</td>\n",
       "      <td>20%</td>\n",
       "      <td>0</td>\n",
       "      <td>0</td>\n",
       "      <td>0</td>\n",
       "      <td>5N_10E</td>\n",
       "      <td>With Self Activation</td>\n",
       "    </tr>\n",
       "    <tr>\n",
       "      <th>4</th>\n",
       "      <td>5N_10E_4</td>\n",
       "      <td>Team Size 1</td>\n",
       "      <td>0</td>\n",
       "      <td>0</td>\n",
       "      <td>0.514</td>\n",
       "      <td>0</td>\n",
       "      <td>0</td>\n",
       "      <td>20%</td>\n",
       "      <td>0</td>\n",
       "      <td>0</td>\n",
       "      <td>0</td>\n",
       "      <td>5N_10E</td>\n",
       "      <td>With Self Activation</td>\n",
       "    </tr>\n",
       "    <tr>\n",
       "      <th>...</th>\n",
       "      <td>...</td>\n",
       "      <td>...</td>\n",
       "      <td>...</td>\n",
       "      <td>...</td>\n",
       "      <td>...</td>\n",
       "      <td>...</td>\n",
       "      <td>...</td>\n",
       "      <td>...</td>\n",
       "      <td>...</td>\n",
       "      <td>...</td>\n",
       "      <td>...</td>\n",
       "      <td>...</td>\n",
       "      <td>...</td>\n",
       "    </tr>\n",
       "    <tr>\n",
       "      <th>405</th>\n",
       "      <td>5N_10E_5</td>\n",
       "      <td>Team Size 1</td>\n",
       "      <td>0</td>\n",
       "      <td>0</td>\n",
       "      <td>1.000</td>\n",
       "      <td>0</td>\n",
       "      <td>0</td>\n",
       "      <td>100%</td>\n",
       "      <td>0</td>\n",
       "      <td>0</td>\n",
       "      <td>0</td>\n",
       "      <td>5N_10E</td>\n",
       "      <td>Without Self Activation</td>\n",
       "    </tr>\n",
       "    <tr>\n",
       "      <th>406</th>\n",
       "      <td>5N_10E_6</td>\n",
       "      <td>Team Size 1</td>\n",
       "      <td>0</td>\n",
       "      <td>0</td>\n",
       "      <td>1.000</td>\n",
       "      <td>0</td>\n",
       "      <td>0</td>\n",
       "      <td>100%</td>\n",
       "      <td>0</td>\n",
       "      <td>0</td>\n",
       "      <td>0</td>\n",
       "      <td>5N_10E</td>\n",
       "      <td>Without Self Activation</td>\n",
       "    </tr>\n",
       "    <tr>\n",
       "      <th>407</th>\n",
       "      <td>5N_10E_7</td>\n",
       "      <td>Team Size 1</td>\n",
       "      <td>0</td>\n",
       "      <td>0</td>\n",
       "      <td>1.000</td>\n",
       "      <td>0</td>\n",
       "      <td>0</td>\n",
       "      <td>100%</td>\n",
       "      <td>0</td>\n",
       "      <td>0</td>\n",
       "      <td>0</td>\n",
       "      <td>5N_10E</td>\n",
       "      <td>Without Self Activation</td>\n",
       "    </tr>\n",
       "    <tr>\n",
       "      <th>408</th>\n",
       "      <td>5N_10E_8</td>\n",
       "      <td>Team Size 1</td>\n",
       "      <td>0</td>\n",
       "      <td>0</td>\n",
       "      <td>1.000</td>\n",
       "      <td>0</td>\n",
       "      <td>0</td>\n",
       "      <td>100%</td>\n",
       "      <td>0</td>\n",
       "      <td>0</td>\n",
       "      <td>0</td>\n",
       "      <td>5N_10E</td>\n",
       "      <td>Without Self Activation</td>\n",
       "    </tr>\n",
       "    <tr>\n",
       "      <th>409</th>\n",
       "      <td>5N_10E_9</td>\n",
       "      <td>Team Size 1</td>\n",
       "      <td>0</td>\n",
       "      <td>0</td>\n",
       "      <td>1.000</td>\n",
       "      <td>0</td>\n",
       "      <td>0</td>\n",
       "      <td>100%</td>\n",
       "      <td>0</td>\n",
       "      <td>0</td>\n",
       "      <td>0</td>\n",
       "      <td>5N_10E</td>\n",
       "      <td>Without Self Activation</td>\n",
       "    </tr>\n",
       "  </tbody>\n",
       "</table>\n",
       "<p>820 rows × 13 columns</p>\n",
       "</div>"
      ],
      "text/plain": [
       "        index    Team_Size BiC A CC AB     F1 F1_Individual_Nodes_Considered  \\\n",
       "0    5N_10E_0  Team Size 1     0     0  0.781                              0   \n",
       "1    5N_10E_1  Team Size 1     0     0  0.637                              0   \n",
       "2    5N_10E_2  Team Size 1     0     0  0.505                              0   \n",
       "3    5N_10E_3  Team Size 1     0     0  0.493                              0   \n",
       "4    5N_10E_4  Team Size 1     0     0  0.514                              0   \n",
       "..        ...          ...   ...   ...    ...                            ...   \n",
       "405  5N_10E_5  Team Size 1     0     0  1.000                              0   \n",
       "406  5N_10E_6  Team Size 1     0     0  1.000                              0   \n",
       "407  5N_10E_7  Team Size 1     0     0  1.000                              0   \n",
       "408  5N_10E_8  Team Size 1     0     0  1.000                              0   \n",
       "409  5N_10E_9  Team Size 1     0     0  1.000                              0   \n",
       "\n",
       "    Team_Strength Density Impurity Nodes Edges   Label  \\\n",
       "0               0     20%        0     0     0  5N_10E   \n",
       "1               0     20%        0     0     0  5N_10E   \n",
       "2               0     20%        0     0     0  5N_10E   \n",
       "3               0     20%        0     0     0  5N_10E   \n",
       "4               0     20%        0     0     0  5N_10E   \n",
       "..            ...     ...      ...   ...   ...     ...   \n",
       "405             0    100%        0     0     0  5N_10E   \n",
       "406             0    100%        0     0     0  5N_10E   \n",
       "407             0    100%        0     0     0  5N_10E   \n",
       "408             0    100%        0     0     0  5N_10E   \n",
       "409             0    100%        0     0     0  5N_10E   \n",
       "\n",
       "      Self_Activation_Status  \n",
       "0       With Self Activation  \n",
       "1       With Self Activation  \n",
       "2       With Self Activation  \n",
       "3       With Self Activation  \n",
       "4       With Self Activation  \n",
       "..                       ...  \n",
       "405  Without Self Activation  \n",
       "406  Without Self Activation  \n",
       "407  Without Self Activation  \n",
       "408  Without Self Activation  \n",
       "409  Without Self Activation  \n",
       "\n",
       "[820 rows x 13 columns]"
      ]
     },
     "execution_count": 42,
     "metadata": {},
     "output_type": "execute_result"
    }
   ],
   "source": [
    "melt_table_complete"
   ]
  },
  {
   "cell_type": "code",
   "execution_count": 43,
   "metadata": {},
   "outputs": [
    {
     "data": {
      "image/png": "[encoded data removed]",
      "image/svg+xml": [
       "<?xml version=\"1.0\" encoding=\"utf-8\" standalone=\"no\"?>\n",
       "<!DOCTYPE svg PUBLIC \"-//W3C//DTD SVG 1.1//EN\"\n",
       "  \"http://www.w3.org/Graphics/SVG/1.1/DTD/svg11.dtd\">\n",
       "<svg xmlns:xlink=\"http://www.w3.org/1999/xlink\" width=\"615.007188pt\" height=\"398.011563pt\" viewBox=\"0 0 615.007188 398.011563\" xmlns=\"http://www.w3.org/2000/svg\" version=\"1.1\">\n",
       " <metadata>\n",
       "  <rdf:RDF xmlns:dc=\"http://purl.org/dc/elements/1.1/\" xmlns:cc=\"http://creativecommons.org/ns#\" xmlns:rdf=\"http://www.w3.org/1999/02/22-rdf-syntax-ns#\">\n",
       "   <cc:Work>\n",
       "    <dc:type rdf:resource=\"http://purl.org/dc/dcmitype/StillImage\"/>\n",
       "    <dc:date>2024-01-24T10:38:37.282783</dc:date>\n",
       "    <dc:format>image/svg+xml</dc:format>\n",
       "    <dc:creator>\n",
       "     <cc:Agent>\n",
       "      <dc:title>Matplotlib v3.6.0, https://matplotlib.org/</dc:title>\n",
       "     </cc:Agent>\n",
       "    </dc:creator>\n",
       "   </cc:Work>\n",
       "  </rdf:RDF>\n",
       " </metadata>\n",
       " <defs>\n",
       "  <style type=\"text/css\">*{stroke-linejoin: round; stroke-linecap: butt}</style>\n",
       " </defs>\n",
       " <g id=\"figure_1\">\n",
       "  <g id=\"patch_1\">\n",
       "   <path d=\"M 0 398.011563 \n",
       "L 615.007188 398.011563 \n",
       "L 615.007188 0 \n",
       "L 0 0 \n",
       "z\n",
       "\" style=\"fill: #ffffff\"/>\n",
       "  </g>\n",
       "  <g id=\"axes_1\">\n",
       "   <g id=\"patch_2\">\n",
       "    <path d=\"M 49.807187 354.958125 \n",
       "L 607.807188 354.958125 \n",
       "L 607.807188 22.318125 \n",
       "L 49.807187 22.318125 \n",
       "z\n",
       "\" style=\"fill: #ffffff\"/>\n",
       "   </g>\n",
       "   <g id=\"patch_3\">\n",
       "    <path d=\"M 84.06943 280.921441 \n",
       "L 119.84401 280.921441 \n",
       "L 119.84401 187.707958 \n",
       "L 84.06943 187.707958 \n",
       "L 84.06943 280.921441 \n",
       "z\n",
       "\" clip-path=\"url(#p1d4f7a9924)\" style=\"fill: #cb3335; stroke: #484848; stroke-width: 1.5; stroke-linejoin: miter\"/>\n",
       "   </g>\n",
       "   <g id=\"patch_4\">\n",
       "    <path d=\"M 120.574103 324.921257 \n",
       "L 156.348683 324.921257 \n",
       "L 156.348683 71.350064 \n",
       "L 120.574103 71.350064 \n",
       "L 120.574103 324.921257 \n",
       "z\n",
       "\" clip-path=\"url(#p1d4f7a9924)\" style=\"fill: #477ca8; stroke: #484848; stroke-width: 1.5; stroke-linejoin: miter\"/>\n",
       "   </g>\n",
       "   <g id=\"patch_5\">\n",
       "    <path d=\"M 188.368496 118.40189 \n",
       "L 224.143075 118.40189 \n",
       "L 224.143075 71.350064 \n",
       "L 188.368496 71.350064 \n",
       "L 188.368496 118.40189 \n",
       "z\n",
       "\" clip-path=\"url(#p1d4f7a9924)\" style=\"fill: #cb3335; stroke: #484848; stroke-width: 1.5; stroke-linejoin: miter\"/>\n",
       "   </g>\n",
       "   <g id=\"patch_6\">\n",
       "    <path d=\"M 224.873169 179.696431 \n",
       "L 260.647748 179.696431 \n",
       "L 260.647748 71.350064 \n",
       "L 224.873169 71.350064 \n",
       "L 224.873169 179.696431 \n",
       "z\n",
       "\" clip-path=\"url(#p1d4f7a9924)\" style=\"fill: #477ca8; stroke: #484848; stroke-width: 1.5; stroke-linejoin: miter\"/>\n",
       "   </g>\n",
       "   <g id=\"patch_7\">\n",
       "    <path d=\"M 292.667561 78.217088 \n",
       "L 328.442141 78.217088 \n",
       "L 328.442141 71.350064 \n",
       "L 292.667561 71.350064 \n",
       "L 292.667561 78.217088 \n",
       "z\n",
       "\" clip-path=\"url(#p1d4f7a9924)\" style=\"fill: #cb3335; stroke: #484848; stroke-width: 1.5; stroke-linejoin: miter\"/>\n",
       "   </g>\n",
       "   <g id=\"patch_8\">\n",
       "    <path d=\"M 329.172234 98.436656 \n",
       "L 364.946814 98.436656 \n",
       "L 364.946814 71.350064 \n",
       "L 329.172234 71.350064 \n",
       "L 329.172234 98.436656 \n",
       "z\n",
       "\" clip-path=\"url(#p1d4f7a9924)\" style=\"fill: #477ca8; stroke: #484848; stroke-width: 1.5; stroke-linejoin: miter\"/>\n",
       "   </g>\n",
       "   <g id=\"patch_9\">\n",
       "    <path d=\"M 396.966627 73.511905 \n",
       "L 432.741206 73.511905 \n",
       "L 432.741206 71.350064 \n",
       "L 396.966627 71.350064 \n",
       "L 396.966627 73.511905 \n",
       "z\n",
       "\" clip-path=\"url(#p1d4f7a9924)\" style=\"fill: #cb3335; stroke: #484848; stroke-width: 1.5; stroke-linejoin: miter\"/>\n",
       "   </g>\n",
       "   <g id=\"patch_10\">\n",
       "    <path d=\"M 433.4713 76.055247 \n",
       "L 469.245879 76.055247 \n",
       "L 469.245879 71.350064 \n",
       "L 433.4713 71.350064 \n",
       "L 433.4713 76.055247 \n",
       "z\n",
       "\" clip-path=\"url(#p1d4f7a9924)\" style=\"fill: #477ca8; stroke: #484848; stroke-width: 1.5; stroke-linejoin: miter\"/>\n",
       "   </g>\n",
       "   <g id=\"patch_11\">\n",
       "    <path d=\"M 501.265692 143.453809 \n",
       "L 537.040272 143.453809 \n",
       "L 537.040272 140.656132 \n",
       "L 501.265692 140.656132 \n",
       "L 501.265692 143.453809 \n",
       "z\n",
       "\" clip-path=\"url(#p1d4f7a9924)\" style=\"fill: #cb3335; stroke: #484848; stroke-width: 1.5; stroke-linejoin: miter\"/>\n",
       "   </g>\n",
       "   <g id=\"patch_12\">\n",
       "    <path d=\"M 537.770365 71.350064 \n",
       "L 573.544945 71.350064 \n",
       "L 573.544945 71.350064 \n",
       "L 537.770365 71.350064 \n",
       "L 537.770365 71.350064 \n",
       "z\n",
       "\" clip-path=\"url(#p1d4f7a9924)\" style=\"fill: #477ca8; stroke: #484848; stroke-width: 1.5; stroke-linejoin: miter\"/>\n",
       "   </g>\n",
       "   <g id=\"patch_13\">\n",
       "    <path d=\"M 120.209057 580.018454 \n",
       "L 120.209057 580.018454 \n",
       "L 120.209057 580.018454 \n",
       "L 120.209057 580.018454 \n",
       "z\n",
       "\" clip-path=\"url(#p1d4f7a9924)\" style=\"fill: #cb3335; stroke: #484848; stroke-width: 0.75; stroke-linejoin: miter\"/>\n",
       "   </g>\n",
       "   <g id=\"patch_14\">\n",
       "    <path d=\"M 120.209057 580.018454 \n",
       "L 120.209057 580.018454 \n",
       "L 120.209057 580.018454 \n",
       "L 120.209057 580.018454 \n",
       "z\n",
       "\" clip-path=\"url(#p1d4f7a9924)\" style=\"fill: #477ca8; stroke: #484848; stroke-width: 0.75; stroke-linejoin: miter\"/>\n",
       "   </g>\n",
       "   <g id=\"matplotlib.axis_1\">\n",
       "    <g id=\"xtick_1\">\n",
       "     <g id=\"line2d_1\">\n",
       "      <defs>\n",
       "       <path id=\"md8bbe2f0d1\" d=\"M 0 0 \n",
       "L 0 6 \n",
       "\" style=\"stroke: #000000; stroke-width: 1.25\"/>\n",
       "      </defs>\n",
       "      <g>\n",
       "       <use xlink:href=\"#md8bbe2f0d1\" x=\"120.209057\" y=\"354.958125\" style=\"stroke: #000000; stroke-width: 1.25\"/>\n",
       "      </g>\n",
       "     </g>\n",
       "     <g id=\"text_1\">\n",
       "      <!-- 20% -->\n",
       "      <g transform=\"translate(107.984447 372.816406) scale(0.11 -0.11)\">\n",
       "       <defs>\n",
       "        <path id=\"DejaVuSans-32\" d=\"M 1228 531 \n",
       "L 3431 531 \n",
       "L 3431 0 \n",
       "L 469 0 \n",
       "L 469 531 \n",
       "Q 828 903 1448 1529 \n",
       "Q 2069 2156 2228 2338 \n",
       "Q 2531 2678 2651 2914 \n",
       "Q 2772 3150 2772 3378 \n",
       "Q 2772 3750 2511 3984 \n",
       "Q 2250 4219 1831 4219 \n",
       "Q 1534 4219 1204 4116 \n",
       "Q 875 4013 500 3803 \n",
       "L 500 4441 \n",
       "Q 881 4594 1212 4672 \n",
       "Q 1544 4750 1819 4750 \n",
       "Q 2544 4750 2975 4387 \n",
       "Q 3406 4025 3406 3419 \n",
       "Q 3406 3131 3298 2873 \n",
       "Q 3191 2616 2906 2266 \n",
       "Q 2828 2175 2409 1742 \n",
       "Q 1991 1309 1228 531 \n",
       "z\n",
       "\" transform=\"scale(0.015625)\"/>\n",
       "        <path id=\"DejaVuSans-30\" d=\"M 2034 4250 \n",
       "Q 1547 4250 1301 3770 \n",
       "Q 1056 3291 1056 2328 \n",
       "Q 1056 1369 1301 889 \n",
       "Q 1547 409 2034 409 \n",
       "Q 2525 409 2770 889 \n",
       "Q 3016 1369 3016 2328 \n",
       "Q 3016 3291 2770 3770 \n",
       "Q 2525 4250 2034 4250 \n",
       "z\n",
       "M 2034 4750 \n",
       "Q 2819 4750 3233 4129 \n",
       "Q 3647 3509 3647 2328 \n",
       "Q 3647 1150 3233 529 \n",
       "Q 2819 -91 2034 -91 \n",
       "Q 1250 -91 836 529 \n",
       "Q 422 1150 422 2328 \n",
       "Q 422 3509 836 4129 \n",
       "Q 1250 4750 2034 4750 \n",
       "z\n",
       "\" transform=\"scale(0.015625)\"/>\n",
       "        <path id=\"DejaVuSans-25\" d=\"M 4653 2053 \n",
       "Q 4381 2053 4226 1822 \n",
       "Q 4072 1591 4072 1178 \n",
       "Q 4072 772 4226 539 \n",
       "Q 4381 306 4653 306 \n",
       "Q 4919 306 5073 539 \n",
       "Q 5228 772 5228 1178 \n",
       "Q 5228 1588 5073 1820 \n",
       "Q 4919 2053 4653 2053 \n",
       "z\n",
       "M 4653 2450 \n",
       "Q 5147 2450 5437 2106 \n",
       "Q 5728 1763 5728 1178 \n",
       "Q 5728 594 5436 251 \n",
       "Q 5144 -91 4653 -91 \n",
       "Q 4153 -91 3862 251 \n",
       "Q 3572 594 3572 1178 \n",
       "Q 3572 1766 3864 2108 \n",
       "Q 4156 2450 4653 2450 \n",
       "z\n",
       "M 1428 4353 \n",
       "Q 1159 4353 1004 4120 \n",
       "Q 850 3888 850 3481 \n",
       "Q 850 3069 1003 2837 \n",
       "Q 1156 2606 1428 2606 \n",
       "Q 1700 2606 1854 2837 \n",
       "Q 2009 3069 2009 3481 \n",
       "Q 2009 3884 1853 4118 \n",
       "Q 1697 4353 1428 4353 \n",
       "z\n",
       "M 4250 4750 \n",
       "L 4750 4750 \n",
       "L 1831 -91 \n",
       "L 1331 -91 \n",
       "L 4250 4750 \n",
       "z\n",
       "M 1428 4750 \n",
       "Q 1922 4750 2215 4408 \n",
       "Q 2509 4066 2509 3481 \n",
       "Q 2509 2891 2217 2550 \n",
       "Q 1925 2209 1428 2209 \n",
       "Q 931 2209 642 2551 \n",
       "Q 353 2894 353 3481 \n",
       "Q 353 4063 643 4406 \n",
       "Q 934 4750 1428 4750 \n",
       "z\n",
       "\" transform=\"scale(0.015625)\"/>\n",
       "       </defs>\n",
       "       <use xlink:href=\"#DejaVuSans-32\"/>\n",
       "       <use xlink:href=\"#DejaVuSans-30\" x=\"63.623047\"/>\n",
       "       <use xlink:href=\"#DejaVuSans-25\" x=\"127.246094\"/>\n",
       "      </g>\n",
       "     </g>\n",
       "    </g>\n",
       "    <g id=\"xtick_2\">\n",
       "     <g id=\"line2d_2\">\n",
       "      <g>\n",
       "       <use xlink:href=\"#md8bbe2f0d1\" x=\"224.508122\" y=\"354.958125\" style=\"stroke: #000000; stroke-width: 1.25\"/>\n",
       "      </g>\n",
       "     </g>\n",
       "     <g id=\"text_2\">\n",
       "      <!-- 40% -->\n",
       "      <g transform=\"translate(212.283513 372.816406) scale(0.11 -0.11)\">\n",
       "       <defs>\n",
       "        <path id=\"DejaVuSans-34\" d=\"M 2419 4116 \n",
       "L 825 1625 \n",
       "L 2419 1625 \n",
       "L 2419 4116 \n",
       "z\n",
       "M 2253 4666 \n",
       "L 3047 4666 \n",
       "L 3047 1625 \n",
       "L 3713 1625 \n",
       "L 3713 1100 \n",
       "L 3047 1100 \n",
       "L 3047 0 \n",
       "L 2419 0 \n",
       "L 2419 1100 \n",
       "L 313 1100 \n",
       "L 313 1709 \n",
       "L 2253 4666 \n",
       "z\n",
       "\" transform=\"scale(0.015625)\"/>\n",
       "       </defs>\n",
       "       <use xlink:href=\"#DejaVuSans-34\"/>\n",
       "       <use xlink:href=\"#DejaVuSans-30\" x=\"63.623047\"/>\n",
       "       <use xlink:href=\"#DejaVuSans-25\" x=\"127.246094\"/>\n",
       "      </g>\n",
       "     </g>\n",
       "    </g>\n",
       "    <g id=\"xtick_3\">\n",
       "     <g id=\"line2d_3\">\n",
       "      <g>\n",
       "       <use xlink:href=\"#md8bbe2f0d1\" x=\"328.807188\" y=\"354.958125\" style=\"stroke: #000000; stroke-width: 1.25\"/>\n",
       "      </g>\n",
       "     </g>\n",
       "     <g id=\"text_3\">\n",
       "      <!-- 60% -->\n",
       "      <g transform=\"translate(316.582578 372.816406) scale(0.11 -0.11)\">\n",
       "       <defs>\n",
       "        <path id=\"DejaVuSans-36\" d=\"M 2113 2584 \n",
       "Q 1688 2584 1439 2293 \n",
       "Q 1191 2003 1191 1497 \n",
       "Q 1191 994 1439 701 \n",
       "Q 1688 409 2113 409 \n",
       "Q 2538 409 2786 701 \n",
       "Q 3034 994 3034 1497 \n",
       "Q 3034 2003 2786 2293 \n",
       "Q 2538 2584 2113 2584 \n",
       "z\n",
       "M 3366 4563 \n",
       "L 3366 3988 \n",
       "Q 3128 4100 2886 4159 \n",
       "Q 2644 4219 2406 4219 \n",
       "Q 1781 4219 1451 3797 \n",
       "Q 1122 3375 1075 2522 \n",
       "Q 1259 2794 1537 2939 \n",
       "Q 1816 3084 2150 3084 \n",
       "Q 2853 3084 3261 2657 \n",
       "Q 3669 2231 3669 1497 \n",
       "Q 3669 778 3244 343 \n",
       "Q 2819 -91 2113 -91 \n",
       "Q 1303 -91 875 529 \n",
       "Q 447 1150 447 2328 \n",
       "Q 447 3434 972 4092 \n",
       "Q 1497 4750 2381 4750 \n",
       "Q 2619 4750 2861 4703 \n",
       "Q 3103 4656 3366 4563 \n",
       "z\n",
       "\" transform=\"scale(0.015625)\"/>\n",
       "       </defs>\n",
       "       <use xlink:href=\"#DejaVuSans-36\"/>\n",
       "       <use xlink:href=\"#DejaVuSans-30\" x=\"63.623047\"/>\n",
       "       <use xlink:href=\"#DejaVuSans-25\" x=\"127.246094\"/>\n",
       "      </g>\n",
       "     </g>\n",
       "    </g>\n",
       "    <g id=\"xtick_4\">\n",
       "     <g id=\"line2d_4\">\n",
       "      <g>\n",
       "       <use xlink:href=\"#md8bbe2f0d1\" x=\"433.106253\" y=\"354.958125\" style=\"stroke: #000000; stroke-width: 1.25\"/>\n",
       "      </g>\n",
       "     </g>\n",
       "     <g id=\"text_4\">\n",
       "      <!-- 80% -->\n",
       "      <g transform=\"translate(420.881644 372.816406) scale(0.11 -0.11)\">\n",
       "       <defs>\n",
       "        <path id=\"DejaVuSans-38\" d=\"M 2034 2216 \n",
       "Q 1584 2216 1326 1975 \n",
       "Q 1069 1734 1069 1313 \n",
       "Q 1069 891 1326 650 \n",
       "Q 1584 409 2034 409 \n",
       "Q 2484 409 2743 651 \n",
       "Q 3003 894 3003 1313 \n",
       "Q 3003 1734 2745 1975 \n",
       "Q 2488 2216 2034 2216 \n",
       "z\n",
       "M 1403 2484 \n",
       "Q 997 2584 770 2862 \n",
       "Q 544 3141 544 3541 \n",
       "Q 544 4100 942 4425 \n",
       "Q 1341 4750 2034 4750 \n",
       "Q 2731 4750 3128 4425 \n",
       "Q 3525 4100 3525 3541 \n",
       "Q 3525 3141 3298 2862 \n",
       "Q 3072 2584 2669 2484 \n",
       "Q 3125 2378 3379 2068 \n",
       "Q 3634 1759 3634 1313 \n",
       "Q 3634 634 3220 271 \n",
       "Q 2806 -91 2034 -91 \n",
       "Q 1263 -91 848 271 \n",
       "Q 434 634 434 1313 \n",
       "Q 434 1759 690 2068 \n",
       "Q 947 2378 1403 2484 \n",
       "z\n",
       "M 1172 3481 \n",
       "Q 1172 3119 1398 2916 \n",
       "Q 1625 2713 2034 2713 \n",
       "Q 2441 2713 2670 2916 \n",
       "Q 2900 3119 2900 3481 \n",
       "Q 2900 3844 2670 4047 \n",
       "Q 2441 4250 2034 4250 \n",
       "Q 1625 4250 1398 4047 \n",
       "Q 1172 3844 1172 3481 \n",
       "z\n",
       "\" transform=\"scale(0.015625)\"/>\n",
       "       </defs>\n",
       "       <use xlink:href=\"#DejaVuSans-38\"/>\n",
       "       <use xlink:href=\"#DejaVuSans-30\" x=\"63.623047\"/>\n",
       "       <use xlink:href=\"#DejaVuSans-25\" x=\"127.246094\"/>\n",
       "      </g>\n",
       "     </g>\n",
       "    </g>\n",
       "    <g id=\"xtick_5\">\n",
       "     <g id=\"line2d_5\">\n",
       "      <g>\n",
       "       <use xlink:href=\"#md8bbe2f0d1\" x=\"537.405318\" y=\"354.958125\" style=\"stroke: #000000; stroke-width: 1.25\"/>\n",
       "      </g>\n",
       "     </g>\n",
       "     <g id=\"text_5\">\n",
       "      <!-- 100% -->\n",
       "      <g transform=\"translate(521.681334 372.816406) scale(0.11 -0.11)\">\n",
       "       <defs>\n",
       "        <path id=\"DejaVuSans-31\" d=\"M 794 531 \n",
       "L 1825 531 \n",
       "L 1825 4091 \n",
       "L 703 3866 \n",
       "L 703 4441 \n",
       "L 1819 4666 \n",
       "L 2450 4666 \n",
       "L 2450 531 \n",
       "L 3481 531 \n",
       "L 3481 0 \n",
       "L 794 0 \n",
       "L 794 531 \n",
       "z\n",
       "\" transform=\"scale(0.015625)\"/>\n",
       "       </defs>\n",
       "       <use xlink:href=\"#DejaVuSans-31\"/>\n",
       "       <use xlink:href=\"#DejaVuSans-30\" x=\"63.623047\"/>\n",
       "       <use xlink:href=\"#DejaVuSans-30\" x=\"127.246094\"/>\n",
       "       <use xlink:href=\"#DejaVuSans-25\" x=\"190.869141\"/>\n",
       "      </g>\n",
       "     </g>\n",
       "    </g>\n",
       "    <g id=\"text_6\">\n",
       "     <!-- Core Density -->\n",
       "     <g transform=\"translate(285.435625 388.222188) scale(0.12 -0.12)\">\n",
       "      <defs>\n",
       "       <path id=\"DejaVuSans-Bold-43\" d=\"M 4288 256 \n",
       "Q 3956 84 3597 -3 \n",
       "Q 3238 -91 2847 -91 \n",
       "Q 1681 -91 1000 561 \n",
       "Q 319 1213 319 2328 \n",
       "Q 319 3447 1000 4098 \n",
       "Q 1681 4750 2847 4750 \n",
       "Q 3238 4750 3597 4662 \n",
       "Q 3956 4575 4288 4403 \n",
       "L 4288 3438 \n",
       "Q 3953 3666 3628 3772 \n",
       "Q 3303 3878 2944 3878 \n",
       "Q 2300 3878 1931 3465 \n",
       "Q 1563 3053 1563 2328 \n",
       "Q 1563 1606 1931 1193 \n",
       "Q 2300 781 2944 781 \n",
       "Q 3303 781 3628 887 \n",
       "Q 3953 994 4288 1222 \n",
       "L 4288 256 \n",
       "z\n",
       "\" transform=\"scale(0.015625)\"/>\n",
       "       <path id=\"DejaVuSans-Bold-6f\" d=\"M 2203 2784 \n",
       "Q 1831 2784 1636 2517 \n",
       "Q 1441 2250 1441 1747 \n",
       "Q 1441 1244 1636 976 \n",
       "Q 1831 709 2203 709 \n",
       "Q 2569 709 2762 976 \n",
       "Q 2956 1244 2956 1747 \n",
       "Q 2956 2250 2762 2517 \n",
       "Q 2569 2784 2203 2784 \n",
       "z\n",
       "M 2203 3584 \n",
       "Q 3106 3584 3614 3096 \n",
       "Q 4122 2609 4122 1747 \n",
       "Q 4122 884 3614 396 \n",
       "Q 3106 -91 2203 -91 \n",
       "Q 1297 -91 786 396 \n",
       "Q 275 884 275 1747 \n",
       "Q 275 2609 786 3096 \n",
       "Q 1297 3584 2203 3584 \n",
       "z\n",
       "\" transform=\"scale(0.015625)\"/>\n",
       "       <path id=\"DejaVuSans-Bold-72\" d=\"M 3138 2547 \n",
       "Q 2991 2616 2845 2648 \n",
       "Q 2700 2681 2553 2681 \n",
       "Q 2122 2681 1889 2404 \n",
       "Q 1656 2128 1656 1613 \n",
       "L 1656 0 \n",
       "L 538 0 \n",
       "L 538 3500 \n",
       "L 1656 3500 \n",
       "L 1656 2925 \n",
       "Q 1872 3269 2151 3426 \n",
       "Q 2431 3584 2822 3584 \n",
       "Q 2878 3584 2943 3579 \n",
       "Q 3009 3575 3134 3559 \n",
       "L 3138 2547 \n",
       "z\n",
       "\" transform=\"scale(0.015625)\"/>\n",
       "       <path id=\"DejaVuSans-Bold-65\" d=\"M 4031 1759 \n",
       "L 4031 1441 \n",
       "L 1416 1441 \n",
       "Q 1456 1047 1700 850 \n",
       "Q 1944 653 2381 653 \n",
       "Q 2734 653 3104 758 \n",
       "Q 3475 863 3866 1075 \n",
       "L 3866 213 \n",
       "Q 3469 63 3072 -14 \n",
       "Q 2675 -91 2278 -91 \n",
       "Q 1328 -91 801 392 \n",
       "Q 275 875 275 1747 \n",
       "Q 275 2603 792 3093 \n",
       "Q 1309 3584 2216 3584 \n",
       "Q 3041 3584 3536 3087 \n",
       "Q 4031 2591 4031 1759 \n",
       "z\n",
       "M 2881 2131 \n",
       "Q 2881 2450 2695 2645 \n",
       "Q 2509 2841 2209 2841 \n",
       "Q 1884 2841 1681 2658 \n",
       "Q 1478 2475 1428 2131 \n",
       "L 2881 2131 \n",
       "z\n",
       "\" transform=\"scale(0.015625)\"/>\n",
       "       <path id=\"DejaVuSans-Bold-20\" transform=\"scale(0.015625)\"/>\n",
       "       <path id=\"DejaVuSans-Bold-44\" d=\"M 1791 3756 \n",
       "L 1791 909 \n",
       "L 2222 909 \n",
       "Q 2959 909 3348 1275 \n",
       "Q 3738 1641 3738 2338 \n",
       "Q 3738 3031 3350 3393 \n",
       "Q 2963 3756 2222 3756 \n",
       "L 1791 3756 \n",
       "z\n",
       "M 588 4666 \n",
       "L 1856 4666 \n",
       "Q 2919 4666 3439 4514 \n",
       "Q 3959 4363 4331 4000 \n",
       "Q 4659 3684 4818 3271 \n",
       "Q 4978 2859 4978 2338 \n",
       "Q 4978 1809 4818 1395 \n",
       "Q 4659 981 4331 666 \n",
       "Q 3956 303 3431 151 \n",
       "Q 2906 0 1856 0 \n",
       "L 588 0 \n",
       "L 588 4666 \n",
       "z\n",
       "\" transform=\"scale(0.015625)\"/>\n",
       "       <path id=\"DejaVuSans-Bold-6e\" d=\"M 4056 2131 \n",
       "L 4056 0 \n",
       "L 2931 0 \n",
       "L 2931 347 \n",
       "L 2931 1631 \n",
       "Q 2931 2084 2911 2256 \n",
       "Q 2891 2428 2841 2509 \n",
       "Q 2775 2619 2662 2680 \n",
       "Q 2550 2741 2406 2741 \n",
       "Q 2056 2741 1856 2470 \n",
       "Q 1656 2200 1656 1722 \n",
       "L 1656 0 \n",
       "L 538 0 \n",
       "L 538 3500 \n",
       "L 1656 3500 \n",
       "L 1656 2988 \n",
       "Q 1909 3294 2193 3439 \n",
       "Q 2478 3584 2822 3584 \n",
       "Q 3428 3584 3742 3212 \n",
       "Q 4056 2841 4056 2131 \n",
       "z\n",
       "\" transform=\"scale(0.015625)\"/>\n",
       "       <path id=\"DejaVuSans-Bold-73\" d=\"M 3272 3391 \n",
       "L 3272 2541 \n",
       "Q 2913 2691 2578 2766 \n",
       "Q 2244 2841 1947 2841 \n",
       "Q 1628 2841 1473 2761 \n",
       "Q 1319 2681 1319 2516 \n",
       "Q 1319 2381 1436 2309 \n",
       "Q 1553 2238 1856 2203 \n",
       "L 2053 2175 \n",
       "Q 2913 2066 3209 1816 \n",
       "Q 3506 1566 3506 1031 \n",
       "Q 3506 472 3093 190 \n",
       "Q 2681 -91 1863 -91 \n",
       "Q 1516 -91 1145 -36 \n",
       "Q 775 19 384 128 \n",
       "L 384 978 \n",
       "Q 719 816 1070 734 \n",
       "Q 1422 653 1784 653 \n",
       "Q 2113 653 2278 743 \n",
       "Q 2444 834 2444 1013 \n",
       "Q 2444 1163 2330 1236 \n",
       "Q 2216 1309 1875 1350 \n",
       "L 1678 1375 \n",
       "Q 931 1469 631 1722 \n",
       "Q 331 1975 331 2491 \n",
       "Q 331 3047 712 3315 \n",
       "Q 1094 3584 1881 3584 \n",
       "Q 2191 3584 2531 3537 \n",
       "Q 2872 3491 3272 3391 \n",
       "z\n",
       "\" transform=\"scale(0.015625)\"/>\n",
       "       <path id=\"DejaVuSans-Bold-69\" d=\"M 538 3500 \n",
       "L 1656 3500 \n",
       "L 1656 0 \n",
       "L 538 0 \n",
       "L 538 3500 \n",
       "z\n",
       "M 538 4863 \n",
       "L 1656 4863 \n",
       "L 1656 3950 \n",
       "L 538 3950 \n",
       "L 538 4863 \n",
       "z\n",
       "\" transform=\"scale(0.015625)\"/>\n",
       "       <path id=\"DejaVuSans-Bold-74\" d=\"M 1759 4494 \n",
       "L 1759 3500 \n",
       "L 2913 3500 \n",
       "L 2913 2700 \n",
       "L 1759 2700 \n",
       "L 1759 1216 \n",
       "Q 1759 972 1856 886 \n",
       "Q 1953 800 2241 800 \n",
       "L 2816 800 \n",
       "L 2816 0 \n",
       "L 1856 0 \n",
       "Q 1194 0 917 276 \n",
       "Q 641 553 641 1216 \n",
       "L 641 2700 \n",
       "L 84 2700 \n",
       "L 84 3500 \n",
       "L 641 3500 \n",
       "L 641 4494 \n",
       "L 1759 4494 \n",
       "z\n",
       "\" transform=\"scale(0.015625)\"/>\n",
       "       <path id=\"DejaVuSans-Bold-79\" d=\"M 78 3500 \n",
       "L 1197 3500 \n",
       "L 2138 1125 \n",
       "L 2938 3500 \n",
       "L 4056 3500 \n",
       "L 2584 -331 \n",
       "Q 2363 -916 2067 -1148 \n",
       "Q 1772 -1381 1288 -1381 \n",
       "L 641 -1381 \n",
       "L 641 -647 \n",
       "L 991 -647 \n",
       "Q 1275 -647 1404 -556 \n",
       "Q 1534 -466 1606 -231 \n",
       "L 1638 -134 \n",
       "L 78 3500 \n",
       "z\n",
       "\" transform=\"scale(0.015625)\"/>\n",
       "      </defs>\n",
       "      <use xlink:href=\"#DejaVuSans-Bold-43\"/>\n",
       "      <use xlink:href=\"#DejaVuSans-Bold-6f\" x=\"73.388672\"/>\n",
       "      <use xlink:href=\"#DejaVuSans-Bold-72\" x=\"142.089844\"/>\n",
       "      <use xlink:href=\"#DejaVuSans-Bold-65\" x=\"191.40625\"/>\n",
       "      <use xlink:href=\"#DejaVuSans-Bold-20\" x=\"259.228516\"/>\n",
       "      <use xlink:href=\"#DejaVuSans-Bold-44\" x=\"294.042969\"/>\n",
       "      <use xlink:href=\"#DejaVuSans-Bold-65\" x=\"377.050781\"/>\n",
       "      <use xlink:href=\"#DejaVuSans-Bold-6e\" x=\"444.873047\"/>\n",
       "      <use xlink:href=\"#DejaVuSans-Bold-73\" x=\"516.064453\"/>\n",
       "      <use xlink:href=\"#DejaVuSans-Bold-69\" x=\"575.585938\"/>\n",
       "      <use xlink:href=\"#DejaVuSans-Bold-74\" x=\"609.863281\"/>\n",
       "      <use xlink:href=\"#DejaVuSans-Bold-79\" x=\"657.666016\"/>\n",
       "     </g>\n",
       "    </g>\n",
       "   </g>\n",
       "   <g id=\"matplotlib.axis_2\">\n",
       "    <g id=\"ytick_1\">\n",
       "     <g id=\"line2d_6\">\n",
       "      <defs>\n",
       "       <path id=\"m6bde46ddf8\" d=\"M 0 0 \n",
       "L -6 0 \n",
       "\" style=\"stroke: #000000; stroke-width: 1.25\"/>\n",
       "      </defs>\n",
       "      <g>\n",
       "       <use xlink:href=\"#m6bde46ddf8\" x=\"49.807187\" y=\"325.684259\" style=\"stroke: #000000; stroke-width: 1.25\"/>\n",
       "      </g>\n",
       "     </g>\n",
       "     <g id=\"text_7\">\n",
       "      <!-- 0.5 -->\n",
       "      <g transform=\"translate(22.81375 329.8634) scale(0.11 -0.11)\">\n",
       "       <defs>\n",
       "        <path id=\"DejaVuSans-2e\" d=\"M 684 794 \n",
       "L 1344 794 \n",
       "L 1344 0 \n",
       "L 684 0 \n",
       "L 684 794 \n",
       "z\n",
       "\" transform=\"scale(0.015625)\"/>\n",
       "        <path id=\"DejaVuSans-35\" d=\"M 691 4666 \n",
       "L 3169 4666 \n",
       "L 3169 4134 \n",
       "L 1269 4134 \n",
       "L 1269 2991 \n",
       "Q 1406 3038 1543 3061 \n",
       "Q 1681 3084 1819 3084 \n",
       "Q 2600 3084 3056 2656 \n",
       "Q 3513 2228 3513 1497 \n",
       "Q 3513 744 3044 326 \n",
       "Q 2575 -91 1722 -91 \n",
       "Q 1428 -91 1123 -41 \n",
       "Q 819 9 494 109 \n",
       "L 494 744 \n",
       "Q 775 591 1075 516 \n",
       "Q 1375 441 1709 441 \n",
       "Q 2250 441 2565 725 \n",
       "Q 2881 1009 2881 1497 \n",
       "Q 2881 1984 2565 2268 \n",
       "Q 2250 2553 1709 2553 \n",
       "Q 1456 2553 1204 2497 \n",
       "Q 953 2441 691 2322 \n",
       "L 691 4666 \n",
       "z\n",
       "\" transform=\"scale(0.015625)\"/>\n",
       "       </defs>\n",
       "       <use xlink:href=\"#DejaVuSans-30\"/>\n",
       "       <use xlink:href=\"#DejaVuSans-2e\" x=\"63.623047\"/>\n",
       "       <use xlink:href=\"#DejaVuSans-35\" x=\"95.410156\"/>\n",
       "      </g>\n",
       "     </g>\n",
       "    </g>\n",
       "    <g id=\"ytick_2\">\n",
       "     <g id=\"line2d_7\">\n",
       "      <g>\n",
       "       <use xlink:href=\"#m6bde46ddf8\" x=\"49.807187\" y=\"274.81742\" style=\"stroke: #000000; stroke-width: 1.25\"/>\n",
       "      </g>\n",
       "     </g>\n",
       "     <g id=\"text_8\">\n",
       "      <!-- 0.6 -->\n",
       "      <g transform=\"translate(22.81375 278.996561) scale(0.11 -0.11)\">\n",
       "       <use xlink:href=\"#DejaVuSans-30\"/>\n",
       "       <use xlink:href=\"#DejaVuSans-2e\" x=\"63.623047\"/>\n",
       "       <use xlink:href=\"#DejaVuSans-36\" x=\"95.410156\"/>\n",
       "      </g>\n",
       "     </g>\n",
       "    </g>\n",
       "    <g id=\"ytick_3\">\n",
       "     <g id=\"line2d_8\">\n",
       "      <g>\n",
       "       <use xlink:href=\"#m6bde46ddf8\" x=\"49.807187\" y=\"223.950581\" style=\"stroke: #000000; stroke-width: 1.25\"/>\n",
       "      </g>\n",
       "     </g>\n",
       "     <g id=\"text_9\">\n",
       "      <!-- 0.7 -->\n",
       "      <g transform=\"translate(22.81375 228.129722) scale(0.11 -0.11)\">\n",
       "       <defs>\n",
       "        <path id=\"DejaVuSans-37\" d=\"M 525 4666 \n",
       "L 3525 4666 \n",
       "L 3525 4397 \n",
       "L 1831 0 \n",
       "L 1172 0 \n",
       "L 2766 4134 \n",
       "L 525 4134 \n",
       "L 525 4666 \n",
       "z\n",
       "\" transform=\"scale(0.015625)\"/>\n",
       "       </defs>\n",
       "       <use xlink:href=\"#DejaVuSans-30\"/>\n",
       "       <use xlink:href=\"#DejaVuSans-2e\" x=\"63.623047\"/>\n",
       "       <use xlink:href=\"#DejaVuSans-37\" x=\"95.410156\"/>\n",
       "      </g>\n",
       "     </g>\n",
       "    </g>\n",
       "    <g id=\"ytick_4\">\n",
       "     <g id=\"line2d_9\">\n",
       "      <g>\n",
       "       <use xlink:href=\"#m6bde46ddf8\" x=\"49.807187\" y=\"173.083742\" style=\"stroke: #000000; stroke-width: 1.25\"/>\n",
       "      </g>\n",
       "     </g>\n",
       "     <g id=\"text_10\">\n",
       "      <!-- 0.8 -->\n",
       "      <g transform=\"translate(22.81375 177.262883) scale(0.11 -0.11)\">\n",
       "       <use xlink:href=\"#DejaVuSans-30\"/>\n",
       "       <use xlink:href=\"#DejaVuSans-2e\" x=\"63.623047\"/>\n",
       "       <use xlink:href=\"#DejaVuSans-38\" x=\"95.410156\"/>\n",
       "      </g>\n",
       "     </g>\n",
       "    </g>\n",
       "    <g id=\"ytick_5\">\n",
       "     <g id=\"line2d_10\">\n",
       "      <g>\n",
       "       <use xlink:href=\"#m6bde46ddf8\" x=\"49.807187\" y=\"122.216903\" style=\"stroke: #000000; stroke-width: 1.25\"/>\n",
       "      </g>\n",
       "     </g>\n",
       "     <g id=\"text_11\">\n",
       "      <!-- 0.9 -->\n",
       "      <g transform=\"translate(22.81375 126.396044) scale(0.11 -0.11)\">\n",
       "       <defs>\n",
       "        <path id=\"DejaVuSans-39\" d=\"M 703 97 \n",
       "L 703 672 \n",
       "Q 941 559 1184 500 \n",
       "Q 1428 441 1663 441 \n",
       "Q 2288 441 2617 861 \n",
       "Q 2947 1281 2994 2138 \n",
       "Q 2813 1869 2534 1725 \n",
       "Q 2256 1581 1919 1581 \n",
       "Q 1219 1581 811 2004 \n",
       "Q 403 2428 403 3163 \n",
       "Q 403 3881 828 4315 \n",
       "Q 1253 4750 1959 4750 \n",
       "Q 2769 4750 3195 4129 \n",
       "Q 3622 3509 3622 2328 \n",
       "Q 3622 1225 3098 567 \n",
       "Q 2575 -91 1691 -91 \n",
       "Q 1453 -91 1209 -44 \n",
       "Q 966 3 703 97 \n",
       "z\n",
       "M 1959 2075 \n",
       "Q 2384 2075 2632 2365 \n",
       "Q 2881 2656 2881 3163 \n",
       "Q 2881 3666 2632 3958 \n",
       "Q 2384 4250 1959 4250 \n",
       "Q 1534 4250 1286 3958 \n",
       "Q 1038 3666 1038 3163 \n",
       "Q 1038 2656 1286 2365 \n",
       "Q 1534 2075 1959 2075 \n",
       "z\n",
       "\" transform=\"scale(0.015625)\"/>\n",
       "       </defs>\n",
       "       <use xlink:href=\"#DejaVuSans-30\"/>\n",
       "       <use xlink:href=\"#DejaVuSans-2e\" x=\"63.623047\"/>\n",
       "       <use xlink:href=\"#DejaVuSans-39\" x=\"95.410156\"/>\n",
       "      </g>\n",
       "     </g>\n",
       "    </g>\n",
       "    <g id=\"ytick_6\">\n",
       "     <g id=\"line2d_11\">\n",
       "      <g>\n",
       "       <use xlink:href=\"#m6bde46ddf8\" x=\"49.807187\" y=\"71.350064\" style=\"stroke: #000000; stroke-width: 1.25\"/>\n",
       "      </g>\n",
       "     </g>\n",
       "     <g id=\"text_12\">\n",
       "      <!-- 1.0 -->\n",
       "      <g transform=\"translate(22.81375 75.529205) scale(0.11 -0.11)\">\n",
       "       <use xlink:href=\"#DejaVuSans-31\"/>\n",
       "       <use xlink:href=\"#DejaVuSans-2e\" x=\"63.623047\"/>\n",
       "       <use xlink:href=\"#DejaVuSans-30\" x=\"95.410156\"/>\n",
       "      </g>\n",
       "     </g>\n",
       "    </g>\n",
       "    <g id=\"text_13\">\n",
       "     <!-- F1 -->\n",
       "     <g transform=\"translate(16.318125 196.911563) rotate(-90) scale(0.12 -0.12)\">\n",
       "      <defs>\n",
       "       <path id=\"DejaVuSans-Bold-46\" d=\"M 588 4666 \n",
       "L 3834 4666 \n",
       "L 3834 3756 \n",
       "L 1791 3756 \n",
       "L 1791 2888 \n",
       "L 3713 2888 \n",
       "L 3713 1978 \n",
       "L 1791 1978 \n",
       "L 1791 0 \n",
       "L 588 0 \n",
       "L 588 4666 \n",
       "z\n",
       "\" transform=\"scale(0.015625)\"/>\n",
       "       <path id=\"DejaVuSans-Bold-31\" d=\"M 750 831 \n",
       "L 1813 831 \n",
       "L 1813 3847 \n",
       "L 722 3622 \n",
       "L 722 4441 \n",
       "L 1806 4666 \n",
       "L 2950 4666 \n",
       "L 2950 831 \n",
       "L 4013 831 \n",
       "L 4013 0 \n",
       "L 750 0 \n",
       "L 750 831 \n",
       "z\n",
       "\" transform=\"scale(0.015625)\"/>\n",
       "      </defs>\n",
       "      <use xlink:href=\"#DejaVuSans-Bold-46\"/>\n",
       "      <use xlink:href=\"#DejaVuSans-Bold-31\" x=\"68.310547\"/>\n",
       "     </g>\n",
       "    </g>\n",
       "   </g>\n",
       "   <g id=\"line2d_12\">\n",
       "    <path d=\"M 101.95672 280.921441 \n",
       "L 101.95672 336.874964 \n",
       "\" clip-path=\"url(#p1d4f7a9924)\" style=\"fill: none; stroke: #484848; stroke-width: 1.5; stroke-linecap: square\"/>\n",
       "   </g>\n",
       "   <g id=\"line2d_13\">\n",
       "    <path d=\"M 101.95672 187.707958 \n",
       "L 101.95672 75.419411 \n",
       "\" clip-path=\"url(#p1d4f7a9924)\" style=\"fill: none; stroke: #484848; stroke-width: 1.5; stroke-linecap: square\"/>\n",
       "   </g>\n",
       "   <g id=\"line2d_14\">\n",
       "    <path d=\"M 93.013075 336.874964 \n",
       "L 110.900365 336.874964 \n",
       "\" clip-path=\"url(#p1d4f7a9924)\" style=\"fill: none; stroke: #484848; stroke-width: 1.5; stroke-linecap: square\"/>\n",
       "   </g>\n",
       "   <g id=\"line2d_15\">\n",
       "    <path d=\"M 93.013075 75.419411 \n",
       "L 110.900365 75.419411 \n",
       "\" clip-path=\"url(#p1d4f7a9924)\" style=\"fill: none; stroke: #484848; stroke-width: 1.5; stroke-linecap: square\"/>\n",
       "   </g>\n",
       "   <g id=\"line2d_16\"/>\n",
       "   <g id=\"line2d_17\">\n",
       "    <path d=\"M 138.461393 324.921257 \n",
       "L 138.461393 341.452979 \n",
       "\" clip-path=\"url(#p1d4f7a9924)\" style=\"fill: none; stroke: #484848; stroke-width: 1.5; stroke-linecap: square\"/>\n",
       "   </g>\n",
       "   <g id=\"line2d_18\">\n",
       "    <path d=\"M 138.461393 71.350064 \n",
       "L 138.461393 71.350064 \n",
       "\" clip-path=\"url(#p1d4f7a9924)\" style=\"fill: none; stroke: #484848; stroke-width: 1.5; stroke-linecap: square\"/>\n",
       "   </g>\n",
       "   <g id=\"line2d_19\">\n",
       "    <path d=\"M 129.517748 341.452979 \n",
       "L 147.405038 341.452979 \n",
       "\" clip-path=\"url(#p1d4f7a9924)\" style=\"fill: none; stroke: #484848; stroke-width: 1.5; stroke-linecap: square\"/>\n",
       "   </g>\n",
       "   <g id=\"line2d_20\">\n",
       "    <path d=\"M 129.517748 71.350064 \n",
       "L 147.405038 71.350064 \n",
       "\" clip-path=\"url(#p1d4f7a9924)\" style=\"fill: none; stroke: #484848; stroke-width: 1.5; stroke-linecap: square\"/>\n",
       "   </g>\n",
       "   <g id=\"line2d_21\"/>\n",
       "   <g id=\"line2d_22\">\n",
       "    <path d=\"M 206.255786 118.40189 \n",
       "L 206.255786 188.852462 \n",
       "\" clip-path=\"url(#p1d4f7a9924)\" style=\"fill: none; stroke: #484848; stroke-width: 1.5; stroke-linecap: square\"/>\n",
       "   </g>\n",
       "   <g id=\"line2d_23\">\n",
       "    <path d=\"M 206.255786 71.350064 \n",
       "L 206.255786 71.350064 \n",
       "\" clip-path=\"url(#p1d4f7a9924)\" style=\"fill: none; stroke: #484848; stroke-width: 1.5; stroke-linecap: square\"/>\n",
       "   </g>\n",
       "   <g id=\"line2d_24\">\n",
       "    <path d=\"M 197.312141 188.852462 \n",
       "L 215.19943 188.852462 \n",
       "\" clip-path=\"url(#p1d4f7a9924)\" style=\"fill: none; stroke: #484848; stroke-width: 1.5; stroke-linecap: square\"/>\n",
       "   </g>\n",
       "   <g id=\"line2d_25\">\n",
       "    <path d=\"M 197.312141 71.350064 \n",
       "L 215.19943 71.350064 \n",
       "\" clip-path=\"url(#p1d4f7a9924)\" style=\"fill: none; stroke: #484848; stroke-width: 1.5; stroke-linecap: square\"/>\n",
       "   </g>\n",
       "   <g id=\"line2d_26\">\n",
       "    <defs>\n",
       "     <path id=\"m5de17fbf3f\" d=\"M -0 3.535534 \n",
       "L 2.12132 0 \n",
       "L -0 -3.535534 \n",
       "L -2.12132 -0 \n",
       "z\n",
       "\" style=\"stroke: #484848; stroke-linejoin: miter\"/>\n",
       "    </defs>\n",
       "    <g clip-path=\"url(#p1d4f7a9924)\">\n",
       "     <use xlink:href=\"#m5de17fbf3f\" x=\"206.255786\" y=\"268.7134\" style=\"fill: #484848; stroke: #484848; stroke-linejoin: miter\"/>\n",
       "     <use xlink:href=\"#m5de17fbf3f\" x=\"206.255786\" y=\"280.921441\" style=\"fill: #484848; stroke: #484848; stroke-linejoin: miter\"/>\n",
       "     <use xlink:href=\"#m5de17fbf3f\" x=\"206.255786\" y=\"299.742171\" style=\"fill: #484848; stroke: #484848; stroke-linejoin: miter\"/>\n",
       "     <use xlink:href=\"#m5de17fbf3f\" x=\"206.255786\" y=\"191.904473\" style=\"fill: #484848; stroke: #484848; stroke-linejoin: miter\"/>\n",
       "     <use xlink:href=\"#m5de17fbf3f\" x=\"206.255786\" y=\"261.592042\" style=\"fill: #484848; stroke: #484848; stroke-linejoin: miter\"/>\n",
       "     <use xlink:href=\"#m5de17fbf3f\" x=\"206.255786\" y=\"196.482488\" style=\"fill: #484848; stroke: #484848; stroke-linejoin: miter\"/>\n",
       "     <use xlink:href=\"#m5de17fbf3f\" x=\"206.255786\" y=\"261.083374\" style=\"fill: #484848; stroke: #484848; stroke-linejoin: miter\"/>\n",
       "     <use xlink:href=\"#m5de17fbf3f\" x=\"206.255786\" y=\"318.054233\" style=\"fill: #484848; stroke: #484848; stroke-linejoin: miter\"/>\n",
       "     <use xlink:href=\"#m5de17fbf3f\" x=\"206.255786\" y=\"248.366664\" style=\"fill: #484848; stroke: #484848; stroke-linejoin: miter\"/>\n",
       "    </g>\n",
       "   </g>\n",
       "   <g id=\"line2d_27\">\n",
       "    <path d=\"M 242.760459 179.696431 \n",
       "L 242.760459 311.950213 \n",
       "\" clip-path=\"url(#p1d4f7a9924)\" style=\"fill: none; stroke: #484848; stroke-width: 1.5; stroke-linecap: square\"/>\n",
       "   </g>\n",
       "   <g id=\"line2d_28\">\n",
       "    <path d=\"M 242.760459 71.350064 \n",
       "L 242.760459 71.350064 \n",
       "\" clip-path=\"url(#p1d4f7a9924)\" style=\"fill: none; stroke: #484848; stroke-width: 1.5; stroke-linecap: square\"/>\n",
       "   </g>\n",
       "   <g id=\"line2d_29\">\n",
       "    <path d=\"M 233.816814 311.950213 \n",
       "L 251.704103 311.950213 \n",
       "\" clip-path=\"url(#p1d4f7a9924)\" style=\"fill: none; stroke: #484848; stroke-width: 1.5; stroke-linecap: square\"/>\n",
       "   </g>\n",
       "   <g id=\"line2d_30\">\n",
       "    <path d=\"M 233.816814 71.350064 \n",
       "L 251.704103 71.350064 \n",
       "\" clip-path=\"url(#p1d4f7a9924)\" style=\"fill: none; stroke: #484848; stroke-width: 1.5; stroke-linecap: square\"/>\n",
       "   </g>\n",
       "   <g id=\"line2d_31\"/>\n",
       "   <g id=\"line2d_32\">\n",
       "    <path d=\"M 310.554851 78.217088 \n",
       "L 310.554851 87.627453 \n",
       "\" clip-path=\"url(#p1d4f7a9924)\" style=\"fill: none; stroke: #484848; stroke-width: 1.5; stroke-linecap: square\"/>\n",
       "   </g>\n",
       "   <g id=\"line2d_33\">\n",
       "    <path d=\"M 310.554851 71.350064 \n",
       "L 310.554851 71.350064 \n",
       "\" clip-path=\"url(#p1d4f7a9924)\" style=\"fill: none; stroke: #484848; stroke-width: 1.5; stroke-linecap: square\"/>\n",
       "   </g>\n",
       "   <g id=\"line2d_34\">\n",
       "    <path d=\"M 301.611206 87.627453 \n",
       "L 319.498496 87.627453 \n",
       "\" clip-path=\"url(#p1d4f7a9924)\" style=\"fill: none; stroke: #484848; stroke-width: 1.5; stroke-linecap: square\"/>\n",
       "   </g>\n",
       "   <g id=\"line2d_35\">\n",
       "    <path d=\"M 301.611206 71.350064 \n",
       "L 319.498496 71.350064 \n",
       "\" clip-path=\"url(#p1d4f7a9924)\" style=\"fill: none; stroke: #484848; stroke-width: 1.5; stroke-linecap: square\"/>\n",
       "   </g>\n",
       "   <g id=\"line2d_36\">\n",
       "    <g clip-path=\"url(#p1d4f7a9924)\">\n",
       "     <use xlink:href=\"#m5de17fbf3f\" x=\"310.554851\" y=\"97.292152\" style=\"fill: #484848; stroke: #484848; stroke-linejoin: miter\"/>\n",
       "     <use xlink:href=\"#m5de17fbf3f\" x=\"310.554851\" y=\"99.326826\" style=\"fill: #484848; stroke: #484848; stroke-linejoin: miter\"/>\n",
       "     <use xlink:href=\"#m5de17fbf3f\" x=\"310.554851\" y=\"90.170795\" style=\"fill: #484848; stroke: #484848; stroke-linejoin: miter\"/>\n",
       "     <use xlink:href=\"#m5de17fbf3f\" x=\"310.554851\" y=\"90.170795\" style=\"fill: #484848; stroke: #484848; stroke-linejoin: miter\"/>\n",
       "     <use xlink:href=\"#m5de17fbf3f\" x=\"310.554851\" y=\"104.41351\" style=\"fill: #484848; stroke: #484848; stroke-linejoin: miter\"/>\n",
       "     <use xlink:href=\"#m5de17fbf3f\" x=\"310.554851\" y=\"91.6968\" style=\"fill: #484848; stroke: #484848; stroke-linejoin: miter\"/>\n",
       "     <use xlink:href=\"#m5de17fbf3f\" x=\"310.554851\" y=\"103.396173\" style=\"fill: #484848; stroke: #484848; stroke-linejoin: miter\"/>\n",
       "     <use xlink:href=\"#m5de17fbf3f\" x=\"310.554851\" y=\"89.662126\" style=\"fill: #484848; stroke: #484848; stroke-linejoin: miter\"/>\n",
       "     <use xlink:href=\"#m5de17fbf3f\" x=\"310.554851\" y=\"99.326826\" style=\"fill: #484848; stroke: #484848; stroke-linejoin: miter\"/>\n",
       "     <use xlink:href=\"#m5de17fbf3f\" x=\"310.554851\" y=\"92.714137\" style=\"fill: #484848; stroke: #484848; stroke-linejoin: miter\"/>\n",
       "    </g>\n",
       "   </g>\n",
       "   <g id=\"line2d_37\">\n",
       "    <path d=\"M 347.059524 98.436656 \n",
       "L 347.059524 136.968287 \n",
       "\" clip-path=\"url(#p1d4f7a9924)\" style=\"fill: none; stroke: #484848; stroke-width: 1.5; stroke-linecap: square\"/>\n",
       "   </g>\n",
       "   <g id=\"line2d_38\">\n",
       "    <path d=\"M 347.059524 71.350064 \n",
       "L 347.059524 71.350064 \n",
       "\" clip-path=\"url(#p1d4f7a9924)\" style=\"fill: none; stroke: #484848; stroke-width: 1.5; stroke-linecap: square\"/>\n",
       "   </g>\n",
       "   <g id=\"line2d_39\">\n",
       "    <path d=\"M 338.115879 136.968287 \n",
       "L 356.003169 136.968287 \n",
       "\" clip-path=\"url(#p1d4f7a9924)\" style=\"fill: none; stroke: #484848; stroke-width: 1.5; stroke-linecap: square\"/>\n",
       "   </g>\n",
       "   <g id=\"line2d_40\">\n",
       "    <path d=\"M 338.115879 71.350064 \n",
       "L 356.003169 71.350064 \n",
       "\" clip-path=\"url(#p1d4f7a9924)\" style=\"fill: none; stroke: #484848; stroke-width: 1.5; stroke-linecap: square\"/>\n",
       "   </g>\n",
       "   <g id=\"line2d_41\">\n",
       "    <g clip-path=\"url(#p1d4f7a9924)\">\n",
       "     <use xlink:href=\"#m5de17fbf3f\" x=\"347.059524\" y=\"192.921809\" style=\"fill: #484848; stroke: #484848; stroke-linejoin: miter\"/>\n",
       "     <use xlink:href=\"#m5de17fbf3f\" x=\"347.059524\" y=\"155.280349\" style=\"fill: #484848; stroke: #484848; stroke-linejoin: miter\"/>\n",
       "     <use xlink:href=\"#m5de17fbf3f\" x=\"347.059524\" y=\"148.158991\" style=\"fill: #484848; stroke: #484848; stroke-linejoin: miter\"/>\n",
       "    </g>\n",
       "   </g>\n",
       "   <g id=\"line2d_42\">\n",
       "    <path d=\"M 414.853916 73.511905 \n",
       "L 414.853916 76.436748 \n",
       "\" clip-path=\"url(#p1d4f7a9924)\" style=\"fill: none; stroke: #484848; stroke-width: 1.5; stroke-linecap: square\"/>\n",
       "   </g>\n",
       "   <g id=\"line2d_43\">\n",
       "    <path d=\"M 414.853916 71.350064 \n",
       "L 414.853916 71.350064 \n",
       "\" clip-path=\"url(#p1d4f7a9924)\" style=\"fill: none; stroke: #484848; stroke-width: 1.5; stroke-linecap: square\"/>\n",
       "   </g>\n",
       "   <g id=\"line2d_44\">\n",
       "    <path d=\"M 405.910272 76.436748 \n",
       "L 423.797561 76.436748 \n",
       "\" clip-path=\"url(#p1d4f7a9924)\" style=\"fill: none; stroke: #484848; stroke-width: 1.5; stroke-linecap: square\"/>\n",
       "   </g>\n",
       "   <g id=\"line2d_45\">\n",
       "    <path d=\"M 405.910272 71.350064 \n",
       "L 423.797561 71.350064 \n",
       "\" clip-path=\"url(#p1d4f7a9924)\" style=\"fill: none; stroke: #484848; stroke-width: 1.5; stroke-linecap: square\"/>\n",
       "   </g>\n",
       "   <g id=\"line2d_46\">\n",
       "    <g clip-path=\"url(#p1d4f7a9924)\">\n",
       "     <use xlink:href=\"#m5de17fbf3f\" x=\"414.853916\" y=\"78.471422\" style=\"fill: #484848; stroke: #484848; stroke-linejoin: miter\"/>\n",
       "     <use xlink:href=\"#m5de17fbf3f\" x=\"414.853916\" y=\"81.014764\" style=\"fill: #484848; stroke: #484848; stroke-linejoin: miter\"/>\n",
       "     <use xlink:href=\"#m5de17fbf3f\" x=\"414.853916\" y=\"77.962753\" style=\"fill: #484848; stroke: #484848; stroke-linejoin: miter\"/>\n",
       "     <use xlink:href=\"#m5de17fbf3f\" x=\"414.853916\" y=\"78.471422\" style=\"fill: #484848; stroke: #484848; stroke-linejoin: miter\"/>\n",
       "     <use xlink:href=\"#m5de17fbf3f\" x=\"414.853916\" y=\"77.454085\" style=\"fill: #484848; stroke: #484848; stroke-linejoin: miter\"/>\n",
       "     <use xlink:href=\"#m5de17fbf3f\" x=\"414.853916\" y=\"78.471422\" style=\"fill: #484848; stroke: #484848; stroke-linejoin: miter\"/>\n",
       "     <use xlink:href=\"#m5de17fbf3f\" x=\"414.853916\" y=\"77.962753\" style=\"fill: #484848; stroke: #484848; stroke-linejoin: miter\"/>\n",
       "    </g>\n",
       "   </g>\n",
       "   <g id=\"line2d_47\">\n",
       "    <path d=\"M 451.358589 76.055247 \n",
       "L 451.358589 83.049437 \n",
       "\" clip-path=\"url(#p1d4f7a9924)\" style=\"fill: none; stroke: #484848; stroke-width: 1.5; stroke-linecap: square\"/>\n",
       "   </g>\n",
       "   <g id=\"line2d_48\">\n",
       "    <path d=\"M 451.358589 71.350064 \n",
       "L 451.358589 71.350064 \n",
       "\" clip-path=\"url(#p1d4f7a9924)\" style=\"fill: none; stroke: #484848; stroke-width: 1.5; stroke-linecap: square\"/>\n",
       "   </g>\n",
       "   <g id=\"line2d_49\">\n",
       "    <path d=\"M 442.414945 83.049437 \n",
       "L 460.302234 83.049437 \n",
       "\" clip-path=\"url(#p1d4f7a9924)\" style=\"fill: none; stroke: #484848; stroke-width: 1.5; stroke-linecap: square\"/>\n",
       "   </g>\n",
       "   <g id=\"line2d_50\">\n",
       "    <path d=\"M 442.414945 71.350064 \n",
       "L 460.302234 71.350064 \n",
       "\" clip-path=\"url(#p1d4f7a9924)\" style=\"fill: none; stroke: #484848; stroke-width: 1.5; stroke-linecap: square\"/>\n",
       "   </g>\n",
       "   <g id=\"line2d_51\">\n",
       "    <g clip-path=\"url(#p1d4f7a9924)\">\n",
       "     <use xlink:href=\"#m5de17fbf3f\" x=\"451.358589\" y=\"89.153458\" style=\"fill: #484848; stroke: #484848; stroke-linejoin: miter\"/>\n",
       "     <use xlink:href=\"#m5de17fbf3f\" x=\"451.358589\" y=\"87.627453\" style=\"fill: #484848; stroke: #484848; stroke-linejoin: miter\"/>\n",
       "     <use xlink:href=\"#m5de17fbf3f\" x=\"451.358589\" y=\"84.066774\" style=\"fill: #484848; stroke: #484848; stroke-linejoin: miter\"/>\n",
       "     <use xlink:href=\"#m5de17fbf3f\" x=\"451.358589\" y=\"84.066774\" style=\"fill: #484848; stroke: #484848; stroke-linejoin: miter\"/>\n",
       "     <use xlink:href=\"#m5de17fbf3f\" x=\"451.358589\" y=\"154.263012\" style=\"fill: #484848; stroke: #484848; stroke-linejoin: miter\"/>\n",
       "     <use xlink:href=\"#m5de17fbf3f\" x=\"451.358589\" y=\"88.64479\" style=\"fill: #484848; stroke: #484848; stroke-linejoin: miter\"/>\n",
       "     <use xlink:href=\"#m5de17fbf3f\" x=\"451.358589\" y=\"87.627453\" style=\"fill: #484848; stroke: #484848; stroke-linejoin: miter\"/>\n",
       "     <use xlink:href=\"#m5de17fbf3f\" x=\"451.358589\" y=\"84.575442\" style=\"fill: #484848; stroke: #484848; stroke-linejoin: miter\"/>\n",
       "     <use xlink:href=\"#m5de17fbf3f\" x=\"451.358589\" y=\"91.188132\" style=\"fill: #484848; stroke: #484848; stroke-linejoin: miter\"/>\n",
       "     <use xlink:href=\"#m5de17fbf3f\" x=\"451.358589\" y=\"91.6968\" style=\"fill: #484848; stroke: #484848; stroke-linejoin: miter\"/>\n",
       "    </g>\n",
       "   </g>\n",
       "   <g id=\"line2d_52\">\n",
       "    <path d=\"M 519.152982 143.453809 \n",
       "L 519.152982 147.141654 \n",
       "\" clip-path=\"url(#p1d4f7a9924)\" style=\"fill: none; stroke: #e41a1c; stroke-width: 1.5; stroke-linecap: square\"/>\n",
       "   </g>\n",
       "   <g id=\"line2d_53\">\n",
       "    <path d=\"M 519.152982 140.656132 \n",
       "L 519.152982 137.985623 \n",
       "\" clip-path=\"url(#p1d4f7a9924)\" style=\"fill: none; stroke: #e41a1c; stroke-width: 1.5; stroke-linecap: square\"/>\n",
       "   </g>\n",
       "   <g id=\"line2d_54\">\n",
       "    <path d=\"M 510.209337 147.141654 \n",
       "L 528.096627 147.141654 \n",
       "\" clip-path=\"url(#p1d4f7a9924)\" style=\"fill: none; stroke: #e41a1c; stroke-width: 1.5; stroke-linecap: square\"/>\n",
       "   </g>\n",
       "   <g id=\"line2d_55\">\n",
       "    <path d=\"M 510.209337 137.985623 \n",
       "L 528.096627 137.985623 \n",
       "\" clip-path=\"url(#p1d4f7a9924)\" style=\"fill: none; stroke: #e41a1c; stroke-width: 1.5; stroke-linecap: square\"/>\n",
       "   </g>\n",
       "   <g id=\"line2d_56\"/>\n",
       "   <g id=\"line2d_57\">\n",
       "    <path d=\"M 555.657655 71.350064 \n",
       "L 555.657655 71.350064 \n",
       "\" clip-path=\"url(#p1d4f7a9924)\" style=\"fill: none; stroke: #377eb8; stroke-width: 1.5; stroke-linecap: square\"/>\n",
       "   </g>\n",
       "   <g id=\"line2d_58\">\n",
       "    <path d=\"M 555.657655 71.350064 \n",
       "L 555.657655 71.350064 \n",
       "\" clip-path=\"url(#p1d4f7a9924)\" style=\"fill: none; stroke: #377eb8; stroke-width: 1.5; stroke-linecap: square\"/>\n",
       "   </g>\n",
       "   <g id=\"line2d_59\">\n",
       "    <path d=\"M 546.71401 71.350064 \n",
       "L 564.6013 71.350064 \n",
       "\" clip-path=\"url(#p1d4f7a9924)\" style=\"fill: none; stroke: #377eb8; stroke-width: 1.5; stroke-linecap: square\"/>\n",
       "   </g>\n",
       "   <g id=\"line2d_60\">\n",
       "    <path d=\"M 546.71401 71.350064 \n",
       "L 564.6013 71.350064 \n",
       "\" clip-path=\"url(#p1d4f7a9924)\" style=\"fill: none; stroke: #377eb8; stroke-width: 1.5; stroke-linecap: square\"/>\n",
       "   </g>\n",
       "   <g id=\"line2d_61\"/>\n",
       "   <g id=\"line2d_62\">\n",
       "    <path d=\"M 203.648309 53.523272 \n",
       "L 203.648309 47.581008 \n",
       "L 245.367935 47.581008 \n",
       "L 245.367935 53.523272 \n",
       "\" clip-path=\"url(#p1d4f7a9924)\" style=\"fill: none; stroke: #333333; stroke-width: 1.5; stroke-linecap: square\"/>\n",
       "   </g>\n",
       "   <g id=\"line2d_63\">\n",
       "    <path d=\"M 99.349244 53.523272 \n",
       "L 99.349244 47.581008 \n",
       "L 141.06887 47.581008 \n",
       "L 141.06887 53.523272 \n",
       "\" clip-path=\"url(#p1d4f7a9924)\" style=\"fill: none; stroke: #333333; stroke-width: 1.5; stroke-linecap: square\"/>\n",
       "   </g>\n",
       "   <g id=\"line2d_64\">\n",
       "    <path d=\"M 307.947374 53.523272 \n",
       "L 307.947374 47.581008 \n",
       "L 349.667001 47.581008 \n",
       "L 349.667001 53.523272 \n",
       "\" clip-path=\"url(#p1d4f7a9924)\" style=\"fill: none; stroke: #333333; stroke-width: 1.5; stroke-linecap: square\"/>\n",
       "   </g>\n",
       "   <g id=\"line2d_65\">\n",
       "    <path d=\"M 412.24644 53.523272 \n",
       "L 412.24644 47.581008 \n",
       "L 453.966066 47.581008 \n",
       "L 453.966066 53.523272 \n",
       "\" clip-path=\"url(#p1d4f7a9924)\" style=\"fill: none; stroke: #333333; stroke-width: 1.5; stroke-linecap: square\"/>\n",
       "   </g>\n",
       "   <g id=\"line2d_66\">\n",
       "    <path d=\"M 516.545505 53.523272 \n",
       "L 516.545505 47.581008 \n",
       "L 558.265131 47.581008 \n",
       "L 558.265131 53.523272 \n",
       "\" clip-path=\"url(#p1d4f7a9924)\" style=\"fill: none; stroke: #333333; stroke-width: 1.5; stroke-linecap: square\"/>\n",
       "   </g>\n",
       "   <g id=\"line2d_67\">\n",
       "    <path d=\"M 84.06943 241.753975 \n",
       "L 119.84401 241.753975 \n",
       "\" clip-path=\"url(#p1d4f7a9924)\" style=\"fill: none; stroke: #484848; stroke-width: 1.5; stroke-linecap: square\"/>\n",
       "   </g>\n",
       "   <g id=\"line2d_68\">\n",
       "    <path d=\"M 120.574103 71.350064 \n",
       "L 156.348683 71.350064 \n",
       "\" clip-path=\"url(#p1d4f7a9924)\" style=\"fill: none; stroke: #484848; stroke-width: 1.5; stroke-linecap: square\"/>\n",
       "   </g>\n",
       "   <g id=\"line2d_69\">\n",
       "    <path d=\"M 188.368496 87.373119 \n",
       "L 224.143075 87.373119 \n",
       "\" clip-path=\"url(#p1d4f7a9924)\" style=\"fill: none; stroke: #484848; stroke-width: 1.5; stroke-linecap: square\"/>\n",
       "   </g>\n",
       "   <g id=\"line2d_70\">\n",
       "    <path d=\"M 224.873169 101.615834 \n",
       "L 260.647748 101.615834 \n",
       "\" clip-path=\"url(#p1d4f7a9924)\" style=\"fill: none; stroke: #484848; stroke-width: 1.5; stroke-linecap: square\"/>\n",
       "   </g>\n",
       "   <g id=\"line2d_71\">\n",
       "    <path d=\"M 292.667561 71.350064 \n",
       "L 328.442141 71.350064 \n",
       "\" clip-path=\"url(#p1d4f7a9924)\" style=\"fill: none; stroke: #484848; stroke-width: 1.5; stroke-linecap: square\"/>\n",
       "   </g>\n",
       "   <g id=\"line2d_72\">\n",
       "    <path d=\"M 329.172234 79.488759 \n",
       "L 364.946814 79.488759 \n",
       "\" clip-path=\"url(#p1d4f7a9924)\" style=\"fill: none; stroke: #484848; stroke-width: 1.5; stroke-linecap: square\"/>\n",
       "   </g>\n",
       "   <g id=\"line2d_73\">\n",
       "    <path d=\"M 396.966627 71.350064 \n",
       "L 432.741206 71.350064 \n",
       "\" clip-path=\"url(#p1d4f7a9924)\" style=\"fill: none; stroke: #484848; stroke-width: 1.5; stroke-linecap: square\"/>\n",
       "   </g>\n",
       "   <g id=\"line2d_74\">\n",
       "    <path d=\"M 433.4713 71.350064 \n",
       "L 469.245879 71.350064 \n",
       "\" clip-path=\"url(#p1d4f7a9924)\" style=\"fill: none; stroke: #484848; stroke-width: 1.5; stroke-linecap: square\"/>\n",
       "   </g>\n",
       "   <g id=\"line2d_75\">\n",
       "    <path d=\"M 501.265692 142.309305 \n",
       "L 537.040272 142.309305 \n",
       "\" clip-path=\"url(#p1d4f7a9924)\" style=\"fill: none; stroke: #e41a1c; stroke-width: 1.5; stroke-linecap: square\"/>\n",
       "   </g>\n",
       "   <g id=\"line2d_76\">\n",
       "    <path d=\"M 537.770365 71.350064 \n",
       "L 573.544945 71.350064 \n",
       "\" clip-path=\"url(#p1d4f7a9924)\" style=\"fill: none; stroke: #377eb8; stroke-width: 1.5; stroke-linecap: square\"/>\n",
       "   </g>\n",
       "   <g id=\"patch_15\">\n",
       "    <path d=\"M 49.807187 354.958125 \n",
       "L 49.807187 22.318125 \n",
       "\" style=\"fill: none; stroke: #000000; stroke-width: 1.25; stroke-linejoin: miter; stroke-linecap: square\"/>\n",
       "   </g>\n",
       "   <g id=\"patch_16\">\n",
       "    <path d=\"M 607.807188 354.958125 \n",
       "L 607.807188 22.318125 \n",
       "\" style=\"fill: none; stroke: #000000; stroke-width: 1.25; stroke-linejoin: miter; stroke-linecap: square\"/>\n",
       "   </g>\n",
       "   <g id=\"patch_17\">\n",
       "    <path d=\"M 49.807187 354.958125 \n",
       "L 607.807188 354.958125 \n",
       "\" style=\"fill: none; stroke: #000000; stroke-width: 1.25; stroke-linejoin: miter; stroke-linecap: square\"/>\n",
       "   </g>\n",
       "   <g id=\"patch_18\">\n",
       "    <path d=\"M 49.807187 22.318125 \n",
       "L 607.807188 22.318125 \n",
       "\" style=\"fill: none; stroke: #000000; stroke-width: 1.25; stroke-linejoin: miter; stroke-linecap: square\"/>\n",
       "   </g>\n",
       "   <g id=\"text_14\">\n",
       "    <!-- ns -->\n",
       "    <g transform=\"translate(217.579997 44.085383) scale(0.12 -0.12)\">\n",
       "     <defs>\n",
       "      <path id=\"DejaVuSans-6e\" d=\"M 3513 2113 \n",
       "L 3513 0 \n",
       "L 2938 0 \n",
       "L 2938 2094 \n",
       "Q 2938 2591 2744 2837 \n",
       "Q 2550 3084 2163 3084 \n",
       "Q 1697 3084 1428 2787 \n",
       "Q 1159 2491 1159 1978 \n",
       "L 1159 0 \n",
       "L 581 0 \n",
       "L 581 3500 \n",
       "L 1159 3500 \n",
       "L 1159 2956 \n",
       "Q 1366 3272 1645 3428 \n",
       "Q 1925 3584 2291 3584 \n",
       "Q 2894 3584 3203 3211 \n",
       "Q 3513 2838 3513 2113 \n",
       "z\n",
       "\" transform=\"scale(0.015625)\"/>\n",
       "      <path id=\"DejaVuSans-73\" d=\"M 2834 3397 \n",
       "L 2834 2853 \n",
       "Q 2591 2978 2328 3040 \n",
       "Q 2066 3103 1784 3103 \n",
       "Q 1356 3103 1142 2972 \n",
       "Q 928 2841 928 2578 \n",
       "Q 928 2378 1081 2264 \n",
       "Q 1234 2150 1697 2047 \n",
       "L 1894 2003 \n",
       "Q 2506 1872 2764 1633 \n",
       "Q 3022 1394 3022 966 \n",
       "Q 3022 478 2636 193 \n",
       "Q 2250 -91 1575 -91 \n",
       "Q 1294 -91 989 -36 \n",
       "Q 684 19 347 128 \n",
       "L 347 722 \n",
       "Q 666 556 975 473 \n",
       "Q 1284 391 1588 391 \n",
       "Q 1994 391 2212 530 \n",
       "Q 2431 669 2431 922 \n",
       "Q 2431 1156 2273 1281 \n",
       "Q 2116 1406 1581 1522 \n",
       "L 1381 1569 \n",
       "Q 847 1681 609 1914 \n",
       "Q 372 2147 372 2553 \n",
       "Q 372 3047 722 3315 \n",
       "Q 1072 3584 1716 3584 \n",
       "Q 2034 3584 2315 3537 \n",
       "Q 2597 3491 2834 3397 \n",
       "z\n",
       "\" transform=\"scale(0.015625)\"/>\n",
       "     </defs>\n",
       "     <use xlink:href=\"#DejaVuSans-6e\"/>\n",
       "     <use xlink:href=\"#DejaVuSans-73\" x=\"63.378906\"/>\n",
       "    </g>\n",
       "   </g>\n",
       "   <g id=\"text_15\">\n",
       "    <!-- ** -->\n",
       "    <g transform=\"translate(114.209057 44.085383) scale(0.12 -0.12)\">\n",
       "     <defs>\n",
       "      <path id=\"DejaVuSans-2a\" d=\"M 3009 3897 \n",
       "L 1888 3291 \n",
       "L 3009 2681 \n",
       "L 2828 2375 \n",
       "L 1778 3009 \n",
       "L 1778 1831 \n",
       "L 1422 1831 \n",
       "L 1422 3009 \n",
       "L 372 2375 \n",
       "L 191 2681 \n",
       "L 1313 3291 \n",
       "L 191 3897 \n",
       "L 372 4206 \n",
       "L 1422 3572 \n",
       "L 1422 4750 \n",
       "L 1778 4750 \n",
       "L 1778 3572 \n",
       "L 2828 4206 \n",
       "L 3009 3897 \n",
       "z\n",
       "\" transform=\"scale(0.015625)\"/>\n",
       "     </defs>\n",
       "     <use xlink:href=\"#DejaVuSans-2a\"/>\n",
       "     <use xlink:href=\"#DejaVuSans-2a\" x=\"50\"/>\n",
       "    </g>\n",
       "   </g>\n",
       "   <g id=\"text_16\">\n",
       "    <!-- *** -->\n",
       "    <g transform=\"translate(319.807188 44.085383) scale(0.12 -0.12)\">\n",
       "     <use xlink:href=\"#DejaVuSans-2a\"/>\n",
       "     <use xlink:href=\"#DejaVuSans-2a\" x=\"50\"/>\n",
       "     <use xlink:href=\"#DejaVuSans-2a\" x=\"100\"/>\n",
       "    </g>\n",
       "   </g>\n",
       "   <g id=\"text_17\">\n",
       "    <!-- ns -->\n",
       "    <g transform=\"translate(426.178128 44.085383) scale(0.12 -0.12)\">\n",
       "     <use xlink:href=\"#DejaVuSans-6e\"/>\n",
       "     <use xlink:href=\"#DejaVuSans-73\" x=\"63.378906\"/>\n",
       "    </g>\n",
       "   </g>\n",
       "   <g id=\"text_18\">\n",
       "    <!-- **** -->\n",
       "    <g transform=\"translate(525.405318 44.085383) scale(0.12 -0.12)\">\n",
       "     <use xlink:href=\"#DejaVuSans-2a\"/>\n",
       "     <use xlink:href=\"#DejaVuSans-2a\" x=\"50\"/>\n",
       "     <use xlink:href=\"#DejaVuSans-2a\" x=\"100\"/>\n",
       "     <use xlink:href=\"#DejaVuSans-2a\" x=\"150\"/>\n",
       "    </g>\n",
       "   </g>\n",
       "   <g id=\"text_19\">\n",
       "    <!-- F1 (Boolean) vs Core Density (10N Teamed Toggle Switch) -->\n",
       "    <g transform=\"translate(154.639375 16.318125) scale(0.12 -0.12)\">\n",
       "     <defs>\n",
       "      <path id=\"DejaVuSans-46\" d=\"M 628 4666 \n",
       "L 3309 4666 \n",
       "L 3309 4134 \n",
       "L 1259 4134 \n",
       "L 1259 2759 \n",
       "L 3109 2759 \n",
       "L 3109 2228 \n",
       "L 1259 2228 \n",
       "L 1259 0 \n",
       "L 628 0 \n",
       "L 628 4666 \n",
       "z\n",
       "\" transform=\"scale(0.015625)\"/>\n",
       "      <path id=\"DejaVuSans-20\" transform=\"scale(0.015625)\"/>\n",
       "      <path id=\"DejaVuSans-28\" d=\"M 1984 4856 \n",
       "Q 1566 4138 1362 3434 \n",
       "Q 1159 2731 1159 2009 \n",
       "Q 1159 1288 1364 580 \n",
       "Q 1569 -128 1984 -844 \n",
       "L 1484 -844 \n",
       "Q 1016 -109 783 600 \n",
       "Q 550 1309 550 2009 \n",
       "Q 550 2706 781 3412 \n",
       "Q 1013 4119 1484 4856 \n",
       "L 1984 4856 \n",
       "z\n",
       "\" transform=\"scale(0.015625)\"/>\n",
       "      <path id=\"DejaVuSans-42\" d=\"M 1259 2228 \n",
       "L 1259 519 \n",
       "L 2272 519 \n",
       "Q 2781 519 3026 730 \n",
       "Q 3272 941 3272 1375 \n",
       "Q 3272 1813 3026 2020 \n",
       "Q 2781 2228 2272 2228 \n",
       "L 1259 2228 \n",
       "z\n",
       "M 1259 4147 \n",
       "L 1259 2741 \n",
       "L 2194 2741 \n",
       "Q 2656 2741 2882 2914 \n",
       "Q 3109 3088 3109 3444 \n",
       "Q 3109 3797 2882 3972 \n",
       "Q 2656 4147 2194 4147 \n",
       "L 1259 4147 \n",
       "z\n",
       "M 628 4666 \n",
       "L 2241 4666 \n",
       "Q 2963 4666 3353 4366 \n",
       "Q 3744 4066 3744 3513 \n",
       "Q 3744 3084 3544 2831 \n",
       "Q 3344 2578 2956 2516 \n",
       "Q 3422 2416 3680 2098 \n",
       "Q 3938 1781 3938 1306 \n",
       "Q 3938 681 3513 340 \n",
       "Q 3088 0 2303 0 \n",
       "L 628 0 \n",
       "L 628 4666 \n",
       "z\n",
       "\" transform=\"scale(0.015625)\"/>\n",
       "      <path id=\"DejaVuSans-6f\" d=\"M 1959 3097 \n",
       "Q 1497 3097 1228 2736 \n",
       "Q 959 2375 959 1747 \n",
       "Q 959 1119 1226 758 \n",
       "Q 1494 397 1959 397 \n",
       "Q 2419 397 2687 759 \n",
       "Q 2956 1122 2956 1747 \n",
       "Q 2956 2369 2687 2733 \n",
       "Q 2419 3097 1959 3097 \n",
       "z\n",
       "M 1959 3584 \n",
       "Q 2709 3584 3137 3096 \n",
       "Q 3566 2609 3566 1747 \n",
       "Q 3566 888 3137 398 \n",
       "Q 2709 -91 1959 -91 \n",
       "Q 1206 -91 779 398 \n",
       "Q 353 888 353 1747 \n",
       "Q 353 2609 779 3096 \n",
       "Q 1206 3584 1959 3584 \n",
       "z\n",
       "\" transform=\"scale(0.015625)\"/>\n",
       "      <path id=\"DejaVuSans-6c\" d=\"M 603 4863 \n",
       "L 1178 4863 \n",
       "L 1178 0 \n",
       "L 603 0 \n",
       "L 603 4863 \n",
       "z\n",
       "\" transform=\"scale(0.015625)\"/>\n",
       "      <path id=\"DejaVuSans-65\" d=\"M 3597 1894 \n",
       "L 3597 1613 \n",
       "L 953 1613 \n",
       "Q 991 1019 1311 708 \n",
       "Q 1631 397 2203 397 \n",
       "Q 2534 397 2845 478 \n",
       "Q 3156 559 3463 722 \n",
       "L 3463 178 \n",
       "Q 3153 47 2828 -22 \n",
       "Q 2503 -91 2169 -91 \n",
       "Q 1331 -91 842 396 \n",
       "Q 353 884 353 1716 \n",
       "Q 353 2575 817 3079 \n",
       "Q 1281 3584 2069 3584 \n",
       "Q 2775 3584 3186 3129 \n",
       "Q 3597 2675 3597 1894 \n",
       "z\n",
       "M 3022 2063 \n",
       "Q 3016 2534 2758 2815 \n",
       "Q 2500 3097 2075 3097 \n",
       "Q 1594 3097 1305 2825 \n",
       "Q 1016 2553 972 2059 \n",
       "L 3022 2063 \n",
       "z\n",
       "\" transform=\"scale(0.015625)\"/>\n",
       "      <path id=\"DejaVuSans-61\" d=\"M 2194 1759 \n",
       "Q 1497 1759 1228 1600 \n",
       "Q 959 1441 959 1056 \n",
       "Q 959 750 1161 570 \n",
       "Q 1363 391 1709 391 \n",
       "Q 2188 391 2477 730 \n",
       "Q 2766 1069 2766 1631 \n",
       "L 2766 1759 \n",
       "L 2194 1759 \n",
       "z\n",
       "M 3341 1997 \n",
       "L 3341 0 \n",
       "L 2766 0 \n",
       "L 2766 531 \n",
       "Q 2569 213 2275 61 \n",
       "Q 1981 -91 1556 -91 \n",
       "Q 1019 -91 701 211 \n",
       "Q 384 513 384 1019 \n",
       "Q 384 1609 779 1909 \n",
       "Q 1175 2209 1959 2209 \n",
       "L 2766 2209 \n",
       "L 2766 2266 \n",
       "Q 2766 2663 2505 2880 \n",
       "Q 2244 3097 1772 3097 \n",
       "Q 1472 3097 1187 3025 \n",
       "Q 903 2953 641 2809 \n",
       "L 641 3341 \n",
       "Q 956 3463 1253 3523 \n",
       "Q 1550 3584 1831 3584 \n",
       "Q 2591 3584 2966 3190 \n",
       "Q 3341 2797 3341 1997 \n",
       "z\n",
       "\" transform=\"scale(0.015625)\"/>\n",
       "      <path id=\"DejaVuSans-29\" d=\"M 513 4856 \n",
       "L 1013 4856 \n",
       "Q 1481 4119 1714 3412 \n",
       "Q 1947 2706 1947 2009 \n",
       "Q 1947 1309 1714 600 \n",
       "Q 1481 -109 1013 -844 \n",
       "L 513 -844 \n",
       "Q 928 -128 1133 580 \n",
       "Q 1338 1288 1338 2009 \n",
       "Q 1338 2731 1133 3434 \n",
       "Q 928 4138 513 4856 \n",
       "z\n",
       "\" transform=\"scale(0.015625)\"/>\n",
       "      <path id=\"DejaVuSans-76\" d=\"M 191 3500 \n",
       "L 800 3500 \n",
       "L 1894 563 \n",
       "L 2988 3500 \n",
       "L 3597 3500 \n",
       "L 2284 0 \n",
       "L 1503 0 \n",
       "L 191 3500 \n",
       "z\n",
       "\" transform=\"scale(0.015625)\"/>\n",
       "      <path id=\"DejaVuSans-43\" d=\"M 4122 4306 \n",
       "L 4122 3641 \n",
       "Q 3803 3938 3442 4084 \n",
       "Q 3081 4231 2675 4231 \n",
       "Q 1875 4231 1450 3742 \n",
       "Q 1025 3253 1025 2328 \n",
       "Q 1025 1406 1450 917 \n",
       "Q 1875 428 2675 428 \n",
       "Q 3081 428 3442 575 \n",
       "Q 3803 722 4122 1019 \n",
       "L 4122 359 \n",
       "Q 3791 134 3420 21 \n",
       "Q 3050 -91 2638 -91 \n",
       "Q 1578 -91 968 557 \n",
       "Q 359 1206 359 2328 \n",
       "Q 359 3453 968 4101 \n",
       "Q 1578 4750 2638 4750 \n",
       "Q 3056 4750 3426 4639 \n",
       "Q 3797 4528 4122 4306 \n",
       "z\n",
       "\" transform=\"scale(0.015625)\"/>\n",
       "      <path id=\"DejaVuSans-72\" d=\"M 2631 2963 \n",
       "Q 2534 3019 2420 3045 \n",
       "Q 2306 3072 2169 3072 \n",
       "Q 1681 3072 1420 2755 \n",
       "Q 1159 2438 1159 1844 \n",
       "L 1159 0 \n",
       "L 581 0 \n",
       "L 581 3500 \n",
       "L 1159 3500 \n",
       "L 1159 2956 \n",
       "Q 1341 3275 1631 3429 \n",
       "Q 1922 3584 2338 3584 \n",
       "Q 2397 3584 2469 3576 \n",
       "Q 2541 3569 2628 3553 \n",
       "L 2631 2963 \n",
       "z\n",
       "\" transform=\"scale(0.015625)\"/>\n",
       "      <path id=\"DejaVuSans-44\" d=\"M 1259 4147 \n",
       "L 1259 519 \n",
       "L 2022 519 \n",
       "Q 2988 519 3436 956 \n",
       "Q 3884 1394 3884 2338 \n",
       "Q 3884 3275 3436 3711 \n",
       "Q 2988 4147 2022 4147 \n",
       "L 1259 4147 \n",
       "z\n",
       "M 628 4666 \n",
       "L 1925 4666 \n",
       "Q 3281 4666 3915 4102 \n",
       "Q 4550 3538 4550 2338 \n",
       "Q 4550 1131 3912 565 \n",
       "Q 3275 0 1925 0 \n",
       "L 628 0 \n",
       "L 628 4666 \n",
       "z\n",
       "\" transform=\"scale(0.015625)\"/>\n",
       "      <path id=\"DejaVuSans-69\" d=\"M 603 3500 \n",
       "L 1178 3500 \n",
       "L 1178 0 \n",
       "L 603 0 \n",
       "L 603 3500 \n",
       "z\n",
       "M 603 4863 \n",
       "L 1178 4863 \n",
       "L 1178 4134 \n",
       "L 603 4134 \n",
       "L 603 4863 \n",
       "z\n",
       "\" transform=\"scale(0.015625)\"/>\n",
       "      <path id=\"DejaVuSans-74\" d=\"M 1172 4494 \n",
       "L 1172 3500 \n",
       "L 2356 3500 \n",
       "L 2356 3053 \n",
       "L 1172 3053 \n",
       "L 1172 1153 \n",
       "Q 1172 725 1289 603 \n",
       "Q 1406 481 1766 481 \n",
       "L 2356 481 \n",
       "L 2356 0 \n",
       "L 1766 0 \n",
       "Q 1100 0 847 248 \n",
       "Q 594 497 594 1153 \n",
       "L 594 3053 \n",
       "L 172 3053 \n",
       "L 172 3500 \n",
       "L 594 3500 \n",
       "L 594 4494 \n",
       "L 1172 4494 \n",
       "z\n",
       "\" transform=\"scale(0.015625)\"/>\n",
       "      <path id=\"DejaVuSans-79\" d=\"M 2059 -325 \n",
       "Q 1816 -950 1584 -1140 \n",
       "Q 1353 -1331 966 -1331 \n",
       "L 506 -1331 \n",
       "L 506 -850 \n",
       "L 844 -850 \n",
       "Q 1081 -850 1212 -737 \n",
       "Q 1344 -625 1503 -206 \n",
       "L 1606 56 \n",
       "L 191 3500 \n",
       "L 800 3500 \n",
       "L 1894 763 \n",
       "L 2988 3500 \n",
       "L 3597 3500 \n",
       "L 2059 -325 \n",
       "z\n",
       "\" transform=\"scale(0.015625)\"/>\n",
       "      <path id=\"DejaVuSans-4e\" d=\"M 628 4666 \n",
       "L 1478 4666 \n",
       "L 3547 763 \n",
       "L 3547 4666 \n",
       "L 4159 4666 \n",
       "L 4159 0 \n",
       "L 3309 0 \n",
       "L 1241 3903 \n",
       "L 1241 0 \n",
       "L 628 0 \n",
       "L 628 4666 \n",
       "z\n",
       "\" transform=\"scale(0.015625)\"/>\n",
       "      <path id=\"DejaVuSans-54\" d=\"M -19 4666 \n",
       "L 3928 4666 \n",
       "L 3928 4134 \n",
       "L 2272 4134 \n",
       "L 2272 0 \n",
       "L 1638 0 \n",
       "L 1638 4134 \n",
       "L -19 4134 \n",
       "L -19 4666 \n",
       "z\n",
       "\" transform=\"scale(0.015625)\"/>\n",
       "      <path id=\"DejaVuSans-6d\" d=\"M 3328 2828 \n",
       "Q 3544 3216 3844 3400 \n",
       "Q 4144 3584 4550 3584 \n",
       "Q 5097 3584 5394 3201 \n",
       "Q 5691 2819 5691 2113 \n",
       "L 5691 0 \n",
       "L 5113 0 \n",
       "L 5113 2094 \n",
       "Q 5113 2597 4934 2840 \n",
       "Q 4756 3084 4391 3084 \n",
       "Q 3944 3084 3684 2787 \n",
       "Q 3425 2491 3425 1978 \n",
       "L 3425 0 \n",
       "L 2847 0 \n",
       "L 2847 2094 \n",
       "Q 2847 2600 2669 2842 \n",
       "Q 2491 3084 2119 3084 \n",
       "Q 1678 3084 1418 2786 \n",
       "Q 1159 2488 1159 1978 \n",
       "L 1159 0 \n",
       "L 581 0 \n",
       "L 581 3500 \n",
       "L 1159 3500 \n",
       "L 1159 2956 \n",
       "Q 1356 3278 1631 3431 \n",
       "Q 1906 3584 2284 3584 \n",
       "Q 2666 3584 2933 3390 \n",
       "Q 3200 3197 3328 2828 \n",
       "z\n",
       "\" transform=\"scale(0.015625)\"/>\n",
       "      <path id=\"DejaVuSans-64\" d=\"M 2906 2969 \n",
       "L 2906 4863 \n",
       "L 3481 4863 \n",
       "L 3481 0 \n",
       "L 2906 0 \n",
       "L 2906 525 \n",
       "Q 2725 213 2448 61 \n",
       "Q 2172 -91 1784 -91 \n",
       "Q 1150 -91 751 415 \n",
       "Q 353 922 353 1747 \n",
       "Q 353 2572 751 3078 \n",
       "Q 1150 3584 1784 3584 \n",
       "Q 2172 3584 2448 3432 \n",
       "Q 2725 3281 2906 2969 \n",
       "z\n",
       "M 947 1747 \n",
       "Q 947 1113 1208 752 \n",
       "Q 1469 391 1925 391 \n",
       "Q 2381 391 2643 752 \n",
       "Q 2906 1113 2906 1747 \n",
       "Q 2906 2381 2643 2742 \n",
       "Q 2381 3103 1925 3103 \n",
       "Q 1469 3103 1208 2742 \n",
       "Q 947 2381 947 1747 \n",
       "z\n",
       "\" transform=\"scale(0.015625)\"/>\n",
       "      <path id=\"DejaVuSans-67\" d=\"M 2906 1791 \n",
       "Q 2906 2416 2648 2759 \n",
       "Q 2391 3103 1925 3103 \n",
       "Q 1463 3103 1205 2759 \n",
       "Q 947 2416 947 1791 \n",
       "Q 947 1169 1205 825 \n",
       "Q 1463 481 1925 481 \n",
       "Q 2391 481 2648 825 \n",
       "Q 2906 1169 2906 1791 \n",
       "z\n",
       "M 3481 434 \n",
       "Q 3481 -459 3084 -895 \n",
       "Q 2688 -1331 1869 -1331 \n",
       "Q 1566 -1331 1297 -1286 \n",
       "Q 1028 -1241 775 -1147 \n",
       "L 775 -588 \n",
       "Q 1028 -725 1275 -790 \n",
       "Q 1522 -856 1778 -856 \n",
       "Q 2344 -856 2625 -561 \n",
       "Q 2906 -266 2906 331 \n",
       "L 2906 616 \n",
       "Q 2728 306 2450 153 \n",
       "Q 2172 0 1784 0 \n",
       "Q 1141 0 747 490 \n",
       "Q 353 981 353 1791 \n",
       "Q 353 2603 747 3093 \n",
       "Q 1141 3584 1784 3584 \n",
       "Q 2172 3584 2450 3431 \n",
       "Q 2728 3278 2906 2969 \n",
       "L 2906 3500 \n",
       "L 3481 3500 \n",
       "L 3481 434 \n",
       "z\n",
       "\" transform=\"scale(0.015625)\"/>\n",
       "      <path id=\"DejaVuSans-53\" d=\"M 3425 4513 \n",
       "L 3425 3897 \n",
       "Q 3066 4069 2747 4153 \n",
       "Q 2428 4238 2131 4238 \n",
       "Q 1616 4238 1336 4038 \n",
       "Q 1056 3838 1056 3469 \n",
       "Q 1056 3159 1242 3001 \n",
       "Q 1428 2844 1947 2747 \n",
       "L 2328 2669 \n",
       "Q 3034 2534 3370 2195 \n",
       "Q 3706 1856 3706 1288 \n",
       "Q 3706 609 3251 259 \n",
       "Q 2797 -91 1919 -91 \n",
       "Q 1588 -91 1214 -16 \n",
       "Q 841 59 441 206 \n",
       "L 441 856 \n",
       "Q 825 641 1194 531 \n",
       "Q 1563 422 1919 422 \n",
       "Q 2459 422 2753 634 \n",
       "Q 3047 847 3047 1241 \n",
       "Q 3047 1584 2836 1778 \n",
       "Q 2625 1972 2144 2069 \n",
       "L 1759 2144 \n",
       "Q 1053 2284 737 2584 \n",
       "Q 422 2884 422 3419 \n",
       "Q 422 4038 858 4394 \n",
       "Q 1294 4750 2059 4750 \n",
       "Q 2388 4750 2728 4690 \n",
       "Q 3069 4631 3425 4513 \n",
       "z\n",
       "\" transform=\"scale(0.015625)\"/>\n",
       "      <path id=\"DejaVuSans-77\" d=\"M 269 3500 \n",
       "L 844 3500 \n",
       "L 1563 769 \n",
       "L 2278 3500 \n",
       "L 2956 3500 \n",
       "L 3675 769 \n",
       "L 4391 3500 \n",
       "L 4966 3500 \n",
       "L 4050 0 \n",
       "L 3372 0 \n",
       "L 2619 2869 \n",
       "L 1863 0 \n",
       "L 1184 0 \n",
       "L 269 3500 \n",
       "z\n",
       "\" transform=\"scale(0.015625)\"/>\n",
       "      <path id=\"DejaVuSans-63\" d=\"M 3122 3366 \n",
       "L 3122 2828 \n",
       "Q 2878 2963 2633 3030 \n",
       "Q 2388 3097 2138 3097 \n",
       "Q 1578 3097 1268 2742 \n",
       "Q 959 2388 959 1747 \n",
       "Q 959 1106 1268 751 \n",
       "Q 1578 397 2138 397 \n",
       "Q 2388 397 2633 464 \n",
       "Q 2878 531 3122 666 \n",
       "L 3122 134 \n",
       "Q 2881 22 2623 -34 \n",
       "Q 2366 -91 2075 -91 \n",
       "Q 1284 -91 818 406 \n",
       "Q 353 903 353 1747 \n",
       "Q 353 2603 823 3093 \n",
       "Q 1294 3584 2113 3584 \n",
       "Q 2378 3584 2631 3529 \n",
       "Q 2884 3475 3122 3366 \n",
       "z\n",
       "\" transform=\"scale(0.015625)\"/>\n",
       "      <path id=\"DejaVuSans-68\" d=\"M 3513 2113 \n",
       "L 3513 0 \n",
       "L 2938 0 \n",
       "L 2938 2094 \n",
       "Q 2938 2591 2744 2837 \n",
       "Q 2550 3084 2163 3084 \n",
       "Q 1697 3084 1428 2787 \n",
       "Q 1159 2491 1159 1978 \n",
       "L 1159 0 \n",
       "L 581 0 \n",
       "L 581 4863 \n",
       "L 1159 4863 \n",
       "L 1159 2956 \n",
       "Q 1366 3272 1645 3428 \n",
       "Q 1925 3584 2291 3584 \n",
       "Q 2894 3584 3203 3211 \n",
       "Q 3513 2838 3513 2113 \n",
       "z\n",
       "\" transform=\"scale(0.015625)\"/>\n",
       "     </defs>\n",
       "     <use xlink:href=\"#DejaVuSans-46\"/>\n",
       "     <use xlink:href=\"#DejaVuSans-31\" x=\"57.519531\"/>\n",
       "     <use xlink:href=\"#DejaVuSans-20\" x=\"121.142578\"/>\n",
       "     <use xlink:href=\"#DejaVuSans-28\" x=\"152.929688\"/>\n",
       "     <use xlink:href=\"#DejaVuSans-42\" x=\"191.943359\"/>\n",
       "     <use xlink:href=\"#DejaVuSans-6f\" x=\"260.546875\"/>\n",
       "     <use xlink:href=\"#DejaVuSans-6f\" x=\"321.728516\"/>\n",
       "     <use xlink:href=\"#DejaVuSans-6c\" x=\"382.910156\"/>\n",
       "     <use xlink:href=\"#DejaVuSans-65\" x=\"410.693359\"/>\n",
       "     <use xlink:href=\"#DejaVuSans-61\" x=\"472.216797\"/>\n",
       "     <use xlink:href=\"#DejaVuSans-6e\" x=\"533.496094\"/>\n",
       "     <use xlink:href=\"#DejaVuSans-29\" x=\"596.875\"/>\n",
       "     <use xlink:href=\"#DejaVuSans-20\" x=\"635.888672\"/>\n",
       "     <use xlink:href=\"#DejaVuSans-76\" x=\"667.675781\"/>\n",
       "     <use xlink:href=\"#DejaVuSans-73\" x=\"726.855469\"/>\n",
       "     <use xlink:href=\"#DejaVuSans-20\" x=\"778.955078\"/>\n",
       "     <use xlink:href=\"#DejaVuSans-43\" x=\"810.742188\"/>\n",
       "     <use xlink:href=\"#DejaVuSans-6f\" x=\"880.566406\"/>\n",
       "     <use xlink:href=\"#DejaVuSans-72\" x=\"941.748047\"/>\n",
       "     <use xlink:href=\"#DejaVuSans-65\" x=\"980.611328\"/>\n",
       "     <use xlink:href=\"#DejaVuSans-20\" x=\"1042.134766\"/>\n",
       "     <use xlink:href=\"#DejaVuSans-44\" x=\"1073.921875\"/>\n",
       "     <use xlink:href=\"#DejaVuSans-65\" x=\"1150.923828\"/>\n",
       "     <use xlink:href=\"#DejaVuSans-6e\" x=\"1212.447266\"/>\n",
       "     <use xlink:href=\"#DejaVuSans-73\" x=\"1275.826172\"/>\n",
       "     <use xlink:href=\"#DejaVuSans-69\" x=\"1327.925781\"/>\n",
       "     <use xlink:href=\"#DejaVuSans-74\" x=\"1355.708984\"/>\n",
       "     <use xlink:href=\"#DejaVuSans-79\" x=\"1394.917969\"/>\n",
       "     <use xlink:href=\"#DejaVuSans-20\" x=\"1454.097656\"/>\n",
       "     <use xlink:href=\"#DejaVuSans-28\" x=\"1485.884766\"/>\n",
       "     <use xlink:href=\"#DejaVuSans-31\" x=\"1524.898438\"/>\n",
       "     <use xlink:href=\"#DejaVuSans-30\" x=\"1588.521484\"/>\n",
       "     <use xlink:href=\"#DejaVuSans-4e\" x=\"1652.144531\"/>\n",
       "     <use xlink:href=\"#DejaVuSans-20\" x=\"1726.949219\"/>\n",
       "     <use xlink:href=\"#DejaVuSans-54\" x=\"1758.736328\"/>\n",
       "     <use xlink:href=\"#DejaVuSans-65\" x=\"1802.820312\"/>\n",
       "     <use xlink:href=\"#DejaVuSans-61\" x=\"1864.34375\"/>\n",
       "     <use xlink:href=\"#DejaVuSans-6d\" x=\"1925.623047\"/>\n",
       "     <use xlink:href=\"#DejaVuSans-65\" x=\"2023.035156\"/>\n",
       "     <use xlink:href=\"#DejaVuSans-64\" x=\"2084.558594\"/>\n",
       "     <use xlink:href=\"#DejaVuSans-20\" x=\"2148.035156\"/>\n",
       "     <use xlink:href=\"#DejaVuSans-54\" x=\"2179.822266\"/>\n",
       "     <use xlink:href=\"#DejaVuSans-6f\" x=\"2223.90625\"/>\n",
       "     <use xlink:href=\"#DejaVuSans-67\" x=\"2285.087891\"/>\n",
       "     <use xlink:href=\"#DejaVuSans-67\" x=\"2348.564453\"/>\n",
       "     <use xlink:href=\"#DejaVuSans-6c\" x=\"2412.041016\"/>\n",
       "     <use xlink:href=\"#DejaVuSans-65\" x=\"2439.824219\"/>\n",
       "     <use xlink:href=\"#DejaVuSans-20\" x=\"2501.347656\"/>\n",
       "     <use xlink:href=\"#DejaVuSans-53\" x=\"2533.134766\"/>\n",
       "     <use xlink:href=\"#DejaVuSans-77\" x=\"2596.611328\"/>\n",
       "     <use xlink:href=\"#DejaVuSans-69\" x=\"2678.398438\"/>\n",
       "     <use xlink:href=\"#DejaVuSans-74\" x=\"2706.181641\"/>\n",
       "     <use xlink:href=\"#DejaVuSans-63\" x=\"2745.390625\"/>\n",
       "     <use xlink:href=\"#DejaVuSans-68\" x=\"2800.371094\"/>\n",
       "     <use xlink:href=\"#DejaVuSans-29\" x=\"2863.75\"/>\n",
       "    </g>\n",
       "   </g>\n",
       "   <g id=\"legend_1\">\n",
       "    <g id=\"patch_19\">\n",
       "     <path d=\"M 437.027187 340.654 \n",
       "L 597.952031 340.654 \n",
       "Q 600.152031 340.654 600.152031 338.454 \n",
       "L 600.152031 307.262125 \n",
       "Q 600.152031 305.062125 597.952031 305.062125 \n",
       "L 437.027187 305.062125 \n",
       "Q 434.827187 305.062125 434.827187 307.262125 \n",
       "L 434.827187 338.454 \n",
       "Q 434.827187 340.654 437.027187 340.654 \n",
       "z\n",
       "\" style=\"fill: #ffffff; opacity: 0.8; stroke: #cccccc; stroke-linejoin: miter\"/>\n",
       "    </g>\n",
       "    <g id=\"patch_20\">\n",
       "     <path d=\"M 439.227187 317.820406 \n",
       "L 461.227187 317.820406 \n",
       "L 461.227187 310.120406 \n",
       "L 439.227187 310.120406 \n",
       "z\n",
       "\" style=\"fill: #cb3335; stroke: #484848; stroke-width: 0.75; stroke-linejoin: miter\"/>\n",
       "    </g>\n",
       "    <g id=\"text_20\">\n",
       "     <!-- With Self Activation -->\n",
       "     <g transform=\"translate(470.027187 317.820406) scale(0.11 -0.11)\">\n",
       "      <defs>\n",
       "       <path id=\"DejaVuSans-57\" d=\"M 213 4666 \n",
       "L 850 4666 \n",
       "L 1831 722 \n",
       "L 2809 4666 \n",
       "L 3519 4666 \n",
       "L 4500 722 \n",
       "L 5478 4666 \n",
       "L 6119 4666 \n",
       "L 4947 0 \n",
       "L 4153 0 \n",
       "L 3169 4050 \n",
       "L 2175 0 \n",
       "L 1381 0 \n",
       "L 213 4666 \n",
       "z\n",
       "\" transform=\"scale(0.015625)\"/>\n",
       "       <path id=\"DejaVuSans-66\" d=\"M 2375 4863 \n",
       "L 2375 4384 \n",
       "L 1825 4384 \n",
       "Q 1516 4384 1395 4259 \n",
       "Q 1275 4134 1275 3809 \n",
       "L 1275 3500 \n",
       "L 2222 3500 \n",
       "L 2222 3053 \n",
       "L 1275 3053 \n",
       "L 1275 0 \n",
       "L 697 0 \n",
       "L 697 3053 \n",
       "L 147 3053 \n",
       "L 147 3500 \n",
       "L 697 3500 \n",
       "L 697 3744 \n",
       "Q 697 4328 969 4595 \n",
       "Q 1241 4863 1831 4863 \n",
       "L 2375 4863 \n",
       "z\n",
       "\" transform=\"scale(0.015625)\"/>\n",
       "       <path id=\"DejaVuSans-41\" d=\"M 2188 4044 \n",
       "L 1331 1722 \n",
       "L 3047 1722 \n",
       "L 2188 4044 \n",
       "z\n",
       "M 1831 4666 \n",
       "L 2547 4666 \n",
       "L 4325 0 \n",
       "L 3669 0 \n",
       "L 3244 1197 \n",
       "L 1141 1197 \n",
       "L 716 0 \n",
       "L 50 0 \n",
       "L 1831 4666 \n",
       "z\n",
       "\" transform=\"scale(0.015625)\"/>\n",
       "      </defs>\n",
       "      <use xlink:href=\"#DejaVuSans-57\"/>\n",
       "      <use xlink:href=\"#DejaVuSans-69\" x=\"96.626953\"/>\n",
       "      <use xlink:href=\"#DejaVuSans-74\" x=\"124.410156\"/>\n",
       "      <use xlink:href=\"#DejaVuSans-68\" x=\"163.619141\"/>\n",
       "      <use xlink:href=\"#DejaVuSans-20\" x=\"226.998047\"/>\n",
       "      <use xlink:href=\"#DejaVuSans-53\" x=\"258.785156\"/>\n",
       "      <use xlink:href=\"#DejaVuSans-65\" x=\"322.261719\"/>\n",
       "      <use xlink:href=\"#DejaVuSans-6c\" x=\"383.785156\"/>\n",
       "      <use xlink:href=\"#DejaVuSans-66\" x=\"411.568359\"/>\n",
       "      <use xlink:href=\"#DejaVuSans-20\" x=\"446.773438\"/>\n",
       "      <use xlink:href=\"#DejaVuSans-41\" x=\"478.560547\"/>\n",
       "      <use xlink:href=\"#DejaVuSans-63\" x=\"545.21875\"/>\n",
       "      <use xlink:href=\"#DejaVuSans-74\" x=\"600.199219\"/>\n",
       "      <use xlink:href=\"#DejaVuSans-69\" x=\"639.408203\"/>\n",
       "      <use xlink:href=\"#DejaVuSans-76\" x=\"667.191406\"/>\n",
       "      <use xlink:href=\"#DejaVuSans-61\" x=\"726.371094\"/>\n",
       "      <use xlink:href=\"#DejaVuSans-74\" x=\"787.650391\"/>\n",
       "      <use xlink:href=\"#DejaVuSans-69\" x=\"826.859375\"/>\n",
       "      <use xlink:href=\"#DejaVuSans-6f\" x=\"854.642578\"/>\n",
       "      <use xlink:href=\"#DejaVuSans-6e\" x=\"915.824219\"/>\n",
       "     </g>\n",
       "    </g>\n",
       "    <g id=\"patch_21\">\n",
       "     <path d=\"M 439.227187 333.966344 \n",
       "L 461.227187 333.966344 \n",
       "L 461.227187 326.266344 \n",
       "L 439.227187 326.266344 \n",
       "z\n",
       "\" style=\"fill: #477ca8; stroke: #484848; stroke-width: 0.75; stroke-linejoin: miter\"/>\n",
       "    </g>\n",
       "    <g id=\"text_21\">\n",
       "     <!-- Without Self Activation -->\n",
       "     <g transform=\"translate(470.027187 333.966344) scale(0.11 -0.11)\">\n",
       "      <defs>\n",
       "       <path id=\"DejaVuSans-75\" d=\"M 544 1381 \n",
       "L 544 3500 \n",
       "L 1119 3500 \n",
       "L 1119 1403 \n",
       "Q 1119 906 1312 657 \n",
       "Q 1506 409 1894 409 \n",
       "Q 2359 409 2629 706 \n",
       "Q 2900 1003 2900 1516 \n",
       "L 2900 3500 \n",
       "L 3475 3500 \n",
       "L 3475 0 \n",
       "L 2900 0 \n",
       "L 2900 538 \n",
       "Q 2691 219 2414 64 \n",
       "Q 2138 -91 1772 -91 \n",
       "Q 1169 -91 856 284 \n",
       "Q 544 659 544 1381 \n",
       "z\n",
       "M 1991 3584 \n",
       "L 1991 3584 \n",
       "z\n",
       "\" transform=\"scale(0.015625)\"/>\n",
       "      </defs>\n",
       "      <use xlink:href=\"#DejaVuSans-57\"/>\n",
       "      <use xlink:href=\"#DejaVuSans-69\" x=\"96.626953\"/>\n",
       "      <use xlink:href=\"#DejaVuSans-74\" x=\"124.410156\"/>\n",
       "      <use xlink:href=\"#DejaVuSans-68\" x=\"163.619141\"/>\n",
       "      <use xlink:href=\"#DejaVuSans-6f\" x=\"226.998047\"/>\n",
       "      <use xlink:href=\"#DejaVuSans-75\" x=\"288.179688\"/>\n",
       "      <use xlink:href=\"#DejaVuSans-74\" x=\"351.558594\"/>\n",
       "      <use xlink:href=\"#DejaVuSans-20\" x=\"390.767578\"/>\n",
       "      <use xlink:href=\"#DejaVuSans-53\" x=\"422.554688\"/>\n",
       "      <use xlink:href=\"#DejaVuSans-65\" x=\"486.03125\"/>\n",
       "      <use xlink:href=\"#DejaVuSans-6c\" x=\"547.554688\"/>\n",
       "      <use xlink:href=\"#DejaVuSans-66\" x=\"575.337891\"/>\n",
       "      <use xlink:href=\"#DejaVuSans-20\" x=\"610.542969\"/>\n",
       "      <use xlink:href=\"#DejaVuSans-41\" x=\"642.330078\"/>\n",
       "      <use xlink:href=\"#DejaVuSans-63\" x=\"708.988281\"/>\n",
       "      <use xlink:href=\"#DejaVuSans-74\" x=\"763.96875\"/>\n",
       "      <use xlink:href=\"#DejaVuSans-69\" x=\"803.177734\"/>\n",
       "      <use xlink:href=\"#DejaVuSans-76\" x=\"830.960938\"/>\n",
       "      <use xlink:href=\"#DejaVuSans-61\" x=\"890.140625\"/>\n",
       "      <use xlink:href=\"#DejaVuSans-74\" x=\"951.419922\"/>\n",
       "      <use xlink:href=\"#DejaVuSans-69\" x=\"990.628906\"/>\n",
       "      <use xlink:href=\"#DejaVuSans-6f\" x=\"1018.412109\"/>\n",
       "      <use xlink:href=\"#DejaVuSans-6e\" x=\"1079.59375\"/>\n",
       "     </g>\n",
       "    </g>\n",
       "   </g>\n",
       "  </g>\n",
       " </g>\n",
       " <defs>\n",
       "  <clipPath id=\"p1d4f7a9924\">\n",
       "   <rect x=\"49.807187\" y=\"22.318125\" width=\"558\" height=\"332.64\"/>\n",
       "  </clipPath>\n",
       " </defs>\n",
       "</svg>\n"
      ],
      "text/plain": [
       "<Figure size 1000x600 with 1 Axes>"
      ]
     },
     "metadata": {},
     "output_type": "display_data"
    }
   ],
   "source": [
    "pairs = [\n",
    "    [('20%', 'Without Self Activation'), ('20%', 'With Self Activation')],\n",
    "\n",
    "    [('40%','Without Self Activation'), ('40%', 'With Self Activation')],\n",
    "\n",
    "\n",
    "    [('60%', 'Without Self Activation'), ('60%','With Self Activation')],\n",
    "    [('80%', 'Without Self Activation'), ('80%','With Self Activation')],\n",
    "\n",
    "\n",
    "    [('100%', 'Without Self Activation'), ('100%','With Self Activation')]\n",
    "\n",
    "\n",
    "\n",
    "]\n",
    "\n",
    "#sub_cat_order=['All Nodes','Core']\n",
    "#cat_order  = ['60 Edges','90 Edges','120 Edges','150 Edges']\n",
    "cat_order = ['20%','40%','60%','80%','100%']\n",
    "#hue_order = [2,4,6]\n",
    "hue_plot_params = {\n",
    "    'data':  melt_table_complete,\n",
    "    'x': \"Density\",\n",
    "    'y': \"F1\",\n",
    "    \"order\": cat_order,\n",
    "    \"hue\": \"Self_Activation_Status\"\n",
    "    \n",
    "}\n",
    "\n",
    "plt.figure(figsize=(10, 6)) \n",
    "with sns.plotting_context(\"notebook\"):\n",
    "    # Create new plot\n",
    "    ax = sns.boxplot(y=\"F1\", hue=\"Self_Activation_Status\", x=\"Density\", data= melt_table_complete, width =0.7 ,\n",
    "                     order = cat_order, palette = 'Set1')\n",
    "    \n",
    "    hue_colors = sns.color_palette(\"Set1\", len(melt_table_complete[\"Self_Activation_Status\"].unique()))\n",
    "    for i, line in enumerate(ax.lines):\n",
    "        box_index = i // 6\n",
    "        if i//6 > 7:\n",
    "            line.set_color(hue_colors[box_index % len(hue_colors)])\n",
    "\n",
    "\n",
    "    # Plot with seaborn\n",
    "    #ax = sns.boxplot(ax=ax, **hue_plot_params)\n",
    "\n",
    "    # Add annotations\n",
    "    annotator = Annotator(ax, pairs, **hue_plot_params)\n",
    "    annotator.configure(test=\"Mann-Whitney\", verbose=False)\n",
    "    _, results = annotator.apply_and_annotate()\n",
    "    plt.ylabel('F1', fontweight='bold')\n",
    "    plt.xlabel('Core Density', fontweight='bold')\n",
    "    plt.legend(bbox_to_anchor=(0.69, 0.15), loc='upper left', borderaxespad=0)\n",
    "    # Label and show\n",
    "    #add_legend(ax)\n",
    "    #label_plot_for_states(ax)\n",
    "    plt.title('F1 (Boolean) vs Core Density (10N Teamed Toggle Switch)')\n",
    "    #plt.legend()\n",
    "    #plt.legend(['2','4','6'],bbox_to_anchor=(1.02, 1), loc='upper left', borderaxespad=0)\n",
    "    plt.savefig('plots/F1_vs_Core_Density_TS_Team_Boolean.png', bbox_inches='tight')\n",
    "    plt.show()\n",
    "    \n",
    "\n"
   ]
  },
  {
   "cell_type": "code",
   "execution_count": 45,
   "metadata": {},
   "outputs": [
    {
     "data": {
      "image/png": "[encoded data removed]",
      "image/svg+xml": [
       "<?xml version=\"1.0\" encoding=\"utf-8\" standalone=\"no\"?>\n",
       "<!DOCTYPE svg PUBLIC \"-//W3C//DTD SVG 1.1//EN\"\n",
       "  \"http://www.w3.org/Graphics/SVG/1.1/DTD/svg11.dtd\">\n",
       "<svg xmlns:xlink=\"http://www.w3.org/1999/xlink\" width=\"615.007187pt\" height=\"398.011563pt\" viewBox=\"0 0 615.007187 398.011563\" xmlns=\"http://www.w3.org/2000/svg\" version=\"1.1\">\n",
       " <metadata>\n",
       "  <rdf:RDF xmlns:dc=\"http://purl.org/dc/elements/1.1/\" xmlns:cc=\"http://creativecommons.org/ns#\" xmlns:rdf=\"http://www.w3.org/1999/02/22-rdf-syntax-ns#\">\n",
       "   <cc:Work>\n",
       "    <dc:type rdf:resource=\"http://purl.org/dc/dcmitype/StillImage\"/>\n",
       "    <dc:date>2024-01-24T10:43:50.165150</dc:date>\n",
       "    <dc:format>image/svg+xml</dc:format>\n",
       "    <dc:creator>\n",
       "     <cc:Agent>\n",
       "      <dc:title>Matplotlib v3.6.0, https://matplotlib.org/</dc:title>\n",
       "     </cc:Agent>\n",
       "    </dc:creator>\n",
       "   </cc:Work>\n",
       "  </rdf:RDF>\n",
       " </metadata>\n",
       " <defs>\n",
       "  <style type=\"text/css\">*{stroke-linejoin: round; stroke-linecap: butt}</style>\n",
       " </defs>\n",
       " <g id=\"figure_1\">\n",
       "  <g id=\"patch_1\">\n",
       "   <path d=\"M 0 398.011563 \n",
       "L 615.007187 398.011563 \n",
       "L 615.007187 0 \n",
       "L 0 0 \n",
       "z\n",
       "\" style=\"fill: #ffffff\"/>\n",
       "  </g>\n",
       "  <g id=\"axes_1\">\n",
       "   <g id=\"patch_2\">\n",
       "    <path d=\"M 49.807187 354.958125 \n",
       "L 607.807188 354.958125 \n",
       "L 607.807188 22.318125 \n",
       "L 49.807187 22.318125 \n",
       "z\n",
       "\" style=\"fill: #ffffff\"/>\n",
       "   </g>\n",
       "   <g id=\"patch_3\">\n",
       "    <path d=\"M 75.170824 354.958125 \n",
       "L 117.443551 354.958125 \n",
       "L 117.443551 159.182843 \n",
       "L 75.170824 159.182843 \n",
       "z\n",
       "\" clip-path=\"url(#pd67de63f2a)\" style=\"fill: #cb3335\"/>\n",
       "   </g>\n",
       "   <g id=\"patch_4\">\n",
       "    <path d=\"M 180.852642 354.958125 \n",
       "L 223.125369 354.958125 \n",
       "L 223.125369 92.433021 \n",
       "L 180.852642 92.433021 \n",
       "z\n",
       "\" clip-path=\"url(#pd67de63f2a)\" style=\"fill: #cb3335\"/>\n",
       "   </g>\n",
       "   <g id=\"patch_5\">\n",
       "    <path d=\"M 286.53446 354.958125 \n",
       "L 328.807187 354.958125 \n",
       "L 328.807187 74.232906 \n",
       "L 286.53446 74.232906 \n",
       "z\n",
       "\" clip-path=\"url(#pd67de63f2a)\" style=\"fill: #cb3335\"/>\n",
       "   </g>\n",
       "   <g id=\"patch_6\">\n",
       "    <path d=\"M 392.216278 354.958125 \n",
       "L 434.489006 354.958125 \n",
       "L 434.489006 72.270843 \n",
       "L 392.216278 72.270843 \n",
       "z\n",
       "\" clip-path=\"url(#pd67de63f2a)\" style=\"fill: #cb3335\"/>\n",
       "   </g>\n",
       "   <g id=\"patch_7\">\n",
       "    <path d=\"M 497.898097 354.958125 \n",
       "L 540.170824 354.958125 \n",
       "L 540.170824 110.919506 \n",
       "L 497.898097 110.919506 \n",
       "z\n",
       "\" clip-path=\"url(#pd67de63f2a)\" style=\"fill: #cb3335\"/>\n",
       "   </g>\n",
       "   <g id=\"patch_8\">\n",
       "    <path d=\"M 117.443551 354.958125 \n",
       "L 159.716278 354.958125 \n",
       "L 159.716278 129.703703 \n",
       "L 117.443551 129.703703 \n",
       "z\n",
       "\" clip-path=\"url(#pd67de63f2a)\" style=\"fill: #477ca8\"/>\n",
       "   </g>\n",
       "   <g id=\"patch_9\">\n",
       "    <path d=\"M 223.125369 354.958125 \n",
       "L 265.398097 354.958125 \n",
       "L 265.398097 103.230036 \n",
       "L 223.125369 103.230036 \n",
       "z\n",
       "\" clip-path=\"url(#pd67de63f2a)\" style=\"fill: #477ca8\"/>\n",
       "   </g>\n",
       "   <g id=\"patch_10\">\n",
       "    <path d=\"M 328.807187 354.958125 \n",
       "L 371.079915 354.958125 \n",
       "L 371.079915 81.451708 \n",
       "L 328.807187 81.451708 \n",
       "z\n",
       "\" clip-path=\"url(#pd67de63f2a)\" style=\"fill: #477ca8\"/>\n",
       "   </g>\n",
       "   <g id=\"patch_11\">\n",
       "    <path d=\"M 434.489006 354.958125 \n",
       "L 476.761733 354.958125 \n",
       "L 476.761733 73.532574 \n",
       "L 434.489006 73.532574 \n",
       "z\n",
       "\" clip-path=\"url(#pd67de63f2a)\" style=\"fill: #477ca8\"/>\n",
       "   </g>\n",
       "   <g id=\"patch_12\">\n",
       "    <path d=\"M 540.170824 354.958125 \n",
       "L 582.443551 354.958125 \n",
       "L 582.443551 71.423074 \n",
       "L 540.170824 71.423074 \n",
       "z\n",
       "\" clip-path=\"url(#pd67de63f2a)\" style=\"fill: #477ca8\"/>\n",
       "   </g>\n",
       "   <g id=\"matplotlib.axis_1\">\n",
       "    <g id=\"xtick_1\">\n",
       "     <g id=\"line2d_1\">\n",
       "      <defs>\n",
       "       <path id=\"m302198936a\" d=\"M 0 0 \n",
       "L 0 6 \n",
       "\" style=\"stroke: #000000; stroke-width: 1.25\"/>\n",
       "      </defs>\n",
       "      <g>\n",
       "       <use xlink:href=\"#m302198936a\" x=\"117.443551\" y=\"354.958125\" style=\"stroke: #000000; stroke-width: 1.25\"/>\n",
       "      </g>\n",
       "     </g>\n",
       "     <g id=\"text_1\">\n",
       "      <!-- 20% -->\n",
       "      <g transform=\"translate(105.218942 372.816406) scale(0.11 -0.11)\">\n",
       "       <defs>\n",
       "        <path id=\"DejaVuSans-32\" d=\"M 1228 531 \n",
       "L 3431 531 \n",
       "L 3431 0 \n",
       "L 469 0 \n",
       "L 469 531 \n",
       "Q 828 903 1448 1529 \n",
       "Q 2069 2156 2228 2338 \n",
       "Q 2531 2678 2651 2914 \n",
       "Q 2772 3150 2772 3378 \n",
       "Q 2772 3750 2511 3984 \n",
       "Q 2250 4219 1831 4219 \n",
       "Q 1534 4219 1204 4116 \n",
       "Q 875 4013 500 3803 \n",
       "L 500 4441 \n",
       "Q 881 4594 1212 4672 \n",
       "Q 1544 4750 1819 4750 \n",
       "Q 2544 4750 2975 4387 \n",
       "Q 3406 4025 3406 3419 \n",
       "Q 3406 3131 3298 2873 \n",
       "Q 3191 2616 2906 2266 \n",
       "Q 2828 2175 2409 1742 \n",
       "Q 1991 1309 1228 531 \n",
       "z\n",
       "\" transform=\"scale(0.015625)\"/>\n",
       "        <path id=\"DejaVuSans-30\" d=\"M 2034 4250 \n",
       "Q 1547 4250 1301 3770 \n",
       "Q 1056 3291 1056 2328 \n",
       "Q 1056 1369 1301 889 \n",
       "Q 1547 409 2034 409 \n",
       "Q 2525 409 2770 889 \n",
       "Q 3016 1369 3016 2328 \n",
       "Q 3016 3291 2770 3770 \n",
       "Q 2525 4250 2034 4250 \n",
       "z\n",
       "M 2034 4750 \n",
       "Q 2819 4750 3233 4129 \n",
       "Q 3647 3509 3647 2328 \n",
       "Q 3647 1150 3233 529 \n",
       "Q 2819 -91 2034 -91 \n",
       "Q 1250 -91 836 529 \n",
       "Q 422 1150 422 2328 \n",
       "Q 422 3509 836 4129 \n",
       "Q 1250 4750 2034 4750 \n",
       "z\n",
       "\" transform=\"scale(0.015625)\"/>\n",
       "        <path id=\"DejaVuSans-25\" d=\"M 4653 2053 \n",
       "Q 4381 2053 4226 1822 \n",
       "Q 4072 1591 4072 1178 \n",
       "Q 4072 772 4226 539 \n",
       "Q 4381 306 4653 306 \n",
       "Q 4919 306 5073 539 \n",
       "Q 5228 772 5228 1178 \n",
       "Q 5228 1588 5073 1820 \n",
       "Q 4919 2053 4653 2053 \n",
       "z\n",
       "M 4653 2450 \n",
       "Q 5147 2450 5437 2106 \n",
       "Q 5728 1763 5728 1178 \n",
       "Q 5728 594 5436 251 \n",
       "Q 5144 -91 4653 -91 \n",
       "Q 4153 -91 3862 251 \n",
       "Q 3572 594 3572 1178 \n",
       "Q 3572 1766 3864 2108 \n",
       "Q 4156 2450 4653 2450 \n",
       "z\n",
       "M 1428 4353 \n",
       "Q 1159 4353 1004 4120 \n",
       "Q 850 3888 850 3481 \n",
       "Q 850 3069 1003 2837 \n",
       "Q 1156 2606 1428 2606 \n",
       "Q 1700 2606 1854 2837 \n",
       "Q 2009 3069 2009 3481 \n",
       "Q 2009 3884 1853 4118 \n",
       "Q 1697 4353 1428 4353 \n",
       "z\n",
       "M 4250 4750 \n",
       "L 4750 4750 \n",
       "L 1831 -91 \n",
       "L 1331 -91 \n",
       "L 4250 4750 \n",
       "z\n",
       "M 1428 4750 \n",
       "Q 1922 4750 2215 4408 \n",
       "Q 2509 4066 2509 3481 \n",
       "Q 2509 2891 2217 2550 \n",
       "Q 1925 2209 1428 2209 \n",
       "Q 931 2209 642 2551 \n",
       "Q 353 2894 353 3481 \n",
       "Q 353 4063 643 4406 \n",
       "Q 934 4750 1428 4750 \n",
       "z\n",
       "\" transform=\"scale(0.015625)\"/>\n",
       "       </defs>\n",
       "       <use xlink:href=\"#DejaVuSans-32\"/>\n",
       "       <use xlink:href=\"#DejaVuSans-30\" x=\"63.623047\"/>\n",
       "       <use xlink:href=\"#DejaVuSans-25\" x=\"127.246094\"/>\n",
       "      </g>\n",
       "     </g>\n",
       "    </g>\n",
       "    <g id=\"xtick_2\">\n",
       "     <g id=\"line2d_2\">\n",
       "      <g>\n",
       "       <use xlink:href=\"#m302198936a\" x=\"223.125369\" y=\"354.958125\" style=\"stroke: #000000; stroke-width: 1.25\"/>\n",
       "      </g>\n",
       "     </g>\n",
       "     <g id=\"text_2\">\n",
       "      <!-- 40% -->\n",
       "      <g transform=\"translate(210.90076 372.816406) scale(0.11 -0.11)\">\n",
       "       <defs>\n",
       "        <path id=\"DejaVuSans-34\" d=\"M 2419 4116 \n",
       "L 825 1625 \n",
       "L 2419 1625 \n",
       "L 2419 4116 \n",
       "z\n",
       "M 2253 4666 \n",
       "L 3047 4666 \n",
       "L 3047 1625 \n",
       "L 3713 1625 \n",
       "L 3713 1100 \n",
       "L 3047 1100 \n",
       "L 3047 0 \n",
       "L 2419 0 \n",
       "L 2419 1100 \n",
       "L 313 1100 \n",
       "L 313 1709 \n",
       "L 2253 4666 \n",
       "z\n",
       "\" transform=\"scale(0.015625)\"/>\n",
       "       </defs>\n",
       "       <use xlink:href=\"#DejaVuSans-34\"/>\n",
       "       <use xlink:href=\"#DejaVuSans-30\" x=\"63.623047\"/>\n",
       "       <use xlink:href=\"#DejaVuSans-25\" x=\"127.246094\"/>\n",
       "      </g>\n",
       "     </g>\n",
       "    </g>\n",
       "    <g id=\"xtick_3\">\n",
       "     <g id=\"line2d_3\">\n",
       "      <g>\n",
       "       <use xlink:href=\"#m302198936a\" x=\"328.807187\" y=\"354.958125\" style=\"stroke: #000000; stroke-width: 1.25\"/>\n",
       "      </g>\n",
       "     </g>\n",
       "     <g id=\"text_3\">\n",
       "      <!-- 60% -->\n",
       "      <g transform=\"translate(316.582578 372.816406) scale(0.11 -0.11)\">\n",
       "       <defs>\n",
       "        <path id=\"DejaVuSans-36\" d=\"M 2113 2584 \n",
       "Q 1688 2584 1439 2293 \n",
       "Q 1191 2003 1191 1497 \n",
       "Q 1191 994 1439 701 \n",
       "Q 1688 409 2113 409 \n",
       "Q 2538 409 2786 701 \n",
       "Q 3034 994 3034 1497 \n",
       "Q 3034 2003 2786 2293 \n",
       "Q 2538 2584 2113 2584 \n",
       "z\n",
       "M 3366 4563 \n",
       "L 3366 3988 \n",
       "Q 3128 4100 2886 4159 \n",
       "Q 2644 4219 2406 4219 \n",
       "Q 1781 4219 1451 3797 \n",
       "Q 1122 3375 1075 2522 \n",
       "Q 1259 2794 1537 2939 \n",
       "Q 1816 3084 2150 3084 \n",
       "Q 2853 3084 3261 2657 \n",
       "Q 3669 2231 3669 1497 \n",
       "Q 3669 778 3244 343 \n",
       "Q 2819 -91 2113 -91 \n",
       "Q 1303 -91 875 529 \n",
       "Q 447 1150 447 2328 \n",
       "Q 447 3434 972 4092 \n",
       "Q 1497 4750 2381 4750 \n",
       "Q 2619 4750 2861 4703 \n",
       "Q 3103 4656 3366 4563 \n",
       "z\n",
       "\" transform=\"scale(0.015625)\"/>\n",
       "       </defs>\n",
       "       <use xlink:href=\"#DejaVuSans-36\"/>\n",
       "       <use xlink:href=\"#DejaVuSans-30\" x=\"63.623047\"/>\n",
       "       <use xlink:href=\"#DejaVuSans-25\" x=\"127.246094\"/>\n",
       "      </g>\n",
       "     </g>\n",
       "    </g>\n",
       "    <g id=\"xtick_4\">\n",
       "     <g id=\"line2d_4\">\n",
       "      <g>\n",
       "       <use xlink:href=\"#m302198936a\" x=\"434.489006\" y=\"354.958125\" style=\"stroke: #000000; stroke-width: 1.25\"/>\n",
       "      </g>\n",
       "     </g>\n",
       "     <g id=\"text_4\">\n",
       "      <!-- 80% -->\n",
       "      <g transform=\"translate(422.264396 372.816406) scale(0.11 -0.11)\">\n",
       "       <defs>\n",
       "        <path id=\"DejaVuSans-38\" d=\"M 2034 2216 \n",
       "Q 1584 2216 1326 1975 \n",
       "Q 1069 1734 1069 1313 \n",
       "Q 1069 891 1326 650 \n",
       "Q 1584 409 2034 409 \n",
       "Q 2484 409 2743 651 \n",
       "Q 3003 894 3003 1313 \n",
       "Q 3003 1734 2745 1975 \n",
       "Q 2488 2216 2034 2216 \n",
       "z\n",
       "M 1403 2484 \n",
       "Q 997 2584 770 2862 \n",
       "Q 544 3141 544 3541 \n",
       "Q 544 4100 942 4425 \n",
       "Q 1341 4750 2034 4750 \n",
       "Q 2731 4750 3128 4425 \n",
       "Q 3525 4100 3525 3541 \n",
       "Q 3525 3141 3298 2862 \n",
       "Q 3072 2584 2669 2484 \n",
       "Q 3125 2378 3379 2068 \n",
       "Q 3634 1759 3634 1313 \n",
       "Q 3634 634 3220 271 \n",
       "Q 2806 -91 2034 -91 \n",
       "Q 1263 -91 848 271 \n",
       "Q 434 634 434 1313 \n",
       "Q 434 1759 690 2068 \n",
       "Q 947 2378 1403 2484 \n",
       "z\n",
       "M 1172 3481 \n",
       "Q 1172 3119 1398 2916 \n",
       "Q 1625 2713 2034 2713 \n",
       "Q 2441 2713 2670 2916 \n",
       "Q 2900 3119 2900 3481 \n",
       "Q 2900 3844 2670 4047 \n",
       "Q 2441 4250 2034 4250 \n",
       "Q 1625 4250 1398 4047 \n",
       "Q 1172 3844 1172 3481 \n",
       "z\n",
       "\" transform=\"scale(0.015625)\"/>\n",
       "       </defs>\n",
       "       <use xlink:href=\"#DejaVuSans-38\"/>\n",
       "       <use xlink:href=\"#DejaVuSans-30\" x=\"63.623047\"/>\n",
       "       <use xlink:href=\"#DejaVuSans-25\" x=\"127.246094\"/>\n",
       "      </g>\n",
       "     </g>\n",
       "    </g>\n",
       "    <g id=\"xtick_5\">\n",
       "     <g id=\"line2d_5\">\n",
       "      <g>\n",
       "       <use xlink:href=\"#m302198936a\" x=\"540.170824\" y=\"354.958125\" style=\"stroke: #000000; stroke-width: 1.25\"/>\n",
       "      </g>\n",
       "     </g>\n",
       "     <g id=\"text_5\">\n",
       "      <!-- 100% -->\n",
       "      <g transform=\"translate(524.446839 372.816406) scale(0.11 -0.11)\">\n",
       "       <defs>\n",
       "        <path id=\"DejaVuSans-31\" d=\"M 794 531 \n",
       "L 1825 531 \n",
       "L 1825 4091 \n",
       "L 703 3866 \n",
       "L 703 4441 \n",
       "L 1819 4666 \n",
       "L 2450 4666 \n",
       "L 2450 531 \n",
       "L 3481 531 \n",
       "L 3481 0 \n",
       "L 794 0 \n",
       "L 794 531 \n",
       "z\n",
       "\" transform=\"scale(0.015625)\"/>\n",
       "       </defs>\n",
       "       <use xlink:href=\"#DejaVuSans-31\"/>\n",
       "       <use xlink:href=\"#DejaVuSans-30\" x=\"63.623047\"/>\n",
       "       <use xlink:href=\"#DejaVuSans-30\" x=\"127.246094\"/>\n",
       "       <use xlink:href=\"#DejaVuSans-25\" x=\"190.869141\"/>\n",
       "      </g>\n",
       "     </g>\n",
       "    </g>\n",
       "    <g id=\"text_6\">\n",
       "     <!-- Core Density -->\n",
       "     <g transform=\"translate(285.435625 388.222188) scale(0.12 -0.12)\">\n",
       "      <defs>\n",
       "       <path id=\"DejaVuSans-Bold-43\" d=\"M 4288 256 \n",
       "Q 3956 84 3597 -3 \n",
       "Q 3238 -91 2847 -91 \n",
       "Q 1681 -91 1000 561 \n",
       "Q 319 1213 319 2328 \n",
       "Q 319 3447 1000 4098 \n",
       "Q 1681 4750 2847 4750 \n",
       "Q 3238 4750 3597 4662 \n",
       "Q 3956 4575 4288 4403 \n",
       "L 4288 3438 \n",
       "Q 3953 3666 3628 3772 \n",
       "Q 3303 3878 2944 3878 \n",
       "Q 2300 3878 1931 3465 \n",
       "Q 1563 3053 1563 2328 \n",
       "Q 1563 1606 1931 1193 \n",
       "Q 2300 781 2944 781 \n",
       "Q 3303 781 3628 887 \n",
       "Q 3953 994 4288 1222 \n",
       "L 4288 256 \n",
       "z\n",
       "\" transform=\"scale(0.015625)\"/>\n",
       "       <path id=\"DejaVuSans-Bold-6f\" d=\"M 2203 2784 \n",
       "Q 1831 2784 1636 2517 \n",
       "Q 1441 2250 1441 1747 \n",
       "Q 1441 1244 1636 976 \n",
       "Q 1831 709 2203 709 \n",
       "Q 2569 709 2762 976 \n",
       "Q 2956 1244 2956 1747 \n",
       "Q 2956 2250 2762 2517 \n",
       "Q 2569 2784 2203 2784 \n",
       "z\n",
       "M 2203 3584 \n",
       "Q 3106 3584 3614 3096 \n",
       "Q 4122 2609 4122 1747 \n",
       "Q 4122 884 3614 396 \n",
       "Q 3106 -91 2203 -91 \n",
       "Q 1297 -91 786 396 \n",
       "Q 275 884 275 1747 \n",
       "Q 275 2609 786 3096 \n",
       "Q 1297 3584 2203 3584 \n",
       "z\n",
       "\" transform=\"scale(0.015625)\"/>\n",
       "       <path id=\"DejaVuSans-Bold-72\" d=\"M 3138 2547 \n",
       "Q 2991 2616 2845 2648 \n",
       "Q 2700 2681 2553 2681 \n",
       "Q 2122 2681 1889 2404 \n",
       "Q 1656 2128 1656 1613 \n",
       "L 1656 0 \n",
       "L 538 0 \n",
       "L 538 3500 \n",
       "L 1656 3500 \n",
       "L 1656 2925 \n",
       "Q 1872 3269 2151 3426 \n",
       "Q 2431 3584 2822 3584 \n",
       "Q 2878 3584 2943 3579 \n",
       "Q 3009 3575 3134 3559 \n",
       "L 3138 2547 \n",
       "z\n",
       "\" transform=\"scale(0.015625)\"/>\n",
       "       <path id=\"DejaVuSans-Bold-65\" d=\"M 4031 1759 \n",
       "L 4031 1441 \n",
       "L 1416 1441 \n",
       "Q 1456 1047 1700 850 \n",
       "Q 1944 653 2381 653 \n",
       "Q 2734 653 3104 758 \n",
       "Q 3475 863 3866 1075 \n",
       "L 3866 213 \n",
       "Q 3469 63 3072 -14 \n",
       "Q 2675 -91 2278 -91 \n",
       "Q 1328 -91 801 392 \n",
       "Q 275 875 275 1747 \n",
       "Q 275 2603 792 3093 \n",
       "Q 1309 3584 2216 3584 \n",
       "Q 3041 3584 3536 3087 \n",
       "Q 4031 2591 4031 1759 \n",
       "z\n",
       "M 2881 2131 \n",
       "Q 2881 2450 2695 2645 \n",
       "Q 2509 2841 2209 2841 \n",
       "Q 1884 2841 1681 2658 \n",
       "Q 1478 2475 1428 2131 \n",
       "L 2881 2131 \n",
       "z\n",
       "\" transform=\"scale(0.015625)\"/>\n",
       "       <path id=\"DejaVuSans-Bold-20\" transform=\"scale(0.015625)\"/>\n",
       "       <path id=\"DejaVuSans-Bold-44\" d=\"M 1791 3756 \n",
       "L 1791 909 \n",
       "L 2222 909 \n",
       "Q 2959 909 3348 1275 \n",
       "Q 3738 1641 3738 2338 \n",
       "Q 3738 3031 3350 3393 \n",
       "Q 2963 3756 2222 3756 \n",
       "L 1791 3756 \n",
       "z\n",
       "M 588 4666 \n",
       "L 1856 4666 \n",
       "Q 2919 4666 3439 4514 \n",
       "Q 3959 4363 4331 4000 \n",
       "Q 4659 3684 4818 3271 \n",
       "Q 4978 2859 4978 2338 \n",
       "Q 4978 1809 4818 1395 \n",
       "Q 4659 981 4331 666 \n",
       "Q 3956 303 3431 151 \n",
       "Q 2906 0 1856 0 \n",
       "L 588 0 \n",
       "L 588 4666 \n",
       "z\n",
       "\" transform=\"scale(0.015625)\"/>\n",
       "       <path id=\"DejaVuSans-Bold-6e\" d=\"M 4056 2131 \n",
       "L 4056 0 \n",
       "L 2931 0 \n",
       "L 2931 347 \n",
       "L 2931 1631 \n",
       "Q 2931 2084 2911 2256 \n",
       "Q 2891 2428 2841 2509 \n",
       "Q 2775 2619 2662 2680 \n",
       "Q 2550 2741 2406 2741 \n",
       "Q 2056 2741 1856 2470 \n",
       "Q 1656 2200 1656 1722 \n",
       "L 1656 0 \n",
       "L 538 0 \n",
       "L 538 3500 \n",
       "L 1656 3500 \n",
       "L 1656 2988 \n",
       "Q 1909 3294 2193 3439 \n",
       "Q 2478 3584 2822 3584 \n",
       "Q 3428 3584 3742 3212 \n",
       "Q 4056 2841 4056 2131 \n",
       "z\n",
       "\" transform=\"scale(0.015625)\"/>\n",
       "       <path id=\"DejaVuSans-Bold-73\" d=\"M 3272 3391 \n",
       "L 3272 2541 \n",
       "Q 2913 2691 2578 2766 \n",
       "Q 2244 2841 1947 2841 \n",
       "Q 1628 2841 1473 2761 \n",
       "Q 1319 2681 1319 2516 \n",
       "Q 1319 2381 1436 2309 \n",
       "Q 1553 2238 1856 2203 \n",
       "L 2053 2175 \n",
       "Q 2913 2066 3209 1816 \n",
       "Q 3506 1566 3506 1031 \n",
       "Q 3506 472 3093 190 \n",
       "Q 2681 -91 1863 -91 \n",
       "Q 1516 -91 1145 -36 \n",
       "Q 775 19 384 128 \n",
       "L 384 978 \n",
       "Q 719 816 1070 734 \n",
       "Q 1422 653 1784 653 \n",
       "Q 2113 653 2278 743 \n",
       "Q 2444 834 2444 1013 \n",
       "Q 2444 1163 2330 1236 \n",
       "Q 2216 1309 1875 1350 \n",
       "L 1678 1375 \n",
       "Q 931 1469 631 1722 \n",
       "Q 331 1975 331 2491 \n",
       "Q 331 3047 712 3315 \n",
       "Q 1094 3584 1881 3584 \n",
       "Q 2191 3584 2531 3537 \n",
       "Q 2872 3491 3272 3391 \n",
       "z\n",
       "\" transform=\"scale(0.015625)\"/>\n",
       "       <path id=\"DejaVuSans-Bold-69\" d=\"M 538 3500 \n",
       "L 1656 3500 \n",
       "L 1656 0 \n",
       "L 538 0 \n",
       "L 538 3500 \n",
       "z\n",
       "M 538 4863 \n",
       "L 1656 4863 \n",
       "L 1656 3950 \n",
       "L 538 3950 \n",
       "L 538 4863 \n",
       "z\n",
       "\" transform=\"scale(0.015625)\"/>\n",
       "       <path id=\"DejaVuSans-Bold-74\" d=\"M 1759 4494 \n",
       "L 1759 3500 \n",
       "L 2913 3500 \n",
       "L 2913 2700 \n",
       "L 1759 2700 \n",
       "L 1759 1216 \n",
       "Q 1759 972 1856 886 \n",
       "Q 1953 800 2241 800 \n",
       "L 2816 800 \n",
       "L 2816 0 \n",
       "L 1856 0 \n",
       "Q 1194 0 917 276 \n",
       "Q 641 553 641 1216 \n",
       "L 641 2700 \n",
       "L 84 2700 \n",
       "L 84 3500 \n",
       "L 641 3500 \n",
       "L 641 4494 \n",
       "L 1759 4494 \n",
       "z\n",
       "\" transform=\"scale(0.015625)\"/>\n",
       "       <path id=\"DejaVuSans-Bold-79\" d=\"M 78 3500 \n",
       "L 1197 3500 \n",
       "L 2138 1125 \n",
       "L 2938 3500 \n",
       "L 4056 3500 \n",
       "L 2584 -331 \n",
       "Q 2363 -916 2067 -1148 \n",
       "Q 1772 -1381 1288 -1381 \n",
       "L 641 -1381 \n",
       "L 641 -647 \n",
       "L 991 -647 \n",
       "Q 1275 -647 1404 -556 \n",
       "Q 1534 -466 1606 -231 \n",
       "L 1638 -134 \n",
       "L 78 3500 \n",
       "z\n",
       "\" transform=\"scale(0.015625)\"/>\n",
       "      </defs>\n",
       "      <use xlink:href=\"#DejaVuSans-Bold-43\"/>\n",
       "      <use xlink:href=\"#DejaVuSans-Bold-6f\" x=\"73.388672\"/>\n",
       "      <use xlink:href=\"#DejaVuSans-Bold-72\" x=\"142.089844\"/>\n",
       "      <use xlink:href=\"#DejaVuSans-Bold-65\" x=\"191.40625\"/>\n",
       "      <use xlink:href=\"#DejaVuSans-Bold-20\" x=\"259.228516\"/>\n",
       "      <use xlink:href=\"#DejaVuSans-Bold-44\" x=\"294.042969\"/>\n",
       "      <use xlink:href=\"#DejaVuSans-Bold-65\" x=\"377.050781\"/>\n",
       "      <use xlink:href=\"#DejaVuSans-Bold-6e\" x=\"444.873047\"/>\n",
       "      <use xlink:href=\"#DejaVuSans-Bold-73\" x=\"516.064453\"/>\n",
       "      <use xlink:href=\"#DejaVuSans-Bold-69\" x=\"575.585938\"/>\n",
       "      <use xlink:href=\"#DejaVuSans-Bold-74\" x=\"609.863281\"/>\n",
       "      <use xlink:href=\"#DejaVuSans-Bold-79\" x=\"657.666016\"/>\n",
       "     </g>\n",
       "    </g>\n",
       "   </g>\n",
       "   <g id=\"matplotlib.axis_2\">\n",
       "    <g id=\"ytick_1\">\n",
       "     <g id=\"line2d_6\">\n",
       "      <defs>\n",
       "       <path id=\"mc955e62f28\" d=\"M 0 0 \n",
       "L -6 0 \n",
       "\" style=\"stroke: #000000; stroke-width: 1.25\"/>\n",
       "      </defs>\n",
       "      <g>\n",
       "       <use xlink:href=\"#mc955e62f28\" x=\"49.807187\" y=\"354.958125\" style=\"stroke: #000000; stroke-width: 1.25\"/>\n",
       "      </g>\n",
       "     </g>\n",
       "     <g id=\"text_7\">\n",
       "      <!-- 0.0 -->\n",
       "      <g transform=\"translate(22.81375 359.137266) scale(0.11 -0.11)\">\n",
       "       <defs>\n",
       "        <path id=\"DejaVuSans-2e\" d=\"M 684 794 \n",
       "L 1344 794 \n",
       "L 1344 0 \n",
       "L 684 0 \n",
       "L 684 794 \n",
       "z\n",
       "\" transform=\"scale(0.015625)\"/>\n",
       "       </defs>\n",
       "       <use xlink:href=\"#DejaVuSans-30\"/>\n",
       "       <use xlink:href=\"#DejaVuSans-2e\" x=\"63.623047\"/>\n",
       "       <use xlink:href=\"#DejaVuSans-30\" x=\"95.410156\"/>\n",
       "      </g>\n",
       "     </g>\n",
       "    </g>\n",
       "    <g id=\"ytick_2\">\n",
       "     <g id=\"line2d_7\">\n",
       "      <g>\n",
       "       <use xlink:href=\"#mc955e62f28\" x=\"49.807187\" y=\"298.251115\" style=\"stroke: #000000; stroke-width: 1.25\"/>\n",
       "      </g>\n",
       "     </g>\n",
       "     <g id=\"text_8\">\n",
       "      <!-- 0.2 -->\n",
       "      <g transform=\"translate(22.81375 302.430255) scale(0.11 -0.11)\">\n",
       "       <use xlink:href=\"#DejaVuSans-30\"/>\n",
       "       <use xlink:href=\"#DejaVuSans-2e\" x=\"63.623047\"/>\n",
       "       <use xlink:href=\"#DejaVuSans-32\" x=\"95.410156\"/>\n",
       "      </g>\n",
       "     </g>\n",
       "    </g>\n",
       "    <g id=\"ytick_3\">\n",
       "     <g id=\"line2d_8\">\n",
       "      <g>\n",
       "       <use xlink:href=\"#mc955e62f28\" x=\"49.807187\" y=\"241.544104\" style=\"stroke: #000000; stroke-width: 1.25\"/>\n",
       "      </g>\n",
       "     </g>\n",
       "     <g id=\"text_9\">\n",
       "      <!-- 0.4 -->\n",
       "      <g transform=\"translate(22.81375 245.723245) scale(0.11 -0.11)\">\n",
       "       <use xlink:href=\"#DejaVuSans-30\"/>\n",
       "       <use xlink:href=\"#DejaVuSans-2e\" x=\"63.623047\"/>\n",
       "       <use xlink:href=\"#DejaVuSans-34\" x=\"95.410156\"/>\n",
       "      </g>\n",
       "     </g>\n",
       "    </g>\n",
       "    <g id=\"ytick_4\">\n",
       "     <g id=\"line2d_9\">\n",
       "      <g>\n",
       "       <use xlink:href=\"#mc955e62f28\" x=\"49.807187\" y=\"184.837094\" style=\"stroke: #000000; stroke-width: 1.25\"/>\n",
       "      </g>\n",
       "     </g>\n",
       "     <g id=\"text_10\">\n",
       "      <!-- 0.6 -->\n",
       "      <g transform=\"translate(22.81375 189.016235) scale(0.11 -0.11)\">\n",
       "       <use xlink:href=\"#DejaVuSans-30\"/>\n",
       "       <use xlink:href=\"#DejaVuSans-2e\" x=\"63.623047\"/>\n",
       "       <use xlink:href=\"#DejaVuSans-36\" x=\"95.410156\"/>\n",
       "      </g>\n",
       "     </g>\n",
       "    </g>\n",
       "    <g id=\"ytick_5\">\n",
       "     <g id=\"line2d_10\">\n",
       "      <g>\n",
       "       <use xlink:href=\"#mc955e62f28\" x=\"49.807187\" y=\"128.130084\" style=\"stroke: #000000; stroke-width: 1.25\"/>\n",
       "      </g>\n",
       "     </g>\n",
       "     <g id=\"text_11\">\n",
       "      <!-- 0.8 -->\n",
       "      <g transform=\"translate(22.81375 132.309225) scale(0.11 -0.11)\">\n",
       "       <use xlink:href=\"#DejaVuSans-30\"/>\n",
       "       <use xlink:href=\"#DejaVuSans-2e\" x=\"63.623047\"/>\n",
       "       <use xlink:href=\"#DejaVuSans-38\" x=\"95.410156\"/>\n",
       "      </g>\n",
       "     </g>\n",
       "    </g>\n",
       "    <g id=\"ytick_6\">\n",
       "     <g id=\"line2d_11\">\n",
       "      <g>\n",
       "       <use xlink:href=\"#mc955e62f28\" x=\"49.807187\" y=\"71.423074\" style=\"stroke: #000000; stroke-width: 1.25\"/>\n",
       "      </g>\n",
       "     </g>\n",
       "     <g id=\"text_12\">\n",
       "      <!-- 1.0 -->\n",
       "      <g transform=\"translate(22.81375 75.602214) scale(0.11 -0.11)\">\n",
       "       <use xlink:href=\"#DejaVuSans-31\"/>\n",
       "       <use xlink:href=\"#DejaVuSans-2e\" x=\"63.623047\"/>\n",
       "       <use xlink:href=\"#DejaVuSans-30\" x=\"95.410156\"/>\n",
       "      </g>\n",
       "     </g>\n",
       "    </g>\n",
       "    <g id=\"text_13\">\n",
       "     <!-- F1 -->\n",
       "     <g transform=\"translate(16.318125 196.911563) rotate(-90) scale(0.12 -0.12)\">\n",
       "      <defs>\n",
       "       <path id=\"DejaVuSans-Bold-46\" d=\"M 588 4666 \n",
       "L 3834 4666 \n",
       "L 3834 3756 \n",
       "L 1791 3756 \n",
       "L 1791 2888 \n",
       "L 3713 2888 \n",
       "L 3713 1978 \n",
       "L 1791 1978 \n",
       "L 1791 0 \n",
       "L 588 0 \n",
       "L 588 4666 \n",
       "z\n",
       "\" transform=\"scale(0.015625)\"/>\n",
       "       <path id=\"DejaVuSans-Bold-31\" d=\"M 750 831 \n",
       "L 1813 831 \n",
       "L 1813 3847 \n",
       "L 722 3622 \n",
       "L 722 4441 \n",
       "L 1806 4666 \n",
       "L 2950 4666 \n",
       "L 2950 831 \n",
       "L 4013 831 \n",
       "L 4013 0 \n",
       "L 750 0 \n",
       "L 750 831 \n",
       "z\n",
       "\" transform=\"scale(0.015625)\"/>\n",
       "      </defs>\n",
       "      <use xlink:href=\"#DejaVuSans-Bold-46\"/>\n",
       "      <use xlink:href=\"#DejaVuSans-Bold-31\" x=\"68.310547\"/>\n",
       "     </g>\n",
       "    </g>\n",
       "   </g>\n",
       "   <g id=\"line2d_12\">\n",
       "    <path d=\"M 96.307187 166.742738 \n",
       "L 96.307187 151.96886 \n",
       "\" clip-path=\"url(#pd67de63f2a)\" style=\"fill: none; stroke: #424242; stroke-width: 2.7; stroke-linecap: square\"/>\n",
       "   </g>\n",
       "   <g id=\"line2d_13\">\n",
       "    <path d=\"M 201.989006 98.540366 \n",
       "L 201.989006 86.671589 \n",
       "\" clip-path=\"url(#pd67de63f2a)\" style=\"fill: none; stroke: #424242; stroke-width: 2.7; stroke-linecap: square\"/>\n",
       "   </g>\n",
       "   <g id=\"line2d_14\">\n",
       "    <path d=\"M 307.670824 75.111936 \n",
       "L 307.670824 73.42476 \n",
       "\" clip-path=\"url(#pd67de63f2a)\" style=\"fill: none; stroke: #424242; stroke-width: 2.7; stroke-linecap: square\"/>\n",
       "   </g>\n",
       "   <g id=\"line2d_15\">\n",
       "    <path d=\"M 413.352642 72.529002 \n",
       "L 413.352642 72.041109 \n",
       "\" clip-path=\"url(#pd67de63f2a)\" style=\"fill: none; stroke: #424242; stroke-width: 2.7; stroke-linecap: square\"/>\n",
       "   </g>\n",
       "   <g id=\"line2d_16\">\n",
       "    <path d=\"M 519.03446 111.77082 \n",
       "L 519.03446 110.068901 \n",
       "\" clip-path=\"url(#pd67de63f2a)\" style=\"fill: none; stroke: #424242; stroke-width: 2.7; stroke-linecap: square\"/>\n",
       "   </g>\n",
       "   <g id=\"line2d_17\">\n",
       "    <path d=\"M 138.579915 144.126139 \n",
       "L 138.579915 117.046344 \n",
       "\" clip-path=\"url(#pd67de63f2a)\" style=\"fill: none; stroke: #424242; stroke-width: 2.7; stroke-linecap: square\"/>\n",
       "   </g>\n",
       "   <g id=\"line2d_18\">\n",
       "    <path d=\"M 244.261733 110.663403 \n",
       "L 244.261733 96.288956 \n",
       "\" clip-path=\"url(#pd67de63f2a)\" style=\"fill: none; stroke: #424242; stroke-width: 2.7; stroke-linecap: square\"/>\n",
       "   </g>\n",
       "   <g id=\"line2d_19\">\n",
       "    <path d=\"M 349.943551 83.987008 \n",
       "L 349.943551 79.057609 \n",
       "\" clip-path=\"url(#pd67de63f2a)\" style=\"fill: none; stroke: #424242; stroke-width: 2.7; stroke-linecap: square\"/>\n",
       "   </g>\n",
       "   <g id=\"line2d_20\">\n",
       "    <path d=\"M 455.625369 74.70081 \n",
       "L 455.625369 72.701533 \n",
       "\" clip-path=\"url(#pd67de63f2a)\" style=\"fill: none; stroke: #424242; stroke-width: 2.7; stroke-linecap: square\"/>\n",
       "   </g>\n",
       "   <g id=\"line2d_21\">\n",
       "    <path d=\"M 561.307187 71.423074 \n",
       "L 561.307187 71.423074 \n",
       "\" clip-path=\"url(#pd67de63f2a)\" style=\"fill: none; stroke: #424242; stroke-width: 2.7; stroke-linecap: square\"/>\n",
       "   </g>\n",
       "   <g id=\"line2d_22\">\n",
       "    <path d=\"M 201.989006 68.80888 \n",
       "L 201.989006 62.854644 \n",
       "L 244.261733 62.854644 \n",
       "L 244.261733 68.80888 \n",
       "\" clip-path=\"url(#pd67de63f2a)\" style=\"fill: none; stroke: #333333; stroke-width: 1.5; stroke-linecap: square\"/>\n",
       "   </g>\n",
       "   <g id=\"line2d_23\">\n",
       "    <path d=\"M 96.307187 99.183636 \n",
       "L 96.307187 93.2294 \n",
       "L 138.579915 93.2294 \n",
       "L 138.579915 99.183636 \n",
       "\" clip-path=\"url(#pd67de63f2a)\" style=\"fill: none; stroke: #333333; stroke-width: 1.5; stroke-linecap: square\"/>\n",
       "   </g>\n",
       "   <g id=\"line2d_24\">\n",
       "    <path d=\"M 307.670824 55.562052 \n",
       "L 307.670824 49.607816 \n",
       "L 349.943551 49.607816 \n",
       "L 349.943551 55.562052 \n",
       "\" clip-path=\"url(#pd67de63f2a)\" style=\"fill: none; stroke: #333333; stroke-width: 1.5; stroke-linecap: square\"/>\n",
       "   </g>\n",
       "   <g id=\"line2d_25\">\n",
       "    <path d=\"M 413.352642 54.178401 \n",
       "L 413.352642 48.224165 \n",
       "L 455.625369 48.224165 \n",
       "L 455.625369 54.178401 \n",
       "\" clip-path=\"url(#pd67de63f2a)\" style=\"fill: none; stroke: #333333; stroke-width: 1.5; stroke-linecap: square\"/>\n",
       "   </g>\n",
       "   <g id=\"line2d_26\">\n",
       "    <path d=\"M 519.03446 53.560365 \n",
       "L 519.03446 47.606129 \n",
       "L 561.307187 47.606129 \n",
       "L 561.307187 53.560365 \n",
       "\" clip-path=\"url(#pd67de63f2a)\" style=\"fill: none; stroke: #333333; stroke-width: 1.5; stroke-linecap: square\"/>\n",
       "   </g>\n",
       "   <g id=\"patch_13\">\n",
       "    <path d=\"M 49.807187 354.958125 \n",
       "L 49.807187 22.318125 \n",
       "\" style=\"fill: none; stroke: #000000; stroke-width: 1.25; stroke-linejoin: miter; stroke-linecap: square\"/>\n",
       "   </g>\n",
       "   <g id=\"patch_14\">\n",
       "    <path d=\"M 607.807188 354.958125 \n",
       "L 607.807188 22.318125 \n",
       "\" style=\"fill: none; stroke: #000000; stroke-width: 1.25; stroke-linejoin: miter; stroke-linecap: square\"/>\n",
       "   </g>\n",
       "   <g id=\"patch_15\">\n",
       "    <path d=\"M 49.807187 354.958125 \n",
       "L 607.807187 354.958125 \n",
       "\" style=\"fill: none; stroke: #000000; stroke-width: 1.25; stroke-linejoin: miter; stroke-linecap: square\"/>\n",
       "   </g>\n",
       "   <g id=\"patch_16\">\n",
       "    <path d=\"M 49.807187 22.318125 \n",
       "L 607.807187 22.318125 \n",
       "\" style=\"fill: none; stroke: #000000; stroke-width: 1.25; stroke-linejoin: miter; stroke-linecap: square\"/>\n",
       "   </g>\n",
       "   <g id=\"text_14\">\n",
       "    <!-- ns -->\n",
       "    <g transform=\"translate(216.197244 59.359019) scale(0.12 -0.12)\">\n",
       "     <defs>\n",
       "      <path id=\"DejaVuSans-6e\" d=\"M 3513 2113 \n",
       "L 3513 0 \n",
       "L 2938 0 \n",
       "L 2938 2094 \n",
       "Q 2938 2591 2744 2837 \n",
       "Q 2550 3084 2163 3084 \n",
       "Q 1697 3084 1428 2787 \n",
       "Q 1159 2491 1159 1978 \n",
       "L 1159 0 \n",
       "L 581 0 \n",
       "L 581 3500 \n",
       "L 1159 3500 \n",
       "L 1159 2956 \n",
       "Q 1366 3272 1645 3428 \n",
       "Q 1925 3584 2291 3584 \n",
       "Q 2894 3584 3203 3211 \n",
       "Q 3513 2838 3513 2113 \n",
       "z\n",
       "\" transform=\"scale(0.015625)\"/>\n",
       "      <path id=\"DejaVuSans-73\" d=\"M 2834 3397 \n",
       "L 2834 2853 \n",
       "Q 2591 2978 2328 3040 \n",
       "Q 2066 3103 1784 3103 \n",
       "Q 1356 3103 1142 2972 \n",
       "Q 928 2841 928 2578 \n",
       "Q 928 2378 1081 2264 \n",
       "Q 1234 2150 1697 2047 \n",
       "L 1894 2003 \n",
       "Q 2506 1872 2764 1633 \n",
       "Q 3022 1394 3022 966 \n",
       "Q 3022 478 2636 193 \n",
       "Q 2250 -91 1575 -91 \n",
       "Q 1294 -91 989 -36 \n",
       "Q 684 19 347 128 \n",
       "L 347 722 \n",
       "Q 666 556 975 473 \n",
       "Q 1284 391 1588 391 \n",
       "Q 1994 391 2212 530 \n",
       "Q 2431 669 2431 922 \n",
       "Q 2431 1156 2273 1281 \n",
       "Q 2116 1406 1581 1522 \n",
       "L 1381 1569 \n",
       "Q 847 1681 609 1914 \n",
       "Q 372 2147 372 2553 \n",
       "Q 372 3047 722 3315 \n",
       "Q 1072 3584 1716 3584 \n",
       "Q 2034 3584 2315 3537 \n",
       "Q 2597 3491 2834 3397 \n",
       "z\n",
       "\" transform=\"scale(0.015625)\"/>\n",
       "     </defs>\n",
       "     <use xlink:href=\"#DejaVuSans-6e\"/>\n",
       "     <use xlink:href=\"#DejaVuSans-73\" x=\"63.378906\"/>\n",
       "    </g>\n",
       "   </g>\n",
       "   <g id=\"text_15\">\n",
       "    <!-- ** -->\n",
       "    <g transform=\"translate(111.443551 89.733775) scale(0.12 -0.12)\">\n",
       "     <defs>\n",
       "      <path id=\"DejaVuSans-2a\" d=\"M 3009 3897 \n",
       "L 1888 3291 \n",
       "L 3009 2681 \n",
       "L 2828 2375 \n",
       "L 1778 3009 \n",
       "L 1778 1831 \n",
       "L 1422 1831 \n",
       "L 1422 3009 \n",
       "L 372 2375 \n",
       "L 191 2681 \n",
       "L 1313 3291 \n",
       "L 191 3897 \n",
       "L 372 4206 \n",
       "L 1422 3572 \n",
       "L 1422 4750 \n",
       "L 1778 4750 \n",
       "L 1778 3572 \n",
       "L 2828 4206 \n",
       "L 3009 3897 \n",
       "z\n",
       "\" transform=\"scale(0.015625)\"/>\n",
       "     </defs>\n",
       "     <use xlink:href=\"#DejaVuSans-2a\"/>\n",
       "     <use xlink:href=\"#DejaVuSans-2a\" x=\"50\"/>\n",
       "    </g>\n",
       "   </g>\n",
       "   <g id=\"text_16\">\n",
       "    <!-- *** -->\n",
       "    <g transform=\"translate(319.807187 46.112191) scale(0.12 -0.12)\">\n",
       "     <use xlink:href=\"#DejaVuSans-2a\"/>\n",
       "     <use xlink:href=\"#DejaVuSans-2a\" x=\"50\"/>\n",
       "     <use xlink:href=\"#DejaVuSans-2a\" x=\"100\"/>\n",
       "    </g>\n",
       "   </g>\n",
       "   <g id=\"text_17\">\n",
       "    <!-- ns -->\n",
       "    <g transform=\"translate(427.560881 44.72854) scale(0.12 -0.12)\">\n",
       "     <use xlink:href=\"#DejaVuSans-6e\"/>\n",
       "     <use xlink:href=\"#DejaVuSans-73\" x=\"63.378906\"/>\n",
       "    </g>\n",
       "   </g>\n",
       "   <g id=\"text_18\">\n",
       "    <!-- **** -->\n",
       "    <g transform=\"translate(528.170824 44.110504) scale(0.12 -0.12)\">\n",
       "     <use xlink:href=\"#DejaVuSans-2a\"/>\n",
       "     <use xlink:href=\"#DejaVuSans-2a\" x=\"50\"/>\n",
       "     <use xlink:href=\"#DejaVuSans-2a\" x=\"100\"/>\n",
       "     <use xlink:href=\"#DejaVuSans-2a\" x=\"150\"/>\n",
       "    </g>\n",
       "   </g>\n",
       "   <g id=\"text_19\">\n",
       "    <!-- F1 (Boolean) vs Core Density (10N Teamed Toggle Switch) -->\n",
       "    <g transform=\"translate(154.639375 16.318125) scale(0.12 -0.12)\">\n",
       "     <defs>\n",
       "      <path id=\"DejaVuSans-46\" d=\"M 628 4666 \n",
       "L 3309 4666 \n",
       "L 3309 4134 \n",
       "L 1259 4134 \n",
       "L 1259 2759 \n",
       "L 3109 2759 \n",
       "L 3109 2228 \n",
       "L 1259 2228 \n",
       "L 1259 0 \n",
       "L 628 0 \n",
       "L 628 4666 \n",
       "z\n",
       "\" transform=\"scale(0.015625)\"/>\n",
       "      <path id=\"DejaVuSans-20\" transform=\"scale(0.015625)\"/>\n",
       "      <path id=\"DejaVuSans-28\" d=\"M 1984 4856 \n",
       "Q 1566 4138 1362 3434 \n",
       "Q 1159 2731 1159 2009 \n",
       "Q 1159 1288 1364 580 \n",
       "Q 1569 -128 1984 -844 \n",
       "L 1484 -844 \n",
       "Q 1016 -109 783 600 \n",
       "Q 550 1309 550 2009 \n",
       "Q 550 2706 781 3412 \n",
       "Q 1013 4119 1484 4856 \n",
       "L 1984 4856 \n",
       "z\n",
       "\" transform=\"scale(0.015625)\"/>\n",
       "      <path id=\"DejaVuSans-42\" d=\"M 1259 2228 \n",
       "L 1259 519 \n",
       "L 2272 519 \n",
       "Q 2781 519 3026 730 \n",
       "Q 3272 941 3272 1375 \n",
       "Q 3272 1813 3026 2020 \n",
       "Q 2781 2228 2272 2228 \n",
       "L 1259 2228 \n",
       "z\n",
       "M 1259 4147 \n",
       "L 1259 2741 \n",
       "L 2194 2741 \n",
       "Q 2656 2741 2882 2914 \n",
       "Q 3109 3088 3109 3444 \n",
       "Q 3109 3797 2882 3972 \n",
       "Q 2656 4147 2194 4147 \n",
       "L 1259 4147 \n",
       "z\n",
       "M 628 4666 \n",
       "L 2241 4666 \n",
       "Q 2963 4666 3353 4366 \n",
       "Q 3744 4066 3744 3513 \n",
       "Q 3744 3084 3544 2831 \n",
       "Q 3344 2578 2956 2516 \n",
       "Q 3422 2416 3680 2098 \n",
       "Q 3938 1781 3938 1306 \n",
       "Q 3938 681 3513 340 \n",
       "Q 3088 0 2303 0 \n",
       "L 628 0 \n",
       "L 628 4666 \n",
       "z\n",
       "\" transform=\"scale(0.015625)\"/>\n",
       "      <path id=\"DejaVuSans-6f\" d=\"M 1959 3097 \n",
       "Q 1497 3097 1228 2736 \n",
       "Q 959 2375 959 1747 \n",
       "Q 959 1119 1226 758 \n",
       "Q 1494 397 1959 397 \n",
       "Q 2419 397 2687 759 \n",
       "Q 2956 1122 2956 1747 \n",
       "Q 2956 2369 2687 2733 \n",
       "Q 2419 3097 1959 3097 \n",
       "z\n",
       "M 1959 3584 \n",
       "Q 2709 3584 3137 3096 \n",
       "Q 3566 2609 3566 1747 \n",
       "Q 3566 888 3137 398 \n",
       "Q 2709 -91 1959 -91 \n",
       "Q 1206 -91 779 398 \n",
       "Q 353 888 353 1747 \n",
       "Q 353 2609 779 3096 \n",
       "Q 1206 3584 1959 3584 \n",
       "z\n",
       "\" transform=\"scale(0.015625)\"/>\n",
       "      <path id=\"DejaVuSans-6c\" d=\"M 603 4863 \n",
       "L 1178 4863 \n",
       "L 1178 0 \n",
       "L 603 0 \n",
       "L 603 4863 \n",
       "z\n",
       "\" transform=\"scale(0.015625)\"/>\n",
       "      <path id=\"DejaVuSans-65\" d=\"M 3597 1894 \n",
       "L 3597 1613 \n",
       "L 953 1613 \n",
       "Q 991 1019 1311 708 \n",
       "Q 1631 397 2203 397 \n",
       "Q 2534 397 2845 478 \n",
       "Q 3156 559 3463 722 \n",
       "L 3463 178 \n",
       "Q 3153 47 2828 -22 \n",
       "Q 2503 -91 2169 -91 \n",
       "Q 1331 -91 842 396 \n",
       "Q 353 884 353 1716 \n",
       "Q 353 2575 817 3079 \n",
       "Q 1281 3584 2069 3584 \n",
       "Q 2775 3584 3186 3129 \n",
       "Q 3597 2675 3597 1894 \n",
       "z\n",
       "M 3022 2063 \n",
       "Q 3016 2534 2758 2815 \n",
       "Q 2500 3097 2075 3097 \n",
       "Q 1594 3097 1305 2825 \n",
       "Q 1016 2553 972 2059 \n",
       "L 3022 2063 \n",
       "z\n",
       "\" transform=\"scale(0.015625)\"/>\n",
       "      <path id=\"DejaVuSans-61\" d=\"M 2194 1759 \n",
       "Q 1497 1759 1228 1600 \n",
       "Q 959 1441 959 1056 \n",
       "Q 959 750 1161 570 \n",
       "Q 1363 391 1709 391 \n",
       "Q 2188 391 2477 730 \n",
       "Q 2766 1069 2766 1631 \n",
       "L 2766 1759 \n",
       "L 2194 1759 \n",
       "z\n",
       "M 3341 1997 \n",
       "L 3341 0 \n",
       "L 2766 0 \n",
       "L 2766 531 \n",
       "Q 2569 213 2275 61 \n",
       "Q 1981 -91 1556 -91 \n",
       "Q 1019 -91 701 211 \n",
       "Q 384 513 384 1019 \n",
       "Q 384 1609 779 1909 \n",
       "Q 1175 2209 1959 2209 \n",
       "L 2766 2209 \n",
       "L 2766 2266 \n",
       "Q 2766 2663 2505 2880 \n",
       "Q 2244 3097 1772 3097 \n",
       "Q 1472 3097 1187 3025 \n",
       "Q 903 2953 641 2809 \n",
       "L 641 3341 \n",
       "Q 956 3463 1253 3523 \n",
       "Q 1550 3584 1831 3584 \n",
       "Q 2591 3584 2966 3190 \n",
       "Q 3341 2797 3341 1997 \n",
       "z\n",
       "\" transform=\"scale(0.015625)\"/>\n",
       "      <path id=\"DejaVuSans-29\" d=\"M 513 4856 \n",
       "L 1013 4856 \n",
       "Q 1481 4119 1714 3412 \n",
       "Q 1947 2706 1947 2009 \n",
       "Q 1947 1309 1714 600 \n",
       "Q 1481 -109 1013 -844 \n",
       "L 513 -844 \n",
       "Q 928 -128 1133 580 \n",
       "Q 1338 1288 1338 2009 \n",
       "Q 1338 2731 1133 3434 \n",
       "Q 928 4138 513 4856 \n",
       "z\n",
       "\" transform=\"scale(0.015625)\"/>\n",
       "      <path id=\"DejaVuSans-76\" d=\"M 191 3500 \n",
       "L 800 3500 \n",
       "L 1894 563 \n",
       "L 2988 3500 \n",
       "L 3597 3500 \n",
       "L 2284 0 \n",
       "L 1503 0 \n",
       "L 191 3500 \n",
       "z\n",
       "\" transform=\"scale(0.015625)\"/>\n",
       "      <path id=\"DejaVuSans-43\" d=\"M 4122 4306 \n",
       "L 4122 3641 \n",
       "Q 3803 3938 3442 4084 \n",
       "Q 3081 4231 2675 4231 \n",
       "Q 1875 4231 1450 3742 \n",
       "Q 1025 3253 1025 2328 \n",
       "Q 1025 1406 1450 917 \n",
       "Q 1875 428 2675 428 \n",
       "Q 3081 428 3442 575 \n",
       "Q 3803 722 4122 1019 \n",
       "L 4122 359 \n",
       "Q 3791 134 3420 21 \n",
       "Q 3050 -91 2638 -91 \n",
       "Q 1578 -91 968 557 \n",
       "Q 359 1206 359 2328 \n",
       "Q 359 3453 968 4101 \n",
       "Q 1578 4750 2638 4750 \n",
       "Q 3056 4750 3426 4639 \n",
       "Q 3797 4528 4122 4306 \n",
       "z\n",
       "\" transform=\"scale(0.015625)\"/>\n",
       "      <path id=\"DejaVuSans-72\" d=\"M 2631 2963 \n",
       "Q 2534 3019 2420 3045 \n",
       "Q 2306 3072 2169 3072 \n",
       "Q 1681 3072 1420 2755 \n",
       "Q 1159 2438 1159 1844 \n",
       "L 1159 0 \n",
       "L 581 0 \n",
       "L 581 3500 \n",
       "L 1159 3500 \n",
       "L 1159 2956 \n",
       "Q 1341 3275 1631 3429 \n",
       "Q 1922 3584 2338 3584 \n",
       "Q 2397 3584 2469 3576 \n",
       "Q 2541 3569 2628 3553 \n",
       "L 2631 2963 \n",
       "z\n",
       "\" transform=\"scale(0.015625)\"/>\n",
       "      <path id=\"DejaVuSans-44\" d=\"M 1259 4147 \n",
       "L 1259 519 \n",
       "L 2022 519 \n",
       "Q 2988 519 3436 956 \n",
       "Q 3884 1394 3884 2338 \n",
       "Q 3884 3275 3436 3711 \n",
       "Q 2988 4147 2022 4147 \n",
       "L 1259 4147 \n",
       "z\n",
       "M 628 4666 \n",
       "L 1925 4666 \n",
       "Q 3281 4666 3915 4102 \n",
       "Q 4550 3538 4550 2338 \n",
       "Q 4550 1131 3912 565 \n",
       "Q 3275 0 1925 0 \n",
       "L 628 0 \n",
       "L 628 4666 \n",
       "z\n",
       "\" transform=\"scale(0.015625)\"/>\n",
       "      <path id=\"DejaVuSans-69\" d=\"M 603 3500 \n",
       "L 1178 3500 \n",
       "L 1178 0 \n",
       "L 603 0 \n",
       "L 603 3500 \n",
       "z\n",
       "M 603 4863 \n",
       "L 1178 4863 \n",
       "L 1178 4134 \n",
       "L 603 4134 \n",
       "L 603 4863 \n",
       "z\n",
       "\" transform=\"scale(0.015625)\"/>\n",
       "      <path id=\"DejaVuSans-74\" d=\"M 1172 4494 \n",
       "L 1172 3500 \n",
       "L 2356 3500 \n",
       "L 2356 3053 \n",
       "L 1172 3053 \n",
       "L 1172 1153 \n",
       "Q 1172 725 1289 603 \n",
       "Q 1406 481 1766 481 \n",
       "L 2356 481 \n",
       "L 2356 0 \n",
       "L 1766 0 \n",
       "Q 1100 0 847 248 \n",
       "Q 594 497 594 1153 \n",
       "L 594 3053 \n",
       "L 172 3053 \n",
       "L 172 3500 \n",
       "L 594 3500 \n",
       "L 594 4494 \n",
       "L 1172 4494 \n",
       "z\n",
       "\" transform=\"scale(0.015625)\"/>\n",
       "      <path id=\"DejaVuSans-79\" d=\"M 2059 -325 \n",
       "Q 1816 -950 1584 -1140 \n",
       "Q 1353 -1331 966 -1331 \n",
       "L 506 -1331 \n",
       "L 506 -850 \n",
       "L 844 -850 \n",
       "Q 1081 -850 1212 -737 \n",
       "Q 1344 -625 1503 -206 \n",
       "L 1606 56 \n",
       "L 191 3500 \n",
       "L 800 3500 \n",
       "L 1894 763 \n",
       "L 2988 3500 \n",
       "L 3597 3500 \n",
       "L 2059 -325 \n",
       "z\n",
       "\" transform=\"scale(0.015625)\"/>\n",
       "      <path id=\"DejaVuSans-4e\" d=\"M 628 4666 \n",
       "L 1478 4666 \n",
       "L 3547 763 \n",
       "L 3547 4666 \n",
       "L 4159 4666 \n",
       "L 4159 0 \n",
       "L 3309 0 \n",
       "L 1241 3903 \n",
       "L 1241 0 \n",
       "L 628 0 \n",
       "L 628 4666 \n",
       "z\n",
       "\" transform=\"scale(0.015625)\"/>\n",
       "      <path id=\"DejaVuSans-54\" d=\"M -19 4666 \n",
       "L 3928 4666 \n",
       "L 3928 4134 \n",
       "L 2272 4134 \n",
       "L 2272 0 \n",
       "L 1638 0 \n",
       "L 1638 4134 \n",
       "L -19 4134 \n",
       "L -19 4666 \n",
       "z\n",
       "\" transform=\"scale(0.015625)\"/>\n",
       "      <path id=\"DejaVuSans-6d\" d=\"M 3328 2828 \n",
       "Q 3544 3216 3844 3400 \n",
       "Q 4144 3584 4550 3584 \n",
       "Q 5097 3584 5394 3201 \n",
       "Q 5691 2819 5691 2113 \n",
       "L 5691 0 \n",
       "L 5113 0 \n",
       "L 5113 2094 \n",
       "Q 5113 2597 4934 2840 \n",
       "Q 4756 3084 4391 3084 \n",
       "Q 3944 3084 3684 2787 \n",
       "Q 3425 2491 3425 1978 \n",
       "L 3425 0 \n",
       "L 2847 0 \n",
       "L 2847 2094 \n",
       "Q 2847 2600 2669 2842 \n",
       "Q 2491 3084 2119 3084 \n",
       "Q 1678 3084 1418 2786 \n",
       "Q 1159 2488 1159 1978 \n",
       "L 1159 0 \n",
       "L 581 0 \n",
       "L 581 3500 \n",
       "L 1159 3500 \n",
       "L 1159 2956 \n",
       "Q 1356 3278 1631 3431 \n",
       "Q 1906 3584 2284 3584 \n",
       "Q 2666 3584 2933 3390 \n",
       "Q 3200 3197 3328 2828 \n",
       "z\n",
       "\" transform=\"scale(0.015625)\"/>\n",
       "      <path id=\"DejaVuSans-64\" d=\"M 2906 2969 \n",
       "L 2906 4863 \n",
       "L 3481 4863 \n",
       "L 3481 0 \n",
       "L 2906 0 \n",
       "L 2906 525 \n",
       "Q 2725 213 2448 61 \n",
       "Q 2172 -91 1784 -91 \n",
       "Q 1150 -91 751 415 \n",
       "Q 353 922 353 1747 \n",
       "Q 353 2572 751 3078 \n",
       "Q 1150 3584 1784 3584 \n",
       "Q 2172 3584 2448 3432 \n",
       "Q 2725 3281 2906 2969 \n",
       "z\n",
       "M 947 1747 \n",
       "Q 947 1113 1208 752 \n",
       "Q 1469 391 1925 391 \n",
       "Q 2381 391 2643 752 \n",
       "Q 2906 1113 2906 1747 \n",
       "Q 2906 2381 2643 2742 \n",
       "Q 2381 3103 1925 3103 \n",
       "Q 1469 3103 1208 2742 \n",
       "Q 947 2381 947 1747 \n",
       "z\n",
       "\" transform=\"scale(0.015625)\"/>\n",
       "      <path id=\"DejaVuSans-67\" d=\"M 2906 1791 \n",
       "Q 2906 2416 2648 2759 \n",
       "Q 2391 3103 1925 3103 \n",
       "Q 1463 3103 1205 2759 \n",
       "Q 947 2416 947 1791 \n",
       "Q 947 1169 1205 825 \n",
       "Q 1463 481 1925 481 \n",
       "Q 2391 481 2648 825 \n",
       "Q 2906 1169 2906 1791 \n",
       "z\n",
       "M 3481 434 \n",
       "Q 3481 -459 3084 -895 \n",
       "Q 2688 -1331 1869 -1331 \n",
       "Q 1566 -1331 1297 -1286 \n",
       "Q 1028 -1241 775 -1147 \n",
       "L 775 -588 \n",
       "Q 1028 -725 1275 -790 \n",
       "Q 1522 -856 1778 -856 \n",
       "Q 2344 -856 2625 -561 \n",
       "Q 2906 -266 2906 331 \n",
       "L 2906 616 \n",
       "Q 2728 306 2450 153 \n",
       "Q 2172 0 1784 0 \n",
       "Q 1141 0 747 490 \n",
       "Q 353 981 353 1791 \n",
       "Q 353 2603 747 3093 \n",
       "Q 1141 3584 1784 3584 \n",
       "Q 2172 3584 2450 3431 \n",
       "Q 2728 3278 2906 2969 \n",
       "L 2906 3500 \n",
       "L 3481 3500 \n",
       "L 3481 434 \n",
       "z\n",
       "\" transform=\"scale(0.015625)\"/>\n",
       "      <path id=\"DejaVuSans-53\" d=\"M 3425 4513 \n",
       "L 3425 3897 \n",
       "Q 3066 4069 2747 4153 \n",
       "Q 2428 4238 2131 4238 \n",
       "Q 1616 4238 1336 4038 \n",
       "Q 1056 3838 1056 3469 \n",
       "Q 1056 3159 1242 3001 \n",
       "Q 1428 2844 1947 2747 \n",
       "L 2328 2669 \n",
       "Q 3034 2534 3370 2195 \n",
       "Q 3706 1856 3706 1288 \n",
       "Q 3706 609 3251 259 \n",
       "Q 2797 -91 1919 -91 \n",
       "Q 1588 -91 1214 -16 \n",
       "Q 841 59 441 206 \n",
       "L 441 856 \n",
       "Q 825 641 1194 531 \n",
       "Q 1563 422 1919 422 \n",
       "Q 2459 422 2753 634 \n",
       "Q 3047 847 3047 1241 \n",
       "Q 3047 1584 2836 1778 \n",
       "Q 2625 1972 2144 2069 \n",
       "L 1759 2144 \n",
       "Q 1053 2284 737 2584 \n",
       "Q 422 2884 422 3419 \n",
       "Q 422 4038 858 4394 \n",
       "Q 1294 4750 2059 4750 \n",
       "Q 2388 4750 2728 4690 \n",
       "Q 3069 4631 3425 4513 \n",
       "z\n",
       "\" transform=\"scale(0.015625)\"/>\n",
       "      <path id=\"DejaVuSans-77\" d=\"M 269 3500 \n",
       "L 844 3500 \n",
       "L 1563 769 \n",
       "L 2278 3500 \n",
       "L 2956 3500 \n",
       "L 3675 769 \n",
       "L 4391 3500 \n",
       "L 4966 3500 \n",
       "L 4050 0 \n",
       "L 3372 0 \n",
       "L 2619 2869 \n",
       "L 1863 0 \n",
       "L 1184 0 \n",
       "L 269 3500 \n",
       "z\n",
       "\" transform=\"scale(0.015625)\"/>\n",
       "      <path id=\"DejaVuSans-63\" d=\"M 3122 3366 \n",
       "L 3122 2828 \n",
       "Q 2878 2963 2633 3030 \n",
       "Q 2388 3097 2138 3097 \n",
       "Q 1578 3097 1268 2742 \n",
       "Q 959 2388 959 1747 \n",
       "Q 959 1106 1268 751 \n",
       "Q 1578 397 2138 397 \n",
       "Q 2388 397 2633 464 \n",
       "Q 2878 531 3122 666 \n",
       "L 3122 134 \n",
       "Q 2881 22 2623 -34 \n",
       "Q 2366 -91 2075 -91 \n",
       "Q 1284 -91 818 406 \n",
       "Q 353 903 353 1747 \n",
       "Q 353 2603 823 3093 \n",
       "Q 1294 3584 2113 3584 \n",
       "Q 2378 3584 2631 3529 \n",
       "Q 2884 3475 3122 3366 \n",
       "z\n",
       "\" transform=\"scale(0.015625)\"/>\n",
       "      <path id=\"DejaVuSans-68\" d=\"M 3513 2113 \n",
       "L 3513 0 \n",
       "L 2938 0 \n",
       "L 2938 2094 \n",
       "Q 2938 2591 2744 2837 \n",
       "Q 2550 3084 2163 3084 \n",
       "Q 1697 3084 1428 2787 \n",
       "Q 1159 2491 1159 1978 \n",
       "L 1159 0 \n",
       "L 581 0 \n",
       "L 581 4863 \n",
       "L 1159 4863 \n",
       "L 1159 2956 \n",
       "Q 1366 3272 1645 3428 \n",
       "Q 1925 3584 2291 3584 \n",
       "Q 2894 3584 3203 3211 \n",
       "Q 3513 2838 3513 2113 \n",
       "z\n",
       "\" transform=\"scale(0.015625)\"/>\n",
       "     </defs>\n",
       "     <use xlink:href=\"#DejaVuSans-46\"/>\n",
       "     <use xlink:href=\"#DejaVuSans-31\" x=\"57.519531\"/>\n",
       "     <use xlink:href=\"#DejaVuSans-20\" x=\"121.142578\"/>\n",
       "     <use xlink:href=\"#DejaVuSans-28\" x=\"152.929688\"/>\n",
       "     <use xlink:href=\"#DejaVuSans-42\" x=\"191.943359\"/>\n",
       "     <use xlink:href=\"#DejaVuSans-6f\" x=\"260.546875\"/>\n",
       "     <use xlink:href=\"#DejaVuSans-6f\" x=\"321.728516\"/>\n",
       "     <use xlink:href=\"#DejaVuSans-6c\" x=\"382.910156\"/>\n",
       "     <use xlink:href=\"#DejaVuSans-65\" x=\"410.693359\"/>\n",
       "     <use xlink:href=\"#DejaVuSans-61\" x=\"472.216797\"/>\n",
       "     <use xlink:href=\"#DejaVuSans-6e\" x=\"533.496094\"/>\n",
       "     <use xlink:href=\"#DejaVuSans-29\" x=\"596.875\"/>\n",
       "     <use xlink:href=\"#DejaVuSans-20\" x=\"635.888672\"/>\n",
       "     <use xlink:href=\"#DejaVuSans-76\" x=\"667.675781\"/>\n",
       "     <use xlink:href=\"#DejaVuSans-73\" x=\"726.855469\"/>\n",
       "     <use xlink:href=\"#DejaVuSans-20\" x=\"778.955078\"/>\n",
       "     <use xlink:href=\"#DejaVuSans-43\" x=\"810.742188\"/>\n",
       "     <use xlink:href=\"#DejaVuSans-6f\" x=\"880.566406\"/>\n",
       "     <use xlink:href=\"#DejaVuSans-72\" x=\"941.748047\"/>\n",
       "     <use xlink:href=\"#DejaVuSans-65\" x=\"980.611328\"/>\n",
       "     <use xlink:href=\"#DejaVuSans-20\" x=\"1042.134766\"/>\n",
       "     <use xlink:href=\"#DejaVuSans-44\" x=\"1073.921875\"/>\n",
       "     <use xlink:href=\"#DejaVuSans-65\" x=\"1150.923828\"/>\n",
       "     <use xlink:href=\"#DejaVuSans-6e\" x=\"1212.447266\"/>\n",
       "     <use xlink:href=\"#DejaVuSans-73\" x=\"1275.826172\"/>\n",
       "     <use xlink:href=\"#DejaVuSans-69\" x=\"1327.925781\"/>\n",
       "     <use xlink:href=\"#DejaVuSans-74\" x=\"1355.708984\"/>\n",
       "     <use xlink:href=\"#DejaVuSans-79\" x=\"1394.917969\"/>\n",
       "     <use xlink:href=\"#DejaVuSans-20\" x=\"1454.097656\"/>\n",
       "     <use xlink:href=\"#DejaVuSans-28\" x=\"1485.884766\"/>\n",
       "     <use xlink:href=\"#DejaVuSans-31\" x=\"1524.898438\"/>\n",
       "     <use xlink:href=\"#DejaVuSans-30\" x=\"1588.521484\"/>\n",
       "     <use xlink:href=\"#DejaVuSans-4e\" x=\"1652.144531\"/>\n",
       "     <use xlink:href=\"#DejaVuSans-20\" x=\"1726.949219\"/>\n",
       "     <use xlink:href=\"#DejaVuSans-54\" x=\"1758.736328\"/>\n",
       "     <use xlink:href=\"#DejaVuSans-65\" x=\"1802.820312\"/>\n",
       "     <use xlink:href=\"#DejaVuSans-61\" x=\"1864.34375\"/>\n",
       "     <use xlink:href=\"#DejaVuSans-6d\" x=\"1925.623047\"/>\n",
       "     <use xlink:href=\"#DejaVuSans-65\" x=\"2023.035156\"/>\n",
       "     <use xlink:href=\"#DejaVuSans-64\" x=\"2084.558594\"/>\n",
       "     <use xlink:href=\"#DejaVuSans-20\" x=\"2148.035156\"/>\n",
       "     <use xlink:href=\"#DejaVuSans-54\" x=\"2179.822266\"/>\n",
       "     <use xlink:href=\"#DejaVuSans-6f\" x=\"2223.90625\"/>\n",
       "     <use xlink:href=\"#DejaVuSans-67\" x=\"2285.087891\"/>\n",
       "     <use xlink:href=\"#DejaVuSans-67\" x=\"2348.564453\"/>\n",
       "     <use xlink:href=\"#DejaVuSans-6c\" x=\"2412.041016\"/>\n",
       "     <use xlink:href=\"#DejaVuSans-65\" x=\"2439.824219\"/>\n",
       "     <use xlink:href=\"#DejaVuSans-20\" x=\"2501.347656\"/>\n",
       "     <use xlink:href=\"#DejaVuSans-53\" x=\"2533.134766\"/>\n",
       "     <use xlink:href=\"#DejaVuSans-77\" x=\"2596.611328\"/>\n",
       "     <use xlink:href=\"#DejaVuSans-69\" x=\"2678.398438\"/>\n",
       "     <use xlink:href=\"#DejaVuSans-74\" x=\"2706.181641\"/>\n",
       "     <use xlink:href=\"#DejaVuSans-63\" x=\"2745.390625\"/>\n",
       "     <use xlink:href=\"#DejaVuSans-68\" x=\"2800.371094\"/>\n",
       "     <use xlink:href=\"#DejaVuSans-29\" x=\"2863.75\"/>\n",
       "    </g>\n",
       "   </g>\n",
       "   <g id=\"legend_1\">\n",
       "    <g id=\"patch_17\">\n",
       "     <path d=\"M 437.027187 340.654 \n",
       "L 597.952031 340.654 \n",
       "Q 600.152031 340.654 600.152031 338.454 \n",
       "L 600.152031 307.262125 \n",
       "Q 600.152031 305.062125 597.952031 305.062125 \n",
       "L 437.027187 305.062125 \n",
       "Q 434.827187 305.062125 434.827187 307.262125 \n",
       "L 434.827187 338.454 \n",
       "Q 434.827187 340.654 437.027187 340.654 \n",
       "z\n",
       "\" style=\"fill: #ffffff; opacity: 0.8; stroke: #cccccc; stroke-linejoin: miter\"/>\n",
       "    </g>\n",
       "    <g id=\"patch_18\">\n",
       "     <path d=\"M 439.227187 317.820406 \n",
       "L 461.227187 317.820406 \n",
       "L 461.227187 310.120406 \n",
       "L 439.227187 310.120406 \n",
       "z\n",
       "\" style=\"fill: #cb3335\"/>\n",
       "    </g>\n",
       "    <g id=\"text_20\">\n",
       "     <!-- With Self Activation -->\n",
       "     <g transform=\"translate(470.027187 317.820406) scale(0.11 -0.11)\">\n",
       "      <defs>\n",
       "       <path id=\"DejaVuSans-57\" d=\"M 213 4666 \n",
       "L 850 4666 \n",
       "L 1831 722 \n",
       "L 2809 4666 \n",
       "L 3519 4666 \n",
       "L 4500 722 \n",
       "L 5478 4666 \n",
       "L 6119 4666 \n",
       "L 4947 0 \n",
       "L 4153 0 \n",
       "L 3169 4050 \n",
       "L 2175 0 \n",
       "L 1381 0 \n",
       "L 213 4666 \n",
       "z\n",
       "\" transform=\"scale(0.015625)\"/>\n",
       "       <path id=\"DejaVuSans-66\" d=\"M 2375 4863 \n",
       "L 2375 4384 \n",
       "L 1825 4384 \n",
       "Q 1516 4384 1395 4259 \n",
       "Q 1275 4134 1275 3809 \n",
       "L 1275 3500 \n",
       "L 2222 3500 \n",
       "L 2222 3053 \n",
       "L 1275 3053 \n",
       "L 1275 0 \n",
       "L 697 0 \n",
       "L 697 3053 \n",
       "L 147 3053 \n",
       "L 147 3500 \n",
       "L 697 3500 \n",
       "L 697 3744 \n",
       "Q 697 4328 969 4595 \n",
       "Q 1241 4863 1831 4863 \n",
       "L 2375 4863 \n",
       "z\n",
       "\" transform=\"scale(0.015625)\"/>\n",
       "       <path id=\"DejaVuSans-41\" d=\"M 2188 4044 \n",
       "L 1331 1722 \n",
       "L 3047 1722 \n",
       "L 2188 4044 \n",
       "z\n",
       "M 1831 4666 \n",
       "L 2547 4666 \n",
       "L 4325 0 \n",
       "L 3669 0 \n",
       "L 3244 1197 \n",
       "L 1141 1197 \n",
       "L 716 0 \n",
       "L 50 0 \n",
       "L 1831 4666 \n",
       "z\n",
       "\" transform=\"scale(0.015625)\"/>\n",
       "      </defs>\n",
       "      <use xlink:href=\"#DejaVuSans-57\"/>\n",
       "      <use xlink:href=\"#DejaVuSans-69\" x=\"96.626953\"/>\n",
       "      <use xlink:href=\"#DejaVuSans-74\" x=\"124.410156\"/>\n",
       "      <use xlink:href=\"#DejaVuSans-68\" x=\"163.619141\"/>\n",
       "      <use xlink:href=\"#DejaVuSans-20\" x=\"226.998047\"/>\n",
       "      <use xlink:href=\"#DejaVuSans-53\" x=\"258.785156\"/>\n",
       "      <use xlink:href=\"#DejaVuSans-65\" x=\"322.261719\"/>\n",
       "      <use xlink:href=\"#DejaVuSans-6c\" x=\"383.785156\"/>\n",
       "      <use xlink:href=\"#DejaVuSans-66\" x=\"411.568359\"/>\n",
       "      <use xlink:href=\"#DejaVuSans-20\" x=\"446.773438\"/>\n",
       "      <use xlink:href=\"#DejaVuSans-41\" x=\"478.560547\"/>\n",
       "      <use xlink:href=\"#DejaVuSans-63\" x=\"545.21875\"/>\n",
       "      <use xlink:href=\"#DejaVuSans-74\" x=\"600.199219\"/>\n",
       "      <use xlink:href=\"#DejaVuSans-69\" x=\"639.408203\"/>\n",
       "      <use xlink:href=\"#DejaVuSans-76\" x=\"667.191406\"/>\n",
       "      <use xlink:href=\"#DejaVuSans-61\" x=\"726.371094\"/>\n",
       "      <use xlink:href=\"#DejaVuSans-74\" x=\"787.650391\"/>\n",
       "      <use xlink:href=\"#DejaVuSans-69\" x=\"826.859375\"/>\n",
       "      <use xlink:href=\"#DejaVuSans-6f\" x=\"854.642578\"/>\n",
       "      <use xlink:href=\"#DejaVuSans-6e\" x=\"915.824219\"/>\n",
       "     </g>\n",
       "    </g>\n",
       "    <g id=\"patch_19\">\n",
       "     <path d=\"M 439.227187 333.966344 \n",
       "L 461.227187 333.966344 \n",
       "L 461.227187 326.266344 \n",
       "L 439.227187 326.266344 \n",
       "z\n",
       "\" style=\"fill: #477ca8\"/>\n",
       "    </g>\n",
       "    <g id=\"text_21\">\n",
       "     <!-- Without Self Activation -->\n",
       "     <g transform=\"translate(470.027187 333.966344) scale(0.11 -0.11)\">\n",
       "      <defs>\n",
       "       <path id=\"DejaVuSans-75\" d=\"M 544 1381 \n",
       "L 544 3500 \n",
       "L 1119 3500 \n",
       "L 1119 1403 \n",
       "Q 1119 906 1312 657 \n",
       "Q 1506 409 1894 409 \n",
       "Q 2359 409 2629 706 \n",
       "Q 2900 1003 2900 1516 \n",
       "L 2900 3500 \n",
       "L 3475 3500 \n",
       "L 3475 0 \n",
       "L 2900 0 \n",
       "L 2900 538 \n",
       "Q 2691 219 2414 64 \n",
       "Q 2138 -91 1772 -91 \n",
       "Q 1169 -91 856 284 \n",
       "Q 544 659 544 1381 \n",
       "z\n",
       "M 1991 3584 \n",
       "L 1991 3584 \n",
       "z\n",
       "\" transform=\"scale(0.015625)\"/>\n",
       "      </defs>\n",
       "      <use xlink:href=\"#DejaVuSans-57\"/>\n",
       "      <use xlink:href=\"#DejaVuSans-69\" x=\"96.626953\"/>\n",
       "      <use xlink:href=\"#DejaVuSans-74\" x=\"124.410156\"/>\n",
       "      <use xlink:href=\"#DejaVuSans-68\" x=\"163.619141\"/>\n",
       "      <use xlink:href=\"#DejaVuSans-6f\" x=\"226.998047\"/>\n",
       "      <use xlink:href=\"#DejaVuSans-75\" x=\"288.179688\"/>\n",
       "      <use xlink:href=\"#DejaVuSans-74\" x=\"351.558594\"/>\n",
       "      <use xlink:href=\"#DejaVuSans-20\" x=\"390.767578\"/>\n",
       "      <use xlink:href=\"#DejaVuSans-53\" x=\"422.554688\"/>\n",
       "      <use xlink:href=\"#DejaVuSans-65\" x=\"486.03125\"/>\n",
       "      <use xlink:href=\"#DejaVuSans-6c\" x=\"547.554688\"/>\n",
       "      <use xlink:href=\"#DejaVuSans-66\" x=\"575.337891\"/>\n",
       "      <use xlink:href=\"#DejaVuSans-20\" x=\"610.542969\"/>\n",
       "      <use xlink:href=\"#DejaVuSans-41\" x=\"642.330078\"/>\n",
       "      <use xlink:href=\"#DejaVuSans-63\" x=\"708.988281\"/>\n",
       "      <use xlink:href=\"#DejaVuSans-74\" x=\"763.96875\"/>\n",
       "      <use xlink:href=\"#DejaVuSans-69\" x=\"803.177734\"/>\n",
       "      <use xlink:href=\"#DejaVuSans-76\" x=\"830.960938\"/>\n",
       "      <use xlink:href=\"#DejaVuSans-61\" x=\"890.140625\"/>\n",
       "      <use xlink:href=\"#DejaVuSans-74\" x=\"951.419922\"/>\n",
       "      <use xlink:href=\"#DejaVuSans-69\" x=\"990.628906\"/>\n",
       "      <use xlink:href=\"#DejaVuSans-6f\" x=\"1018.412109\"/>\n",
       "      <use xlink:href=\"#DejaVuSans-6e\" x=\"1079.59375\"/>\n",
       "     </g>\n",
       "    </g>\n",
       "   </g>\n",
       "  </g>\n",
       " </g>\n",
       " <defs>\n",
       "  <clipPath id=\"pd67de63f2a\">\n",
       "   <rect x=\"49.807187\" y=\"22.318125\" width=\"558\" height=\"332.64\"/>\n",
       "  </clipPath>\n",
       " </defs>\n",
       "</svg>\n"
      ],
      "text/plain": [
       "<Figure size 1000x600 with 1 Axes>"
      ]
     },
     "metadata": {},
     "output_type": "display_data"
    }
   ],
   "source": [
    "import matplotlib.pyplot as plt\n",
    "import seaborn as sns\n",
    "\n",
    "# Your existing pairs definition\n",
    "pairs = [\n",
    "    [('20%', 'Without Self Activation'), ('20%', 'With Self Activation')],\n",
    "    [('40%','Without Self Activation'), ('40%', 'With Self Activation')],\n",
    "    [('60%', 'Without Self Activation'), ('60%','With Self Activation')],\n",
    "    [('80%', 'Without Self Activation'), ('80%','With Self Activation')],\n",
    "    [('100%', 'Without Self Activation'), ('100%','With Self Activation')]\n",
    "]\n",
    "\n",
    "# Assuming you have your melt_table_complete and Annotator class defined\n",
    "\n",
    "cat_order = ['20%', '40%', '60%', '80%', '100%']\n",
    "hue_plot_params = {\n",
    "    'data': melt_table_complete,\n",
    "    'x': \"Density\",\n",
    "    'y': \"F1\",\n",
    "    \"order\": cat_order,\n",
    "    \"hue\": \"Self_Activation_Status\"\n",
    "}\n",
    "\n",
    "plt.figure(figsize=(10, 6)) \n",
    "with sns.plotting_context(\"notebook\"):\n",
    "    # Create new plot\n",
    "    ax = sns.barplot(y=\"F1\", hue=\"Self_Activation_Status\", x=\"Density\", data=melt_table_complete, \n",
    "                     order=cat_order, palette='Set1')\n",
    "\n",
    "    # Add annotations\n",
    "    annotator = Annotator(ax, pairs, **hue_plot_params)\n",
    "    annotator.configure(test=\"Mann-Whitney\", verbose=False)\n",
    "    _, results = annotator.apply_and_annotate()\n",
    "\n",
    "    # Set labels and legend\n",
    "    plt.ylabel('F1', fontweight='bold')\n",
    "    plt.xlabel('Core Density', fontweight='bold')\n",
    "    plt.legend(bbox_to_anchor=(0.69, 0.15), loc='upper left', borderaxespad=0)\n",
    "\n",
    "    # Set title\n",
    "    plt.title('F1 (Boolean) vs Core Density (10N Teamed Toggle Switch)')\n",
    "\n",
    "    # Save and show the plot\n",
    "    plt.savefig('plots/F1_vs_Core_Density_TS_Team_Boolean_bar.png', bbox_inches='tight')\n",
    "    plt.show()\n"
   ]
  },
  {
   "cell_type": "code",
   "execution_count": 2,
   "metadata": {},
   "outputs": [
    {
     "data": {
      "text/html": [
       "<div>\n",
       "<style scoped>\n",
       "    .dataframe tbody tr th:only-of-type {\n",
       "        vertical-align: middle;\n",
       "    }\n",
       "\n",
       "    .dataframe tbody tr th {\n",
       "        vertical-align: top;\n",
       "    }\n",
       "\n",
       "    .dataframe thead th {\n",
       "        text-align: right;\n",
       "    }\n",
       "</style>\n",
       "<table border=\"1\" class=\"dataframe\">\n",
       "  <thead>\n",
       "    <tr style=\"text-align: right;\">\n",
       "      <th></th>\n",
       "      <th>Unnamed: 0</th>\n",
       "      <th>index</th>\n",
       "      <th>Type</th>\n",
       "      <th>Core_Density</th>\n",
       "      <th>Peripheral_Nodes</th>\n",
       "      <th>Peripheral_Edges</th>\n",
       "      <th>BiC A</th>\n",
       "      <th>BiC B</th>\n",
       "      <th>CC AB</th>\n",
       "      <th>F1</th>\n",
       "      <th>F1_Individual_Nodes_Considered</th>\n",
       "      <th>Team_Strength</th>\n",
       "      <th>in_degree_Team_A</th>\n",
       "      <th>in_degree_Team_B</th>\n",
       "      <th>Number_of_Self_Activations</th>\n",
       "      <th>indegree</th>\n",
       "      <th>Self Activation Status</th>\n",
       "      <th>Team Size</th>\n",
       "    </tr>\n",
       "  </thead>\n",
       "  <tbody>\n",
       "    <tr>\n",
       "      <th>0</th>\n",
       "      <td>0</td>\n",
       "      <td>Density 20%_With Self Activation_Network_0</td>\n",
       "      <td>Lowered Density</td>\n",
       "      <td>Density 20%</td>\n",
       "      <td>0 Nodes</td>\n",
       "      <td>0</td>\n",
       "      <td>0.647340</td>\n",
       "      <td>0.668579</td>\n",
       "      <td>-0.950908</td>\n",
       "      <td>0.652045</td>\n",
       "      <td>0.242943</td>\n",
       "      <td>0.802</td>\n",
       "      <td>0</td>\n",
       "      <td>0</td>\n",
       "      <td>0</td>\n",
       "      <td>0</td>\n",
       "      <td>With Self Activation</td>\n",
       "      <td>5.0</td>\n",
       "    </tr>\n",
       "    <tr>\n",
       "      <th>1</th>\n",
       "      <td>1</td>\n",
       "      <td>Density 20%_With Self Activation_Network_1</td>\n",
       "      <td>Lowered Density</td>\n",
       "      <td>Density 20%</td>\n",
       "      <td>0 Nodes</td>\n",
       "      <td>0</td>\n",
       "      <td>0.705669</td>\n",
       "      <td>0.711769</td>\n",
       "      <td>-0.946493</td>\n",
       "      <td>0.721913</td>\n",
       "      <td>0.276346</td>\n",
       "      <td>0.826</td>\n",
       "      <td>0</td>\n",
       "      <td>0</td>\n",
       "      <td>0</td>\n",
       "      <td>0</td>\n",
       "      <td>With Self Activation</td>\n",
       "      <td>5.0</td>\n",
       "    </tr>\n",
       "    <tr>\n",
       "      <th>2</th>\n",
       "      <td>2</td>\n",
       "      <td>Density 20%_With Self Activation_Network_2</td>\n",
       "      <td>Lowered Density</td>\n",
       "      <td>Density 20%</td>\n",
       "      <td>0 Nodes</td>\n",
       "      <td>0</td>\n",
       "      <td>0.656287</td>\n",
       "      <td>0.675676</td>\n",
       "      <td>-0.949461</td>\n",
       "      <td>0.667113</td>\n",
       "      <td>0.251189</td>\n",
       "      <td>0.789</td>\n",
       "      <td>0</td>\n",
       "      <td>0</td>\n",
       "      <td>0</td>\n",
       "      <td>0</td>\n",
       "      <td>With Self Activation</td>\n",
       "      <td>5.0</td>\n",
       "    </tr>\n",
       "    <tr>\n",
       "      <th>3</th>\n",
       "      <td>3</td>\n",
       "      <td>Density 20%_With Self Activation_Network_3</td>\n",
       "      <td>Lowered Density</td>\n",
       "      <td>Density 20%</td>\n",
       "      <td>0 Nodes</td>\n",
       "      <td>0</td>\n",
       "      <td>0.649820</td>\n",
       "      <td>0.661150</td>\n",
       "      <td>-0.952077</td>\n",
       "      <td>0.666360</td>\n",
       "      <td>0.210834</td>\n",
       "      <td>0.769</td>\n",
       "      <td>0</td>\n",
       "      <td>0</td>\n",
       "      <td>0</td>\n",
       "      <td>0</td>\n",
       "      <td>With Self Activation</td>\n",
       "      <td>5.0</td>\n",
       "    </tr>\n",
       "    <tr>\n",
       "      <th>4</th>\n",
       "      <td>4</td>\n",
       "      <td>Density 20%_With Self Activation_Network_4</td>\n",
       "      <td>Lowered Density</td>\n",
       "      <td>Density 20%</td>\n",
       "      <td>0 Nodes</td>\n",
       "      <td>0</td>\n",
       "      <td>0.569963</td>\n",
       "      <td>0.569269</td>\n",
       "      <td>-0.941426</td>\n",
       "      <td>0.543474</td>\n",
       "      <td>0.106023</td>\n",
       "      <td>0.563</td>\n",
       "      <td>0</td>\n",
       "      <td>0</td>\n",
       "      <td>0</td>\n",
       "      <td>0</td>\n",
       "      <td>With Self Activation</td>\n",
       "      <td>5.0</td>\n",
       "    </tr>\n",
       "    <tr>\n",
       "      <th>...</th>\n",
       "      <td>...</td>\n",
       "      <td>...</td>\n",
       "      <td>...</td>\n",
       "      <td>...</td>\n",
       "      <td>...</td>\n",
       "      <td>...</td>\n",
       "      <td>...</td>\n",
       "      <td>...</td>\n",
       "      <td>...</td>\n",
       "      <td>...</td>\n",
       "      <td>...</td>\n",
       "      <td>...</td>\n",
       "      <td>...</td>\n",
       "      <td>...</td>\n",
       "      <td>...</td>\n",
       "      <td>...</td>\n",
       "      <td>...</td>\n",
       "      <td>...</td>\n",
       "    </tr>\n",
       "    <tr>\n",
       "      <th>815</th>\n",
       "      <td>5</td>\n",
       "      <td>Density 100%_Without Self Activation_Network_5</td>\n",
       "      <td>Lowered Density</td>\n",
       "      <td>Density 100%</td>\n",
       "      <td>0 Nodes</td>\n",
       "      <td>0</td>\n",
       "      <td>0.980487</td>\n",
       "      <td>0.980361</td>\n",
       "      <td>-0.877207</td>\n",
       "      <td>0.998702</td>\n",
       "      <td>0.883845</td>\n",
       "      <td>0.500</td>\n",
       "      <td>0</td>\n",
       "      <td>0</td>\n",
       "      <td>0</td>\n",
       "      <td>0</td>\n",
       "      <td>Without Self Activation</td>\n",
       "      <td>5.0</td>\n",
       "    </tr>\n",
       "    <tr>\n",
       "      <th>816</th>\n",
       "      <td>6</td>\n",
       "      <td>Density 100%_Without Self Activation_Network_6</td>\n",
       "      <td>Lowered Density</td>\n",
       "      <td>Density 100%</td>\n",
       "      <td>0 Nodes</td>\n",
       "      <td>0</td>\n",
       "      <td>0.980409</td>\n",
       "      <td>0.980594</td>\n",
       "      <td>-0.877826</td>\n",
       "      <td>0.998801</td>\n",
       "      <td>0.886336</td>\n",
       "      <td>0.500</td>\n",
       "      <td>0</td>\n",
       "      <td>0</td>\n",
       "      <td>0</td>\n",
       "      <td>0</td>\n",
       "      <td>Without Self Activation</td>\n",
       "      <td>5.0</td>\n",
       "    </tr>\n",
       "    <tr>\n",
       "      <th>817</th>\n",
       "      <td>7</td>\n",
       "      <td>Density 100%_Without Self Activation_Network_7</td>\n",
       "      <td>Lowered Density</td>\n",
       "      <td>Density 100%</td>\n",
       "      <td>0 Nodes</td>\n",
       "      <td>0</td>\n",
       "      <td>0.980601</td>\n",
       "      <td>0.980782</td>\n",
       "      <td>-0.876809</td>\n",
       "      <td>0.998851</td>\n",
       "      <td>0.883922</td>\n",
       "      <td>0.500</td>\n",
       "      <td>0</td>\n",
       "      <td>0</td>\n",
       "      <td>0</td>\n",
       "      <td>0</td>\n",
       "      <td>Without Self Activation</td>\n",
       "      <td>5.0</td>\n",
       "    </tr>\n",
       "    <tr>\n",
       "      <th>818</th>\n",
       "      <td>8</td>\n",
       "      <td>Density 100%_Without Self Activation_Network_8</td>\n",
       "      <td>Lowered Density</td>\n",
       "      <td>Density 100%</td>\n",
       "      <td>0 Nodes</td>\n",
       "      <td>0</td>\n",
       "      <td>0.980432</td>\n",
       "      <td>0.980056</td>\n",
       "      <td>-0.875527</td>\n",
       "      <td>0.998851</td>\n",
       "      <td>0.882846</td>\n",
       "      <td>0.500</td>\n",
       "      <td>0</td>\n",
       "      <td>0</td>\n",
       "      <td>0</td>\n",
       "      <td>0</td>\n",
       "      <td>Without Self Activation</td>\n",
       "      <td>5.0</td>\n",
       "    </tr>\n",
       "    <tr>\n",
       "      <th>819</th>\n",
       "      <td>9</td>\n",
       "      <td>Density 100%_Without Self Activation_Network_9</td>\n",
       "      <td>Lowered Density</td>\n",
       "      <td>Density 100%</td>\n",
       "      <td>0 Nodes</td>\n",
       "      <td>0</td>\n",
       "      <td>0.980299</td>\n",
       "      <td>0.980655</td>\n",
       "      <td>-0.877446</td>\n",
       "      <td>0.998552</td>\n",
       "      <td>0.889005</td>\n",
       "      <td>0.500</td>\n",
       "      <td>0</td>\n",
       "      <td>0</td>\n",
       "      <td>0</td>\n",
       "      <td>0</td>\n",
       "      <td>Without Self Activation</td>\n",
       "      <td>5.0</td>\n",
       "    </tr>\n",
       "  </tbody>\n",
       "</table>\n",
       "<p>820 rows × 18 columns</p>\n",
       "</div>"
      ],
      "text/plain": [
       "     Unnamed: 0                                           index  \\\n",
       "0             0      Density 20%_With Self Activation_Network_0   \n",
       "1             1      Density 20%_With Self Activation_Network_1   \n",
       "2             2      Density 20%_With Self Activation_Network_2   \n",
       "3             3      Density 20%_With Self Activation_Network_3   \n",
       "4             4      Density 20%_With Self Activation_Network_4   \n",
       "..          ...                                             ...   \n",
       "815           5  Density 100%_Without Self Activation_Network_5   \n",
       "816           6  Density 100%_Without Self Activation_Network_6   \n",
       "817           7  Density 100%_Without Self Activation_Network_7   \n",
       "818           8  Density 100%_Without Self Activation_Network_8   \n",
       "819           9  Density 100%_Without Self Activation_Network_9   \n",
       "\n",
       "                Type  Core_Density Peripheral_Nodes  Peripheral_Edges  \\\n",
       "0    Lowered Density   Density 20%          0 Nodes                 0   \n",
       "1    Lowered Density   Density 20%          0 Nodes                 0   \n",
       "2    Lowered Density   Density 20%          0 Nodes                 0   \n",
       "3    Lowered Density   Density 20%          0 Nodes                 0   \n",
       "4    Lowered Density   Density 20%          0 Nodes                 0   \n",
       "..               ...           ...              ...               ...   \n",
       "815  Lowered Density  Density 100%          0 Nodes                 0   \n",
       "816  Lowered Density  Density 100%          0 Nodes                 0   \n",
       "817  Lowered Density  Density 100%          0 Nodes                 0   \n",
       "818  Lowered Density  Density 100%          0 Nodes                 0   \n",
       "819  Lowered Density  Density 100%          0 Nodes                 0   \n",
       "\n",
       "        BiC A     BiC B     CC AB        F1  F1_Individual_Nodes_Considered  \\\n",
       "0    0.647340  0.668579 -0.950908  0.652045                        0.242943   \n",
       "1    0.705669  0.711769 -0.946493  0.721913                        0.276346   \n",
       "2    0.656287  0.675676 -0.949461  0.667113                        0.251189   \n",
       "3    0.649820  0.661150 -0.952077  0.666360                        0.210834   \n",
       "4    0.569963  0.569269 -0.941426  0.543474                        0.106023   \n",
       "..        ...       ...       ...       ...                             ...   \n",
       "815  0.980487  0.980361 -0.877207  0.998702                        0.883845   \n",
       "816  0.980409  0.980594 -0.877826  0.998801                        0.886336   \n",
       "817  0.980601  0.980782 -0.876809  0.998851                        0.883922   \n",
       "818  0.980432  0.980056 -0.875527  0.998851                        0.882846   \n",
       "819  0.980299  0.980655 -0.877446  0.998552                        0.889005   \n",
       "\n",
       "     Team_Strength  in_degree_Team_A  in_degree_Team_B  \\\n",
       "0            0.802                 0                 0   \n",
       "1            0.826                 0                 0   \n",
       "2            0.789                 0                 0   \n",
       "3            0.769                 0                 0   \n",
       "4            0.563                 0                 0   \n",
       "..             ...               ...               ...   \n",
       "815          0.500                 0                 0   \n",
       "816          0.500                 0                 0   \n",
       "817          0.500                 0                 0   \n",
       "818          0.500                 0                 0   \n",
       "819          0.500                 0                 0   \n",
       "\n",
       "     Number_of_Self_Activations  indegree   Self Activation Status  Team Size  \n",
       "0                             0         0     With Self Activation        5.0  \n",
       "1                             0         0     With Self Activation        5.0  \n",
       "2                             0         0     With Self Activation        5.0  \n",
       "3                             0         0     With Self Activation        5.0  \n",
       "4                             0         0     With Self Activation        5.0  \n",
       "..                          ...       ...                      ...        ...  \n",
       "815                           0         0  Without Self Activation        5.0  \n",
       "816                           0         0  Without Self Activation        5.0  \n",
       "817                           0         0  Without Self Activation        5.0  \n",
       "818                           0         0  Without Self Activation        5.0  \n",
       "819                           0         0  Without Self Activation        5.0  \n",
       "\n",
       "[820 rows x 18 columns]"
      ]
     },
     "execution_count": 2,
     "metadata": {},
     "output_type": "execute_result"
    }
   ],
   "source": [
    "data = pd.read_csv('TT_data_unembedded_Feb6_Density_Varying_Figure2.csv')"
   ]
  },
  {
   "cell_type": "code",
   "execution_count": 3,
   "metadata": {},
   "outputs": [
    {
     "data": {
      "text/html": [
       "<div>\n",
       "<style scoped>\n",
       "    .dataframe tbody tr th:only-of-type {\n",
       "        vertical-align: middle;\n",
       "    }\n",
       "\n",
       "    .dataframe tbody tr th {\n",
       "        vertical-align: top;\n",
       "    }\n",
       "\n",
       "    .dataframe thead th {\n",
       "        text-align: right;\n",
       "    }\n",
       "</style>\n",
       "<table border=\"1\" class=\"dataframe\">\n",
       "  <thead>\n",
       "    <tr style=\"text-align: right;\">\n",
       "      <th></th>\n",
       "      <th>Self Activation Status</th>\n",
       "      <th>a</th>\n",
       "      <th>b</th>\n",
       "      <th>x0</th>\n",
       "      <th>n</th>\n",
       "      <th>Density to achieve 50\\%\\ F1</th>\n",
       "    </tr>\n",
       "  </thead>\n",
       "  <tbody>\n",
       "  </tbody>\n",
       "</table>\n",
       "</div>"
      ],
      "text/plain": [
       "Empty DataFrame\n",
       "Columns: [Self Activation Status, a, b, x0, n, Density to achieve 50\\%\\ F1]\n",
       "Index: []"
      ]
     },
     "execution_count": 3,
     "metadata": {},
     "output_type": "execute_result"
    }
   ],
   "source": [
    "results_indegree_summary_params = pd.DataFrame(columns=[ 'Self Activation Status', 'a', 'b', 'x0', 'n','Density to achieve 50\\%\\ F1'])\n",
    "results_indegree_summary_params"
   ]
  },
  {
   "cell_type": "code",
   "execution_count": null,
   "metadata": {},
   "outputs": [],
   "source": []
  },
  {
   "cell_type": "code",
   "execution_count": null,
   "metadata": {},
   "outputs": [],
   "source": []
  },
  {
   "cell_type": "code",
   "execution_count": null,
   "metadata": {},
   "outputs": [],
   "source": []
  },
  {
   "cell_type": "code",
   "execution_count": null,
   "metadata": {},
   "outputs": [],
   "source": []
  },
  {
   "cell_type": "code",
   "execution_count": null,
   "metadata": {},
   "outputs": [],
   "source": []
  },
  {
   "cell_type": "code",
   "execution_count": null,
   "metadata": {},
   "outputs": [],
   "source": []
  },
  {
   "cell_type": "code",
   "execution_count": null,
   "metadata": {},
   "outputs": [],
   "source": []
  },
  {
   "cell_type": "code",
   "execution_count": null,
   "metadata": {},
   "outputs": [],
   "source": []
  },
  {
   "cell_type": "code",
   "execution_count": null,
   "metadata": {},
   "outputs": [],
   "source": []
  },
  {
   "cell_type": "code",
   "execution_count": null,
   "metadata": {},
   "outputs": [],
   "source": []
  },
  {
   "cell_type": "code",
   "execution_count": null,
   "metadata": {},
   "outputs": [],
   "source": []
  },
  {
   "cell_type": "code",
   "execution_count": null,
   "metadata": {},
   "outputs": [],
   "source": []
  },
  {
   "cell_type": "code",
   "execution_count": null,
   "metadata": {},
   "outputs": [],
   "source": []
  },
  {
   "cell_type": "code",
   "execution_count": null,
   "metadata": {},
   "outputs": [],
   "source": []
  },
  {
   "cell_type": "code",
   "execution_count": null,
   "metadata": {},
   "outputs": [],
   "source": []
  },
  {
   "cell_type": "code",
   "execution_count": null,
   "metadata": {},
   "outputs": [],
   "source": []
  },
  {
   "cell_type": "code",
   "execution_count": null,
   "metadata": {},
   "outputs": [],
   "source": []
  },
  {
   "cell_type": "code",
   "execution_count": null,
   "metadata": {},
   "outputs": [],
   "source": []
  },
  {
   "cell_type": "code",
   "execution_count": null,
   "metadata": {},
   "outputs": [],
   "source": []
  },
  {
   "cell_type": "code",
   "execution_count": null,
   "metadata": {},
   "outputs": [],
   "source": []
  },
  {
   "cell_type": "code",
   "execution_count": null,
   "metadata": {},
   "outputs": [],
   "source": []
  }
 ],
 "metadata": {
  "kernelspec": {
   "display_name": "Python 3",
   "language": "python",
   "name": "python3"
  },
  "language_info": {
   "codemirror_mode": {
    "name": "ipython",
    "version": 3
   },
   "file_extension": ".py",
   "mimetype": "text/x-python",
   "name": "python",
   "nbconvert_exporter": "python",
   "pygments_lexer": "ipython3",
   "version": "3.8.10"
  }
 },
 "nbformat": 4,
 "nbformat_minor": 2
}
